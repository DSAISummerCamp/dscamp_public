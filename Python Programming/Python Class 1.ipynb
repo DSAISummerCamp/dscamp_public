{
 "cells": [
  {
   "cell_type": "markdown",
   "metadata": {},
   "source": [
    "# Topic 1: Variable\n",
    "\n",
    "Variables are containers for storing data values.\n",
    "\n",
    "Unlike other programming languages, Python has no command for declaring a variable.\n",
    "\n",
    "A variable is created the moment you first assign a value to it."
   ]
  },
  {
   "cell_type": "code",
   "execution_count": 1,
   "metadata": {
    "scrolled": false
   },
   "outputs": [
    {
     "name": "stdout",
     "output_type": "stream",
     "text": [
      "5\n",
      "John\n"
     ]
    }
   ],
   "source": [
    "x = 5\n",
    "y = \"John\"\n",
    "print(x)\n",
    "print(y)"
   ]
  },
  {
   "cell_type": "markdown",
   "metadata": {},
   "source": [
    "# int vs float\n",
    "\n",
    "The integer numbers (e.g. 2, 4, 20) have type int, the ones with a fractional part (e.g. 5.0, 1.6) have type float."
   ]
  },
  {
   "cell_type": "code",
   "execution_count": 2,
   "metadata": {
    "scrolled": true
   },
   "outputs": [
    {
     "data": {
      "text/plain": [
       "4"
      ]
     },
     "execution_count": 2,
     "metadata": {},
     "output_type": "execute_result"
    }
   ],
   "source": [
    "2 + 2"
   ]
  },
  {
   "cell_type": "code",
   "execution_count": null,
   "metadata": {
    "scrolled": true
   },
   "outputs": [],
   "source": [
    "50 - 5*6"
   ]
  },
  {
   "cell_type": "markdown",
   "metadata": {},
   "source": [
    "Division (/) always returns a float. To do floor division and get an integer result (discarding any fractional result) you can use the // operator; to calculate the remainder you can use %:"
   ]
  },
  {
   "cell_type": "code",
   "execution_count": null,
   "metadata": {
    "scrolled": true
   },
   "outputs": [],
   "source": [
    "8 / 5  # division always returns a floating point number"
   ]
  },
  {
   "cell_type": "code",
   "execution_count": null,
   "metadata": {
    "scrolled": true
   },
   "outputs": [],
   "source": [
    "(50 - 5*6) / 4"
   ]
  },
  {
   "cell_type": "code",
   "execution_count": null,
   "metadata": {
    "scrolled": true
   },
   "outputs": [],
   "source": [
    "17 / 3  # classic division returns a float"
   ]
  },
  {
   "cell_type": "code",
   "execution_count": null,
   "metadata": {
    "scrolled": true
   },
   "outputs": [],
   "source": [
    "17 // 3  # floor division discards the fractional part"
   ]
  },
  {
   "cell_type": "code",
   "execution_count": null,
   "metadata": {
    "scrolled": true
   },
   "outputs": [],
   "source": [
    "17 % 3  # the % operator returns the remainder of the division"
   ]
  },
  {
   "cell_type": "code",
   "execution_count": null,
   "metadata": {
    "scrolled": true
   },
   "outputs": [],
   "source": [
    "5 * 3 + 2  # result * divisor + remainder"
   ]
  },
  {
   "cell_type": "markdown",
   "metadata": {},
   "source": [
    "With Python, it is possible to use the ** operator to calculate powers"
   ]
  },
  {
   "cell_type": "code",
   "execution_count": null,
   "metadata": {
    "scrolled": true
   },
   "outputs": [],
   "source": [
    "5 ** 2  # 5 squared"
   ]
  },
  {
   "cell_type": "code",
   "execution_count": null,
   "metadata": {
    "scrolled": true
   },
   "outputs": [],
   "source": [
    "2 ** 7  # 2 to the power of 7"
   ]
  },
  {
   "cell_type": "markdown",
   "metadata": {},
   "source": [
    "The equal sign (=) is used to assign a value to a variable. Afterwards, no result is displayed before the next interactive prompt:"
   ]
  },
  {
   "cell_type": "code",
   "execution_count": null,
   "metadata": {
    "scrolled": true
   },
   "outputs": [],
   "source": [
    "width = 20\n",
    "height = 5 * 9\n",
    "width * height"
   ]
  },
  {
   "cell_type": "markdown",
   "metadata": {},
   "source": [
    "If a variable is not “defined” (assigned a value), trying to use it will give you an error:"
   ]
  },
  {
   "cell_type": "code",
   "execution_count": null,
   "metadata": {
    "scrolled": true
   },
   "outputs": [],
   "source": [
    "n  # try to access an undefined variable"
   ]
  },
  {
   "cell_type": "markdown",
   "metadata": {},
   "source": [
    "# Bool\n",
    "\n",
    "In programming you often need to know if an expression is True or False.\n",
    "\n",
    "You can evaluate any expression in Python, and get one of two answers, True or False.\n",
    "\n",
    "When you compare two values, the expression is evaluated and Python returns the Boolean answer:"
   ]
  },
  {
   "cell_type": "code",
   "execution_count": null,
   "metadata": {
    "scrolled": true
   },
   "outputs": [],
   "source": [
    "print(10 > 9)\n",
    "print(10 == 9)\n",
    "print(10 < 9)"
   ]
  },
  {
   "cell_type": "code",
   "execution_count": null,
   "metadata": {
    "scrolled": true
   },
   "outputs": [],
   "source": [
    "a = 200\n",
    "b = 33\n",
    "\n",
    "if b > a:\n",
    "  print(\"b is greater than a\")\n",
    "else:\n",
    "  print(\"b is not greater than a\")"
   ]
  },
  {
   "cell_type": "code",
   "execution_count": null,
   "metadata": {
    "scrolled": true
   },
   "outputs": [],
   "source": [
    "x = \"Hello\"\n",
    "y = 15\n",
    "\n",
    "print(bool(x))\n",
    "print(bool(y))"
   ]
  },
  {
   "cell_type": "markdown",
   "metadata": {},
   "source": [
    "# Operator:\tand \t\n",
    "Returns True if both statements are true"
   ]
  },
  {
   "cell_type": "code",
   "execution_count": null,
   "metadata": {
    "scrolled": true
   },
   "outputs": [],
   "source": [
    "x = 2\n",
    "x < 5 and  x < 10"
   ]
  },
  {
   "cell_type": "markdown",
   "metadata": {},
   "source": [
    "# Operator:\tor\t\n",
    "\n",
    "Returns True if one of the statements is true"
   ]
  },
  {
   "cell_type": "code",
   "execution_count": null,
   "metadata": {
    "scrolled": true
   },
   "outputs": [],
   "source": [
    "x = 2\n",
    "x > 5 or x > 4"
   ]
  },
  {
   "cell_type": "markdown",
   "metadata": {},
   "source": [
    "# Operator:\tnot\t\n",
    "\n",
    "Reverse the result"
   ]
  },
  {
   "cell_type": "code",
   "execution_count": null,
   "metadata": {
    "scrolled": true
   },
   "outputs": [],
   "source": [
    "x = 2\n",
    "not(x < 5 and x < 10)"
   ]
  },
  {
   "cell_type": "markdown",
   "metadata": {},
   "source": [
    "A+B Problem Solution"
   ]
  },
  {
   "cell_type": "code",
   "execution_count": null,
   "metadata": {
    "collapsed": true,
    "scrolled": true
   },
   "outputs": [],
   "source": [
    "class Solution:\n",
    "    \"\"\"\n",
    "    @param a: An integer\n",
    "    @param b: An integer\n",
    "    @return: The sum of a and b \n",
    "    \"\"\"\n",
    "    def aplusb(self, a, b):\n",
    "        return a + b"
   ]
  },
  {
   "cell_type": "markdown",
   "metadata": {},
   "source": [
    "# Topic 2: Function"
   ]
  },
  {
   "cell_type": "markdown",
   "metadata": {},
   "source": [
    "Why we need to use Function?\n",
    "\n",
    "(a) Code Reuse\n",
    "\n",
    "(b) Readability"
   ]
  },
  {
   "cell_type": "markdown",
   "metadata": {},
   "source": [
    "Key element in a function:\n",
    "\n",
    "(1) function name\n",
    "\n",
    "(2) parameters\n",
    "\n",
    "(3) function body\n",
    "\n",
    "(4) return"
   ]
  },
  {
   "cell_type": "code",
   "execution_count": null,
   "metadata": {
    "collapsed": true,
    "scrolled": true
   },
   "outputs": [],
   "source": [
    "def aplusb(a, b):\n",
    "    return a + b"
   ]
  },
  {
   "cell_type": "code",
   "execution_count": null,
   "metadata": {
    "scrolled": true
   },
   "outputs": [],
   "source": [
    "aplusb(1, 5)"
   ]
  },
  {
   "cell_type": "markdown",
   "metadata": {},
   "source": [
    "# Topic 3: Control Flow \n"
   ]
  },
  {
   "cell_type": "markdown",
   "metadata": {},
   "source": [
    "### (1) Normal Flow: from up to down"
   ]
  },
  {
   "cell_type": "code",
   "execution_count": null,
   "metadata": {
    "scrolled": true
   },
   "outputs": [],
   "source": [
    "x = 1\n",
    "y = 2\n",
    "z = x + y\n",
    "print(z)"
   ]
  },
  {
   "cell_type": "markdown",
   "metadata": {},
   "source": [
    "### (2) if Statements\n"
   ]
  },
  {
   "cell_type": "code",
   "execution_count": null,
   "metadata": {
    "scrolled": true
   },
   "outputs": [],
   "source": [
    "x = 1 \n",
    "\n",
    "if x < 0:\n",
    "    x = 0\n",
    "    print('Negative changed to zero')\n",
    "elif x == 0:\n",
    "    print('Zero')\n",
    "elif x == 1:\n",
    "    print('Single')\n",
    "else:\n",
    "    print('More')"
   ]
  },
  {
   "cell_type": "markdown",
   "metadata": {},
   "source": [
    "### (3) for Statements"
   ]
  },
  {
   "cell_type": "code",
   "execution_count": null,
   "metadata": {
    "scrolled": true
   },
   "outputs": [],
   "source": [
    "words = ['cat', 'window', 'defenestrate']\n",
    "for w in words:\n",
    "    print(w, len(w))"
   ]
  },
  {
   "cell_type": "code",
   "execution_count": null,
   "metadata": {
    "scrolled": true
   },
   "outputs": [],
   "source": [
    "for i in range(5):\n",
    "    print(i)"
   ]
  },
  {
   "cell_type": "markdown",
   "metadata": {},
   "source": [
    "### (4) while Statements"
   ]
  },
  {
   "cell_type": "code",
   "execution_count": null,
   "metadata": {
    "scrolled": true
   },
   "outputs": [],
   "source": [
    "a = 0\n",
    "b = 9\n",
    "while (a < b):\n",
    "    a += 1\n",
    "    print(a)"
   ]
  },
  {
   "cell_type": "markdown",
   "metadata": {},
   "source": [
    "Max of 3 Numbers Solution"
   ]
  },
  {
   "cell_type": "code",
   "execution_count": null,
   "metadata": {
    "collapsed": true,
    "scrolled": true
   },
   "outputs": [],
   "source": [
    "class Solution:\n",
    "    \"\"\"\n",
    "    @param num1: An integer\n",
    "    @param num2: An integer\n",
    "    @param num3: An integer\n",
    "    @return: an interger\n",
    "    \"\"\"\n",
    "    def maxOfThreeNumbers(self, num1, num2, num3):\n",
    "        if num1 >= num2 and num1 >=num3:\n",
    "            return num1\n",
    "        elif num2 >= num1 and num2 >= num3:\n",
    "            return num2\n",
    "        else:\n",
    "            return num3"
   ]
  },
  {
   "cell_type": "markdown",
   "metadata": {},
   "source": [
    "Trailing Zeros (optional)"
   ]
  },
  {
   "cell_type": "code",
   "execution_count": null,
   "metadata": {
    "collapsed": true,
    "scrolled": true
   },
   "outputs": [],
   "source": [
    "class Solution:\n",
    "    \"\"\"\n",
    "    @param: n: An integer\n",
    "    @return: An integer, denote the number of trailing zeros in n!\n",
    "    \"\"\"\n",
    "    def trailingZeros(self, n):\n",
    "        count = 0\n",
    "        while n != 0:\n",
    "            n //= 5\n",
    "            count += n\n",
    "        return count"
   ]
  },
  {
   "cell_type": "markdown",
   "metadata": {},
   "source": [
    "# Topic 4: Class"
   ]
  },
  {
   "cell_type": "markdown",
   "metadata": {},
   "source": [
    "(1) What is a Class? Examples...\n",
    "\n",
    "(2) Key element in a Class\n",
    "\n",
    "a. Initializer / Instance Attributes\n",
    "\n",
    "b. Instance method / action\n",
    "\n"
   ]
  },
  {
   "cell_type": "code",
   "execution_count": null,
   "metadata": {
    "collapsed": true,
    "scrolled": true
   },
   "outputs": [],
   "source": [
    "class Student:\n",
    "\n",
    "    def __init__(self, name, score):\n",
    "        self.name = name\n",
    "        self.score = score\n",
    "\n",
    "    def speak(self):\n",
    "        print(self.name, self.score)"
   ]
  },
  {
   "cell_type": "code",
   "execution_count": null,
   "metadata": {},
   "outputs": [],
   "source": [
    "if __name__ == '__main__':\n",
    "    student = Student('Jack', 80)\n",
    "    student.speak()\n",
    "    student.score = 98\n",
    "    print(student.name, student.score)\n",
    "    student.speak()"
   ]
  },
  {
   "cell_type": "markdown",
   "metadata": {},
   "source": [
    "# Topic 5: Python Packages "
   ]
  },
  {
   "cell_type": "code",
   "execution_count": 76,
   "metadata": {
    "collapsed": true,
    "scrolled": true
   },
   "outputs": [],
   "source": [
    "import numpy as np\n",
    "import pandas as pd\n",
    "import keras\n",
    "import tensorflow as tf"
   ]
  },
  {
   "cell_type": "code",
   "execution_count": null,
   "metadata": {},
   "outputs": [],
   "source": [
    "from google.colab import drive\n",
    "drive.mount('/content/gdrive')\n",
    "%cd 'gdrive/My Drive/dscamp/dscamp_public/Python Programming'"
   ]
  },
  {
   "cell_type": "code",
   "execution_count": 77,
   "metadata": {
    "collapsed": true
   },
   "outputs": [],
   "source": [
    "data = pd.read_csv('WFC.csv', sep=',')"
   ]
  },
  {
   "cell_type": "code",
   "execution_count": 78,
   "metadata": {
    "scrolled": true
   },
   "outputs": [
    {
     "data": {
      "text/html": [
       "<div>\n",
       "<style>\n",
       "    .dataframe thead tr:only-child th {\n",
       "        text-align: right;\n",
       "    }\n",
       "\n",
       "    .dataframe thead th {\n",
       "        text-align: left;\n",
       "    }\n",
       "\n",
       "    .dataframe tbody tr th {\n",
       "        vertical-align: top;\n",
       "    }\n",
       "</style>\n",
       "<table border=\"1\" class=\"dataframe\">\n",
       "  <thead>\n",
       "    <tr style=\"text-align: right;\">\n",
       "      <th></th>\n",
       "      <th>Date</th>\n",
       "      <th>Open</th>\n",
       "      <th>High</th>\n",
       "      <th>Low</th>\n",
       "      <th>Close</th>\n",
       "      <th>Adj Close</th>\n",
       "      <th>Volume</th>\n",
       "    </tr>\n",
       "  </thead>\n",
       "  <tbody>\n",
       "    <tr>\n",
       "      <th>0</th>\n",
       "      <td>2019-05-13</td>\n",
       "      <td>46.279999</td>\n",
       "      <td>46.990002</td>\n",
       "      <td>46.259998</td>\n",
       "      <td>46.330002</td>\n",
       "      <td>44.006683</td>\n",
       "      <td>23304700</td>\n",
       "    </tr>\n",
       "    <tr>\n",
       "      <th>1</th>\n",
       "      <td>2019-05-14</td>\n",
       "      <td>46.380001</td>\n",
       "      <td>46.930000</td>\n",
       "      <td>45.980000</td>\n",
       "      <td>46.490002</td>\n",
       "      <td>44.158661</td>\n",
       "      <td>21267600</td>\n",
       "    </tr>\n",
       "    <tr>\n",
       "      <th>2</th>\n",
       "      <td>2019-05-15</td>\n",
       "      <td>46.020000</td>\n",
       "      <td>46.349998</td>\n",
       "      <td>45.490002</td>\n",
       "      <td>45.840000</td>\n",
       "      <td>43.541256</td>\n",
       "      <td>20123300</td>\n",
       "    </tr>\n",
       "    <tr>\n",
       "      <th>3</th>\n",
       "      <td>2019-05-16</td>\n",
       "      <td>45.990002</td>\n",
       "      <td>46.529999</td>\n",
       "      <td>45.759998</td>\n",
       "      <td>45.900002</td>\n",
       "      <td>43.598251</td>\n",
       "      <td>20764100</td>\n",
       "    </tr>\n",
       "    <tr>\n",
       "      <th>4</th>\n",
       "      <td>2019-05-17</td>\n",
       "      <td>45.439999</td>\n",
       "      <td>46.230000</td>\n",
       "      <td>45.410000</td>\n",
       "      <td>45.700001</td>\n",
       "      <td>43.408276</td>\n",
       "      <td>22273500</td>\n",
       "    </tr>\n",
       "    <tr>\n",
       "      <th>5</th>\n",
       "      <td>2019-05-20</td>\n",
       "      <td>45.619999</td>\n",
       "      <td>45.910000</td>\n",
       "      <td>45.299999</td>\n",
       "      <td>45.450001</td>\n",
       "      <td>43.170811</td>\n",
       "      <td>18854000</td>\n",
       "    </tr>\n",
       "    <tr>\n",
       "      <th>6</th>\n",
       "      <td>2019-05-21</td>\n",
       "      <td>45.619999</td>\n",
       "      <td>46.360001</td>\n",
       "      <td>45.520000</td>\n",
       "      <td>46.330002</td>\n",
       "      <td>44.006683</td>\n",
       "      <td>18416300</td>\n",
       "    </tr>\n",
       "    <tr>\n",
       "      <th>7</th>\n",
       "      <td>2019-05-22</td>\n",
       "      <td>46.070000</td>\n",
       "      <td>46.310001</td>\n",
       "      <td>45.959999</td>\n",
       "      <td>46.099998</td>\n",
       "      <td>43.788216</td>\n",
       "      <td>13155000</td>\n",
       "    </tr>\n",
       "    <tr>\n",
       "      <th>8</th>\n",
       "      <td>2019-05-23</td>\n",
       "      <td>45.830002</td>\n",
       "      <td>45.860001</td>\n",
       "      <td>45.070000</td>\n",
       "      <td>45.560001</td>\n",
       "      <td>43.275299</td>\n",
       "      <td>17643700</td>\n",
       "    </tr>\n",
       "    <tr>\n",
       "      <th>9</th>\n",
       "      <td>2019-05-24</td>\n",
       "      <td>45.759998</td>\n",
       "      <td>46.349998</td>\n",
       "      <td>45.590000</td>\n",
       "      <td>46.169998</td>\n",
       "      <td>43.854702</td>\n",
       "      <td>13425500</td>\n",
       "    </tr>\n",
       "    <tr>\n",
       "      <th>10</th>\n",
       "      <td>2019-05-28</td>\n",
       "      <td>46.070000</td>\n",
       "      <td>46.250000</td>\n",
       "      <td>45.580002</td>\n",
       "      <td>45.590000</td>\n",
       "      <td>43.303795</td>\n",
       "      <td>19984600</td>\n",
       "    </tr>\n",
       "    <tr>\n",
       "      <th>11</th>\n",
       "      <td>2019-05-29</td>\n",
       "      <td>45.389999</td>\n",
       "      <td>45.680000</td>\n",
       "      <td>45.130001</td>\n",
       "      <td>45.480000</td>\n",
       "      <td>43.199310</td>\n",
       "      <td>16058800</td>\n",
       "    </tr>\n",
       "    <tr>\n",
       "      <th>12</th>\n",
       "      <td>2019-05-30</td>\n",
       "      <td>45.689999</td>\n",
       "      <td>45.849998</td>\n",
       "      <td>44.880001</td>\n",
       "      <td>45.049999</td>\n",
       "      <td>42.790867</td>\n",
       "      <td>13775900</td>\n",
       "    </tr>\n",
       "    <tr>\n",
       "      <th>13</th>\n",
       "      <td>2019-05-31</td>\n",
       "      <td>44.529999</td>\n",
       "      <td>44.860001</td>\n",
       "      <td>44.220001</td>\n",
       "      <td>44.369999</td>\n",
       "      <td>42.144970</td>\n",
       "      <td>17540500</td>\n",
       "    </tr>\n",
       "    <tr>\n",
       "      <th>14</th>\n",
       "      <td>2019-06-03</td>\n",
       "      <td>44.240002</td>\n",
       "      <td>45.110001</td>\n",
       "      <td>44.200001</td>\n",
       "      <td>44.520000</td>\n",
       "      <td>42.287449</td>\n",
       "      <td>20172500</td>\n",
       "    </tr>\n",
       "    <tr>\n",
       "      <th>15</th>\n",
       "      <td>2019-06-04</td>\n",
       "      <td>45.160000</td>\n",
       "      <td>45.759998</td>\n",
       "      <td>45.009998</td>\n",
       "      <td>45.680000</td>\n",
       "      <td>43.389278</td>\n",
       "      <td>21082000</td>\n",
       "    </tr>\n",
       "    <tr>\n",
       "      <th>16</th>\n",
       "      <td>2019-06-05</td>\n",
       "      <td>45.869999</td>\n",
       "      <td>45.900002</td>\n",
       "      <td>45.299999</td>\n",
       "      <td>45.860001</td>\n",
       "      <td>43.560253</td>\n",
       "      <td>13705400</td>\n",
       "    </tr>\n",
       "    <tr>\n",
       "      <th>17</th>\n",
       "      <td>2019-06-06</td>\n",
       "      <td>45.740002</td>\n",
       "      <td>46.189999</td>\n",
       "      <td>45.450001</td>\n",
       "      <td>45.919998</td>\n",
       "      <td>43.617241</td>\n",
       "      <td>16020500</td>\n",
       "    </tr>\n",
       "    <tr>\n",
       "      <th>18</th>\n",
       "      <td>2019-06-07</td>\n",
       "      <td>45.900002</td>\n",
       "      <td>46.160000</td>\n",
       "      <td>45.549999</td>\n",
       "      <td>45.630001</td>\n",
       "      <td>43.341789</td>\n",
       "      <td>14979900</td>\n",
       "    </tr>\n",
       "    <tr>\n",
       "      <th>19</th>\n",
       "      <td>2019-06-10</td>\n",
       "      <td>46.060001</td>\n",
       "      <td>46.810001</td>\n",
       "      <td>46.060001</td>\n",
       "      <td>46.270000</td>\n",
       "      <td>43.949692</td>\n",
       "      <td>15242700</td>\n",
       "    </tr>\n",
       "    <tr>\n",
       "      <th>20</th>\n",
       "      <td>2019-06-11</td>\n",
       "      <td>45.840000</td>\n",
       "      <td>46.459999</td>\n",
       "      <td>45.770000</td>\n",
       "      <td>46.259998</td>\n",
       "      <td>43.940193</td>\n",
       "      <td>15078300</td>\n",
       "    </tr>\n",
       "    <tr>\n",
       "      <th>21</th>\n",
       "      <td>2019-06-12</td>\n",
       "      <td>46.009998</td>\n",
       "      <td>46.270000</td>\n",
       "      <td>44.779999</td>\n",
       "      <td>44.910000</td>\n",
       "      <td>42.657894</td>\n",
       "      <td>22463300</td>\n",
       "    </tr>\n",
       "    <tr>\n",
       "      <th>22</th>\n",
       "      <td>2019-06-13</td>\n",
       "      <td>45.099998</td>\n",
       "      <td>45.630001</td>\n",
       "      <td>44.919998</td>\n",
       "      <td>45.290001</td>\n",
       "      <td>43.018833</td>\n",
       "      <td>15629400</td>\n",
       "    </tr>\n",
       "    <tr>\n",
       "      <th>23</th>\n",
       "      <td>2019-06-14</td>\n",
       "      <td>45.310001</td>\n",
       "      <td>45.790001</td>\n",
       "      <td>44.840000</td>\n",
       "      <td>45.590000</td>\n",
       "      <td>43.303795</td>\n",
       "      <td>16147500</td>\n",
       "    </tr>\n",
       "    <tr>\n",
       "      <th>24</th>\n",
       "      <td>2019-06-17</td>\n",
       "      <td>45.580002</td>\n",
       "      <td>46.020000</td>\n",
       "      <td>45.139999</td>\n",
       "      <td>45.270000</td>\n",
       "      <td>42.999840</td>\n",
       "      <td>13420400</td>\n",
       "    </tr>\n",
       "    <tr>\n",
       "      <th>25</th>\n",
       "      <td>2019-06-18</td>\n",
       "      <td>45.250000</td>\n",
       "      <td>46.389999</td>\n",
       "      <td>45.060001</td>\n",
       "      <td>46.099998</td>\n",
       "      <td>43.788216</td>\n",
       "      <td>18611100</td>\n",
       "    </tr>\n",
       "    <tr>\n",
       "      <th>26</th>\n",
       "      <td>2019-06-19</td>\n",
       "      <td>46.480000</td>\n",
       "      <td>46.750000</td>\n",
       "      <td>45.630001</td>\n",
       "      <td>45.650002</td>\n",
       "      <td>43.360786</td>\n",
       "      <td>17787600</td>\n",
       "    </tr>\n",
       "    <tr>\n",
       "      <th>27</th>\n",
       "      <td>2019-06-20</td>\n",
       "      <td>45.849998</td>\n",
       "      <td>45.990002</td>\n",
       "      <td>45.240002</td>\n",
       "      <td>45.860001</td>\n",
       "      <td>43.560253</td>\n",
       "      <td>19205200</td>\n",
       "    </tr>\n",
       "    <tr>\n",
       "      <th>28</th>\n",
       "      <td>2019-06-21</td>\n",
       "      <td>45.840000</td>\n",
       "      <td>46.889999</td>\n",
       "      <td>45.790001</td>\n",
       "      <td>46.889999</td>\n",
       "      <td>44.538601</td>\n",
       "      <td>39186200</td>\n",
       "    </tr>\n",
       "    <tr>\n",
       "      <th>29</th>\n",
       "      <td>2019-06-24</td>\n",
       "      <td>46.549999</td>\n",
       "      <td>46.689999</td>\n",
       "      <td>46.230000</td>\n",
       "      <td>46.270000</td>\n",
       "      <td>43.949692</td>\n",
       "      <td>21854400</td>\n",
       "    </tr>\n",
       "    <tr>\n",
       "      <th>...</th>\n",
       "      <td>...</td>\n",
       "      <td>...</td>\n",
       "      <td>...</td>\n",
       "      <td>...</td>\n",
       "      <td>...</td>\n",
       "      <td>...</td>\n",
       "      <td>...</td>\n",
       "    </tr>\n",
       "    <tr>\n",
       "      <th>224</th>\n",
       "      <td>2020-04-01</td>\n",
       "      <td>27.020000</td>\n",
       "      <td>27.370001</td>\n",
       "      <td>26.200001</td>\n",
       "      <td>26.570000</td>\n",
       "      <td>26.040882</td>\n",
       "      <td>48497400</td>\n",
       "    </tr>\n",
       "    <tr>\n",
       "      <th>225</th>\n",
       "      <td>2020-04-02</td>\n",
       "      <td>26.469999</td>\n",
       "      <td>27.530001</td>\n",
       "      <td>26.379999</td>\n",
       "      <td>27.219999</td>\n",
       "      <td>26.677938</td>\n",
       "      <td>33113500</td>\n",
       "    </tr>\n",
       "    <tr>\n",
       "      <th>226</th>\n",
       "      <td>2020-04-03</td>\n",
       "      <td>27.000000</td>\n",
       "      <td>27.360001</td>\n",
       "      <td>25.910000</td>\n",
       "      <td>26.230000</td>\n",
       "      <td>25.707653</td>\n",
       "      <td>32735800</td>\n",
       "    </tr>\n",
       "    <tr>\n",
       "      <th>227</th>\n",
       "      <td>2020-04-06</td>\n",
       "      <td>27.410000</td>\n",
       "      <td>28.830000</td>\n",
       "      <td>27.400000</td>\n",
       "      <td>28.629999</td>\n",
       "      <td>28.059858</td>\n",
       "      <td>36056100</td>\n",
       "    </tr>\n",
       "    <tr>\n",
       "      <th>228</th>\n",
       "      <td>2020-04-07</td>\n",
       "      <td>30.750000</td>\n",
       "      <td>30.780001</td>\n",
       "      <td>28.709999</td>\n",
       "      <td>28.770000</td>\n",
       "      <td>28.197073</td>\n",
       "      <td>39229900</td>\n",
       "    </tr>\n",
       "    <tr>\n",
       "      <th>229</th>\n",
       "      <td>2020-04-08</td>\n",
       "      <td>29.340000</td>\n",
       "      <td>30.480000</td>\n",
       "      <td>28.680000</td>\n",
       "      <td>30.280001</td>\n",
       "      <td>29.677002</td>\n",
       "      <td>42213700</td>\n",
       "    </tr>\n",
       "    <tr>\n",
       "      <th>230</th>\n",
       "      <td>2020-04-09</td>\n",
       "      <td>31.120001</td>\n",
       "      <td>33.910000</td>\n",
       "      <td>31.100000</td>\n",
       "      <td>33.200001</td>\n",
       "      <td>32.538853</td>\n",
       "      <td>62520600</td>\n",
       "    </tr>\n",
       "    <tr>\n",
       "      <th>231</th>\n",
       "      <td>2020-04-13</td>\n",
       "      <td>33.220001</td>\n",
       "      <td>33.240002</td>\n",
       "      <td>31.410000</td>\n",
       "      <td>31.430000</td>\n",
       "      <td>30.804100</td>\n",
       "      <td>36068900</td>\n",
       "    </tr>\n",
       "    <tr>\n",
       "      <th>232</th>\n",
       "      <td>2020-04-14</td>\n",
       "      <td>32.110001</td>\n",
       "      <td>32.500000</td>\n",
       "      <td>29.559999</td>\n",
       "      <td>30.180000</td>\n",
       "      <td>29.578993</td>\n",
       "      <td>64267100</td>\n",
       "    </tr>\n",
       "    <tr>\n",
       "      <th>233</th>\n",
       "      <td>2020-04-15</td>\n",
       "      <td>28.770000</td>\n",
       "      <td>29.110001</td>\n",
       "      <td>28.219999</td>\n",
       "      <td>28.440001</td>\n",
       "      <td>27.873644</td>\n",
       "      <td>41883900</td>\n",
       "    </tr>\n",
       "    <tr>\n",
       "      <th>234</th>\n",
       "      <td>2020-04-16</td>\n",
       "      <td>28.280001</td>\n",
       "      <td>28.280001</td>\n",
       "      <td>26.660000</td>\n",
       "      <td>26.889999</td>\n",
       "      <td>26.354509</td>\n",
       "      <td>52962100</td>\n",
       "    </tr>\n",
       "    <tr>\n",
       "      <th>235</th>\n",
       "      <td>2020-04-17</td>\n",
       "      <td>28.150000</td>\n",
       "      <td>28.780001</td>\n",
       "      <td>27.799999</td>\n",
       "      <td>28.379999</td>\n",
       "      <td>27.814837</td>\n",
       "      <td>46985000</td>\n",
       "    </tr>\n",
       "    <tr>\n",
       "      <th>236</th>\n",
       "      <td>2020-04-20</td>\n",
       "      <td>27.330000</td>\n",
       "      <td>28.889999</td>\n",
       "      <td>26.920000</td>\n",
       "      <td>27.680000</td>\n",
       "      <td>27.128778</td>\n",
       "      <td>45441600</td>\n",
       "    </tr>\n",
       "    <tr>\n",
       "      <th>237</th>\n",
       "      <td>2020-04-21</td>\n",
       "      <td>26.900000</td>\n",
       "      <td>27.250000</td>\n",
       "      <td>26.500000</td>\n",
       "      <td>26.840000</td>\n",
       "      <td>26.305506</td>\n",
       "      <td>41918700</td>\n",
       "    </tr>\n",
       "    <tr>\n",
       "      <th>238</th>\n",
       "      <td>2020-04-22</td>\n",
       "      <td>27.500000</td>\n",
       "      <td>27.580000</td>\n",
       "      <td>26.700001</td>\n",
       "      <td>26.799999</td>\n",
       "      <td>26.266302</td>\n",
       "      <td>28078400</td>\n",
       "    </tr>\n",
       "    <tr>\n",
       "      <th>239</th>\n",
       "      <td>2020-04-23</td>\n",
       "      <td>26.950001</td>\n",
       "      <td>27.209999</td>\n",
       "      <td>26.420000</td>\n",
       "      <td>26.530001</td>\n",
       "      <td>26.001680</td>\n",
       "      <td>38331500</td>\n",
       "    </tr>\n",
       "    <tr>\n",
       "      <th>240</th>\n",
       "      <td>2020-04-24</td>\n",
       "      <td>26.799999</td>\n",
       "      <td>27.290001</td>\n",
       "      <td>26.370001</td>\n",
       "      <td>26.920000</td>\n",
       "      <td>26.383913</td>\n",
       "      <td>35172700</td>\n",
       "    </tr>\n",
       "    <tr>\n",
       "      <th>241</th>\n",
       "      <td>2020-04-27</td>\n",
       "      <td>27.370001</td>\n",
       "      <td>28.580000</td>\n",
       "      <td>27.160000</td>\n",
       "      <td>28.410000</td>\n",
       "      <td>27.844240</td>\n",
       "      <td>39606100</td>\n",
       "    </tr>\n",
       "    <tr>\n",
       "      <th>242</th>\n",
       "      <td>2020-04-28</td>\n",
       "      <td>29.600000</td>\n",
       "      <td>29.920000</td>\n",
       "      <td>28.590000</td>\n",
       "      <td>28.870001</td>\n",
       "      <td>28.295080</td>\n",
       "      <td>35188000</td>\n",
       "    </tr>\n",
       "    <tr>\n",
       "      <th>243</th>\n",
       "      <td>2020-04-29</td>\n",
       "      <td>30.100000</td>\n",
       "      <td>30.459999</td>\n",
       "      <td>29.650000</td>\n",
       "      <td>30.000000</td>\n",
       "      <td>29.402576</td>\n",
       "      <td>38515200</td>\n",
       "    </tr>\n",
       "    <tr>\n",
       "      <th>244</th>\n",
       "      <td>2020-04-30</td>\n",
       "      <td>29.320000</td>\n",
       "      <td>29.610001</td>\n",
       "      <td>28.600000</td>\n",
       "      <td>29.049999</td>\n",
       "      <td>28.471495</td>\n",
       "      <td>29506100</td>\n",
       "    </tr>\n",
       "    <tr>\n",
       "      <th>245</th>\n",
       "      <td>2020-05-01</td>\n",
       "      <td>28.500000</td>\n",
       "      <td>28.530001</td>\n",
       "      <td>27.280001</td>\n",
       "      <td>27.590000</td>\n",
       "      <td>27.040571</td>\n",
       "      <td>35197600</td>\n",
       "    </tr>\n",
       "    <tr>\n",
       "      <th>246</th>\n",
       "      <td>2020-05-04</td>\n",
       "      <td>26.959999</td>\n",
       "      <td>27.450001</td>\n",
       "      <td>26.600000</td>\n",
       "      <td>27.350000</td>\n",
       "      <td>26.805349</td>\n",
       "      <td>34343900</td>\n",
       "    </tr>\n",
       "    <tr>\n",
       "      <th>247</th>\n",
       "      <td>2020-05-05</td>\n",
       "      <td>27.520000</td>\n",
       "      <td>27.799999</td>\n",
       "      <td>26.250000</td>\n",
       "      <td>26.320000</td>\n",
       "      <td>25.795860</td>\n",
       "      <td>56753400</td>\n",
       "    </tr>\n",
       "    <tr>\n",
       "      <th>248</th>\n",
       "      <td>2020-05-06</td>\n",
       "      <td>26.459999</td>\n",
       "      <td>26.650000</td>\n",
       "      <td>25.400000</td>\n",
       "      <td>25.610001</td>\n",
       "      <td>25.100000</td>\n",
       "      <td>57732900</td>\n",
       "    </tr>\n",
       "    <tr>\n",
       "      <th>249</th>\n",
       "      <td>2020-05-07</td>\n",
       "      <td>25.590000</td>\n",
       "      <td>26.100000</td>\n",
       "      <td>25.139999</td>\n",
       "      <td>25.230000</td>\n",
       "      <td>25.230000</td>\n",
       "      <td>52387000</td>\n",
       "    </tr>\n",
       "    <tr>\n",
       "      <th>250</th>\n",
       "      <td>2020-05-08</td>\n",
       "      <td>25.639999</td>\n",
       "      <td>25.780001</td>\n",
       "      <td>25.230000</td>\n",
       "      <td>25.430000</td>\n",
       "      <td>25.430000</td>\n",
       "      <td>53768800</td>\n",
       "    </tr>\n",
       "    <tr>\n",
       "      <th>251</th>\n",
       "      <td>2020-05-11</td>\n",
       "      <td>25.110001</td>\n",
       "      <td>25.230000</td>\n",
       "      <td>24.600000</td>\n",
       "      <td>24.780001</td>\n",
       "      <td>24.780001</td>\n",
       "      <td>51444200</td>\n",
       "    </tr>\n",
       "    <tr>\n",
       "      <th>252</th>\n",
       "      <td>2020-05-12</td>\n",
       "      <td>24.959999</td>\n",
       "      <td>25.270000</td>\n",
       "      <td>24.000000</td>\n",
       "      <td>24.040001</td>\n",
       "      <td>24.040001</td>\n",
       "      <td>53456100</td>\n",
       "    </tr>\n",
       "    <tr>\n",
       "      <th>253</th>\n",
       "      <td>2020-05-13</td>\n",
       "      <td>23.950001</td>\n",
       "      <td>23.950001</td>\n",
       "      <td>22.000000</td>\n",
       "      <td>22.049000</td>\n",
       "      <td>22.049000</td>\n",
       "      <td>42342474</td>\n",
       "    </tr>\n",
       "  </tbody>\n",
       "</table>\n",
       "<p>254 rows × 7 columns</p>\n",
       "</div>"
      ],
      "text/plain": [
       "           Date       Open       High        Low      Close  Adj Close  \\\n",
       "0    2019-05-13  46.279999  46.990002  46.259998  46.330002  44.006683   \n",
       "1    2019-05-14  46.380001  46.930000  45.980000  46.490002  44.158661   \n",
       "2    2019-05-15  46.020000  46.349998  45.490002  45.840000  43.541256   \n",
       "3    2019-05-16  45.990002  46.529999  45.759998  45.900002  43.598251   \n",
       "4    2019-05-17  45.439999  46.230000  45.410000  45.700001  43.408276   \n",
       "5    2019-05-20  45.619999  45.910000  45.299999  45.450001  43.170811   \n",
       "6    2019-05-21  45.619999  46.360001  45.520000  46.330002  44.006683   \n",
       "7    2019-05-22  46.070000  46.310001  45.959999  46.099998  43.788216   \n",
       "8    2019-05-23  45.830002  45.860001  45.070000  45.560001  43.275299   \n",
       "9    2019-05-24  45.759998  46.349998  45.590000  46.169998  43.854702   \n",
       "10   2019-05-28  46.070000  46.250000  45.580002  45.590000  43.303795   \n",
       "11   2019-05-29  45.389999  45.680000  45.130001  45.480000  43.199310   \n",
       "12   2019-05-30  45.689999  45.849998  44.880001  45.049999  42.790867   \n",
       "13   2019-05-31  44.529999  44.860001  44.220001  44.369999  42.144970   \n",
       "14   2019-06-03  44.240002  45.110001  44.200001  44.520000  42.287449   \n",
       "15   2019-06-04  45.160000  45.759998  45.009998  45.680000  43.389278   \n",
       "16   2019-06-05  45.869999  45.900002  45.299999  45.860001  43.560253   \n",
       "17   2019-06-06  45.740002  46.189999  45.450001  45.919998  43.617241   \n",
       "18   2019-06-07  45.900002  46.160000  45.549999  45.630001  43.341789   \n",
       "19   2019-06-10  46.060001  46.810001  46.060001  46.270000  43.949692   \n",
       "20   2019-06-11  45.840000  46.459999  45.770000  46.259998  43.940193   \n",
       "21   2019-06-12  46.009998  46.270000  44.779999  44.910000  42.657894   \n",
       "22   2019-06-13  45.099998  45.630001  44.919998  45.290001  43.018833   \n",
       "23   2019-06-14  45.310001  45.790001  44.840000  45.590000  43.303795   \n",
       "24   2019-06-17  45.580002  46.020000  45.139999  45.270000  42.999840   \n",
       "25   2019-06-18  45.250000  46.389999  45.060001  46.099998  43.788216   \n",
       "26   2019-06-19  46.480000  46.750000  45.630001  45.650002  43.360786   \n",
       "27   2019-06-20  45.849998  45.990002  45.240002  45.860001  43.560253   \n",
       "28   2019-06-21  45.840000  46.889999  45.790001  46.889999  44.538601   \n",
       "29   2019-06-24  46.549999  46.689999  46.230000  46.270000  43.949692   \n",
       "..          ...        ...        ...        ...        ...        ...   \n",
       "224  2020-04-01  27.020000  27.370001  26.200001  26.570000  26.040882   \n",
       "225  2020-04-02  26.469999  27.530001  26.379999  27.219999  26.677938   \n",
       "226  2020-04-03  27.000000  27.360001  25.910000  26.230000  25.707653   \n",
       "227  2020-04-06  27.410000  28.830000  27.400000  28.629999  28.059858   \n",
       "228  2020-04-07  30.750000  30.780001  28.709999  28.770000  28.197073   \n",
       "229  2020-04-08  29.340000  30.480000  28.680000  30.280001  29.677002   \n",
       "230  2020-04-09  31.120001  33.910000  31.100000  33.200001  32.538853   \n",
       "231  2020-04-13  33.220001  33.240002  31.410000  31.430000  30.804100   \n",
       "232  2020-04-14  32.110001  32.500000  29.559999  30.180000  29.578993   \n",
       "233  2020-04-15  28.770000  29.110001  28.219999  28.440001  27.873644   \n",
       "234  2020-04-16  28.280001  28.280001  26.660000  26.889999  26.354509   \n",
       "235  2020-04-17  28.150000  28.780001  27.799999  28.379999  27.814837   \n",
       "236  2020-04-20  27.330000  28.889999  26.920000  27.680000  27.128778   \n",
       "237  2020-04-21  26.900000  27.250000  26.500000  26.840000  26.305506   \n",
       "238  2020-04-22  27.500000  27.580000  26.700001  26.799999  26.266302   \n",
       "239  2020-04-23  26.950001  27.209999  26.420000  26.530001  26.001680   \n",
       "240  2020-04-24  26.799999  27.290001  26.370001  26.920000  26.383913   \n",
       "241  2020-04-27  27.370001  28.580000  27.160000  28.410000  27.844240   \n",
       "242  2020-04-28  29.600000  29.920000  28.590000  28.870001  28.295080   \n",
       "243  2020-04-29  30.100000  30.459999  29.650000  30.000000  29.402576   \n",
       "244  2020-04-30  29.320000  29.610001  28.600000  29.049999  28.471495   \n",
       "245  2020-05-01  28.500000  28.530001  27.280001  27.590000  27.040571   \n",
       "246  2020-05-04  26.959999  27.450001  26.600000  27.350000  26.805349   \n",
       "247  2020-05-05  27.520000  27.799999  26.250000  26.320000  25.795860   \n",
       "248  2020-05-06  26.459999  26.650000  25.400000  25.610001  25.100000   \n",
       "249  2020-05-07  25.590000  26.100000  25.139999  25.230000  25.230000   \n",
       "250  2020-05-08  25.639999  25.780001  25.230000  25.430000  25.430000   \n",
       "251  2020-05-11  25.110001  25.230000  24.600000  24.780001  24.780001   \n",
       "252  2020-05-12  24.959999  25.270000  24.000000  24.040001  24.040001   \n",
       "253  2020-05-13  23.950001  23.950001  22.000000  22.049000  22.049000   \n",
       "\n",
       "       Volume  \n",
       "0    23304700  \n",
       "1    21267600  \n",
       "2    20123300  \n",
       "3    20764100  \n",
       "4    22273500  \n",
       "5    18854000  \n",
       "6    18416300  \n",
       "7    13155000  \n",
       "8    17643700  \n",
       "9    13425500  \n",
       "10   19984600  \n",
       "11   16058800  \n",
       "12   13775900  \n",
       "13   17540500  \n",
       "14   20172500  \n",
       "15   21082000  \n",
       "16   13705400  \n",
       "17   16020500  \n",
       "18   14979900  \n",
       "19   15242700  \n",
       "20   15078300  \n",
       "21   22463300  \n",
       "22   15629400  \n",
       "23   16147500  \n",
       "24   13420400  \n",
       "25   18611100  \n",
       "26   17787600  \n",
       "27   19205200  \n",
       "28   39186200  \n",
       "29   21854400  \n",
       "..        ...  \n",
       "224  48497400  \n",
       "225  33113500  \n",
       "226  32735800  \n",
       "227  36056100  \n",
       "228  39229900  \n",
       "229  42213700  \n",
       "230  62520600  \n",
       "231  36068900  \n",
       "232  64267100  \n",
       "233  41883900  \n",
       "234  52962100  \n",
       "235  46985000  \n",
       "236  45441600  \n",
       "237  41918700  \n",
       "238  28078400  \n",
       "239  38331500  \n",
       "240  35172700  \n",
       "241  39606100  \n",
       "242  35188000  \n",
       "243  38515200  \n",
       "244  29506100  \n",
       "245  35197600  \n",
       "246  34343900  \n",
       "247  56753400  \n",
       "248  57732900  \n",
       "249  52387000  \n",
       "250  53768800  \n",
       "251  51444200  \n",
       "252  53456100  \n",
       "253  42342474  \n",
       "\n",
       "[254 rows x 7 columns]"
      ]
     },
     "execution_count": 78,
     "metadata": {},
     "output_type": "execute_result"
    }
   ],
   "source": [
    "data"
   ]
  },
  {
   "cell_type": "code",
   "execution_count": 79,
   "metadata": {},
   "outputs": [
    {
     "data": {
      "text/plain": [
       "(254, 7)"
      ]
     },
     "execution_count": 79,
     "metadata": {},
     "output_type": "execute_result"
    }
   ],
   "source": [
    "data.shape"
   ]
  },
  {
   "cell_type": "code",
   "execution_count": 80,
   "metadata": {},
   "outputs": [
    {
     "data": {
      "image/png": "[encoded data removed]",
      "text/plain": [
       "<matplotlib.figure.Figure at 0x7fd1fbea52e8>"
      ]
     },
     "metadata": {},
     "output_type": "display_data"
    },
    {
     "data": {
      "image/png": "[encoded data removed]",
      "text/plain": [
       "<matplotlib.figure.Figure at 0x7fd1822556a0>"
      ]
     },
     "metadata": {},
     "output_type": "display_data"
    }
   ],
   "source": [
    "import matplotlib.pyplot as plt\n",
    "data.plot(y=['Close','High'])\n",
    "data.plot(x ='Open', y='Close', kind = 'scatter')\n",
    "plt.show()"
   ]
  },
  {
   "cell_type": "code",
   "execution_count": null,
   "metadata": {
    "collapsed": true
   },
   "outputs": [],
   "source": []
  },
  {
   "cell_type": "code",
   "execution_count": null,
   "metadata": {
    "collapsed": true
   },
   "outputs": [],
   "source": []
  }
 ],
 "metadata": {
  "kernelspec": {
   "display_name": "Python 3",
   "language": "python",
   "name": "python3"
  },
  "language_info": {
   "codemirror_mode": {
    "name": "ipython",
    "version": 3
   },
   "file_extension": ".py",
   "mimetype": "text/x-python",
   "name": "python",
   "nbconvert_exporter": "python",
   "pygments_lexer": "ipython3",
   "version": "3.7.6"
  }
 },
 "nbformat": 4,
 "nbformat_minor": 4
}
