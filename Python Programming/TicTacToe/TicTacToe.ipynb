{
  "nbformat": 4,
  "nbformat_minor": 0,
  "metadata": {
    "colab": {
      "provenance": []
    },
    "kernelspec": {
      "name": "python3",
      "display_name": "Python 3"
    },
    "language_info": {
      "name": "python"
    },
    "widgets": {
      "application/vnd.jupyter.widget-state+json": {
        "8f89ec3e256f4465a95d58a071a7bc12": {
          "model_module": "@jupyter-widgets/controls",
          "model_name": "VBoxModel",
          "model_module_version": "1.5.0",
          "state": {
            "_dom_classes": [],
            "_model_module": "@jupyter-widgets/controls",
            "_model_module_version": "1.5.0",
            "_model_name": "VBoxModel",
            "_view_count": null,
            "_view_module": "@jupyter-widgets/controls",
            "_view_module_version": "1.5.0",
            "_view_name": "VBoxView",
            "box_style": "",
            "children": [
              "IPY_MODEL_3d9fac3563da4146b57ca703c3ec2064",
              "IPY_MODEL_7cd848eed3974b9eb92ad9fc61ea2d24"
            ],
            "layout": "IPY_MODEL_27a815a2dd174309b96c493dd16d569c"
          }
        },
        "3d9fac3563da4146b57ca703c3ec2064": {
          "model_module": "@jupyter-widgets/controls",
          "model_name": "VBoxModel",
          "model_module_version": "1.5.0",
          "state": {
            "_dom_classes": [],
            "_model_module": "@jupyter-widgets/controls",
            "_model_module_version": "1.5.0",
            "_model_name": "VBoxModel",
            "_view_count": null,
            "_view_module": "@jupyter-widgets/controls",
            "_view_module_version": "1.5.0",
            "_view_name": "VBoxView",
            "box_style": "",
            "children": [
              "IPY_MODEL_a17012cb111e4208b61a694d419fd068",
              "IPY_MODEL_5f29d3c48f5d43789b8a0fe0f72e5004",
              "IPY_MODEL_93e6ad5acd7a485fa4f0ab8456183157"
            ],
            "layout": "IPY_MODEL_73b216e49012461896ca876958892a1b"
          }
        },
        "7cd848eed3974b9eb92ad9fc61ea2d24": {
          "model_module": "@jupyter-widgets/output",
          "model_name": "OutputModel",
          "model_module_version": "1.0.0",
          "state": {
            "_dom_classes": [],
            "_model_module": "@jupyter-widgets/output",
            "_model_module_version": "1.0.0",
            "_model_name": "OutputModel",
            "_view_count": null,
            "_view_module": "@jupyter-widgets/output",
            "_view_module_version": "1.0.0",
            "_view_name": "OutputView",
            "layout": "IPY_MODEL_84d3d8f8a8de4a09a53887efc14a5592",
            "msg_id": "",
            "outputs": [
              {
                "output_type": "stream",
                "name": "stdout",
                "text": [
                  "Player X wins!\n"
                ]
              }
            ]
          }
        },
        "27a815a2dd174309b96c493dd16d569c": {
          "model_module": "@jupyter-widgets/base",
          "model_name": "LayoutModel",
          "model_module_version": "1.2.0",
          "state": {
            "_model_module": "@jupyter-widgets/base",
            "_model_module_version": "1.2.0",
            "_model_name": "LayoutModel",
            "_view_count": null,
            "_view_module": "@jupyter-widgets/base",
            "_view_module_version": "1.2.0",
            "_view_name": "LayoutView",
            "align_content": null,
            "align_items": null,
            "align_self": null,
            "border": null,
            "bottom": null,
            "display": null,
            "flex": null,
            "flex_flow": null,
            "grid_area": null,
            "grid_auto_columns": null,
            "grid_auto_flow": null,
            "grid_auto_rows": null,
            "grid_column": null,
            "grid_gap": null,
            "grid_row": null,
            "grid_template_areas": null,
            "grid_template_columns": null,
            "grid_template_rows": null,
            "height": null,
            "justify_content": null,
            "justify_items": null,
            "left": null,
            "margin": null,
            "max_height": null,
            "max_width": null,
            "min_height": null,
            "min_width": null,
            "object_fit": null,
            "object_position": null,
            "order": null,
            "overflow": null,
            "overflow_x": null,
            "overflow_y": null,
            "padding": null,
            "right": null,
            "top": null,
            "visibility": null,
            "width": null
          }
        },
        "a17012cb111e4208b61a694d419fd068": {
          "model_module": "@jupyter-widgets/controls",
          "model_name": "HBoxModel",
          "model_module_version": "1.5.0",
          "state": {
            "_dom_classes": [],
            "_model_module": "@jupyter-widgets/controls",
            "_model_module_version": "1.5.0",
            "_model_name": "HBoxModel",
            "_view_count": null,
            "_view_module": "@jupyter-widgets/controls",
            "_view_module_version": "1.5.0",
            "_view_name": "HBoxView",
            "box_style": "",
            "children": [
              "IPY_MODEL_d47d6f615b6e488bbb11861fb3f64a80",
              "IPY_MODEL_16852ccdb9b44505bba3983bcd2bab1e",
              "IPY_MODEL_973ffc8a267f4c7cba742b343b936dd1"
            ],
            "layout": "IPY_MODEL_109f5a7ab13e420da3b00bb782981d7c"
          }
        },
        "5f29d3c48f5d43789b8a0fe0f72e5004": {
          "model_module": "@jupyter-widgets/controls",
          "model_name": "HBoxModel",
          "model_module_version": "1.5.0",
          "state": {
            "_dom_classes": [],
            "_model_module": "@jupyter-widgets/controls",
            "_model_module_version": "1.5.0",
            "_model_name": "HBoxModel",
            "_view_count": null,
            "_view_module": "@jupyter-widgets/controls",
            "_view_module_version": "1.5.0",
            "_view_name": "HBoxView",
            "box_style": "",
            "children": [
              "IPY_MODEL_269377bd27c14d6085be6dd57206d9a2",
              "IPY_MODEL_152574b3303a4e8eb552eceb2cd5402f",
              "IPY_MODEL_2659c36d023e4d8ab6e93c6f70b4edd0"
            ],
            "layout": "IPY_MODEL_fd8069df6a2848bb81ab7398882a5a2d"
          }
        },
        "93e6ad5acd7a485fa4f0ab8456183157": {
          "model_module": "@jupyter-widgets/controls",
          "model_name": "HBoxModel",
          "model_module_version": "1.5.0",
          "state": {
            "_dom_classes": [],
            "_model_module": "@jupyter-widgets/controls",
            "_model_module_version": "1.5.0",
            "_model_name": "HBoxModel",
            "_view_count": null,
            "_view_module": "@jupyter-widgets/controls",
            "_view_module_version": "1.5.0",
            "_view_name": "HBoxView",
            "box_style": "",
            "children": [
              "IPY_MODEL_7ba7bc738219434fb66ceb9aa54e0a49",
              "IPY_MODEL_d97fa8621cc14bc5b5452c78d12fda12",
              "IPY_MODEL_e62918332e564759a38cd693b906f470"
            ],
            "layout": "IPY_MODEL_8cbc9da78f344a75928340f3aeef13a3"
          }
        },
        "73b216e49012461896ca876958892a1b": {
          "model_module": "@jupyter-widgets/base",
          "model_name": "LayoutModel",
          "model_module_version": "1.2.0",
          "state": {
            "_model_module": "@jupyter-widgets/base",
            "_model_module_version": "1.2.0",
            "_model_name": "LayoutModel",
            "_view_count": null,
            "_view_module": "@jupyter-widgets/base",
            "_view_module_version": "1.2.0",
            "_view_name": "LayoutView",
            "align_content": null,
            "align_items": null,
            "align_self": null,
            "border": null,
            "bottom": null,
            "display": null,
            "flex": null,
            "flex_flow": null,
            "grid_area": null,
            "grid_auto_columns": null,
            "grid_auto_flow": null,
            "grid_auto_rows": null,
            "grid_column": null,
            "grid_gap": null,
            "grid_row": null,
            "grid_template_areas": null,
            "grid_template_columns": null,
            "grid_template_rows": null,
            "height": null,
            "justify_content": null,
            "justify_items": null,
            "left": null,
            "margin": null,
            "max_height": null,
            "max_width": null,
            "min_height": null,
            "min_width": null,
            "object_fit": null,
            "object_position": null,
            "order": null,
            "overflow": null,
            "overflow_x": null,
            "overflow_y": null,
            "padding": null,
            "right": null,
            "top": null,
            "visibility": null,
            "width": null
          }
        },
        "d47d6f615b6e488bbb11861fb3f64a80": {
          "model_module": "@jupyter-widgets/controls",
          "model_name": "ButtonModel",
          "model_module_version": "1.5.0",
          "state": {
            "_dom_classes": [],
            "_model_module": "@jupyter-widgets/controls",
            "_model_module_version": "1.5.0",
            "_model_name": "ButtonModel",
            "_view_count": null,
            "_view_module": "@jupyter-widgets/controls",
            "_view_module_version": "1.5.0",
            "_view_name": "ButtonView",
            "button_style": "",
            "description": "X",
            "disabled": true,
            "icon": "",
            "layout": "IPY_MODEL_409fb2c1bc8849f6b2dd0f7e507c7ada",
            "style": "IPY_MODEL_65c84ac63e1941b3bd469331479ce6b5",
            "tooltip": ""
          }
        },
        "16852ccdb9b44505bba3983bcd2bab1e": {
          "model_module": "@jupyter-widgets/controls",
          "model_name": "ButtonModel",
          "model_module_version": "1.5.0",
          "state": {
            "_dom_classes": [],
            "_model_module": "@jupyter-widgets/controls",
            "_model_module_version": "1.5.0",
            "_model_name": "ButtonModel",
            "_view_count": null,
            "_view_module": "@jupyter-widgets/controls",
            "_view_module_version": "1.5.0",
            "_view_name": "ButtonView",
            "button_style": "",
            "description": "O",
            "disabled": true,
            "icon": "",
            "layout": "IPY_MODEL_739491da8e9f46249f4de0e3096febfd",
            "style": "IPY_MODEL_5b1533a7576d4176a0f55b238ff8a835",
            "tooltip": ""
          }
        },
        "973ffc8a267f4c7cba742b343b936dd1": {
          "model_module": "@jupyter-widgets/controls",
          "model_name": "ButtonModel",
          "model_module_version": "1.5.0",
          "state": {
            "_dom_classes": [],
            "_model_module": "@jupyter-widgets/controls",
            "_model_module_version": "1.5.0",
            "_model_name": "ButtonModel",
            "_view_count": null,
            "_view_module": "@jupyter-widgets/controls",
            "_view_module_version": "1.5.0",
            "_view_name": "ButtonView",
            "button_style": "",
            "description": "X",
            "disabled": true,
            "icon": "",
            "layout": "IPY_MODEL_1083d32cf813479c87b7a7b029b8600e",
            "style": "IPY_MODEL_6f5287b3e6b2444d8b38ba19416a7171",
            "tooltip": ""
          }
        },
        "109f5a7ab13e420da3b00bb782981d7c": {
          "model_module": "@jupyter-widgets/base",
          "model_name": "LayoutModel",
          "model_module_version": "1.2.0",
          "state": {
            "_model_module": "@jupyter-widgets/base",
            "_model_module_version": "1.2.0",
            "_model_name": "LayoutModel",
            "_view_count": null,
            "_view_module": "@jupyter-widgets/base",
            "_view_module_version": "1.2.0",
            "_view_name": "LayoutView",
            "align_content": null,
            "align_items": null,
            "align_self": null,
            "border": null,
            "bottom": null,
            "display": null,
            "flex": null,
            "flex_flow": null,
            "grid_area": null,
            "grid_auto_columns": null,
            "grid_auto_flow": null,
            "grid_auto_rows": null,
            "grid_column": null,
            "grid_gap": null,
            "grid_row": null,
            "grid_template_areas": null,
            "grid_template_columns": null,
            "grid_template_rows": null,
            "height": null,
            "justify_content": null,
            "justify_items": null,
            "left": null,
            "margin": null,
            "max_height": null,
            "max_width": null,
            "min_height": null,
            "min_width": null,
            "object_fit": null,
            "object_position": null,
            "order": null,
            "overflow": null,
            "overflow_x": null,
            "overflow_y": null,
            "padding": null,
            "right": null,
            "top": null,
            "visibility": null,
            "width": null
          }
        },
        "269377bd27c14d6085be6dd57206d9a2": {
          "model_module": "@jupyter-widgets/controls",
          "model_name": "ButtonModel",
          "model_module_version": "1.5.0",
          "state": {
            "_dom_classes": [],
            "_model_module": "@jupyter-widgets/controls",
            "_model_module_version": "1.5.0",
            "_model_name": "ButtonModel",
            "_view_count": null,
            "_view_module": "@jupyter-widgets/controls",
            "_view_module_version": "1.5.0",
            "_view_name": "ButtonView",
            "button_style": "",
            "description": "O",
            "disabled": true,
            "icon": "",
            "layout": "IPY_MODEL_e49fc9721ec14ca69c2d64b74a73724b",
            "style": "IPY_MODEL_a25b686972744bc3a43eb417cdc6e11e",
            "tooltip": ""
          }
        },
        "152574b3303a4e8eb552eceb2cd5402f": {
          "model_module": "@jupyter-widgets/controls",
          "model_name": "ButtonModel",
          "model_module_version": "1.5.0",
          "state": {
            "_dom_classes": [],
            "_model_module": "@jupyter-widgets/controls",
            "_model_module_version": "1.5.0",
            "_model_name": "ButtonModel",
            "_view_count": null,
            "_view_module": "@jupyter-widgets/controls",
            "_view_module_version": "1.5.0",
            "_view_name": "ButtonView",
            "button_style": "",
            "description": "X",
            "disabled": true,
            "icon": "",
            "layout": "IPY_MODEL_d11846dc3773408c952796614eca501b",
            "style": "IPY_MODEL_d2b5ce7202cf44aba33fee258d4ffb2c",
            "tooltip": ""
          }
        },
        "2659c36d023e4d8ab6e93c6f70b4edd0": {
          "model_module": "@jupyter-widgets/controls",
          "model_name": "ButtonModel",
          "model_module_version": "1.5.0",
          "state": {
            "_dom_classes": [],
            "_model_module": "@jupyter-widgets/controls",
            "_model_module_version": "1.5.0",
            "_model_name": "ButtonModel",
            "_view_count": null,
            "_view_module": "@jupyter-widgets/controls",
            "_view_module_version": "1.5.0",
            "_view_name": "ButtonView",
            "button_style": "",
            "description": "O",
            "disabled": true,
            "icon": "",
            "layout": "IPY_MODEL_5bf2b4a696864a5bbcc821b0643adcca",
            "style": "IPY_MODEL_581689b7c6894182a6224134633578a5",
            "tooltip": ""
          }
        },
        "fd8069df6a2848bb81ab7398882a5a2d": {
          "model_module": "@jupyter-widgets/base",
          "model_name": "LayoutModel",
          "model_module_version": "1.2.0",
          "state": {
            "_model_module": "@jupyter-widgets/base",
            "_model_module_version": "1.2.0",
            "_model_name": "LayoutModel",
            "_view_count": null,
            "_view_module": "@jupyter-widgets/base",
            "_view_module_version": "1.2.0",
            "_view_name": "LayoutView",
            "align_content": null,
            "align_items": null,
            "align_self": null,
            "border": null,
            "bottom": null,
            "display": null,
            "flex": null,
            "flex_flow": null,
            "grid_area": null,
            "grid_auto_columns": null,
            "grid_auto_flow": null,
            "grid_auto_rows": null,
            "grid_column": null,
            "grid_gap": null,
            "grid_row": null,
            "grid_template_areas": null,
            "grid_template_columns": null,
            "grid_template_rows": null,
            "height": null,
            "justify_content": null,
            "justify_items": null,
            "left": null,
            "margin": null,
            "max_height": null,
            "max_width": null,
            "min_height": null,
            "min_width": null,
            "object_fit": null,
            "object_position": null,
            "order": null,
            "overflow": null,
            "overflow_x": null,
            "overflow_y": null,
            "padding": null,
            "right": null,
            "top": null,
            "visibility": null,
            "width": null
          }
        },
        "7ba7bc738219434fb66ceb9aa54e0a49": {
          "model_module": "@jupyter-widgets/controls",
          "model_name": "ButtonModel",
          "model_module_version": "1.5.0",
          "state": {
            "_dom_classes": [],
            "_model_module": "@jupyter-widgets/controls",
            "_model_module_version": "1.5.0",
            "_model_name": "ButtonModel",
            "_view_count": null,
            "_view_module": "@jupyter-widgets/controls",
            "_view_module_version": "1.5.0",
            "_view_name": "ButtonView",
            "button_style": "",
            "description": "X",
            "disabled": true,
            "icon": "",
            "layout": "IPY_MODEL_0f2c00cf60734944939c579cc6189f25",
            "style": "IPY_MODEL_7d02053e39344d259c859d106c31eb76",
            "tooltip": ""
          }
        },
        "d97fa8621cc14bc5b5452c78d12fda12": {
          "model_module": "@jupyter-widgets/controls",
          "model_name": "ButtonModel",
          "model_module_version": "1.5.0",
          "state": {
            "_dom_classes": [],
            "_model_module": "@jupyter-widgets/controls",
            "_model_module_version": "1.5.0",
            "_model_name": "ButtonModel",
            "_view_count": null,
            "_view_module": "@jupyter-widgets/controls",
            "_view_module_version": "1.5.0",
            "_view_name": "ButtonView",
            "button_style": "",
            "description": " ",
            "disabled": true,
            "icon": "",
            "layout": "IPY_MODEL_2a60bdbd01b04a669174847f1ec63497",
            "style": "IPY_MODEL_c3b80af1e8d349868e9e7ae097d7fe7c",
            "tooltip": ""
          }
        },
        "e62918332e564759a38cd693b906f470": {
          "model_module": "@jupyter-widgets/controls",
          "model_name": "ButtonModel",
          "model_module_version": "1.5.0",
          "state": {
            "_dom_classes": [],
            "_model_module": "@jupyter-widgets/controls",
            "_model_module_version": "1.5.0",
            "_model_name": "ButtonModel",
            "_view_count": null,
            "_view_module": "@jupyter-widgets/controls",
            "_view_module_version": "1.5.0",
            "_view_name": "ButtonView",
            "button_style": "",
            "description": " ",
            "disabled": true,
            "icon": "",
            "layout": "IPY_MODEL_7590970197c14705bf5e8a8736831f2b",
            "style": "IPY_MODEL_b6240faacc60480ca86a3435b69973a4",
            "tooltip": ""
          }
        },
        "8cbc9da78f344a75928340f3aeef13a3": {
          "model_module": "@jupyter-widgets/base",
          "model_name": "LayoutModel",
          "model_module_version": "1.2.0",
          "state": {
            "_model_module": "@jupyter-widgets/base",
            "_model_module_version": "1.2.0",
            "_model_name": "LayoutModel",
            "_view_count": null,
            "_view_module": "@jupyter-widgets/base",
            "_view_module_version": "1.2.0",
            "_view_name": "LayoutView",
            "align_content": null,
            "align_items": null,
            "align_self": null,
            "border": null,
            "bottom": null,
            "display": null,
            "flex": null,
            "flex_flow": null,
            "grid_area": null,
            "grid_auto_columns": null,
            "grid_auto_flow": null,
            "grid_auto_rows": null,
            "grid_column": null,
            "grid_gap": null,
            "grid_row": null,
            "grid_template_areas": null,
            "grid_template_columns": null,
            "grid_template_rows": null,
            "height": null,
            "justify_content": null,
            "justify_items": null,
            "left": null,
            "margin": null,
            "max_height": null,
            "max_width": null,
            "min_height": null,
            "min_width": null,
            "object_fit": null,
            "object_position": null,
            "order": null,
            "overflow": null,
            "overflow_x": null,
            "overflow_y": null,
            "padding": null,
            "right": null,
            "top": null,
            "visibility": null,
            "width": null
          }
        },
        "409fb2c1bc8849f6b2dd0f7e507c7ada": {
          "model_module": "@jupyter-widgets/base",
          "model_name": "LayoutModel",
          "model_module_version": "1.2.0",
          "state": {
            "_model_module": "@jupyter-widgets/base",
            "_model_module_version": "1.2.0",
            "_model_name": "LayoutModel",
            "_view_count": null,
            "_view_module": "@jupyter-widgets/base",
            "_view_module_version": "1.2.0",
            "_view_name": "LayoutView",
            "align_content": null,
            "align_items": null,
            "align_self": null,
            "border": null,
            "bottom": null,
            "display": null,
            "flex": null,
            "flex_flow": null,
            "grid_area": null,
            "grid_auto_columns": null,
            "grid_auto_flow": null,
            "grid_auto_rows": null,
            "grid_column": null,
            "grid_gap": null,
            "grid_row": null,
            "grid_template_areas": null,
            "grid_template_columns": null,
            "grid_template_rows": null,
            "height": "50px",
            "justify_content": null,
            "justify_items": null,
            "left": null,
            "margin": null,
            "max_height": null,
            "max_width": null,
            "min_height": null,
            "min_width": null,
            "object_fit": null,
            "object_position": null,
            "order": null,
            "overflow": null,
            "overflow_x": null,
            "overflow_y": null,
            "padding": null,
            "right": null,
            "top": null,
            "visibility": null,
            "width": "50px"
          }
        },
        "65c84ac63e1941b3bd469331479ce6b5": {
          "model_module": "@jupyter-widgets/controls",
          "model_name": "ButtonStyleModel",
          "model_module_version": "1.5.0",
          "state": {
            "_model_module": "@jupyter-widgets/controls",
            "_model_module_version": "1.5.0",
            "_model_name": "ButtonStyleModel",
            "_view_count": null,
            "_view_module": "@jupyter-widgets/base",
            "_view_module_version": "1.2.0",
            "_view_name": "StyleView",
            "button_color": null,
            "font_weight": ""
          }
        },
        "739491da8e9f46249f4de0e3096febfd": {
          "model_module": "@jupyter-widgets/base",
          "model_name": "LayoutModel",
          "model_module_version": "1.2.0",
          "state": {
            "_model_module": "@jupyter-widgets/base",
            "_model_module_version": "1.2.0",
            "_model_name": "LayoutModel",
            "_view_count": null,
            "_view_module": "@jupyter-widgets/base",
            "_view_module_version": "1.2.0",
            "_view_name": "LayoutView",
            "align_content": null,
            "align_items": null,
            "align_self": null,
            "border": null,
            "bottom": null,
            "display": null,
            "flex": null,
            "flex_flow": null,
            "grid_area": null,
            "grid_auto_columns": null,
            "grid_auto_flow": null,
            "grid_auto_rows": null,
            "grid_column": null,
            "grid_gap": null,
            "grid_row": null,
            "grid_template_areas": null,
            "grid_template_columns": null,
            "grid_template_rows": null,
            "height": "50px",
            "justify_content": null,
            "justify_items": null,
            "left": null,
            "margin": null,
            "max_height": null,
            "max_width": null,
            "min_height": null,
            "min_width": null,
            "object_fit": null,
            "object_position": null,
            "order": null,
            "overflow": null,
            "overflow_x": null,
            "overflow_y": null,
            "padding": null,
            "right": null,
            "top": null,
            "visibility": null,
            "width": "50px"
          }
        },
        "5b1533a7576d4176a0f55b238ff8a835": {
          "model_module": "@jupyter-widgets/controls",
          "model_name": "ButtonStyleModel",
          "model_module_version": "1.5.0",
          "state": {
            "_model_module": "@jupyter-widgets/controls",
            "_model_module_version": "1.5.0",
            "_model_name": "ButtonStyleModel",
            "_view_count": null,
            "_view_module": "@jupyter-widgets/base",
            "_view_module_version": "1.2.0",
            "_view_name": "StyleView",
            "button_color": null,
            "font_weight": ""
          }
        },
        "1083d32cf813479c87b7a7b029b8600e": {
          "model_module": "@jupyter-widgets/base",
          "model_name": "LayoutModel",
          "model_module_version": "1.2.0",
          "state": {
            "_model_module": "@jupyter-widgets/base",
            "_model_module_version": "1.2.0",
            "_model_name": "LayoutModel",
            "_view_count": null,
            "_view_module": "@jupyter-widgets/base",
            "_view_module_version": "1.2.0",
            "_view_name": "LayoutView",
            "align_content": null,
            "align_items": null,
            "align_self": null,
            "border": null,
            "bottom": null,
            "display": null,
            "flex": null,
            "flex_flow": null,
            "grid_area": null,
            "grid_auto_columns": null,
            "grid_auto_flow": null,
            "grid_auto_rows": null,
            "grid_column": null,
            "grid_gap": null,
            "grid_row": null,
            "grid_template_areas": null,
            "grid_template_columns": null,
            "grid_template_rows": null,
            "height": "50px",
            "justify_content": null,
            "justify_items": null,
            "left": null,
            "margin": null,
            "max_height": null,
            "max_width": null,
            "min_height": null,
            "min_width": null,
            "object_fit": null,
            "object_position": null,
            "order": null,
            "overflow": null,
            "overflow_x": null,
            "overflow_y": null,
            "padding": null,
            "right": null,
            "top": null,
            "visibility": null,
            "width": "50px"
          }
        },
        "6f5287b3e6b2444d8b38ba19416a7171": {
          "model_module": "@jupyter-widgets/controls",
          "model_name": "ButtonStyleModel",
          "model_module_version": "1.5.0",
          "state": {
            "_model_module": "@jupyter-widgets/controls",
            "_model_module_version": "1.5.0",
            "_model_name": "ButtonStyleModel",
            "_view_count": null,
            "_view_module": "@jupyter-widgets/base",
            "_view_module_version": "1.2.0",
            "_view_name": "StyleView",
            "button_color": null,
            "font_weight": ""
          }
        },
        "e49fc9721ec14ca69c2d64b74a73724b": {
          "model_module": "@jupyter-widgets/base",
          "model_name": "LayoutModel",
          "model_module_version": "1.2.0",
          "state": {
            "_model_module": "@jupyter-widgets/base",
            "_model_module_version": "1.2.0",
            "_model_name": "LayoutModel",
            "_view_count": null,
            "_view_module": "@jupyter-widgets/base",
            "_view_module_version": "1.2.0",
            "_view_name": "LayoutView",
            "align_content": null,
            "align_items": null,
            "align_self": null,
            "border": null,
            "bottom": null,
            "display": null,
            "flex": null,
            "flex_flow": null,
            "grid_area": null,
            "grid_auto_columns": null,
            "grid_auto_flow": null,
            "grid_auto_rows": null,
            "grid_column": null,
            "grid_gap": null,
            "grid_row": null,
            "grid_template_areas": null,
            "grid_template_columns": null,
            "grid_template_rows": null,
            "height": "50px",
            "justify_content": null,
            "justify_items": null,
            "left": null,
            "margin": null,
            "max_height": null,
            "max_width": null,
            "min_height": null,
            "min_width": null,
            "object_fit": null,
            "object_position": null,
            "order": null,
            "overflow": null,
            "overflow_x": null,
            "overflow_y": null,
            "padding": null,
            "right": null,
            "top": null,
            "visibility": null,
            "width": "50px"
          }
        },
        "a25b686972744bc3a43eb417cdc6e11e": {
          "model_module": "@jupyter-widgets/controls",
          "model_name": "ButtonStyleModel",
          "model_module_version": "1.5.0",
          "state": {
            "_model_module": "@jupyter-widgets/controls",
            "_model_module_version": "1.5.0",
            "_model_name": "ButtonStyleModel",
            "_view_count": null,
            "_view_module": "@jupyter-widgets/base",
            "_view_module_version": "1.2.0",
            "_view_name": "StyleView",
            "button_color": null,
            "font_weight": ""
          }
        },
        "d11846dc3773408c952796614eca501b": {
          "model_module": "@jupyter-widgets/base",
          "model_name": "LayoutModel",
          "model_module_version": "1.2.0",
          "state": {
            "_model_module": "@jupyter-widgets/base",
            "_model_module_version": "1.2.0",
            "_model_name": "LayoutModel",
            "_view_count": null,
            "_view_module": "@jupyter-widgets/base",
            "_view_module_version": "1.2.0",
            "_view_name": "LayoutView",
            "align_content": null,
            "align_items": null,
            "align_self": null,
            "border": null,
            "bottom": null,
            "display": null,
            "flex": null,
            "flex_flow": null,
            "grid_area": null,
            "grid_auto_columns": null,
            "grid_auto_flow": null,
            "grid_auto_rows": null,
            "grid_column": null,
            "grid_gap": null,
            "grid_row": null,
            "grid_template_areas": null,
            "grid_template_columns": null,
            "grid_template_rows": null,
            "height": "50px",
            "justify_content": null,
            "justify_items": null,
            "left": null,
            "margin": null,
            "max_height": null,
            "max_width": null,
            "min_height": null,
            "min_width": null,
            "object_fit": null,
            "object_position": null,
            "order": null,
            "overflow": null,
            "overflow_x": null,
            "overflow_y": null,
            "padding": null,
            "right": null,
            "top": null,
            "visibility": null,
            "width": "50px"
          }
        },
        "d2b5ce7202cf44aba33fee258d4ffb2c": {
          "model_module": "@jupyter-widgets/controls",
          "model_name": "ButtonStyleModel",
          "model_module_version": "1.5.0",
          "state": {
            "_model_module": "@jupyter-widgets/controls",
            "_model_module_version": "1.5.0",
            "_model_name": "ButtonStyleModel",
            "_view_count": null,
            "_view_module": "@jupyter-widgets/base",
            "_view_module_version": "1.2.0",
            "_view_name": "StyleView",
            "button_color": null,
            "font_weight": ""
          }
        },
        "5bf2b4a696864a5bbcc821b0643adcca": {
          "model_module": "@jupyter-widgets/base",
          "model_name": "LayoutModel",
          "model_module_version": "1.2.0",
          "state": {
            "_model_module": "@jupyter-widgets/base",
            "_model_module_version": "1.2.0",
            "_model_name": "LayoutModel",
            "_view_count": null,
            "_view_module": "@jupyter-widgets/base",
            "_view_module_version": "1.2.0",
            "_view_name": "LayoutView",
            "align_content": null,
            "align_items": null,
            "align_self": null,
            "border": null,
            "bottom": null,
            "display": null,
            "flex": null,
            "flex_flow": null,
            "grid_area": null,
            "grid_auto_columns": null,
            "grid_auto_flow": null,
            "grid_auto_rows": null,
            "grid_column": null,
            "grid_gap": null,
            "grid_row": null,
            "grid_template_areas": null,
            "grid_template_columns": null,
            "grid_template_rows": null,
            "height": "50px",
            "justify_content": null,
            "justify_items": null,
            "left": null,
            "margin": null,
            "max_height": null,
            "max_width": null,
            "min_height": null,
            "min_width": null,
            "object_fit": null,
            "object_position": null,
            "order": null,
            "overflow": null,
            "overflow_x": null,
            "overflow_y": null,
            "padding": null,
            "right": null,
            "top": null,
            "visibility": null,
            "width": "50px"
          }
        },
        "581689b7c6894182a6224134633578a5": {
          "model_module": "@jupyter-widgets/controls",
          "model_name": "ButtonStyleModel",
          "model_module_version": "1.5.0",
          "state": {
            "_model_module": "@jupyter-widgets/controls",
            "_model_module_version": "1.5.0",
            "_model_name": "ButtonStyleModel",
            "_view_count": null,
            "_view_module": "@jupyter-widgets/base",
            "_view_module_version": "1.2.0",
            "_view_name": "StyleView",
            "button_color": null,
            "font_weight": ""
          }
        },
        "0f2c00cf60734944939c579cc6189f25": {
          "model_module": "@jupyter-widgets/base",
          "model_name": "LayoutModel",
          "model_module_version": "1.2.0",
          "state": {
            "_model_module": "@jupyter-widgets/base",
            "_model_module_version": "1.2.0",
            "_model_name": "LayoutModel",
            "_view_count": null,
            "_view_module": "@jupyter-widgets/base",
            "_view_module_version": "1.2.0",
            "_view_name": "LayoutView",
            "align_content": null,
            "align_items": null,
            "align_self": null,
            "border": null,
            "bottom": null,
            "display": null,
            "flex": null,
            "flex_flow": null,
            "grid_area": null,
            "grid_auto_columns": null,
            "grid_auto_flow": null,
            "grid_auto_rows": null,
            "grid_column": null,
            "grid_gap": null,
            "grid_row": null,
            "grid_template_areas": null,
            "grid_template_columns": null,
            "grid_template_rows": null,
            "height": "50px",
            "justify_content": null,
            "justify_items": null,
            "left": null,
            "margin": null,
            "max_height": null,
            "max_width": null,
            "min_height": null,
            "min_width": null,
            "object_fit": null,
            "object_position": null,
            "order": null,
            "overflow": null,
            "overflow_x": null,
            "overflow_y": null,
            "padding": null,
            "right": null,
            "top": null,
            "visibility": null,
            "width": "50px"
          }
        },
        "7d02053e39344d259c859d106c31eb76": {
          "model_module": "@jupyter-widgets/controls",
          "model_name": "ButtonStyleModel",
          "model_module_version": "1.5.0",
          "state": {
            "_model_module": "@jupyter-widgets/controls",
            "_model_module_version": "1.5.0",
            "_model_name": "ButtonStyleModel",
            "_view_count": null,
            "_view_module": "@jupyter-widgets/base",
            "_view_module_version": "1.2.0",
            "_view_name": "StyleView",
            "button_color": null,
            "font_weight": ""
          }
        },
        "2a60bdbd01b04a669174847f1ec63497": {
          "model_module": "@jupyter-widgets/base",
          "model_name": "LayoutModel",
          "model_module_version": "1.2.0",
          "state": {
            "_model_module": "@jupyter-widgets/base",
            "_model_module_version": "1.2.0",
            "_model_name": "LayoutModel",
            "_view_count": null,
            "_view_module": "@jupyter-widgets/base",
            "_view_module_version": "1.2.0",
            "_view_name": "LayoutView",
            "align_content": null,
            "align_items": null,
            "align_self": null,
            "border": null,
            "bottom": null,
            "display": null,
            "flex": null,
            "flex_flow": null,
            "grid_area": null,
            "grid_auto_columns": null,
            "grid_auto_flow": null,
            "grid_auto_rows": null,
            "grid_column": null,
            "grid_gap": null,
            "grid_row": null,
            "grid_template_areas": null,
            "grid_template_columns": null,
            "grid_template_rows": null,
            "height": "50px",
            "justify_content": null,
            "justify_items": null,
            "left": null,
            "margin": null,
            "max_height": null,
            "max_width": null,
            "min_height": null,
            "min_width": null,
            "object_fit": null,
            "object_position": null,
            "order": null,
            "overflow": null,
            "overflow_x": null,
            "overflow_y": null,
            "padding": null,
            "right": null,
            "top": null,
            "visibility": null,
            "width": "50px"
          }
        },
        "c3b80af1e8d349868e9e7ae097d7fe7c": {
          "model_module": "@jupyter-widgets/controls",
          "model_name": "ButtonStyleModel",
          "model_module_version": "1.5.0",
          "state": {
            "_model_module": "@jupyter-widgets/controls",
            "_model_module_version": "1.5.0",
            "_model_name": "ButtonStyleModel",
            "_view_count": null,
            "_view_module": "@jupyter-widgets/base",
            "_view_module_version": "1.2.0",
            "_view_name": "StyleView",
            "button_color": null,
            "font_weight": ""
          }
        },
        "7590970197c14705bf5e8a8736831f2b": {
          "model_module": "@jupyter-widgets/base",
          "model_name": "LayoutModel",
          "model_module_version": "1.2.0",
          "state": {
            "_model_module": "@jupyter-widgets/base",
            "_model_module_version": "1.2.0",
            "_model_name": "LayoutModel",
            "_view_count": null,
            "_view_module": "@jupyter-widgets/base",
            "_view_module_version": "1.2.0",
            "_view_name": "LayoutView",
            "align_content": null,
            "align_items": null,
            "align_self": null,
            "border": null,
            "bottom": null,
            "display": null,
            "flex": null,
            "flex_flow": null,
            "grid_area": null,
            "grid_auto_columns": null,
            "grid_auto_flow": null,
            "grid_auto_rows": null,
            "grid_column": null,
            "grid_gap": null,
            "grid_row": null,
            "grid_template_areas": null,
            "grid_template_columns": null,
            "grid_template_rows": null,
            "height": "50px",
            "justify_content": null,
            "justify_items": null,
            "left": null,
            "margin": null,
            "max_height": null,
            "max_width": null,
            "min_height": null,
            "min_width": null,
            "object_fit": null,
            "object_position": null,
            "order": null,
            "overflow": null,
            "overflow_x": null,
            "overflow_y": null,
            "padding": null,
            "right": null,
            "top": null,
            "visibility": null,
            "width": "50px"
          }
        },
        "b6240faacc60480ca86a3435b69973a4": {
          "model_module": "@jupyter-widgets/controls",
          "model_name": "ButtonStyleModel",
          "model_module_version": "1.5.0",
          "state": {
            "_model_module": "@jupyter-widgets/controls",
            "_model_module_version": "1.5.0",
            "_model_name": "ButtonStyleModel",
            "_view_count": null,
            "_view_module": "@jupyter-widgets/base",
            "_view_module_version": "1.2.0",
            "_view_name": "StyleView",
            "button_color": null,
            "font_weight": ""
          }
        },
        "84d3d8f8a8de4a09a53887efc14a5592": {
          "model_module": "@jupyter-widgets/base",
          "model_name": "LayoutModel",
          "model_module_version": "1.2.0",
          "state": {
            "_model_module": "@jupyter-widgets/base",
            "_model_module_version": "1.2.0",
            "_model_name": "LayoutModel",
            "_view_count": null,
            "_view_module": "@jupyter-widgets/base",
            "_view_module_version": "1.2.0",
            "_view_name": "LayoutView",
            "align_content": null,
            "align_items": null,
            "align_self": null,
            "border": null,
            "bottom": null,
            "display": null,
            "flex": null,
            "flex_flow": null,
            "grid_area": null,
            "grid_auto_columns": null,
            "grid_auto_flow": null,
            "grid_auto_rows": null,
            "grid_column": null,
            "grid_gap": null,
            "grid_row": null,
            "grid_template_areas": null,
            "grid_template_columns": null,
            "grid_template_rows": null,
            "height": null,
            "justify_content": null,
            "justify_items": null,
            "left": null,
            "margin": null,
            "max_height": null,
            "max_width": null,
            "min_height": null,
            "min_width": null,
            "object_fit": null,
            "object_position": null,
            "order": null,
            "overflow": null,
            "overflow_x": null,
            "overflow_y": null,
            "padding": null,
            "right": null,
            "top": null,
            "visibility": null,
            "width": null
          }
        },
        "9cb6f8f9040f4bf18d71818b489f6179": {
          "model_module": "@jupyter-widgets/controls",
          "model_name": "VBoxModel",
          "model_module_version": "1.5.0",
          "state": {
            "_dom_classes": [],
            "_model_module": "@jupyter-widgets/controls",
            "_model_module_version": "1.5.0",
            "_model_name": "VBoxModel",
            "_view_count": null,
            "_view_module": "@jupyter-widgets/controls",
            "_view_module_version": "1.5.0",
            "_view_name": "VBoxView",
            "box_style": "",
            "children": [
              "IPY_MODEL_5cde8f23549b4c8da41b98351dc27a5a",
              "IPY_MODEL_3f2a9cbc5b7d4f87a68194b0f7ffd086"
            ],
            "layout": "IPY_MODEL_7cc29f4c41874f83a66a385969bead9c"
          }
        },
        "5cde8f23549b4c8da41b98351dc27a5a": {
          "model_module": "@jupyter-widgets/controls",
          "model_name": "VBoxModel",
          "model_module_version": "1.5.0",
          "state": {
            "_dom_classes": [],
            "_model_module": "@jupyter-widgets/controls",
            "_model_module_version": "1.5.0",
            "_model_name": "VBoxModel",
            "_view_count": null,
            "_view_module": "@jupyter-widgets/controls",
            "_view_module_version": "1.5.0",
            "_view_name": "VBoxView",
            "box_style": "",
            "children": [
              "IPY_MODEL_cbf28e0b7b5a4b1c8ce6e0349ea9209a",
              "IPY_MODEL_ecc36fa1a64e4cd7a28a04493a2031ad",
              "IPY_MODEL_86852237a96b4ab9af16b3ddeb5af19c"
            ],
            "layout": "IPY_MODEL_3d209becaa96435d831c802a2e114d5e"
          }
        },
        "3f2a9cbc5b7d4f87a68194b0f7ffd086": {
          "model_module": "@jupyter-widgets/output",
          "model_name": "OutputModel",
          "model_module_version": "1.0.0",
          "state": {
            "_dom_classes": [],
            "_model_module": "@jupyter-widgets/output",
            "_model_module_version": "1.0.0",
            "_model_name": "OutputModel",
            "_view_count": null,
            "_view_module": "@jupyter-widgets/output",
            "_view_module_version": "1.0.0",
            "_view_name": "OutputView",
            "layout": "IPY_MODEL_15fe6c13ab5d484e8b5bc23b6947ad6b",
            "msg_id": "",
            "outputs": [
              {
                "output_type": "stream",
                "name": "stdout",
                "text": [
                  "Player X wins!\n"
                ]
              }
            ]
          }
        },
        "7cc29f4c41874f83a66a385969bead9c": {
          "model_module": "@jupyter-widgets/base",
          "model_name": "LayoutModel",
          "model_module_version": "1.2.0",
          "state": {
            "_model_module": "@jupyter-widgets/base",
            "_model_module_version": "1.2.0",
            "_model_name": "LayoutModel",
            "_view_count": null,
            "_view_module": "@jupyter-widgets/base",
            "_view_module_version": "1.2.0",
            "_view_name": "LayoutView",
            "align_content": null,
            "align_items": null,
            "align_self": null,
            "border": null,
            "bottom": null,
            "display": null,
            "flex": null,
            "flex_flow": null,
            "grid_area": null,
            "grid_auto_columns": null,
            "grid_auto_flow": null,
            "grid_auto_rows": null,
            "grid_column": null,
            "grid_gap": null,
            "grid_row": null,
            "grid_template_areas": null,
            "grid_template_columns": null,
            "grid_template_rows": null,
            "height": null,
            "justify_content": null,
            "justify_items": null,
            "left": null,
            "margin": null,
            "max_height": null,
            "max_width": null,
            "min_height": null,
            "min_width": null,
            "object_fit": null,
            "object_position": null,
            "order": null,
            "overflow": null,
            "overflow_x": null,
            "overflow_y": null,
            "padding": null,
            "right": null,
            "top": null,
            "visibility": null,
            "width": null
          }
        },
        "cbf28e0b7b5a4b1c8ce6e0349ea9209a": {
          "model_module": "@jupyter-widgets/controls",
          "model_name": "HBoxModel",
          "model_module_version": "1.5.0",
          "state": {
            "_dom_classes": [],
            "_model_module": "@jupyter-widgets/controls",
            "_model_module_version": "1.5.0",
            "_model_name": "HBoxModel",
            "_view_count": null,
            "_view_module": "@jupyter-widgets/controls",
            "_view_module_version": "1.5.0",
            "_view_name": "HBoxView",
            "box_style": "",
            "children": [
              "IPY_MODEL_a6176ec605e14567b242af5a749ffd1f",
              "IPY_MODEL_b151bdf769e6477a87ad7a5519c2d9fd",
              "IPY_MODEL_8e315fb894924c8284c3062ec1575411"
            ],
            "layout": "IPY_MODEL_f3c14aaa8eb047a48fceffb466c09b4a"
          }
        },
        "ecc36fa1a64e4cd7a28a04493a2031ad": {
          "model_module": "@jupyter-widgets/controls",
          "model_name": "HBoxModel",
          "model_module_version": "1.5.0",
          "state": {
            "_dom_classes": [],
            "_model_module": "@jupyter-widgets/controls",
            "_model_module_version": "1.5.0",
            "_model_name": "HBoxModel",
            "_view_count": null,
            "_view_module": "@jupyter-widgets/controls",
            "_view_module_version": "1.5.0",
            "_view_name": "HBoxView",
            "box_style": "",
            "children": [
              "IPY_MODEL_09e2438eee6444eeab5030dafdde130f",
              "IPY_MODEL_aac0e6934d594db9b5ab9c3500f401d4",
              "IPY_MODEL_c82cc03a74f245c49810e2159d03da63"
            ],
            "layout": "IPY_MODEL_a839bd47bb2f477e902a5095f8424a17"
          }
        },
        "86852237a96b4ab9af16b3ddeb5af19c": {
          "model_module": "@jupyter-widgets/controls",
          "model_name": "HBoxModel",
          "model_module_version": "1.5.0",
          "state": {
            "_dom_classes": [],
            "_model_module": "@jupyter-widgets/controls",
            "_model_module_version": "1.5.0",
            "_model_name": "HBoxModel",
            "_view_count": null,
            "_view_module": "@jupyter-widgets/controls",
            "_view_module_version": "1.5.0",
            "_view_name": "HBoxView",
            "box_style": "",
            "children": [
              "IPY_MODEL_cd11a1a2263e484eb2b6abcabaf4ff04",
              "IPY_MODEL_97de8c2ba5f24240b495f5c4541b2694",
              "IPY_MODEL_5aa51b0c6acb424a9e15d358a1fc181e"
            ],
            "layout": "IPY_MODEL_1376e4a8c274439095c7b5961ec55e2f"
          }
        },
        "3d209becaa96435d831c802a2e114d5e": {
          "model_module": "@jupyter-widgets/base",
          "model_name": "LayoutModel",
          "model_module_version": "1.2.0",
          "state": {
            "_model_module": "@jupyter-widgets/base",
            "_model_module_version": "1.2.0",
            "_model_name": "LayoutModel",
            "_view_count": null,
            "_view_module": "@jupyter-widgets/base",
            "_view_module_version": "1.2.0",
            "_view_name": "LayoutView",
            "align_content": null,
            "align_items": null,
            "align_self": null,
            "border": null,
            "bottom": null,
            "display": null,
            "flex": null,
            "flex_flow": null,
            "grid_area": null,
            "grid_auto_columns": null,
            "grid_auto_flow": null,
            "grid_auto_rows": null,
            "grid_column": null,
            "grid_gap": null,
            "grid_row": null,
            "grid_template_areas": null,
            "grid_template_columns": null,
            "grid_template_rows": null,
            "height": null,
            "justify_content": null,
            "justify_items": null,
            "left": null,
            "margin": null,
            "max_height": null,
            "max_width": null,
            "min_height": null,
            "min_width": null,
            "object_fit": null,
            "object_position": null,
            "order": null,
            "overflow": null,
            "overflow_x": null,
            "overflow_y": null,
            "padding": null,
            "right": null,
            "top": null,
            "visibility": null,
            "width": null
          }
        },
        "a6176ec605e14567b242af5a749ffd1f": {
          "model_module": "@jupyter-widgets/controls",
          "model_name": "ButtonModel",
          "model_module_version": "1.5.0",
          "state": {
            "_dom_classes": [],
            "_model_module": "@jupyter-widgets/controls",
            "_model_module_version": "1.5.0",
            "_model_name": "ButtonModel",
            "_view_count": null,
            "_view_module": "@jupyter-widgets/controls",
            "_view_module_version": "1.5.0",
            "_view_name": "ButtonView",
            "button_style": "",
            "description": "X",
            "disabled": true,
            "icon": "",
            "layout": "IPY_MODEL_61509bc5d08f42bdbdf9db2aa78a5d75",
            "style": "IPY_MODEL_3805691548b64c23ab54879142f2f382",
            "tooltip": ""
          }
        },
        "b151bdf769e6477a87ad7a5519c2d9fd": {
          "model_module": "@jupyter-widgets/controls",
          "model_name": "ButtonModel",
          "model_module_version": "1.5.0",
          "state": {
            "_dom_classes": [],
            "_model_module": "@jupyter-widgets/controls",
            "_model_module_version": "1.5.0",
            "_model_name": "ButtonModel",
            "_view_count": null,
            "_view_module": "@jupyter-widgets/controls",
            "_view_module_version": "1.5.0",
            "_view_name": "ButtonView",
            "button_style": "",
            "description": "O",
            "disabled": true,
            "icon": "",
            "layout": "IPY_MODEL_fec86373a2bb40babb8d94e73e304e5f",
            "style": "IPY_MODEL_c644191f42e746f4b3a981f62e648b7b",
            "tooltip": ""
          }
        },
        "8e315fb894924c8284c3062ec1575411": {
          "model_module": "@jupyter-widgets/controls",
          "model_name": "ButtonModel",
          "model_module_version": "1.5.0",
          "state": {
            "_dom_classes": [],
            "_model_module": "@jupyter-widgets/controls",
            "_model_module_version": "1.5.0",
            "_model_name": "ButtonModel",
            "_view_count": null,
            "_view_module": "@jupyter-widgets/controls",
            "_view_module_version": "1.5.0",
            "_view_name": "ButtonView",
            "button_style": "",
            "description": "X",
            "disabled": true,
            "icon": "",
            "layout": "IPY_MODEL_b6ac0ab770fd44928bf3ca8a8742c33d",
            "style": "IPY_MODEL_daf1b40974ae43d291f8b74c80a47149",
            "tooltip": ""
          }
        },
        "f3c14aaa8eb047a48fceffb466c09b4a": {
          "model_module": "@jupyter-widgets/base",
          "model_name": "LayoutModel",
          "model_module_version": "1.2.0",
          "state": {
            "_model_module": "@jupyter-widgets/base",
            "_model_module_version": "1.2.0",
            "_model_name": "LayoutModel",
            "_view_count": null,
            "_view_module": "@jupyter-widgets/base",
            "_view_module_version": "1.2.0",
            "_view_name": "LayoutView",
            "align_content": null,
            "align_items": null,
            "align_self": null,
            "border": null,
            "bottom": null,
            "display": null,
            "flex": null,
            "flex_flow": null,
            "grid_area": null,
            "grid_auto_columns": null,
            "grid_auto_flow": null,
            "grid_auto_rows": null,
            "grid_column": null,
            "grid_gap": null,
            "grid_row": null,
            "grid_template_areas": null,
            "grid_template_columns": null,
            "grid_template_rows": null,
            "height": null,
            "justify_content": null,
            "justify_items": null,
            "left": null,
            "margin": null,
            "max_height": null,
            "max_width": null,
            "min_height": null,
            "min_width": null,
            "object_fit": null,
            "object_position": null,
            "order": null,
            "overflow": null,
            "overflow_x": null,
            "overflow_y": null,
            "padding": null,
            "right": null,
            "top": null,
            "visibility": null,
            "width": null
          }
        },
        "09e2438eee6444eeab5030dafdde130f": {
          "model_module": "@jupyter-widgets/controls",
          "model_name": "ButtonModel",
          "model_module_version": "1.5.0",
          "state": {
            "_dom_classes": [],
            "_model_module": "@jupyter-widgets/controls",
            "_model_module_version": "1.5.0",
            "_model_name": "ButtonModel",
            "_view_count": null,
            "_view_module": "@jupyter-widgets/controls",
            "_view_module_version": "1.5.0",
            "_view_name": "ButtonView",
            "button_style": "",
            "description": "O",
            "disabled": true,
            "icon": "",
            "layout": "IPY_MODEL_18e81ca2976646648cacc6c53b7f0704",
            "style": "IPY_MODEL_be8e880baa0a44be9a4831c773a1d216",
            "tooltip": ""
          }
        },
        "aac0e6934d594db9b5ab9c3500f401d4": {
          "model_module": "@jupyter-widgets/controls",
          "model_name": "ButtonModel",
          "model_module_version": "1.5.0",
          "state": {
            "_dom_classes": [],
            "_model_module": "@jupyter-widgets/controls",
            "_model_module_version": "1.5.0",
            "_model_name": "ButtonModel",
            "_view_count": null,
            "_view_module": "@jupyter-widgets/controls",
            "_view_module_version": "1.5.0",
            "_view_name": "ButtonView",
            "button_style": "",
            "description": "X",
            "disabled": true,
            "icon": "",
            "layout": "IPY_MODEL_e90df703d97343e698c7ea35719c72c3",
            "style": "IPY_MODEL_389979c85197477ca23db1e933df8f7a",
            "tooltip": ""
          }
        },
        "c82cc03a74f245c49810e2159d03da63": {
          "model_module": "@jupyter-widgets/controls",
          "model_name": "ButtonModel",
          "model_module_version": "1.5.0",
          "state": {
            "_dom_classes": [],
            "_model_module": "@jupyter-widgets/controls",
            "_model_module_version": "1.5.0",
            "_model_name": "ButtonModel",
            "_view_count": null,
            "_view_module": "@jupyter-widgets/controls",
            "_view_module_version": "1.5.0",
            "_view_name": "ButtonView",
            "button_style": "",
            "description": "O",
            "disabled": true,
            "icon": "",
            "layout": "IPY_MODEL_d4c29341a2e8476aad7d389cadc38456",
            "style": "IPY_MODEL_20156a83f92b431e8002a87648a7dd2f",
            "tooltip": ""
          }
        },
        "a839bd47bb2f477e902a5095f8424a17": {
          "model_module": "@jupyter-widgets/base",
          "model_name": "LayoutModel",
          "model_module_version": "1.2.0",
          "state": {
            "_model_module": "@jupyter-widgets/base",
            "_model_module_version": "1.2.0",
            "_model_name": "LayoutModel",
            "_view_count": null,
            "_view_module": "@jupyter-widgets/base",
            "_view_module_version": "1.2.0",
            "_view_name": "LayoutView",
            "align_content": null,
            "align_items": null,
            "align_self": null,
            "border": null,
            "bottom": null,
            "display": null,
            "flex": null,
            "flex_flow": null,
            "grid_area": null,
            "grid_auto_columns": null,
            "grid_auto_flow": null,
            "grid_auto_rows": null,
            "grid_column": null,
            "grid_gap": null,
            "grid_row": null,
            "grid_template_areas": null,
            "grid_template_columns": null,
            "grid_template_rows": null,
            "height": null,
            "justify_content": null,
            "justify_items": null,
            "left": null,
            "margin": null,
            "max_height": null,
            "max_width": null,
            "min_height": null,
            "min_width": null,
            "object_fit": null,
            "object_position": null,
            "order": null,
            "overflow": null,
            "overflow_x": null,
            "overflow_y": null,
            "padding": null,
            "right": null,
            "top": null,
            "visibility": null,
            "width": null
          }
        },
        "cd11a1a2263e484eb2b6abcabaf4ff04": {
          "model_module": "@jupyter-widgets/controls",
          "model_name": "ButtonModel",
          "model_module_version": "1.5.0",
          "state": {
            "_dom_classes": [],
            "_model_module": "@jupyter-widgets/controls",
            "_model_module_version": "1.5.0",
            "_model_name": "ButtonModel",
            "_view_count": null,
            "_view_module": "@jupyter-widgets/controls",
            "_view_module_version": "1.5.0",
            "_view_name": "ButtonView",
            "button_style": "",
            "description": "X",
            "disabled": true,
            "icon": "",
            "layout": "IPY_MODEL_e90e42778c3c4d0db7d016ee3ef87121",
            "style": "IPY_MODEL_df0b128fd2cd4dc6bb75156f22d779c0",
            "tooltip": ""
          }
        },
        "97de8c2ba5f24240b495f5c4541b2694": {
          "model_module": "@jupyter-widgets/controls",
          "model_name": "ButtonModel",
          "model_module_version": "1.5.0",
          "state": {
            "_dom_classes": [],
            "_model_module": "@jupyter-widgets/controls",
            "_model_module_version": "1.5.0",
            "_model_name": "ButtonModel",
            "_view_count": null,
            "_view_module": "@jupyter-widgets/controls",
            "_view_module_version": "1.5.0",
            "_view_name": "ButtonView",
            "button_style": "",
            "description": " ",
            "disabled": true,
            "icon": "",
            "layout": "IPY_MODEL_1b2f6a78234a4e9b8aecdb7477a16f72",
            "style": "IPY_MODEL_12fc10192afd421988bc2624bb912984",
            "tooltip": ""
          }
        },
        "5aa51b0c6acb424a9e15d358a1fc181e": {
          "model_module": "@jupyter-widgets/controls",
          "model_name": "ButtonModel",
          "model_module_version": "1.5.0",
          "state": {
            "_dom_classes": [],
            "_model_module": "@jupyter-widgets/controls",
            "_model_module_version": "1.5.0",
            "_model_name": "ButtonModel",
            "_view_count": null,
            "_view_module": "@jupyter-widgets/controls",
            "_view_module_version": "1.5.0",
            "_view_name": "ButtonView",
            "button_style": "",
            "description": " ",
            "disabled": true,
            "icon": "",
            "layout": "IPY_MODEL_706a84f2d79045ebb257e673f82f8d9c",
            "style": "IPY_MODEL_a5c45a0e49d54a9a860c9d52a2175a0e",
            "tooltip": ""
          }
        },
        "1376e4a8c274439095c7b5961ec55e2f": {
          "model_module": "@jupyter-widgets/base",
          "model_name": "LayoutModel",
          "model_module_version": "1.2.0",
          "state": {
            "_model_module": "@jupyter-widgets/base",
            "_model_module_version": "1.2.0",
            "_model_name": "LayoutModel",
            "_view_count": null,
            "_view_module": "@jupyter-widgets/base",
            "_view_module_version": "1.2.0",
            "_view_name": "LayoutView",
            "align_content": null,
            "align_items": null,
            "align_self": null,
            "border": null,
            "bottom": null,
            "display": null,
            "flex": null,
            "flex_flow": null,
            "grid_area": null,
            "grid_auto_columns": null,
            "grid_auto_flow": null,
            "grid_auto_rows": null,
            "grid_column": null,
            "grid_gap": null,
            "grid_row": null,
            "grid_template_areas": null,
            "grid_template_columns": null,
            "grid_template_rows": null,
            "height": null,
            "justify_content": null,
            "justify_items": null,
            "left": null,
            "margin": null,
            "max_height": null,
            "max_width": null,
            "min_height": null,
            "min_width": null,
            "object_fit": null,
            "object_position": null,
            "order": null,
            "overflow": null,
            "overflow_x": null,
            "overflow_y": null,
            "padding": null,
            "right": null,
            "top": null,
            "visibility": null,
            "width": null
          }
        },
        "61509bc5d08f42bdbdf9db2aa78a5d75": {
          "model_module": "@jupyter-widgets/base",
          "model_name": "LayoutModel",
          "model_module_version": "1.2.0",
          "state": {
            "_model_module": "@jupyter-widgets/base",
            "_model_module_version": "1.2.0",
            "_model_name": "LayoutModel",
            "_view_count": null,
            "_view_module": "@jupyter-widgets/base",
            "_view_module_version": "1.2.0",
            "_view_name": "LayoutView",
            "align_content": null,
            "align_items": null,
            "align_self": null,
            "border": null,
            "bottom": null,
            "display": null,
            "flex": null,
            "flex_flow": null,
            "grid_area": null,
            "grid_auto_columns": null,
            "grid_auto_flow": null,
            "grid_auto_rows": null,
            "grid_column": null,
            "grid_gap": null,
            "grid_row": null,
            "grid_template_areas": null,
            "grid_template_columns": null,
            "grid_template_rows": null,
            "height": "50px",
            "justify_content": null,
            "justify_items": null,
            "left": null,
            "margin": null,
            "max_height": null,
            "max_width": null,
            "min_height": null,
            "min_width": null,
            "object_fit": null,
            "object_position": null,
            "order": null,
            "overflow": null,
            "overflow_x": null,
            "overflow_y": null,
            "padding": null,
            "right": null,
            "top": null,
            "visibility": null,
            "width": "50px"
          }
        },
        "3805691548b64c23ab54879142f2f382": {
          "model_module": "@jupyter-widgets/controls",
          "model_name": "ButtonStyleModel",
          "model_module_version": "1.5.0",
          "state": {
            "_model_module": "@jupyter-widgets/controls",
            "_model_module_version": "1.5.0",
            "_model_name": "ButtonStyleModel",
            "_view_count": null,
            "_view_module": "@jupyter-widgets/base",
            "_view_module_version": "1.2.0",
            "_view_name": "StyleView",
            "button_color": null,
            "font_weight": ""
          }
        },
        "fec86373a2bb40babb8d94e73e304e5f": {
          "model_module": "@jupyter-widgets/base",
          "model_name": "LayoutModel",
          "model_module_version": "1.2.0",
          "state": {
            "_model_module": "@jupyter-widgets/base",
            "_model_module_version": "1.2.0",
            "_model_name": "LayoutModel",
            "_view_count": null,
            "_view_module": "@jupyter-widgets/base",
            "_view_module_version": "1.2.0",
            "_view_name": "LayoutView",
            "align_content": null,
            "align_items": null,
            "align_self": null,
            "border": null,
            "bottom": null,
            "display": null,
            "flex": null,
            "flex_flow": null,
            "grid_area": null,
            "grid_auto_columns": null,
            "grid_auto_flow": null,
            "grid_auto_rows": null,
            "grid_column": null,
            "grid_gap": null,
            "grid_row": null,
            "grid_template_areas": null,
            "grid_template_columns": null,
            "grid_template_rows": null,
            "height": "50px",
            "justify_content": null,
            "justify_items": null,
            "left": null,
            "margin": null,
            "max_height": null,
            "max_width": null,
            "min_height": null,
            "min_width": null,
            "object_fit": null,
            "object_position": null,
            "order": null,
            "overflow": null,
            "overflow_x": null,
            "overflow_y": null,
            "padding": null,
            "right": null,
            "top": null,
            "visibility": null,
            "width": "50px"
          }
        },
        "c644191f42e746f4b3a981f62e648b7b": {
          "model_module": "@jupyter-widgets/controls",
          "model_name": "ButtonStyleModel",
          "model_module_version": "1.5.0",
          "state": {
            "_model_module": "@jupyter-widgets/controls",
            "_model_module_version": "1.5.0",
            "_model_name": "ButtonStyleModel",
            "_view_count": null,
            "_view_module": "@jupyter-widgets/base",
            "_view_module_version": "1.2.0",
            "_view_name": "StyleView",
            "button_color": null,
            "font_weight": ""
          }
        },
        "b6ac0ab770fd44928bf3ca8a8742c33d": {
          "model_module": "@jupyter-widgets/base",
          "model_name": "LayoutModel",
          "model_module_version": "1.2.0",
          "state": {
            "_model_module": "@jupyter-widgets/base",
            "_model_module_version": "1.2.0",
            "_model_name": "LayoutModel",
            "_view_count": null,
            "_view_module": "@jupyter-widgets/base",
            "_view_module_version": "1.2.0",
            "_view_name": "LayoutView",
            "align_content": null,
            "align_items": null,
            "align_self": null,
            "border": null,
            "bottom": null,
            "display": null,
            "flex": null,
            "flex_flow": null,
            "grid_area": null,
            "grid_auto_columns": null,
            "grid_auto_flow": null,
            "grid_auto_rows": null,
            "grid_column": null,
            "grid_gap": null,
            "grid_row": null,
            "grid_template_areas": null,
            "grid_template_columns": null,
            "grid_template_rows": null,
            "height": "50px",
            "justify_content": null,
            "justify_items": null,
            "left": null,
            "margin": null,
            "max_height": null,
            "max_width": null,
            "min_height": null,
            "min_width": null,
            "object_fit": null,
            "object_position": null,
            "order": null,
            "overflow": null,
            "overflow_x": null,
            "overflow_y": null,
            "padding": null,
            "right": null,
            "top": null,
            "visibility": null,
            "width": "50px"
          }
        },
        "daf1b40974ae43d291f8b74c80a47149": {
          "model_module": "@jupyter-widgets/controls",
          "model_name": "ButtonStyleModel",
          "model_module_version": "1.5.0",
          "state": {
            "_model_module": "@jupyter-widgets/controls",
            "_model_module_version": "1.5.0",
            "_model_name": "ButtonStyleModel",
            "_view_count": null,
            "_view_module": "@jupyter-widgets/base",
            "_view_module_version": "1.2.0",
            "_view_name": "StyleView",
            "button_color": null,
            "font_weight": ""
          }
        },
        "18e81ca2976646648cacc6c53b7f0704": {
          "model_module": "@jupyter-widgets/base",
          "model_name": "LayoutModel",
          "model_module_version": "1.2.0",
          "state": {
            "_model_module": "@jupyter-widgets/base",
            "_model_module_version": "1.2.0",
            "_model_name": "LayoutModel",
            "_view_count": null,
            "_view_module": "@jupyter-widgets/base",
            "_view_module_version": "1.2.0",
            "_view_name": "LayoutView",
            "align_content": null,
            "align_items": null,
            "align_self": null,
            "border": null,
            "bottom": null,
            "display": null,
            "flex": null,
            "flex_flow": null,
            "grid_area": null,
            "grid_auto_columns": null,
            "grid_auto_flow": null,
            "grid_auto_rows": null,
            "grid_column": null,
            "grid_gap": null,
            "grid_row": null,
            "grid_template_areas": null,
            "grid_template_columns": null,
            "grid_template_rows": null,
            "height": "50px",
            "justify_content": null,
            "justify_items": null,
            "left": null,
            "margin": null,
            "max_height": null,
            "max_width": null,
            "min_height": null,
            "min_width": null,
            "object_fit": null,
            "object_position": null,
            "order": null,
            "overflow": null,
            "overflow_x": null,
            "overflow_y": null,
            "padding": null,
            "right": null,
            "top": null,
            "visibility": null,
            "width": "50px"
          }
        },
        "be8e880baa0a44be9a4831c773a1d216": {
          "model_module": "@jupyter-widgets/controls",
          "model_name": "ButtonStyleModel",
          "model_module_version": "1.5.0",
          "state": {
            "_model_module": "@jupyter-widgets/controls",
            "_model_module_version": "1.5.0",
            "_model_name": "ButtonStyleModel",
            "_view_count": null,
            "_view_module": "@jupyter-widgets/base",
            "_view_module_version": "1.2.0",
            "_view_name": "StyleView",
            "button_color": null,
            "font_weight": ""
          }
        },
        "e90df703d97343e698c7ea35719c72c3": {
          "model_module": "@jupyter-widgets/base",
          "model_name": "LayoutModel",
          "model_module_version": "1.2.0",
          "state": {
            "_model_module": "@jupyter-widgets/base",
            "_model_module_version": "1.2.0",
            "_model_name": "LayoutModel",
            "_view_count": null,
            "_view_module": "@jupyter-widgets/base",
            "_view_module_version": "1.2.0",
            "_view_name": "LayoutView",
            "align_content": null,
            "align_items": null,
            "align_self": null,
            "border": null,
            "bottom": null,
            "display": null,
            "flex": null,
            "flex_flow": null,
            "grid_area": null,
            "grid_auto_columns": null,
            "grid_auto_flow": null,
            "grid_auto_rows": null,
            "grid_column": null,
            "grid_gap": null,
            "grid_row": null,
            "grid_template_areas": null,
            "grid_template_columns": null,
            "grid_template_rows": null,
            "height": "50px",
            "justify_content": null,
            "justify_items": null,
            "left": null,
            "margin": null,
            "max_height": null,
            "max_width": null,
            "min_height": null,
            "min_width": null,
            "object_fit": null,
            "object_position": null,
            "order": null,
            "overflow": null,
            "overflow_x": null,
            "overflow_y": null,
            "padding": null,
            "right": null,
            "top": null,
            "visibility": null,
            "width": "50px"
          }
        },
        "389979c85197477ca23db1e933df8f7a": {
          "model_module": "@jupyter-widgets/controls",
          "model_name": "ButtonStyleModel",
          "model_module_version": "1.5.0",
          "state": {
            "_model_module": "@jupyter-widgets/controls",
            "_model_module_version": "1.5.0",
            "_model_name": "ButtonStyleModel",
            "_view_count": null,
            "_view_module": "@jupyter-widgets/base",
            "_view_module_version": "1.2.0",
            "_view_name": "StyleView",
            "button_color": null,
            "font_weight": ""
          }
        },
        "d4c29341a2e8476aad7d389cadc38456": {
          "model_module": "@jupyter-widgets/base",
          "model_name": "LayoutModel",
          "model_module_version": "1.2.0",
          "state": {
            "_model_module": "@jupyter-widgets/base",
            "_model_module_version": "1.2.0",
            "_model_name": "LayoutModel",
            "_view_count": null,
            "_view_module": "@jupyter-widgets/base",
            "_view_module_version": "1.2.0",
            "_view_name": "LayoutView",
            "align_content": null,
            "align_items": null,
            "align_self": null,
            "border": null,
            "bottom": null,
            "display": null,
            "flex": null,
            "flex_flow": null,
            "grid_area": null,
            "grid_auto_columns": null,
            "grid_auto_flow": null,
            "grid_auto_rows": null,
            "grid_column": null,
            "grid_gap": null,
            "grid_row": null,
            "grid_template_areas": null,
            "grid_template_columns": null,
            "grid_template_rows": null,
            "height": "50px",
            "justify_content": null,
            "justify_items": null,
            "left": null,
            "margin": null,
            "max_height": null,
            "max_width": null,
            "min_height": null,
            "min_width": null,
            "object_fit": null,
            "object_position": null,
            "order": null,
            "overflow": null,
            "overflow_x": null,
            "overflow_y": null,
            "padding": null,
            "right": null,
            "top": null,
            "visibility": null,
            "width": "50px"
          }
        },
        "20156a83f92b431e8002a87648a7dd2f": {
          "model_module": "@jupyter-widgets/controls",
          "model_name": "ButtonStyleModel",
          "model_module_version": "1.5.0",
          "state": {
            "_model_module": "@jupyter-widgets/controls",
            "_model_module_version": "1.5.0",
            "_model_name": "ButtonStyleModel",
            "_view_count": null,
            "_view_module": "@jupyter-widgets/base",
            "_view_module_version": "1.2.0",
            "_view_name": "StyleView",
            "button_color": null,
            "font_weight": ""
          }
        },
        "e90e42778c3c4d0db7d016ee3ef87121": {
          "model_module": "@jupyter-widgets/base",
          "model_name": "LayoutModel",
          "model_module_version": "1.2.0",
          "state": {
            "_model_module": "@jupyter-widgets/base",
            "_model_module_version": "1.2.0",
            "_model_name": "LayoutModel",
            "_view_count": null,
            "_view_module": "@jupyter-widgets/base",
            "_view_module_version": "1.2.0",
            "_view_name": "LayoutView",
            "align_content": null,
            "align_items": null,
            "align_self": null,
            "border": null,
            "bottom": null,
            "display": null,
            "flex": null,
            "flex_flow": null,
            "grid_area": null,
            "grid_auto_columns": null,
            "grid_auto_flow": null,
            "grid_auto_rows": null,
            "grid_column": null,
            "grid_gap": null,
            "grid_row": null,
            "grid_template_areas": null,
            "grid_template_columns": null,
            "grid_template_rows": null,
            "height": "50px",
            "justify_content": null,
            "justify_items": null,
            "left": null,
            "margin": null,
            "max_height": null,
            "max_width": null,
            "min_height": null,
            "min_width": null,
            "object_fit": null,
            "object_position": null,
            "order": null,
            "overflow": null,
            "overflow_x": null,
            "overflow_y": null,
            "padding": null,
            "right": null,
            "top": null,
            "visibility": null,
            "width": "50px"
          }
        },
        "df0b128fd2cd4dc6bb75156f22d779c0": {
          "model_module": "@jupyter-widgets/controls",
          "model_name": "ButtonStyleModel",
          "model_module_version": "1.5.0",
          "state": {
            "_model_module": "@jupyter-widgets/controls",
            "_model_module_version": "1.5.0",
            "_model_name": "ButtonStyleModel",
            "_view_count": null,
            "_view_module": "@jupyter-widgets/base",
            "_view_module_version": "1.2.0",
            "_view_name": "StyleView",
            "button_color": null,
            "font_weight": ""
          }
        },
        "1b2f6a78234a4e9b8aecdb7477a16f72": {
          "model_module": "@jupyter-widgets/base",
          "model_name": "LayoutModel",
          "model_module_version": "1.2.0",
          "state": {
            "_model_module": "@jupyter-widgets/base",
            "_model_module_version": "1.2.0",
            "_model_name": "LayoutModel",
            "_view_count": null,
            "_view_module": "@jupyter-widgets/base",
            "_view_module_version": "1.2.0",
            "_view_name": "LayoutView",
            "align_content": null,
            "align_items": null,
            "align_self": null,
            "border": null,
            "bottom": null,
            "display": null,
            "flex": null,
            "flex_flow": null,
            "grid_area": null,
            "grid_auto_columns": null,
            "grid_auto_flow": null,
            "grid_auto_rows": null,
            "grid_column": null,
            "grid_gap": null,
            "grid_row": null,
            "grid_template_areas": null,
            "grid_template_columns": null,
            "grid_template_rows": null,
            "height": "50px",
            "justify_content": null,
            "justify_items": null,
            "left": null,
            "margin": null,
            "max_height": null,
            "max_width": null,
            "min_height": null,
            "min_width": null,
            "object_fit": null,
            "object_position": null,
            "order": null,
            "overflow": null,
            "overflow_x": null,
            "overflow_y": null,
            "padding": null,
            "right": null,
            "top": null,
            "visibility": null,
            "width": "50px"
          }
        },
        "12fc10192afd421988bc2624bb912984": {
          "model_module": "@jupyter-widgets/controls",
          "model_name": "ButtonStyleModel",
          "model_module_version": "1.5.0",
          "state": {
            "_model_module": "@jupyter-widgets/controls",
            "_model_module_version": "1.5.0",
            "_model_name": "ButtonStyleModel",
            "_view_count": null,
            "_view_module": "@jupyter-widgets/base",
            "_view_module_version": "1.2.0",
            "_view_name": "StyleView",
            "button_color": null,
            "font_weight": ""
          }
        },
        "706a84f2d79045ebb257e673f82f8d9c": {
          "model_module": "@jupyter-widgets/base",
          "model_name": "LayoutModel",
          "model_module_version": "1.2.0",
          "state": {
            "_model_module": "@jupyter-widgets/base",
            "_model_module_version": "1.2.0",
            "_model_name": "LayoutModel",
            "_view_count": null,
            "_view_module": "@jupyter-widgets/base",
            "_view_module_version": "1.2.0",
            "_view_name": "LayoutView",
            "align_content": null,
            "align_items": null,
            "align_self": null,
            "border": null,
            "bottom": null,
            "display": null,
            "flex": null,
            "flex_flow": null,
            "grid_area": null,
            "grid_auto_columns": null,
            "grid_auto_flow": null,
            "grid_auto_rows": null,
            "grid_column": null,
            "grid_gap": null,
            "grid_row": null,
            "grid_template_areas": null,
            "grid_template_columns": null,
            "grid_template_rows": null,
            "height": "50px",
            "justify_content": null,
            "justify_items": null,
            "left": null,
            "margin": null,
            "max_height": null,
            "max_width": null,
            "min_height": null,
            "min_width": null,
            "object_fit": null,
            "object_position": null,
            "order": null,
            "overflow": null,
            "overflow_x": null,
            "overflow_y": null,
            "padding": null,
            "right": null,
            "top": null,
            "visibility": null,
            "width": "50px"
          }
        },
        "a5c45a0e49d54a9a860c9d52a2175a0e": {
          "model_module": "@jupyter-widgets/controls",
          "model_name": "ButtonStyleModel",
          "model_module_version": "1.5.0",
          "state": {
            "_model_module": "@jupyter-widgets/controls",
            "_model_module_version": "1.5.0",
            "_model_name": "ButtonStyleModel",
            "_view_count": null,
            "_view_module": "@jupyter-widgets/base",
            "_view_module_version": "1.2.0",
            "_view_name": "StyleView",
            "button_color": null,
            "font_weight": ""
          }
        },
        "15fe6c13ab5d484e8b5bc23b6947ad6b": {
          "model_module": "@jupyter-widgets/base",
          "model_name": "LayoutModel",
          "model_module_version": "1.2.0",
          "state": {
            "_model_module": "@jupyter-widgets/base",
            "_model_module_version": "1.2.0",
            "_model_name": "LayoutModel",
            "_view_count": null,
            "_view_module": "@jupyter-widgets/base",
            "_view_module_version": "1.2.0",
            "_view_name": "LayoutView",
            "align_content": null,
            "align_items": null,
            "align_self": null,
            "border": null,
            "bottom": null,
            "display": null,
            "flex": null,
            "flex_flow": null,
            "grid_area": null,
            "grid_auto_columns": null,
            "grid_auto_flow": null,
            "grid_auto_rows": null,
            "grid_column": null,
            "grid_gap": null,
            "grid_row": null,
            "grid_template_areas": null,
            "grid_template_columns": null,
            "grid_template_rows": null,
            "height": null,
            "justify_content": null,
            "justify_items": null,
            "left": null,
            "margin": null,
            "max_height": null,
            "max_width": null,
            "min_height": null,
            "min_width": null,
            "object_fit": null,
            "object_position": null,
            "order": null,
            "overflow": null,
            "overflow_x": null,
            "overflow_y": null,
            "padding": null,
            "right": null,
            "top": null,
            "visibility": null,
            "width": null
          }
        }
      }
    }
  },
  "cells": [
    {
      "cell_type": "markdown",
      "source": [
        "# TicTacToe from Scratch"
      ],
      "metadata": {
        "id": "vqXQuuW843HT"
      }
    },
    {
      "cell_type": "markdown",
      "source": [
        "1. [Exercise 1: Drawing a blank board](#scrollTo=jhyLBXP54935)\n",
        "2. [Exercise 2: Drawing a board with a few Xs and O](#scrollTo=1qNnyw2O6LtU)\n",
        "3. [Exercise 3: Take turns playing](#scrollTo=tc7Xhp-X7NcU)\n",
        "4. [Exercise 4: Given the board array, check if anyone has won or if game is draw](#scrollTo=I-5FdX2uAAUm)\n",
        "5. [Exercise 5: Play the full game!](#scrollTo=YPpZAVE4DYtT)\n",
        "6. [Exercise 6: Bring in the GUI](#scrollTo=xa4x2PxCE4Rk)\n",
        "7. [Exercise 7: Check board using numpy](#scrollTo=BfVzS3jSIZON)\n",
        "8. [Exercise 8: Additional Exercises for Students](#scrollTo=yQdKwkFBNKXF)"
      ],
      "metadata": {
        "id": "eaWHgPOwpBEi"
      }
    },
    {
      "cell_type": "markdown",
      "source": [
        "#### Exercise 1: Drawing a blank board\n",
        "\n",
        "[Return to the top](#scrollTo=vqXQuuW843HT)"
      ],
      "metadata": {
        "id": "jhyLBXP54935"
      }
    },
    {
      "cell_type": "markdown",
      "source": [
        "Objectives: learn to use loops for drawing patterns"
      ],
      "metadata": {
        "id": "KcubuxO2LPe4"
      }
    },
    {
      "cell_type": "markdown",
      "source": [
        "We will start with learning how to create a for loop pattern in `Python`. \n",
        "\n",
        "If we want to create: \n",
        "      |  |  \n",
        "    --------\n",
        "      |  |  \n",
        "    --------\n",
        "      |  |\n",
        "\n",
        "\n",
        "We can create this by starting with a print statement:"
      ],
      "metadata": {
        "id": "F7yKilpi5WdH"
      }
    },
    {
      "cell_type": "code",
      "source": [
        "print('  |  |  ')    \n",
        "print('--------')  \n",
        "print('  |  |  ')  \n",
        "print('--------')  \n",
        "print('  |  |  ')"
      ],
      "metadata": {
        "colab": {
          "base_uri": "https://localhost:8080/"
        },
        "id": "glI5Y6Zu7Bo_",
        "outputId": "f66260c6-53a9-438a-f721-2f9b83a8faf0"
      },
      "execution_count": 1,
      "outputs": [
        {
          "output_type": "stream",
          "name": "stdout",
          "text": [
            "  |  |  \n",
            "--------\n",
            "  |  |  \n",
            "--------\n",
            "  |  |  \n"
          ]
        }
      ]
    },
    {
      "cell_type": "markdown",
      "source": [
        "Can you convert it into a for loop?"
      ],
      "metadata": {
        "id": "YmmCe8Fx7FlG"
      }
    },
    {
      "cell_type": "code",
      "source": [
        "# write down your for loop here:\n",
        "for i in range(10):\n",
        "  print(i)"
      ],
      "metadata": {
        "id": "lMkJuj3dqN6h",
        "colab": {
          "base_uri": "https://localhost:8080/"
        },
        "outputId": "20233eaa-0929-4044-8cc5-c55cc56f3187"
      },
      "execution_count": 2,
      "outputs": [
        {
          "output_type": "stream",
          "name": "stdout",
          "text": [
            "0\n",
            "1\n",
            "2\n",
            "3\n",
            "4\n",
            "5\n",
            "6\n",
            "7\n",
            "8\n",
            "9\n"
          ]
        }
      ]
    },
    {
      "cell_type": "code",
      "source": [
        "#@title -\n",
        "for i in range(5):\n",
        "  if i%2==0:\n",
        "    print('  |  |  ')\n",
        "  else:\n",
        "    print('--------')"
      ],
      "metadata": {
        "colab": {
          "base_uri": "https://localhost:8080/"
        },
        "id": "_p_B4XEL5eAw",
        "outputId": "a0bc74f0-6bb8-44c8-ad2d-d9d324453d8f"
      },
      "execution_count": 3,
      "outputs": [
        {
          "output_type": "stream",
          "name": "stdout",
          "text": [
            "  |  |  \n",
            "--------\n",
            "  |  |  \n",
            "--------\n",
            "  |  |  \n"
          ]
        }
      ]
    },
    {
      "cell_type": "markdown",
      "source": [
        "#### Exercise 2: Drawing a board with a few Xs and Os\n",
        "\n",
        "[Return to the top](#scrollTo=vqXQuuW843HT)"
      ],
      "metadata": {
        "id": "1qNnyw2O6LtU"
      }
    },
    {
      "cell_type": "markdown",
      "source": [
        "Objectives: \n",
        "<ul>\n",
        "<li> Use list of lists\n",
        "<li> Use functions\n",
        "<li> Use for loops"
      ],
      "metadata": {
        "id": "MLOOjhfWLgrG"
      }
    },
    {
      "cell_type": "markdown",
      "source": [
        "In the previous exercise, we used `print()` command for showing a code with `-----` as the divider for each row and `|` for dividing each column. \n",
        "\n",
        "Now as a game designer, we want our user to have either an `X` or an `O` as the answer. Now, can you create the `3 x 3` board:\n",
        "\n",
        "    X | O |   \n",
        "    ----------  \n",
        "    O | X |    \n",
        "    ----------  \n",
        "      |   | O   \n",
        "using list without the border in between the rows and the columns:"
      ],
      "metadata": {
        "id": "tgU0Fowr8SjD"
      }
    },
    {
      "cell_type": "code",
      "source": [
        "# write your code here\n",
        "board = []"
      ],
      "metadata": {
        "id": "FPrjJlIezv9-"
      },
      "execution_count": 4,
      "outputs": []
    },
    {
      "cell_type": "code",
      "source": [
        "#@title Board example:\n",
        "board=[['X','O',' '],['O','X',' '],[' ',' ', 'O']]"
      ],
      "metadata": {
        "id": "2tok3OXJ6Vgc"
      },
      "execution_count": 5,
      "outputs": []
    },
    {
      "cell_type": "markdown",
      "source": [
        "Now, combining the two tasks above (`for loop` and creating `board` list) we can build the board by using function:"
      ],
      "metadata": {
        "id": "IKhiLEcz84pu"
      }
    },
    {
      "cell_type": "code",
      "source": [
        "def draw_board(b):\n",
        "   print()\n",
        "   print()\n",
        "   print(' ' + b[0][0] + ' | ' + b[0][1]+ ' | ' + b[0][2])\n",
        "   print('----------')\n",
        "   print(' ' + b[1][0] + ' | ' + b[1][1] + ' | ' + b[1][2])\n",
        "   print('----------')\n",
        "   print(' ' + b[2][0] + ' | ' + b[2][1] + ' | ' + b[2][2])\n",
        "   print()\n",
        "   print()"
      ],
      "metadata": {
        "id": "LaEW3YifQ3Mx"
      },
      "execution_count": 6,
      "outputs": []
    },
    {
      "cell_type": "code",
      "source": [
        "draw_board(board)"
      ],
      "metadata": {
        "colab": {
          "base_uri": "https://localhost:8080/"
        },
        "id": "8YataBPyRF1H",
        "outputId": "becfea12-352b-4b22-d0e4-f8b5bd38a54d"
      },
      "execution_count": 7,
      "outputs": [
        {
          "output_type": "stream",
          "name": "stdout",
          "text": [
            "\n",
            "\n",
            " X | O |  \n",
            "----------\n",
            " O | X |  \n",
            "----------\n",
            "   |   | O\n",
            "\n",
            "\n"
          ]
        }
      ]
    },
    {
      "cell_type": "markdown",
      "source": [
        "There are a lot of prints above. So your next task is to rewrite it with a `for loop`:"
      ],
      "metadata": {
        "id": "2C60c_6sR_Nt"
      }
    },
    {
      "cell_type": "code",
      "source": [
        "# write your code for the for loop here:\n",
        "def draw_board(b):\n",
        "    print()"
      ],
      "metadata": {
        "id": "rqMSZ_8tqsTu"
      },
      "execution_count": 8,
      "outputs": []
    },
    {
      "cell_type": "code",
      "source": [
        "#@title - \n",
        "def draw_board(board):\n",
        "  print()\n",
        "  print()\n",
        "  for i in range(5):\n",
        "    if i%2==0:\n",
        "      j=i//2\n",
        "      print(' '+ board[j][0]+' | '+ board[j][1]+ ' | '+ board[j][2])\n",
        "    else:\n",
        "      print('------------')\n",
        "  print()\n",
        "  print()\n",
        "    "
      ],
      "metadata": {
        "id": "5yXlyFyL6hLg",
        "cellView": "form"
      },
      "execution_count": 9,
      "outputs": []
    },
    {
      "cell_type": "code",
      "source": [
        "draw_board(board)"
      ],
      "metadata": {
        "colab": {
          "base_uri": "https://localhost:8080/"
        },
        "id": "_U7tVjh7672T",
        "outputId": "c44e52f5-5951-49b8-b75a-85b778122e9c"
      },
      "execution_count": 10,
      "outputs": [
        {
          "output_type": "stream",
          "name": "stdout",
          "text": [
            "\n",
            "\n",
            " X | O |  \n",
            "------------\n",
            " O | X |  \n",
            "------------\n",
            "   |   | O\n",
            "\n",
            "\n"
          ]
        }
      ]
    },
    {
      "cell_type": "markdown",
      "source": [
        "List comprehension is a more efficient way to write a list inside a for loop. \n",
        "\n",
        "For example:"
      ],
      "metadata": {
        "id": "uHs-mbYe2Tue"
      }
    },
    {
      "cell_type": "code",
      "source": [
        "# long code\n",
        "list_one = []\n",
        "for i in range(6):\n",
        "    list_one.append(i)\n",
        "\n",
        "list_one"
      ],
      "metadata": {
        "colab": {
          "base_uri": "https://localhost:8080/"
        },
        "id": "sHWiEdqR2sFL",
        "outputId": "937f0872-220b-4aef-ea44-a163be2cc6d1"
      },
      "execution_count": 11,
      "outputs": [
        {
          "output_type": "execute_result",
          "data": {
            "text/plain": [
              "[0, 1, 2, 3, 4, 5]"
            ]
          },
          "metadata": {},
          "execution_count": 11
        }
      ]
    },
    {
      "cell_type": "markdown",
      "source": [
        "Can be shorten into:"
      ],
      "metadata": {
        "id": "hbZJoknA2vxK"
      }
    },
    {
      "cell_type": "code",
      "source": [
        "# shorter code\n",
        "list_one = [i for i in range(6)]\n",
        "list_one"
      ],
      "metadata": {
        "colab": {
          "base_uri": "https://localhost:8080/"
        },
        "id": "cJlXqKgW2-Hc",
        "outputId": "ba708157-4d81-4279-c1fc-7fcba8660574"
      },
      "execution_count": 12,
      "outputs": [
        {
          "output_type": "execute_result",
          "data": {
            "text/plain": [
              "[0, 1, 2, 3, 4, 5]"
            ]
          },
          "metadata": {},
          "execution_count": 12
        }
      ]
    },
    {
      "cell_type": "markdown",
      "source": [
        "Here is an example of a list of lists: "
      ],
      "metadata": {
        "id": "kBBX9l1KSX47"
      }
    },
    {
      "cell_type": "code",
      "source": [
        "list_of_lists = []\n",
        "for i in range(3):\n",
        "    for j in range(3):\n",
        "        list_of_lists.append([i, j])\n",
        "list_of_lists"
      ],
      "metadata": {
        "colab": {
          "base_uri": "https://localhost:8080/"
        },
        "id": "GBVNAsl32Mej",
        "outputId": "bcb9ee43-ff97-4c9d-f790-7e75e9bc0037"
      },
      "execution_count": 13,
      "outputs": [
        {
          "output_type": "execute_result",
          "data": {
            "text/plain": [
              "[[0, 0], [0, 1], [0, 2], [1, 0], [1, 1], [1, 2], [2, 0], [2, 1], [2, 2]]"
            ]
          },
          "metadata": {},
          "execution_count": 13
        }
      ]
    },
    {
      "cell_type": "markdown",
      "source": [
        "Can you rewrite the code above into a list comprehension:"
      ],
      "metadata": {
        "id": "jLOVbRkX76DK"
      }
    },
    {
      "cell_type": "code",
      "source": [
        "# write your code here:\n",
        "list_of_lists = []\n",
        "list_of_lists"
      ],
      "metadata": {
        "colab": {
          "base_uri": "https://localhost:8080/"
        },
        "id": "0vsusklt71A3",
        "outputId": "768e34a9-7fe5-475b-99c5-f09a5a9de1c0"
      },
      "execution_count": 14,
      "outputs": [
        {
          "output_type": "execute_result",
          "data": {
            "text/plain": [
              "[]"
            ]
          },
          "metadata": {},
          "execution_count": 14
        }
      ]
    },
    {
      "cell_type": "markdown",
      "source": [
        "To set us up for `Exercise 3`, can you write a list comprehension to build:"
      ],
      "metadata": {
        "id": "RBHEF5zcFcYV"
      }
    },
    {
      "cell_type": "code",
      "source": [
        "board_list_of_lists = [['', '', ''], ['', '', ''], ['', '', '']]\n",
        "board_list_of_lists"
      ],
      "metadata": {
        "colab": {
          "base_uri": "https://localhost:8080/"
        },
        "id": "P6efHfctFgko",
        "outputId": "560f8c27-5e63-43d3-ca18-1e407fc6a620"
      },
      "execution_count": 15,
      "outputs": [
        {
          "output_type": "execute_result",
          "data": {
            "text/plain": [
              "[['', '', ''], ['', '', ''], ['', '', '']]"
            ]
          },
          "metadata": {},
          "execution_count": 15
        }
      ]
    },
    {
      "cell_type": "code",
      "source": [
        "# write your code here \n",
        "list_example = []\n",
        "list_example"
      ],
      "metadata": {
        "colab": {
          "base_uri": "https://localhost:8080/"
        },
        "id": "O_Yfu_zWFqmY",
        "outputId": "c1817abe-3da4-446f-b4e0-c225d6a2aabf"
      },
      "execution_count": 16,
      "outputs": [
        {
          "output_type": "execute_result",
          "data": {
            "text/plain": [
              "[]"
            ]
          },
          "metadata": {},
          "execution_count": 16
        }
      ]
    },
    {
      "cell_type": "markdown",
      "source": [
        "#### Exercise 3: Take turns playing\n",
        "\n",
        "[Return to the top](#scrollTo=vqXQuuW843HT)\n",
        "\n"
      ],
      "metadata": {
        "id": "tc7Xhp-X7NcU"
      }
    },
    {
      "cell_type": "markdown",
      "source": [
        "Objectives: \n",
        "<ul>\n",
        "<li> Obtain user input\n",
        "<li> Use functions\n",
        "<li> Use for loops\n",
        "<li> Use the assert function"
      ],
      "metadata": {
        "id": "UwrvlE28LsMG"
      }
    },
    {
      "cell_type": "markdown",
      "source": [
        "To simplify things, let us assume that 'X' goes first. Let us not worry about the rules for now."
      ],
      "metadata": {
        "id": "vZhXE-XH8foi"
      }
    },
    {
      "cell_type": "code",
      "source": [
        "board=[[' ' for i in range(3)] for j in range(3)]\n",
        "for i in range(9):\n",
        "  player= 'X' if i%2==0 else 'O'\n",
        "\n",
        "  row=int(input(f'Player {player}, Enter row (0-2):'))\n",
        "  assert row<3,'Value should be between 0 and 2'\n",
        "  col=int(input(f'Player {player}, Enter column (0-2):'))\n",
        "  assert col<3,'Value should be between 0 and 2'\n",
        "\n",
        "  assert board[row][col]==' ','Cell already filled'\n",
        "  board[row][col]=player\n",
        "  \n",
        "  draw_board(board)"
      ],
      "metadata": {
        "colab": {
          "base_uri": "https://localhost:8080/"
        },
        "id": "6a9z75Mo70P-",
        "outputId": "e8f9031a-1752-4e6b-8267-c9f187397f16"
      },
      "execution_count": 17,
      "outputs": [
        {
          "output_type": "stream",
          "name": "stdout",
          "text": [
            "Player X, Enter row (0-2):1\n",
            "Player X, Enter column (0-2):1\n",
            "\n",
            "\n",
            "   |   |  \n",
            "------------\n",
            "   | X |  \n",
            "------------\n",
            "   |   |  \n",
            "\n",
            "\n",
            "Player O, Enter row (0-2):1\n",
            "Player O, Enter column (0-2):2\n",
            "\n",
            "\n",
            "   |   |  \n",
            "------------\n",
            "   | X | O\n",
            "------------\n",
            "   |   |  \n",
            "\n",
            "\n",
            "Player X, Enter row (0-2):0\n",
            "Player X, Enter column (0-2):0\n",
            "\n",
            "\n",
            " X |   |  \n",
            "------------\n",
            "   | X | O\n",
            "------------\n",
            "   |   |  \n",
            "\n",
            "\n",
            "Player O, Enter row (0-2):2\n",
            "Player O, Enter column (0-2):2\n",
            "\n",
            "\n",
            " X |   |  \n",
            "------------\n",
            "   | X | O\n",
            "------------\n",
            "   |   | O\n",
            "\n",
            "\n",
            "Player X, Enter row (0-2):0\n",
            "Player X, Enter column (0-2):2\n",
            "\n",
            "\n",
            " X |   | X\n",
            "------------\n",
            "   | X | O\n",
            "------------\n",
            "   |   | O\n",
            "\n",
            "\n",
            "Player O, Enter row (0-2):2\n",
            "Player O, Enter column (0-2):1\n",
            "\n",
            "\n",
            " X |   | X\n",
            "------------\n",
            "   | X | O\n",
            "------------\n",
            "   | O | O\n",
            "\n",
            "\n",
            "Player X, Enter row (0-2):2\n",
            "Player X, Enter column (0-2):0\n",
            "\n",
            "\n",
            " X |   | X\n",
            "------------\n",
            "   | X | O\n",
            "------------\n",
            " X | O | O\n",
            "\n",
            "\n",
            "Player O, Enter row (0-2):1\n",
            "Player O, Enter column (0-2):0\n",
            "\n",
            "\n",
            " X |   | X\n",
            "------------\n",
            " O | X | O\n",
            "------------\n",
            " X | O | O\n",
            "\n",
            "\n",
            "Player X, Enter row (0-2):0\n",
            "Player X, Enter column (0-2):1\n",
            "\n",
            "\n",
            " X | X | X\n",
            "------------\n",
            " O | X | O\n",
            "------------\n",
            " X | O | O\n",
            "\n",
            "\n"
          ]
        }
      ]
    },
    {
      "cell_type": "markdown",
      "source": [
        "#### Exercise 4: Given the board array, check if anyone has won or if game is draw\n",
        "\n",
        "[Return to the top](#scrollTo=vqXQuuW843HT)"
      ],
      "metadata": {
        "id": "I-5FdX2uAAUm"
      }
    },
    {
      "cell_type": "markdown",
      "source": [
        "Objectives: \n",
        "<ul>\n",
        "<li> Use functions\n",
        "<li> Use of if operators"
      ],
      "metadata": {
        "id": "xUPDWgOcL5CR"
      }
    },
    {
      "cell_type": "code",
      "source": [
        "board=[['X','O','X'],['O','X','X'],['X','X', 'O']]"
      ],
      "metadata": {
        "id": "PKY2HT6J9a8V"
      },
      "execution_count": 18,
      "outputs": []
    },
    {
      "cell_type": "code",
      "source": [
        "draw_board(board)"
      ],
      "metadata": {
        "colab": {
          "base_uri": "https://localhost:8080/"
        },
        "id": "Mcjx-_oSC9rD",
        "outputId": "3012f269-b445-4441-c744-2e22abb3ac74"
      },
      "execution_count": 19,
      "outputs": [
        {
          "output_type": "stream",
          "name": "stdout",
          "text": [
            "\n",
            "\n",
            " X | O | X\n",
            "------------\n",
            " O | X | X\n",
            "------------\n",
            " X | X | O\n",
            "\n",
            "\n"
          ]
        }
      ]
    },
    {
      "cell_type": "code",
      "source": [
        "def checkBoard(board,player):\n",
        "  return (board[2][0] == player and board[2][1] == player and board[2][2] == player) or \\\n",
        "         (board[1][0] == player and board[1][1] == player and board[1][2] == player) or \\\n",
        "         (board[0][0] == player and board[0][1] == player and board[0][2] == player) or \\\n",
        "         (board[0][0] == player and board[1][0] == player and board[2][0] == player) or \\\n",
        "         (board[0][1] == player and board[1][1] == player and board[2][1] == player) or \\\n",
        "         (board[0][2] == player and board[1][2] == player and board[2][2] == player) or \\\n",
        "         (board[0][0] == player and board[1][1] == player and board[2][2] == player) or \\\n",
        "         (board[0][2] == player and board[1][1] == player and board[2][0] == player)"
      ],
      "metadata": {
        "id": "-rh5KwIj9dZg"
      },
      "execution_count": 20,
      "outputs": []
    },
    {
      "cell_type": "code",
      "source": [
        "checkBoard(board,'X')"
      ],
      "metadata": {
        "colab": {
          "base_uri": "https://localhost:8080/"
        },
        "id": "Cyp8I8T3C6sS",
        "outputId": "6edd1178-64ee-40a1-a30d-21904456e3fc"
      },
      "execution_count": 21,
      "outputs": [
        {
          "output_type": "execute_result",
          "data": {
            "text/plain": [
              "True"
            ]
          },
          "metadata": {},
          "execution_count": 21
        }
      ]
    },
    {
      "cell_type": "markdown",
      "source": [
        "#### Exercise 5: Play the full game!\n",
        "\n",
        "[Return to the top](#scrollTo=vqXQuuW843HT)"
      ],
      "metadata": {
        "id": "YPpZAVE4DYtT"
      }
    },
    {
      "cell_type": "markdown",
      "source": [
        "Objectives: \n",
        "<ul>\n",
        "<li> Use functions\n",
        "<li> Use of if operators"
      ],
      "metadata": {
        "id": "ziMHacqlMERk"
      }
    },
    {
      "cell_type": "code",
      "source": [
        "board=[[' ' for i in range(3)] for j in range(3)]\n",
        "win=False\n",
        "for i in range(9):\n",
        "  player= 'X' if i%2==0 else 'O'\n",
        "\n",
        "  row=int(input(f'Player {player}, Enter row (0-2):'))\n",
        "  assert row<3,'Value should be between 0 and 2'\n",
        "  col=int(input(f'Player {player}, Enter column (0-2):'))\n",
        "  assert col<3,'Value should be between 0 and 2'\n",
        "\n",
        "  assert board[row][col]==' ','Cell already filled'\n",
        "  board[row][col]=player\n",
        "  \n",
        "  draw_board(board)\n",
        "\n",
        "  if checkBoard(board,player):\n",
        "    print(f'Player {player} wins!')\n",
        "    win=True\n",
        "    break\n",
        "\n",
        "if not win:\n",
        "  print('Game is drawn!')\n"
      ],
      "metadata": {
        "colab": {
          "base_uri": "https://localhost:8080/"
        },
        "id": "FEBlfvZZDiZ_",
        "outputId": "e4a7671c-802f-4112-8dd0-0fc42276ed6d"
      },
      "execution_count": 22,
      "outputs": [
        {
          "output_type": "stream",
          "name": "stdout",
          "text": [
            "Player X, Enter row (0-2):1\n",
            "Player X, Enter column (0-2):1\n",
            "\n",
            "\n",
            "   |   |  \n",
            "------------\n",
            "   | X |  \n",
            "------------\n",
            "   |   |  \n",
            "\n",
            "\n",
            "Player O, Enter row (0-2):2\n",
            "Player O, Enter column (0-2):2\n",
            "\n",
            "\n",
            "   |   |  \n",
            "------------\n",
            "   | X |  \n",
            "------------\n",
            "   |   | O\n",
            "\n",
            "\n",
            "Player X, Enter row (0-2):0\n",
            "Player X, Enter column (0-2):2\n",
            "\n",
            "\n",
            "   |   | X\n",
            "------------\n",
            "   | X |  \n",
            "------------\n",
            "   |   | O\n",
            "\n",
            "\n",
            "Player O, Enter row (0-2):2\n",
            "Player O, Enter column (0-2):0\n",
            "\n",
            "\n",
            "   |   | X\n",
            "------------\n",
            "   | X |  \n",
            "------------\n",
            " O |   | O\n",
            "\n",
            "\n",
            "Player X, Enter row (0-2):2\n",
            "Player X, Enter column (0-2):1\n",
            "\n",
            "\n",
            "   |   | X\n",
            "------------\n",
            "   | X |  \n",
            "------------\n",
            " O | X | O\n",
            "\n",
            "\n",
            "Player O, Enter row (0-2):0\n",
            "Player O, Enter column (0-2):1\n",
            "\n",
            "\n",
            "   | O | X\n",
            "------------\n",
            "   | X |  \n",
            "------------\n",
            " O | X | O\n",
            "\n",
            "\n",
            "Player X, Enter row (0-2):1\n",
            "Player X, Enter column (0-2):2\n",
            "\n",
            "\n",
            "   | O | X\n",
            "------------\n",
            "   | X | X\n",
            "------------\n",
            " O | X | O\n",
            "\n",
            "\n",
            "Player O, Enter row (0-2):1\n",
            "Player O, Enter column (0-2):0\n",
            "\n",
            "\n",
            "   | O | X\n",
            "------------\n",
            " O | X | X\n",
            "------------\n",
            " O | X | O\n",
            "\n",
            "\n",
            "Player X, Enter row (0-2):0\n",
            "Player X, Enter column (0-2):0\n",
            "\n",
            "\n",
            " X | O | X\n",
            "------------\n",
            " O | X | X\n",
            "------------\n",
            " O | X | O\n",
            "\n",
            "\n",
            "Game is drawn!\n"
          ]
        }
      ]
    },
    {
      "cell_type": "markdown",
      "source": [
        "#### Exercise 6: Bring in the GUI\n",
        "\n",
        "[Return to the top](#scrollTo=vqXQuuW843HT)"
      ],
      "metadata": {
        "id": "xa4x2PxCE4Rk"
      }
    },
    {
      "cell_type": "markdown",
      "source": [
        "Objectives: \n",
        "<ul>\n",
        "<li> Use of widgets, event handling\n",
        "<li> A little bit of object oriented programming\n",
        "<li> global variables and accessing them in functions"
      ],
      "metadata": {
        "id": "3xIqydctMrlH"
      }
    },
    {
      "cell_type": "code",
      "source": [
        "from ipywidgets import Button, HBox, VBox, Layout, widgets\n",
        "from IPython.display import display, clear_output\n",
        "import random\n",
        "from functools import partial\n",
        "import numpy as np\n"
      ],
      "metadata": {
        "id": "xvAV-iVRE7c5"
      },
      "execution_count": 29,
      "outputs": []
    },
    {
      "cell_type": "code",
      "source": [
        "def on_button_clicked(i,b):\n",
        "  global turn,board,win,items\n",
        "\n",
        "  row=i//3\n",
        "  col=i%3\n",
        "\n",
        "  with out:\n",
        "    clear_output()\n",
        "    if turn%2==0:\n",
        "      board[row][col]='X'\n",
        "      b.description='X'\n",
        "      if checkBoard(board,'X'):\n",
        "        print('Player X wins!')\n",
        "        win=True\n",
        "    else:\n",
        "      board[row][col]='O'\n",
        "      b.description='O'\n",
        "      if checkBoard(board,'O'):\n",
        "        print('Player O wins!')\n",
        "        win=True\n",
        "    b.disabled=True\n",
        "    turn+=1\n",
        "    if win:\n",
        "      for button in items:\n",
        "        button.disabled=True\n",
        "    elif turn==9:\n",
        "        print('Game Drawn')\n"
      ],
      "metadata": {
        "id": "OF5RjoDFFLaW"
      },
      "execution_count": 30,
      "outputs": []
    },
    {
      "cell_type": "code",
      "source": [
        "out=widgets.Output()\n",
        "board=[[' ' for i in range(3)] for j in range(3)]\n",
        "items=[Button(description=' ',layout=Layout(width='50px',height='50px')) for _ in range(9)]\n",
        "\n",
        "win=False\n",
        "turn=0\n",
        "for i,button in enumerate(items):\n",
        "  button.on_click(partial(on_button_clicked,i))\n",
        "\n",
        "grid=VBox([HBox([items[i] for i in range(3*j,3*j+3)]) for j in range(3)])\n",
        "VBox([grid,out])"
      ],
      "metadata": {
        "colab": {
          "base_uri": "https://localhost:8080/",
          "height": 197,
          "referenced_widgets": [
            "8f89ec3e256f4465a95d58a071a7bc12",
            "3d9fac3563da4146b57ca703c3ec2064",
            "7cd848eed3974b9eb92ad9fc61ea2d24",
            "27a815a2dd174309b96c493dd16d569c",
            "a17012cb111e4208b61a694d419fd068",
            "5f29d3c48f5d43789b8a0fe0f72e5004",
            "93e6ad5acd7a485fa4f0ab8456183157",
            "73b216e49012461896ca876958892a1b",
            "d47d6f615b6e488bbb11861fb3f64a80",
            "16852ccdb9b44505bba3983bcd2bab1e",
            "973ffc8a267f4c7cba742b343b936dd1",
            "109f5a7ab13e420da3b00bb782981d7c",
            "269377bd27c14d6085be6dd57206d9a2",
            "152574b3303a4e8eb552eceb2cd5402f",
            "2659c36d023e4d8ab6e93c6f70b4edd0",
            "fd8069df6a2848bb81ab7398882a5a2d",
            "7ba7bc738219434fb66ceb9aa54e0a49",
            "d97fa8621cc14bc5b5452c78d12fda12",
            "e62918332e564759a38cd693b906f470",
            "8cbc9da78f344a75928340f3aeef13a3",
            "409fb2c1bc8849f6b2dd0f7e507c7ada",
            "65c84ac63e1941b3bd469331479ce6b5",
            "739491da8e9f46249f4de0e3096febfd",
            "5b1533a7576d4176a0f55b238ff8a835",
            "1083d32cf813479c87b7a7b029b8600e",
            "6f5287b3e6b2444d8b38ba19416a7171",
            "e49fc9721ec14ca69c2d64b74a73724b",
            "a25b686972744bc3a43eb417cdc6e11e",
            "d11846dc3773408c952796614eca501b",
            "d2b5ce7202cf44aba33fee258d4ffb2c",
            "5bf2b4a696864a5bbcc821b0643adcca",
            "581689b7c6894182a6224134633578a5",
            "0f2c00cf60734944939c579cc6189f25",
            "7d02053e39344d259c859d106c31eb76",
            "2a60bdbd01b04a669174847f1ec63497",
            "c3b80af1e8d349868e9e7ae097d7fe7c",
            "7590970197c14705bf5e8a8736831f2b",
            "b6240faacc60480ca86a3435b69973a4",
            "84d3d8f8a8de4a09a53887efc14a5592"
          ]
        },
        "id": "uwU1Jb04GnxO",
        "outputId": "84f7f84c-0f16-4cee-a18c-a1e0d2bd5ede"
      },
      "execution_count": 31,
      "outputs": [
        {
          "output_type": "display_data",
          "data": {
            "text/plain": [
              "VBox(children=(VBox(children=(HBox(children=(Button(description=' ', layout=Layout(height='50px', width='50px'…"
            ],
            "application/vnd.jupyter.widget-view+json": {
              "version_major": 2,
              "version_minor": 0,
              "model_id": "8f89ec3e256f4465a95d58a071a7bc12"
            }
          },
          "metadata": {}
        }
      ]
    },
    {
      "cell_type": "markdown",
      "source": [
        "#### Exercise 7: Another method - check board using numpy\n",
        "\n",
        "[Return to the top](#scrollTo=vqXQuuW843HT)"
      ],
      "metadata": {
        "id": "BfVzS3jSIZON"
      }
    },
    {
      "cell_type": "markdown",
      "source": [
        "Objectives:\n",
        "\n",
        "*   Numpy matrix\n",
        "*   List comprehension"
      ],
      "metadata": {
        "id": "9XxxdM9UM7C1"
      }
    },
    {
      "cell_type": "code",
      "source": [
        "def checkBoard2(a):\n",
        "  return np.any([[a[:,i].sum()==3,a[i,:].sum==3] for i in range(3)]+[[np.diagonal(a).sum()==3,np.fliplr(a).diagonal().sum()==3]])"
      ],
      "metadata": {
        "id": "5ftS29QkIcEb"
      },
      "execution_count": 50,
      "outputs": []
    },
    {
      "cell_type": "code",
      "source": [
        "def on_button_clicked2(i,b):\n",
        "  global turn,a1,a2,items\n",
        "\n",
        "  row=i//3\n",
        "  col=i%3\n",
        "\n",
        "  with out:\n",
        "    clear_output()\n",
        "    if turn%2==0:\n",
        "      a1[row,col]=1\n",
        "      b.description='X'\n",
        "      win= checkBoard2(a1)\n",
        "      if win:\n",
        "        print('Player X wins!')\n",
        "    else:\n",
        "      a2[row,col]=1\n",
        "      b.description='O'\n",
        "      win= checkBoard2(a2)\n",
        "      if win:\n",
        "        print('Player O wins!')\n",
        "    b.disabled=True\n",
        "    turn+=1\n",
        "    if win:\n",
        "      for button in items:\n",
        "        button.disabled=True\n",
        "    elif turn==9:\n",
        "        print('Game Drawn')"
      ],
      "metadata": {
        "id": "chljXkARJN5i"
      },
      "execution_count": 52,
      "outputs": []
    },
    {
      "cell_type": "code",
      "source": [
        "out=widgets.Output()\n",
        "a1,a2=np.zeros([3,3]),np.zeros([3,3])\n",
        "turn=0\n",
        "items=[Button(description=' ',layout=Layout(width='50px',height='50px')) for _ in range(9)]\n",
        "for i,button in enumerate(items):\n",
        "  button.on_click(partial(on_button_clicked2,i))\n",
        "grid=VBox([HBox([items[i] for i in range(3*j,3*j+3)]) for j in range(3)])\n",
        "VBox([grid,out])"
      ],
      "metadata": {
        "colab": {
          "base_uri": "https://localhost:8080/",
          "height": 197,
          "referenced_widgets": [
            "9cb6f8f9040f4bf18d71818b489f6179",
            "5cde8f23549b4c8da41b98351dc27a5a",
            "3f2a9cbc5b7d4f87a68194b0f7ffd086",
            "7cc29f4c41874f83a66a385969bead9c",
            "cbf28e0b7b5a4b1c8ce6e0349ea9209a",
            "ecc36fa1a64e4cd7a28a04493a2031ad",
            "86852237a96b4ab9af16b3ddeb5af19c",
            "3d209becaa96435d831c802a2e114d5e",
            "a6176ec605e14567b242af5a749ffd1f",
            "b151bdf769e6477a87ad7a5519c2d9fd",
            "8e315fb894924c8284c3062ec1575411",
            "f3c14aaa8eb047a48fceffb466c09b4a",
            "09e2438eee6444eeab5030dafdde130f",
            "aac0e6934d594db9b5ab9c3500f401d4",
            "c82cc03a74f245c49810e2159d03da63",
            "a839bd47bb2f477e902a5095f8424a17",
            "cd11a1a2263e484eb2b6abcabaf4ff04",
            "97de8c2ba5f24240b495f5c4541b2694",
            "5aa51b0c6acb424a9e15d358a1fc181e",
            "1376e4a8c274439095c7b5961ec55e2f",
            "61509bc5d08f42bdbdf9db2aa78a5d75",
            "3805691548b64c23ab54879142f2f382",
            "fec86373a2bb40babb8d94e73e304e5f",
            "c644191f42e746f4b3a981f62e648b7b",
            "b6ac0ab770fd44928bf3ca8a8742c33d",
            "daf1b40974ae43d291f8b74c80a47149",
            "18e81ca2976646648cacc6c53b7f0704",
            "be8e880baa0a44be9a4831c773a1d216",
            "e90df703d97343e698c7ea35719c72c3",
            "389979c85197477ca23db1e933df8f7a",
            "d4c29341a2e8476aad7d389cadc38456",
            "20156a83f92b431e8002a87648a7dd2f",
            "e90e42778c3c4d0db7d016ee3ef87121",
            "df0b128fd2cd4dc6bb75156f22d779c0",
            "1b2f6a78234a4e9b8aecdb7477a16f72",
            "12fc10192afd421988bc2624bb912984",
            "706a84f2d79045ebb257e673f82f8d9c",
            "a5c45a0e49d54a9a860c9d52a2175a0e",
            "15fe6c13ab5d484e8b5bc23b6947ad6b"
          ]
        },
        "id": "C7yEOGVIJ9US",
        "outputId": "e73e80b7-8ed1-40fb-a430-dfb10a24955a"
      },
      "execution_count": 53,
      "outputs": [
        {
          "output_type": "display_data",
          "data": {
            "text/plain": [
              "VBox(children=(VBox(children=(HBox(children=(Button(description=' ', layout=Layout(height='50px', width='50px'…"
            ],
            "application/vnd.jupyter.widget-view+json": {
              "version_major": 2,
              "version_minor": 0,
              "model_id": "9cb6f8f9040f4bf18d71818b489f6179"
            }
          },
          "metadata": {}
        }
      ]
    },
    {
      "cell_type": "markdown",
      "source": [
        "### Additional Exercises for Students\n",
        "\n",
        "[Return to the top](#scrollTo=vqXQuuW843HT)\n",
        "\n"
      ],
      "metadata": {
        "id": "yQdKwkFBNKXF"
      }
    },
    {
      "cell_type": "markdown",
      "source": [
        "\n",
        "*   Modify the code to play a tournament. Keep tally of the X and O games won and drawn both with and without GUI. How will you design the game?\n",
        "\n",
        "*   Provide the winning pattern in each game. In case of GUI mark it with a \n",
        "different color\n",
        "\n",
        "*  Have the computer be player 2 where computer chooses a random move. Can you make the computer smart?"
      ],
      "metadata": {
        "id": "1-eiAosHNQoo"
      }
    }
  ]
}