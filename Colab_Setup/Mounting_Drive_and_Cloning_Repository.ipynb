{
 "cells": [
  {
   "cell_type": "markdown",
   "metadata": {
    "colab_type": "text",
    "id": "XyNgFUsfpmsb"
   },
   "source": [
    "# Introduction\n",
    "\n",
    "This notebook will help you setup Colab by mounting your Google Drive, creating a directory for the camp repository, and cloning a copy of the repository.   so that:\n",
    "\n",
    "* The GitHub repository, including all notebooks, data, and projects will be easy to download to the drive.\n",
    "* All the examples and projects that need data or other files can access them in the place they are expected to be. (No worrying about where certain files were downloaded, etc.\n",
    "* It is easy to Colab notebooks.\n",
    "\n"
   ]
  },
  {
   "cell_type": "markdown",
   "metadata": {
    "colab_type": "text",
    "id": "QFTGPT0OrWZZ"
   },
   "source": [
    "# Step 1: Mount Google Drive\n",
    "\n",
    "This step mounts the user's Google Drive into the notebook's (virtual) file system.\n",
    "\n",
    "Note in the first step, Colab will require a code to authorize access:\n",
    "\n",
    "1.  A new URL will be displayed.  You should click on this link.\n",
    "2. This will take you to a page, where you select the correct Google Account, which should be the same as you are using to run this notebook.\n",
    "3. On the next screen, you can view and accept the permissions Colab is requesting.  \n",
    "4. Once you accept the permissions, a code will be generated.  Copy that code, and paste it into the prompt in the cell below.\n",
    "\n",
    "This will mount the Google Drive.\n",
    "\n",
    "**Note:** This first step should be carried out in each notebook that needs to use any data.  The permissions will last for a fixed duration, so if the notebook is unable to access data as expected, it may be necessary to re-run this step."
   ]
  },
  {
   "cell_type": "code",
   "execution_count": 0,
   "metadata": {
    "colab": {},
    "colab_type": "code",
    "id": "a94f4LLvuATk"
   },
   "outputs": [],
   "source": [
    "## This is a goodle \n",
    "from google.colab import drive\n",
    "drive.mount('/content/gdrive')"
   ]
  },
  {
   "cell_type": "markdown",
   "metadata": {
    "colab_type": "text",
    "id": "MpHlr0B7scOQ"
   },
   "source": [
    "# Step 2: Create a Directory for the Camp Material\n",
    "\n",
    "Explore and navigate the newly mounted drive.  This will automatically create a folder `dscamp` on your Google Drive in which to store camp materials."
   ]
  },
  {
   "cell_type": "code",
   "execution_count": 0,
   "metadata": {
    "colab": {
     "base_uri": "https://localhost:8080/",
     "height": 34
    },
    "colab_type": "code",
    "id": "fj0abQ5vuPWw",
    "outputId": "2fb5bf86-c8bd-4d15-ea42-b7ed2ee10cf8"
   },
   "outputs": [
    {
     "name": "stdout",
     "output_type": "stream",
     "text": [
      "\u001b[0m\u001b[01;34mgdrive\u001b[0m/  \u001b[01;34msample_data\u001b[0m/\n"
     ]
    }
   ],
   "source": [
    "## Look at the current directory\n",
    "%ls"
   ]
  },
  {
   "cell_type": "code",
   "execution_count": 0,
   "metadata": {
    "colab": {},
    "colab_type": "code",
    "id": "9yIiLrbzwFek"
   },
   "outputs": [],
   "source": [
    "## Create a folder on Drive to store the repository\n",
    "%mkdir 'gdrive/My Drive/dscamp'"
   ]
  },
  {
   "cell_type": "code",
   "execution_count": 0,
   "metadata": {
    "colab": {
     "base_uri": "https://localhost:8080/",
     "height": 34
    },
    "colab_type": "code",
    "id": "EyI4bnz-vYz6",
    "outputId": "6289c7ac-2963-44b9-e172-e4805a81942e"
   },
   "outputs": [
    {
     "name": "stdout",
     "output_type": "stream",
     "text": [
      "/content/gdrive/My Drive/dscamp\n"
     ]
    }
   ],
   "source": [
    "## Change the current dire\n",
    "%cd 'gdrive/My Drive/dscamp'"
   ]
  },
  {
   "cell_type": "markdown",
   "metadata": {
    "colab_type": "text",
    "id": "XMBB58PKsvOO"
   },
   "source": [
    "# Step 3: Clone the Git Repository\n",
    "\n",
    "This will create a clone of the Git Repository in the `dscamp` folder, so all the materials should be downloaded. "
   ]
  },
  {
   "cell_type": "code",
   "execution_count": 0,
   "metadata": {
    "colab": {
     "base_uri": "https://localhost:8080/",
     "height": 119
    },
    "colab_type": "code",
    "id": "M-S1WGSPumv5",
    "outputId": "80e88f8b-56d1-4876-f586-d0fcd28462bb"
   },
   "outputs": [
    {
     "name": "stdout",
     "output_type": "stream",
     "text": [
      "Cloning into 'dscamp_public'...\n",
      "remote: Enumerating objects: 151, done.\u001b[K\n",
      "remote: Total 151 (delta 0), reused 0 (delta 0), pack-reused 151\u001b[K\n",
      "Receiving objects: 100% (151/151), 277.84 MiB | 15.72 MiB/s, done.\n",
      "Resolving deltas: 100% (38/38), done.\n",
      "Checking out files: 100% (74/74), done.\n"
     ]
    }
   ],
   "source": [
    "!git clone https://github.com/DSAISummerCamp/dscamp_public.git"
   ]
  },
  {
   "cell_type": "code",
   "execution_count": 0,
   "metadata": {
    "colab": {
     "base_uri": "https://localhost:8080/",
     "height": 102
    },
    "colab_type": "code",
    "id": "1oFo95OYu4W4",
    "outputId": "0752809b-e842-4c71-c576-9800a0b00b28"
   },
   "outputs": [
    {
     "name": "stdout",
     "output_type": "stream",
     "text": [
      "\u001b[0m\u001b[01;34m'GAN 2'\u001b[0m/                         \u001b[01;34m'NLP 2'\u001b[0m/\n",
      "\u001b[01;34m'Introduction to Data Science'\u001b[0m/  \u001b[01;34m'Project AI Stratup'\u001b[0m/\n",
      "\u001b[01;34m'Linear Models'\u001b[0m/                 \u001b[01;34m'Python Programming'\u001b[0m/\n",
      "\u001b[01;34m'Neural Networks'\u001b[0m/               \u001b[01;34m'Random Numbers and GAN'\u001b[0m/\n",
      "\u001b[01;34m'NLP 1'\u001b[0m/                          README.md\n"
     ]
    }
   ],
   "source": [
    "%ls dscamp_public"
   ]
  },
  {
   "cell_type": "markdown",
   "metadata": {
    "colab_type": "text",
    "id": "ZQHz1y3ytUz6"
   },
   "source": [
    "# Step 4 (Optional) Un-mount the Drive\n",
    "\n",
    "Below is the command to unmount the drive."
   ]
  },
  {
   "cell_type": "code",
   "execution_count": 0,
   "metadata": {
    "colab": {},
    "colab_type": "code",
    "id": "1M9gyBATwW2C"
   },
   "outputs": [],
   "source": [
    "## Unmount your drive when finished\n",
    "drive.flush_and_unmount()"
   ]
  },
  {
   "cell_type": "code",
   "execution_count": 0,
   "metadata": {
    "colab": {},
    "colab_type": "code",
    "id": "Ew8ofHVkteKs"
   },
   "outputs": [],
   "source": []
  }
 ],
 "metadata": {
  "colab": {
   "collapsed_sections": [],
   "name": "Mounting_Drive_and_Cloning_Repository.ipynb",
   "provenance": []
  },
  "kernelspec": {
   "display_name": "Python 3",
   "language": "python",
   "name": "python3"
  },
  "language_info": {
   "codemirror_mode": {
    "name": "ipython",
    "version": 3
   },
   "file_extension": ".py",
   "mimetype": "text/x-python",
   "name": "python",
   "nbconvert_exporter": "python",
   "pygments_lexer": "ipython3",
   "version": "3.8.5"
  },
  "varInspector": {
   "cols": {
    "lenName": 16,
    "lenType": 16,
    "lenVar": 40
   },
   "kernels_config": {
    "python": {
     "delete_cmd_postfix": "",
     "delete_cmd_prefix": "del ",
     "library": "var_list.py",
     "varRefreshCmd": "print(var_dic_list())"
    },
    "r": {
     "delete_cmd_postfix": ") ",
     "delete_cmd_prefix": "rm(",
     "library": "var_list.r",
     "varRefreshCmd": "cat(var_dic_list()) "
    }
   },
   "types_to_exclude": [
    "module",
    "function",
    "builtin_function_or_method",
    "instance",
    "_Feature"
   ],
   "window_display": false
  }
 },
 "nbformat": 4,
 "nbformat_minor": 1
}
