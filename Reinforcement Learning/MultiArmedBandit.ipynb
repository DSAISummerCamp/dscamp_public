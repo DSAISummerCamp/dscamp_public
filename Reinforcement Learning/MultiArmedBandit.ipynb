{
  "nbformat": 4,
  "nbformat_minor": 0,
  "metadata": {
    "colab": {
      "name": "MultiArmedBandit.ipynb",
      "provenance": []
    },
    "kernelspec": {
      "display_name": "Python 3",
      "name": "python3"
    },
    "language_info": {
      "name": "python"
    }
  },
  "cells": [
    {
      "cell_type": "markdown",
      "metadata": {
        "id": "1JE9gDU-hZxD"
      },
      "source": [
        "# Multi - Armed Bandit\n",
        "\n",
        "\n",
        "\n"
      ]
    },
    {
      "cell_type": "markdown",
      "metadata": {
        "id": "5mWuYxY3hiTK"
      },
      "source": [
        "## 1. Import Modules"
      ]
    },
    {
      "cell_type": "code",
      "metadata": {
        "id": "SyaXs6pzbo_t"
      },
      "source": [
        "import numpy as np\n",
        "from matplotlib import pyplot as plt\n",
        "import random\n",
        "import math"
      ],
      "execution_count": 14,
      "outputs": []
    },
    {
      "cell_type": "markdown",
      "metadata": {
        "id": "bVbgXDXqhxuL"
      },
      "source": [
        "## 2. Define Classes\n",
        "\n",
        "\n",
        "\n"
      ]
    },
    {
      "cell_type": "markdown",
      "metadata": {
        "id": "6C9YklkQh8sM"
      },
      "source": [
        "Bandit class defines a single bandit object whose reward has a normal distribution with mean value as input parameter and a standard deviation of 1. \n",
        "\n",
        "gen_reward(): generates a random reward on pulling the bandit arm. \n",
        "gen_reward_sample(): generates a sample of random rewards of size 'number'."
      ]
    },
    {
      "cell_type": "code",
      "metadata": {
        "id": "w-yN-_drH7iJ"
      },
      "source": [
        "class Bandit:\n",
        "    \n",
        "    reward_std=1 #standard deviation of reward\n",
        "    \n",
        "    def __init__(self,mean):\n",
        "        self.reward_mean=mean\n",
        "        \n",
        "    def gen_reward(self):\n",
        "        return np.random.normal(self.reward_mean,self.reward_std)\n",
        "    \n",
        "    def gen_reward_sample(self,number):\n",
        "        return np.random.normal(self.reward_mean,self.reward_std,number)"
      ],
      "execution_count": 15,
      "outputs": []
    },
    {
      "cell_type": "markdown",
      "metadata": {
        "id": "1TQJ5eF9ib63"
      },
      "source": [
        "MultiArmedBandit class initializes a multiarmed bandit object with 'k' arms each with a mean reward which is distributed normally with mean 0 and standard deviation 1. \n",
        "\n",
        "pull_lever(a): pulls the a'th arm of the bandit and generates a random reward."
      ]
    },
    {
      "cell_type": "code",
      "metadata": {
        "id": "ZTBdyik8IJeC"
      },
      "source": [
        "class MultiArmedBandit:\n",
        "    bandits=[]\n",
        "    def __init__(self,k):\n",
        "        self.arms=k\n",
        "        for ind,mean in zip(range(k),np.random.normal(0,1,k)): #mean of bandit reward is Normally distributed N(0,1)\n",
        "            self.bandits.append(Bandit(mean))\n",
        "        \n",
        "    def display_rewards(self, scatter_points=100):\n",
        "        fig=plt.figure()\n",
        "        ax=fig.gca()\n",
        "        for j in range(self.arms):\n",
        "            ax.scatter([j]*scatter_points,self.bandits[j].gen_reward_sample(scatter_points))\n",
        "        ax.set_xticks(list(range(self.arms)))\n",
        "        ax.set_ylabel('Reward Distribution')\n",
        "        \n",
        "    def pull_lever(self,a):\n",
        "        return self.bandits[a].gen_reward()"
      ],
      "execution_count": 16,
      "outputs": []
    },
    {
      "cell_type": "markdown",
      "metadata": {
        "id": "O2sUdKy1jDFl"
      },
      "source": [
        "The agent is defined by a Robot class which has an initial guess of each of the bandit's value given by the list Q. It maintains a count on the number of times it has pulled each bandit through the list n. \n",
        "\n",
        "The exploration v exploitation strategy is determined by the parameters epsilon, alpha.\n",
        "\n",
        "Method explore makes the robot pull a random bandit arm.\n",
        "Method exploit makes the robot pull the bandit arm with the maximum Q value.\n"
      ]
    },
    {
      "cell_type": "code",
      "metadata": {
        "id": "7WTiN19yJOwY"
      },
      "source": [
        "class Robot():\n",
        "    Q=[]\n",
        "    N=[]\n",
        "    t=1\n",
        "    \n",
        "    def __init__(self,arms,Q_initial,epsilon):\n",
        "        self.arms=arms\n",
        "        self.Q=[Q_initial]*arms\n",
        "        self.N=[1]*arms\n",
        "        self.epsilon=epsilon\n",
        "    \n",
        "    def explore(self):\n",
        "        return random.choice(range(self.arms))\n",
        "    \n",
        "    def exploit(self):\n",
        "        return np.argmax(self.Q)\n",
        "    \n",
        "    def update_q_avg(self,a,R):\n",
        "        self.N[a]+=1\n",
        "        self.t+=1\n",
        "        self.Q[a]=self.Q[a]+1/self.N[a]*(R-self.Q[a])\n",
        "\n",
        "    def choose_action(self):\n",
        "        if np.random.uniform()<self.epsilon:\n",
        "            return self.explore()\n",
        "        else:\n",
        "            return self.exploit()\n",
        "    \n",
        "    def choose_action_ucb(self,c):\n",
        "        N_sqrt=np.asarray([math.sqrt(x) for x in self.N])\n",
        "        \n",
        "        return np.argmax(np.asarray(self.Q)+c*math.sqrt(math.log(self.t))/N_sqrt)"
      ],
      "execution_count": null,
      "outputs": []
    },
    {
      "cell_type": "markdown",
      "metadata": {
        "id": "BzyvBpv2kGjn"
      },
      "source": [
        "Simulation class runs the simulation where it uses the robot object and can use several exploration-exploitation strategies to maximize the expected reward. \n",
        "\n",
        "The class is initialized with the parameters:\n",
        "\n",
        "1.   k: number of bandit arms\n",
        "2.   epsilon: parameter for epsilon greedy strategy\n",
        "3.   experiments: number of replications of the experiment.\n",
        "4.   Q_0: initial guess of the value function for each bandit. \n",
        "\n"
      ]
    },
    {
      "cell_type": "code",
      "metadata": {
        "id": "0fWEMmESKGfc"
      },
      "source": [
        "class Simulation():\n",
        "    \n",
        "    reward_table=np.array([])\n",
        "    \n",
        "    def __init__(self,k,epsilon,experiments,Q_0):\n",
        "        self.k=k\n",
        "        self.epsilon=epsilon\n",
        "        self.experiments=experiments\n",
        "        self.Q_0=Q_0\n",
        "    \n",
        "    def run_Simulation_epsGreedy(self):\n",
        "        for j in range(self.experiments):      \n",
        "            mab1= MultiArmedBandit(self.k)\n",
        "            robot1=Robot(self.k,self.Q_0,self.epsilon)\n",
        "            reward_list=np.array([])\n",
        "            \n",
        "            for i in range(1001):\n",
        "                action=robot1.choose_action()\n",
        "                reward=mab1.pull_lever(action)\n",
        "                robot1.update_q_avg(action,reward)\n",
        "                reward_list=np.append(reward_list,reward)\n",
        "            if j==0:\n",
        "                reward_table=reward_list\n",
        "            else:\n",
        "                reward_table=np.vstack([reward_table,reward_list])   \n",
        "        return np.mean(reward_table,axis=0)  \n",
        "    \n",
        "    def run_Simulation_ucb(self):\n",
        "        for j in range(self.experiments):      \n",
        "            mab1= MultiArmedBandit(self.k)\n",
        "            robot1=Robot(self.k,self.Q_0,self.epsilon)\n",
        "            reward_list=np.array([])\n",
        "            \n",
        "            for i in range(1001):\n",
        "                action=robot1.choose_action_ucb(2)\n",
        "                reward=mab1.pull_lever(action)\n",
        "                robot1.update_q_avg(action,reward)\n",
        "                reward_list=np.append(reward_list,reward)\n",
        "            if j==0:\n",
        "                reward_table=reward_list\n",
        "            else:\n",
        "                reward_table=np.vstack([reward_table,reward_list])   \n",
        "        return np.mean(reward_table,axis=0)  \n"
      ],
      "execution_count": null,
      "outputs": []
    },
    {
      "cell_type": "markdown",
      "metadata": {
        "id": "Us2uSrP6of9u"
      },
      "source": [
        "## 3. Demonstration"
      ]
    },
    {
      "cell_type": "markdown",
      "metadata": {
        "id": "18YtA8EfUvRC"
      },
      "source": [
        "Initialize a multi-armed bandit object with 5 arms and display the distribution of reward in each arm."
      ]
    },
    {
      "cell_type": "code",
      "metadata": {
        "id": "gWyRMSTOIRw7",
        "colab": {
          "base_uri": "https://localhost:8080/",
          "height": 265
        },
        "outputId": "ffaf34ca-a9ec-4790-bede-19c9a13f78bb"
      },
      "source": [
        "mab1=MultiArmedBandit(5)\n",
        "mab1.display_rewards(100)"
      ],
      "execution_count": 13,
      "outputs": [
        {
          "output_type": "display_data",
          "data": {
            "image/png": "[encoded data removed]",
            "text/plain": [
              "<Figure size 432x288 with 1 Axes>"
            ]
          },
          "metadata": {
            "tags": []
          }
        }
      ]
    },
    {
      "cell_type": "markdown",
      "metadata": {
        "id": "eiFAynRiVeqX"
      },
      "source": [
        "Now we will conduct a simulation experiment where a robot \n",
        "(or agent) which will pull at one of the arms of the bandit for 1000 trials. It has to maximize the rewards. \n",
        "\n",
        "The robot will follow one of the four strategies:\n",
        "\n",
        "\n",
        "1.   Epsilon greedy strategy with $\\epsilon=0.1$ with an initial guess of the value of reward from each arm to be 0. ($Q_0=0$)\n",
        "2.   Epsilon greedy strategy with $\\epsilon=0.1$ with an initial guess of the value of reward from each arm to be 0. ($Q_0=5$)\n",
        "3. UCB strategy with $\\epsilon=0.1$ with an initial guess of the value of reward from each arm to be 0. ($Q_0=0$)\n",
        "4. Epsilon greedy strategy with $\\epsilon=0.9$ with an initial guess of the value of reward from each arm to be 0. ($Q_0=0$): Here the robot is very greedy\n",
        "\n",
        "The simulation is repeated for 2000 times and the average reward gained by the robot after each trial is plotted.\n",
        "\n"
      ]
    },
    {
      "cell_type": "code",
      "metadata": {
        "colab": {
          "base_uri": "https://localhost:8080/",
          "height": 300
        },
        "id": "atLlf4HoKLGA",
        "outputId": "07fb35e5-07d3-4eb4-89ed-b599f4ee40e0"
      },
      "source": [
        "\n",
        "sim1=Simulation(k=10,epsilon=0.1,experiments=2000,Q_0=0)\n",
        "sim2=Simulation(k=10,epsilon=0.1,experiments=2000,Q_0=5)\n",
        "sim3=Simulation(k=10,epsilon=0.1,experiments=2000,Q_0=0)\n",
        "sim4=Simulation(k=10,epsilon=0.9,experiments=2000,Q_0=0)\n",
        "\n",
        "plt.plot(sim1.run_Simulation_epsGreedy(),label=r'Greedy $\\epsilon$ Q0=0')\n",
        "plt.plot(sim2.run_Simulation_epsGreedy(),label=r'Greedy $\\epsilon$ Q1=5')\n",
        "plt.plot(sim3.run_Simulation_ucb(),label='UCB')\n",
        "plt.plot(sim4.run_Simulation_epsGreedy(),label=r'Greedy $\\epsilon=0.9$')\n",
        "plt.xlabel('trials')\n",
        "plt.ylabel('average reward')\n",
        "plt.legend(loc='lower right')"
      ],
      "execution_count": 17,
      "outputs": [
        {
          "output_type": "execute_result",
          "data": {
            "text/plain": [
              "<matplotlib.legend.Legend at 0x7fa781c8d910>"
            ]
          },
          "metadata": {
            "tags": []
          },
          "execution_count": 17
        },
        {
          "output_type": "display_data",
          "data": {
            "image/png": "[encoded data removed]",
            "text/plain": [
              "<Figure size 432x288 with 1 Axes>"
            ]
          },
          "metadata": {
            "tags": [],
            "needs_background": "light"
          }
        }
      ]
    },
    {
      "cell_type": "markdown",
      "metadata": {
        "id": "uY-w_SANVUzx"
      },
      "source": [
        "We can see that with more trials, the expected rewards increase for the first three simulations. This means that the robot has learned the reward maximizing arms. The robot explores strategies in the beginning and slowly starts exploiting on its learned knowledge.\n",
        "\n",
        "\n",
        "With $\\epsilon=0.9$, the agent is too greedy and the expected reward is almost constant."
      ]
    }
  ]
}