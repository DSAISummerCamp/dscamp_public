{
 "cells": [
  {
   "cell_type": "code",
   "execution_count": 1,
   "metadata": {},
   "outputs": [],
   "source": [
    "import pandas as pd\n",
    "from textblob import TextBlob\n",
    "import texthero"
   ]
  },
  {
   "cell_type": "code",
   "execution_count": 2,
   "metadata": {},
   "outputs": [
    {
     "data": {
      "text/html": [
       "<div>\n",
       "<style scoped>\n",
       "    .dataframe tbody tr th:only-of-type {\n",
       "        vertical-align: middle;\n",
       "    }\n",
       "\n",
       "    .dataframe tbody tr th {\n",
       "        vertical-align: top;\n",
       "    }\n",
       "\n",
       "    .dataframe thead th {\n",
       "        text-align: right;\n",
       "    }\n",
       "</style>\n",
       "<table border=\"1\" class=\"dataframe\">\n",
       "  <thead>\n",
       "    <tr style=\"text-align: right;\">\n",
       "      <th></th>\n",
       "      <th>timestamp</th>\n",
       "      <th>url</th>\n",
       "      <th>tweet</th>\n",
       "      <th>replies</th>\n",
       "      <th>retweets</th>\n",
       "      <th>quotes</th>\n",
       "      <th>likes</th>\n",
       "    </tr>\n",
       "  </thead>\n",
       "  <tbody>\n",
       "    <tr>\n",
       "      <th>0</th>\n",
       "      <td>2020-01-01 01:15</td>\n",
       "      <td>https://twitter.com/JoeBiden/status/1212180387...</td>\n",
       "      <td>Our final fundraising deadline of 2019 is just...</td>\n",
       "      <td>411</td>\n",
       "      <td>269</td>\n",
       "      <td>32</td>\n",
       "      <td>948</td>\n",
       "    </tr>\n",
       "    <tr>\n",
       "      <th>1</th>\n",
       "      <td>2020-01-01 18:35</td>\n",
       "      <td>https://twitter.com/JoeBiden/status/1212442112...</td>\n",
       "      <td>Every single human being deserves to be treate...</td>\n",
       "      <td>1136</td>\n",
       "      <td>2423</td>\n",
       "      <td>182</td>\n",
       "      <td>11574</td>\n",
       "    </tr>\n",
       "    <tr>\n",
       "      <th>2</th>\n",
       "      <td>2020-01-02 00:01</td>\n",
       "      <td>https://twitter.com/JoeBiden/status/1212524152...</td>\n",
       "      <td>With just over one month until the Iowa Caucus...</td>\n",
       "      <td>332</td>\n",
       "      <td>368</td>\n",
       "      <td>29</td>\n",
       "      <td>1457</td>\n",
       "    </tr>\n",
       "    <tr>\n",
       "      <th>3</th>\n",
       "      <td>2020-01-02 01:05</td>\n",
       "      <td>https://twitter.com/JoeBiden/status/1212540258...</td>\n",
       "      <td>This election is about the soul of our nation ...</td>\n",
       "      <td>5199</td>\n",
       "      <td>10192</td>\n",
       "      <td>1153</td>\n",
       "      <td>44886</td>\n",
       "    </tr>\n",
       "    <tr>\n",
       "      <th>4</th>\n",
       "      <td>2020-01-02 02:07</td>\n",
       "      <td>https://twitter.com/JoeBiden/status/1212556035...</td>\n",
       "      <td>Every day that Donald Trump remains in the Whi...</td>\n",
       "      <td>1070</td>\n",
       "      <td>2005</td>\n",
       "      <td>128</td>\n",
       "      <td>9581</td>\n",
       "    </tr>\n",
       "  </tbody>\n",
       "</table>\n",
       "</div>"
      ],
      "text/plain": [
       "          timestamp                                                url  \\\n",
       "0  2020-01-01 01:15  https://twitter.com/JoeBiden/status/1212180387...   \n",
       "1  2020-01-01 18:35  https://twitter.com/JoeBiden/status/1212442112...   \n",
       "2  2020-01-02 00:01  https://twitter.com/JoeBiden/status/1212524152...   \n",
       "3  2020-01-02 01:05  https://twitter.com/JoeBiden/status/1212540258...   \n",
       "4  2020-01-02 02:07  https://twitter.com/JoeBiden/status/1212556035...   \n",
       "\n",
       "                                               tweet  replies  retweets  \\\n",
       "0  Our final fundraising deadline of 2019 is just...      411       269   \n",
       "1  Every single human being deserves to be treate...     1136      2423   \n",
       "2  With just over one month until the Iowa Caucus...      332       368   \n",
       "3  This election is about the soul of our nation ...     5199     10192   \n",
       "4  Every day that Donald Trump remains in the Whi...     1070      2005   \n",
       "\n",
       "   quotes  likes  \n",
       "0      32    948  \n",
       "1     182  11574  \n",
       "2      29   1457  \n",
       "3    1153  44886  \n",
       "4     128   9581  "
      ]
     },
     "execution_count": 2,
     "metadata": {},
     "output_type": "execute_result"
    }
   ],
   "source": [
    "data = pd.read_csv('data/joe_biden_tweets_2020.csv')\n",
    "data.head()"
   ]
  },
  {
   "cell_type": "markdown",
   "metadata": {},
   "source": [
    "- Using TextBlob evaluate the sentiment and polarization of each tweet\n",
    "- show the five most positive tweets (based on polarity)\n",
    "- show the five most negative tweets (based on polarity)\n",
    "- show the five most subjective tweets\n",
    "- Using spacy perform named entity extraction\n",
    "- What are the five most frequent `PERSON` entities\n",
    "- What are the five most frequent `EVENT` entities"
   ]
  },
  {
   "cell_type": "code",
   "execution_count": 3,
   "metadata": {},
   "outputs": [
    {
     "data": {
      "text/html": [
       "<div>\n",
       "<style scoped>\n",
       "    .dataframe tbody tr th:only-of-type {\n",
       "        vertical-align: middle;\n",
       "    }\n",
       "\n",
       "    .dataframe tbody tr th {\n",
       "        vertical-align: top;\n",
       "    }\n",
       "\n",
       "    .dataframe thead th {\n",
       "        text-align: right;\n",
       "    }\n",
       "</style>\n",
       "<table border=\"1\" class=\"dataframe\">\n",
       "  <thead>\n",
       "    <tr style=\"text-align: right;\">\n",
       "      <th></th>\n",
       "      <th>timestamp</th>\n",
       "      <th>url</th>\n",
       "      <th>tweet</th>\n",
       "      <th>replies</th>\n",
       "      <th>retweets</th>\n",
       "      <th>quotes</th>\n",
       "      <th>likes</th>\n",
       "      <th>sentiment</th>\n",
       "      <th>subjectivity</th>\n",
       "    </tr>\n",
       "  </thead>\n",
       "  <tbody>\n",
       "    <tr>\n",
       "      <th>0</th>\n",
       "      <td>2020-01-01 01:15</td>\n",
       "      <td>https://twitter.com/JoeBiden/status/1212180387...</td>\n",
       "      <td>Our final fundraising deadline of 2019 is just...</td>\n",
       "      <td>411</td>\n",
       "      <td>269</td>\n",
       "      <td>32</td>\n",
       "      <td>948</td>\n",
       "      <td>-0.075000</td>\n",
       "      <td>0.475000</td>\n",
       "    </tr>\n",
       "    <tr>\n",
       "      <th>1</th>\n",
       "      <td>2020-01-01 18:35</td>\n",
       "      <td>https://twitter.com/JoeBiden/status/1212442112...</td>\n",
       "      <td>Every single human being deserves to be treate...</td>\n",
       "      <td>1136</td>\n",
       "      <td>2423</td>\n",
       "      <td>182</td>\n",
       "      <td>11574</td>\n",
       "      <td>-0.295238</td>\n",
       "      <td>0.452381</td>\n",
       "    </tr>\n",
       "    <tr>\n",
       "      <th>2</th>\n",
       "      <td>2020-01-02 00:01</td>\n",
       "      <td>https://twitter.com/JoeBiden/status/1212524152...</td>\n",
       "      <td>With just over one month until the Iowa Caucus...</td>\n",
       "      <td>332</td>\n",
       "      <td>368</td>\n",
       "      <td>29</td>\n",
       "      <td>1457</td>\n",
       "      <td>0.000000</td>\n",
       "      <td>0.000000</td>\n",
       "    </tr>\n",
       "    <tr>\n",
       "      <th>3</th>\n",
       "      <td>2020-01-02 01:05</td>\n",
       "      <td>https://twitter.com/JoeBiden/status/1212540258...</td>\n",
       "      <td>This election is about the soul of our nation ...</td>\n",
       "      <td>5199</td>\n",
       "      <td>10192</td>\n",
       "      <td>1153</td>\n",
       "      <td>44886</td>\n",
       "      <td>0.000000</td>\n",
       "      <td>0.000000</td>\n",
       "    </tr>\n",
       "    <tr>\n",
       "      <th>4</th>\n",
       "      <td>2020-01-02 02:07</td>\n",
       "      <td>https://twitter.com/JoeBiden/status/1212556035...</td>\n",
       "      <td>Every day that Donald Trump remains in the Whi...</td>\n",
       "      <td>1070</td>\n",
       "      <td>2005</td>\n",
       "      <td>128</td>\n",
       "      <td>9581</td>\n",
       "      <td>0.033333</td>\n",
       "      <td>0.075000</td>\n",
       "    </tr>\n",
       "  </tbody>\n",
       "</table>\n",
       "</div>"
      ],
      "text/plain": [
       "          timestamp                                                url  \\\n",
       "0  2020-01-01 01:15  https://twitter.com/JoeBiden/status/1212180387...   \n",
       "1  2020-01-01 18:35  https://twitter.com/JoeBiden/status/1212442112...   \n",
       "2  2020-01-02 00:01  https://twitter.com/JoeBiden/status/1212524152...   \n",
       "3  2020-01-02 01:05  https://twitter.com/JoeBiden/status/1212540258...   \n",
       "4  2020-01-02 02:07  https://twitter.com/JoeBiden/status/1212556035...   \n",
       "\n",
       "                                               tweet  replies  retweets  \\\n",
       "0  Our final fundraising deadline of 2019 is just...      411       269   \n",
       "1  Every single human being deserves to be treate...     1136      2423   \n",
       "2  With just over one month until the Iowa Caucus...      332       368   \n",
       "3  This election is about the soul of our nation ...     5199     10192   \n",
       "4  Every day that Donald Trump remains in the Whi...     1070      2005   \n",
       "\n",
       "   quotes  likes  sentiment  subjectivity  \n",
       "0      32    948  -0.075000      0.475000  \n",
       "1     182  11574  -0.295238      0.452381  \n",
       "2      29   1457   0.000000      0.000000  \n",
       "3    1153  44886   0.000000      0.000000  \n",
       "4     128   9581   0.033333      0.075000  "
      ]
     },
     "execution_count": 3,
     "metadata": {},
     "output_type": "execute_result"
    }
   ],
   "source": [
    "sentiment = data.tweet.apply(lambda tweet: TextBlob(tweet).sentiment)\n",
    "data['sentiment'] = sentiment.apply(lambda x: x.polarity)\n",
    "data['subjectivity'] = sentiment.apply(lambda x: x.subjectivity)\n",
    "data.head()"
   ]
  },
  {
   "cell_type": "code",
   "execution_count": 4,
   "metadata": {},
   "outputs": [
    {
     "data": {
      "text/plain": [
       "2024    When they say “the best is yet to come,” that’...\n",
       "1267    Make no mistake: I believe our best days still...\n",
       "1891    I know a thing or two about being Vice Preside...\n",
       "607     It's been a great night — thank you for all of...\n",
       "1471    It’s in some of our darkest moments of despair...\n",
       "Name: tweet, dtype: object"
      ]
     },
     "execution_count": 4,
     "metadata": {},
     "output_type": "execute_result"
    }
   ],
   "source": [
    "data.sort_values('sentiment', ascending=False).tweet.head()"
   ]
  },
  {
   "cell_type": "code",
   "execution_count": 5,
   "metadata": {},
   "outputs": [
    {
     "data": {
      "text/plain": [
       "['When they say “the best is yet to come,” that’s a threat. https://t.co/SoKKF9KQYO',\n",
       " 'Make no mistake: I believe our best days still lie ahead. We can and will transform this nation — together.',\n",
       " 'I know a thing or two about being Vice President — and I know @KamalaHarris is the best partner I could have for the fight ahead.',\n",
       " \"It's been a great night — thank you for all of your support! We’re bringing this party together and it's going to take all of us to keep it going. Chip in now to take us across the finish line and defeat Donald Trump: https://t.co/wn91EhVZ5V https://t.co/vncQYgE6Eg\",\n",
       " \"It’s in some of our darkest moments of despair that we’ve made some of our greatest progress. If we stand together, as one America, we'll rise stronger than before. https://t.co/buzkmkM1Gf\"]"
      ]
     },
     "execution_count": 5,
     "metadata": {},
     "output_type": "execute_result"
    }
   ],
   "source": [
    "list(_)"
   ]
  },
  {
   "cell_type": "code",
   "execution_count": 6,
   "metadata": {},
   "outputs": [
    {
     "data": {
      "text/plain": [
       "615     Donald Trump's \"Remain in Mexico\" policy is da...\n",
       "627     We’re building a campaign powered by the backb...\n",
       "153     34 U.S. troops have been diagnosed with trauma...\n",
       "2372    Donald Trump is the worst president we've ever...\n",
       "825     Families across the country are impacted by CO...\n",
       "Name: tweet, dtype: object"
      ]
     },
     "execution_count": 6,
     "metadata": {},
     "output_type": "execute_result"
    }
   ],
   "source": [
    "data.sort_values('sentiment', ascending=False).tweet.iloc[-5:]"
   ]
  },
  {
   "cell_type": "code",
   "execution_count": 7,
   "metadata": {},
   "outputs": [
    {
     "data": {
      "text/plain": [
       "['Donald Trump\\'s \"Remain in Mexico\" policy is dangerous, inhumane, and goes against everything we stand for as a nation of immigrants. My administration will end it. https://t.co/toYzMaPP1Y',\n",
       " 'We’re building a campaign powered by the backbone and the base of the Democratic party. A campaign that will defeat Donald Trump and restore the soul of this nation. Join us: https://t.co/gnaFCACYrW',\n",
       " '34 U.S. troops have been diagnosed with traumatic brain injury after Iranian missiles struck their base in Iraq. Donald Trump brought us to the brink of war—then dismissed the injuries as “headaches.”\\n\\nThe idea that the commander in chief would take this lightly is disgusting. https://t.co/Cn8Bb7KLy4',\n",
       " \"Donald Trump is the worst president we've ever had.\",\n",
       " 'Families across the country are impacted by COVID-19—and it can be especially difficult to explain to children. \\n\\nJill and I spoke with ItsJudysLife, JHouseVlogs and The Curly Coopers to answer their questions about the crisis. Tune in on Sunday at 7PM ET: https://t.co/xk0GcS7PGq https://t.co/TUQnhOroTU']"
      ]
     },
     "execution_count": 7,
     "metadata": {},
     "output_type": "execute_result"
    }
   ],
   "source": [
    "list(_)"
   ]
  },
  {
   "cell_type": "code",
   "execution_count": 8,
   "metadata": {},
   "outputs": [
    {
     "data": {
      "text/plain": [
       "2372    Donald Trump is the worst president we've ever...\n",
       "1906    There are only 78 days until Election Day — an...\n",
       "627     We’re building a campaign powered by the backb...\n",
       "2558    Donald Trump is running TV ads taking Dr. Fauc...\n",
       "360     Lots of people on stage talked about health ca...\n",
       "Name: tweet, dtype: object"
      ]
     },
     "execution_count": 8,
     "metadata": {},
     "output_type": "execute_result"
    }
   ],
   "source": [
    "data.sort_values('subjectivity', ascending=False).tweet.head()"
   ]
  },
  {
   "cell_type": "code",
   "execution_count": 9,
   "metadata": {},
   "outputs": [
    {
     "data": {
      "text/plain": [
       "[\"Donald Trump is the worst president we've ever had.\",\n",
       " 'There are only 78 days until Election Day — and @KamalaHarris and I need your help to make Donald Trump a one-term president.\\n\\nSign up today and let’s get to work: https://t.co/lyhRyWPhvS',\n",
       " 'We’re building a campaign powered by the backbone and the base of the Democratic party. A campaign that will defeat Donald Trump and restore the soul of this nation. Join us: https://t.co/gnaFCACYrW',\n",
       " 'Donald Trump is running TV ads taking Dr. Fauci out of context and without his permission.\\n\\nSo, here’s a message from the President in his own words. https://t.co/WCYbIfrQLR',\n",
       " 'Lots of people on stage talked about health care tonight. I’m the only one who’s gotten anything done. #DemDebate']"
      ]
     },
     "execution_count": 9,
     "metadata": {},
     "output_type": "execute_result"
    }
   ],
   "source": [
    "list(_)"
   ]
  },
  {
   "cell_type": "code",
   "execution_count": 10,
   "metadata": {},
   "outputs": [
    {
     "data": {
      "text/plain": [
       "0    [(2019, DATE, 34, 38), (just hours, TIME, 42, ...\n",
       "1                                                   []\n",
       "2    [(one month, DATE, 15, 24), (the Iowa Caucus, ...\n",
       "3    [(Donald Trump, PERSON, 52, 64), (https://t.co...\n",
       "4    [(Every day, DATE, 0, 9), (Donald Trump, PERSO...\n",
       "dtype: object"
      ]
     },
     "execution_count": 10,
     "metadata": {},
     "output_type": "execute_result"
    }
   ],
   "source": [
    "texthero.named_entities(data.tweet.head())"
   ]
  },
  {
   "cell_type": "code",
   "execution_count": 11,
   "metadata": {},
   "outputs": [],
   "source": [
    "data['entities'] = texthero.named_entities(data.tweet)"
   ]
  },
  {
   "cell_type": "code",
   "execution_count": 12,
   "metadata": {},
   "outputs": [
    {
     "data": {
      "text/html": [
       "<div>\n",
       "<style scoped>\n",
       "    .dataframe tbody tr th:only-of-type {\n",
       "        vertical-align: middle;\n",
       "    }\n",
       "\n",
       "    .dataframe tbody tr th {\n",
       "        vertical-align: top;\n",
       "    }\n",
       "\n",
       "    .dataframe thead th {\n",
       "        text-align: right;\n",
       "    }\n",
       "</style>\n",
       "<table border=\"1\" class=\"dataframe\">\n",
       "  <thead>\n",
       "    <tr style=\"text-align: right;\">\n",
       "      <th></th>\n",
       "      <th>text</th>\n",
       "      <th>entity</th>\n",
       "      <th>start</th>\n",
       "      <th>end</th>\n",
       "      <th>count</th>\n",
       "    </tr>\n",
       "  </thead>\n",
       "  <tbody>\n",
       "    <tr>\n",
       "      <th>0</th>\n",
       "      <td>2019</td>\n",
       "      <td>DATE</td>\n",
       "      <td>34</td>\n",
       "      <td>38</td>\n",
       "      <td>1</td>\n",
       "    </tr>\n",
       "    <tr>\n",
       "      <th>1</th>\n",
       "      <td>just hours</td>\n",
       "      <td>TIME</td>\n",
       "      <td>42</td>\n",
       "      <td>52</td>\n",
       "      <td>1</td>\n",
       "    </tr>\n",
       "    <tr>\n",
       "      <th>2</th>\n",
       "      <td>Donald Trump</td>\n",
       "      <td>PERSON</td>\n",
       "      <td>148</td>\n",
       "      <td>160</td>\n",
       "      <td>1</td>\n",
       "    </tr>\n",
       "    <tr>\n",
       "      <th>3</th>\n",
       "      <td>one</td>\n",
       "      <td>CARDINAL</td>\n",
       "      <td>163</td>\n",
       "      <td>166</td>\n",
       "      <td>1</td>\n",
       "    </tr>\n",
       "    <tr>\n",
       "      <th>4</th>\n",
       "      <td>midnight</td>\n",
       "      <td>TIME</td>\n",
       "      <td>199</td>\n",
       "      <td>207</td>\n",
       "      <td>1</td>\n",
       "    </tr>\n",
       "  </tbody>\n",
       "</table>\n",
       "</div>"
      ],
      "text/plain": [
       "           text    entity  start  end  count\n",
       "0          2019      DATE     34   38      1\n",
       "1    just hours      TIME     42   52      1\n",
       "2  Donald Trump    PERSON    148  160      1\n",
       "3           one  CARDINAL    163  166      1\n",
       "4      midnight      TIME    199  207      1"
      ]
     },
     "execution_count": 12,
     "metadata": {},
     "output_type": "execute_result"
    }
   ],
   "source": [
    "entities = pd.DataFrame(data.entities.sum(), columns=['text', 'entity', 'start','end'])\n",
    "entities['count'] = 1\n",
    "entities.head()"
   ]
  },
  {
   "cell_type": "code",
   "execution_count": 13,
   "metadata": {},
   "outputs": [],
   "source": [
    "counts = entities.groupby(['entity', 'text'])['count'].count()"
   ]
  },
  {
   "cell_type": "code",
   "execution_count": 14,
   "metadata": {},
   "outputs": [
    {
     "data": {
      "text/plain": [
       "text\n",
       "Donald Trump      512\n",
       "Trump             159\n",
       "Jill               38\n",
       "Donald Trump's     34\n",
       "Obama              16\n",
       "Name: count, dtype: int64"
      ]
     },
     "execution_count": 14,
     "metadata": {},
     "output_type": "execute_result"
    }
   ],
   "source": [
    "counts.loc['PERSON'].sort_values(ascending=False).head()"
   ]
  },
  {
   "cell_type": "code",
   "execution_count": 15,
   "metadata": {},
   "outputs": [
    {
     "data": {
      "text/plain": [
       "text\n",
       "Super Tuesday            4\n",
       "7PM ET                   2\n",
       "New Year                 2\n",
       "the Great Depression     2\n",
       "the Armenian Genocide    2\n",
       "Name: count, dtype: int64"
      ]
     },
     "execution_count": 15,
     "metadata": {},
     "output_type": "execute_result"
    }
   ],
   "source": [
    "counts.loc['EVENT'].sort_values(ascending=False).head()"
   ]
  },
  {
   "cell_type": "code",
   "execution_count": null,
   "metadata": {},
   "outputs": [],
   "source": []
  }
 ],
 "metadata": {
  "kernelspec": {
   "display_name": "Python 3",
   "language": "python",
   "name": "python3"
  },
  "language_info": {
   "codemirror_mode": {
    "name": "ipython",
    "version": 3
   },
   "file_extension": ".py",
   "mimetype": "text/x-python",
   "name": "python",
   "nbconvert_exporter": "python",
   "pygments_lexer": "ipython3",
   "version": "3.8.8"
  }
 },
 "nbformat": 4,
 "nbformat_minor": 4
}
