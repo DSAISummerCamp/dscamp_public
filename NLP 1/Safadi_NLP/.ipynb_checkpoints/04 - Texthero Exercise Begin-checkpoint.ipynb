{
 "cells": [
  {
   "cell_type": "code",
   "execution_count": 1,
   "metadata": {},
   "outputs": [],
   "source": [
    "import pandas as pd\n",
    "from textblob import TextBlob\n",
    "import spacy"
   ]
  },
  {
   "cell_type": "code",
   "execution_count": 2,
   "metadata": {
    "scrolled": false
   },
   "outputs": [
    {
     "data": {
      "text/html": [
       "<div>\n",
       "<style scoped>\n",
       "    .dataframe tbody tr th:only-of-type {\n",
       "        vertical-align: middle;\n",
       "    }\n",
       "\n",
       "    .dataframe tbody tr th {\n",
       "        vertical-align: top;\n",
       "    }\n",
       "\n",
       "    .dataframe thead th {\n",
       "        text-align: right;\n",
       "    }\n",
       "</style>\n",
       "<table border=\"1\" class=\"dataframe\">\n",
       "  <thead>\n",
       "    <tr style=\"text-align: right;\">\n",
       "      <th></th>\n",
       "      <th>timestamp</th>\n",
       "      <th>url</th>\n",
       "      <th>tweet</th>\n",
       "      <th>replies</th>\n",
       "      <th>retweets</th>\n",
       "      <th>quotes</th>\n",
       "      <th>likes</th>\n",
       "    </tr>\n",
       "  </thead>\n",
       "  <tbody>\n",
       "    <tr>\n",
       "      <th>0</th>\n",
       "      <td>2020-01-01 01:15</td>\n",
       "      <td>https://twitter.com/JoeBiden/status/1212180387...</td>\n",
       "      <td>Our final fundraising deadline of 2019 is just...</td>\n",
       "      <td>411</td>\n",
       "      <td>269</td>\n",
       "      <td>32</td>\n",
       "      <td>948</td>\n",
       "    </tr>\n",
       "    <tr>\n",
       "      <th>1</th>\n",
       "      <td>2020-01-01 18:35</td>\n",
       "      <td>https://twitter.com/JoeBiden/status/1212442112...</td>\n",
       "      <td>Every single human being deserves to be treate...</td>\n",
       "      <td>1136</td>\n",
       "      <td>2423</td>\n",
       "      <td>182</td>\n",
       "      <td>11574</td>\n",
       "    </tr>\n",
       "    <tr>\n",
       "      <th>2</th>\n",
       "      <td>2020-01-02 00:01</td>\n",
       "      <td>https://twitter.com/JoeBiden/status/1212524152...</td>\n",
       "      <td>With just over one month until the Iowa Caucus...</td>\n",
       "      <td>332</td>\n",
       "      <td>368</td>\n",
       "      <td>29</td>\n",
       "      <td>1457</td>\n",
       "    </tr>\n",
       "    <tr>\n",
       "      <th>3</th>\n",
       "      <td>2020-01-02 01:05</td>\n",
       "      <td>https://twitter.com/JoeBiden/status/1212540258...</td>\n",
       "      <td>This election is about the soul of our nation ...</td>\n",
       "      <td>5199</td>\n",
       "      <td>10192</td>\n",
       "      <td>1153</td>\n",
       "      <td>44886</td>\n",
       "    </tr>\n",
       "    <tr>\n",
       "      <th>4</th>\n",
       "      <td>2020-01-02 02:07</td>\n",
       "      <td>https://twitter.com/JoeBiden/status/1212556035...</td>\n",
       "      <td>Every day that Donald Trump remains in the Whi...</td>\n",
       "      <td>1070</td>\n",
       "      <td>2005</td>\n",
       "      <td>128</td>\n",
       "      <td>9581</td>\n",
       "    </tr>\n",
       "  </tbody>\n",
       "</table>\n",
       "</div>"
      ],
      "text/plain": [
       "          timestamp                                                url  \\\n",
       "0  2020-01-01 01:15  https://twitter.com/JoeBiden/status/1212180387...   \n",
       "1  2020-01-01 18:35  https://twitter.com/JoeBiden/status/1212442112...   \n",
       "2  2020-01-02 00:01  https://twitter.com/JoeBiden/status/1212524152...   \n",
       "3  2020-01-02 01:05  https://twitter.com/JoeBiden/status/1212540258...   \n",
       "4  2020-01-02 02:07  https://twitter.com/JoeBiden/status/1212556035...   \n",
       "\n",
       "                                               tweet  replies  retweets  \\\n",
       "0  Our final fundraising deadline of 2019 is just...      411       269   \n",
       "1  Every single human being deserves to be treate...     1136      2423   \n",
       "2  With just over one month until the Iowa Caucus...      332       368   \n",
       "3  This election is about the soul of our nation ...     5199     10192   \n",
       "4  Every day that Donald Trump remains in the Whi...     1070      2005   \n",
       "\n",
       "   quotes  likes  \n",
       "0      32    948  \n",
       "1     182  11574  \n",
       "2      29   1457  \n",
       "3    1153  44886  \n",
       "4     128   9581  "
      ]
     },
     "execution_count": 2,
     "metadata": {},
     "output_type": "execute_result"
    }
   ],
   "source": [
    "data = pd.read_csv('data/joe_biden_tweets_2020.csv')\n",
    "data.head()"
   ]
  },
  {
   "cell_type": "markdown",
   "metadata": {},
   "source": [
    "- Using TextBlob evaluate the sentiment and polarization of each tweet\n",
    "- show the five most positive tweets (based on polarity)\n",
    "- show the five most negative tweets (based on polarity)\n",
    "- show the five most subjective tweets\n",
    "- Using texthero perform named entity extraction\n",
    "- What are the five most frequent `PERSON` entities\n",
    "- What are the five most frequent `EVENT` entities"
   ]
  },
  {
   "cell_type": "code",
   "execution_count": null,
   "metadata": {},
   "outputs": [],
   "source": []
  }
 ],
 "metadata": {
  "kernelspec": {
   "display_name": "Python 3",
   "language": "python",
   "name": "python3"
  },
  "language_info": {
   "codemirror_mode": {
    "name": "ipython",
    "version": 3
   },
   "file_extension": ".py",
   "mimetype": "text/x-python",
   "name": "python",
   "nbconvert_exporter": "python",
   "pygments_lexer": "ipython3",
   "version": "3.8.8"
  }
 },
 "nbformat": 4,
 "nbformat_minor": 4
}
