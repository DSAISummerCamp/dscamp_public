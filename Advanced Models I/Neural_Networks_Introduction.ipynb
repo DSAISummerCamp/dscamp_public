{
  "nbformat": 4,
  "nbformat_minor": 0,
  "metadata": {
    "kernelspec": {
      "display_name": "Python 3",
      "language": "python",
      "name": "python3"
    },
    "language_info": {
      "codemirror_mode": {
        "name": "ipython",
        "version": 3
      },
      "file_extension": ".py",
      "mimetype": "text/x-python",
      "name": "python",
      "nbconvert_exporter": "python",
      "pygments_lexer": "ipython3",
      "version": "3.6.7"
    },
    "colab": {
      "name": "1-Neural_Networks_Introduction.ipynb",
      "provenance": [],
      "collapsed_sections": [],
      "toc_visible": true
    }
  },
  "cells": [
    {
      "cell_type": "markdown",
      "source": [
        ""
      ],
      "metadata": {
        "id": "nGREo_WlMwBa"
      }
    },
    {
      "cell_type": "markdown",
      "metadata": {
        "id": "CIvagdt_z3ap"
      },
      "source": [
        "# 0 Setup\n",
        "\n",
        "In this sections we set up the notebook, and import the tensorfow/keras packages.\n",
        "\n",
        "You should re-run this section if you need to restart your notebook. "
      ]
    },
    {
      "cell_type": "markdown",
      "metadata": {
        "id": "k8gbIhTQz3aq"
      },
      "source": [
        "Some things to keep in mind as you work through these examples: \n",
        "    \n",
        "    * Don't be afraid to experiment and see what happens\n",
        "    * Make good use of the documentation and/or help files, when you need them.\n",
        "    * Sometimes machine-learning models can be a little picky about the data type.  Originally, it prefered numpy arrays, but has been improving its Pandas support.  Still, sometimes numpy is better.  Sometimes it is picky about the shape of numpy arrays."
      ]
    },
    {
      "cell_type": "markdown",
      "metadata": {
        "id": "2Owi_2kyz3aq"
      },
      "source": [
        "## 0.1 Module Imports\n",
        "\n",
        "**Importing Necessary Modules**\n",
        "First, we import the modules that we will be using.  Some modules may be imported later on as needed. "
      ]
    },
    {
      "cell_type": "code",
      "metadata": {
        "id": "DLt9X5mpz3ar"
      },
      "source": [
        "## Standard Modules for DataScience\n",
        "import numpy as np\n",
        "import pandas as pd\n",
        "import matplotlib.pyplot as plt\n",
        "%matplotlib inline\n",
        "\n",
        "## Metrics to help evaluate the models\n",
        "from sklearn.metrics import mean_squared_error, roc_auc_score, accuracy_score, confusion_matrix\n",
        "from sklearn.model_selection import train_test_split"
      ],
      "execution_count": null,
      "outputs": []
    },
    {
      "cell_type": "code",
      "metadata": {
        "id": "AQyAGxaH0Tze"
      },
      "source": [
        "## TensorFlow/Keras, for building Neural Network Models\n",
        "from tensorflow.keras.models import Sequential\n",
        "from tensorflow.keras.layers import Dense\n",
        "from tensorflow.keras.utils import plot_model"
      ],
      "execution_count": null,
      "outputs": []
    },
    {
      "cell_type": "markdown",
      "metadata": {
        "id": "XM3zH-pb1UHY"
      },
      "source": [
        "## 0.2 Mounting the Google Drive\n",
        "\n",
        "**Mounting the Google Drive**\n",
        "\n",
        "This assumes you have previously downloaded the data science camp GitHub repository, and are running this notebook from its location in that repository.  Otherwise, you may need to adjust the path to the data as needed."
      ]
    },
    {
      "cell_type": "code",
      "metadata": {
        "id": "esEDJbQ61TMR",
        "colab": {
          "base_uri": "https://localhost:8080/"
        },
        "outputId": "f7351015-3138-4c16-a84b-03fb9c68f80c"
      },
      "source": [
        "from google.colab import drive\n",
        "drive.mount('/content/gdrive')\n"
      ],
      "execution_count": null,
      "outputs": [
        {
          "output_type": "stream",
          "name": "stdout",
          "text": [
            "Mounted at /content/gdrive\n"
          ]
        }
      ]
    },
    {
      "cell_type": "code",
      "metadata": {
        "id": "-SkLSOcE2bVE",
        "outputId": "ba72cdc0-84ac-46fa-d89a-9a8f2c55c9b1",
        "colab": {
          "base_uri": "https://localhost:8080/"
        }
      },
      "source": [
        "## Change the current directory\n",
        "%cd '/content/gdrive/My Drive/dscamp/dscamp_public/Advanced Models I'"
      ],
      "execution_count": null,
      "outputs": [
        {
          "output_type": "stream",
          "name": "stdout",
          "text": [
            "/content/gdrive/My Drive/dscamp/dscamp_public/Neural Networks\n"
          ]
        }
      ]
    },
    {
      "cell_type": "code",
      "metadata": {
        "id": "IGmkvGyJ22s_",
        "colab": {
          "base_uri": "https://localhost:8080/"
        },
        "outputId": "8d497c5a-f220-41a4-ec2a-3e62b1c9a349"
      },
      "source": [
        "%ls"
      ],
      "execution_count": null,
      "outputs": [
        {
          "output_type": "stream",
          "name": "stdout",
          "text": [
            " 1-Neural_Networks_Introduction.ipynb\n",
            " 2-AgesOfFaces.ipynb\n",
            " \u001b[0m\u001b[01;34mdata\u001b[0m/\n",
            "'Destination_Convolutional Neural Networks.pptx'\n",
            " \u001b[01;34mimages\u001b[0m/\n",
            "'Journey to Neural Networks.pptx'\n",
            " proj_santa_detector.ipynb\n",
            " README.md\n",
            " \u001b[01;34mUGA_NeuralNetworks\u001b[0m/\n"
          ]
        }
      ]
    },
    {
      "cell_type": "markdown",
      "metadata": {
        "id": "cm30ob0rz3ax"
      },
      "source": [
        "## 0.3 Create Utility Functions\n",
        "The code block below contains several functions designed to simplify using neural networks. "
      ]
    },
    {
      "cell_type": "code",
      "metadata": {
        "id": "MVPI4sbWz3ay"
      },
      "source": [
        "def sigmoid(x):\n",
        "    \"\"\"Calculate the sigmoid function of the input\"\"\"\n",
        "    f =  1/(1+np.exp(-1*x))  # ask about why not e^x/(1 + e^x)\n",
        "    return f\n",
        "\n",
        "def tanh(x):\n",
        "    \"\"\"Calculate the hyperbolic tangent\"\"\"\n",
        "    f = np.tanh(x)\n",
        "    return f\n",
        "\n",
        "def log_loss(y, yhat):\n",
        "    \"\"\"Calculate the log-loss for a set of true y and predicted y\"\"\"\n",
        "    l = -(y*np.log(yhat) + (1-y)*np.log(1-yhat))\n",
        "    return l.sum()\n",
        "\n",
        "def plot_learning_loss(hst):\n",
        "    \"\"\"\n",
        "    Input:\n",
        "    ---------------\n",
        "    hst - The training history from a keras model\n",
        "    \n",
        "    Returns:\n",
        "    ---------------\n",
        "    A figure object with learning curves showing the loss (and accuracy, if available)\n",
        "    \n",
        "    \"\"\"\n",
        "    fig, ax = plt.subplots(1,1, figsize=(20,10))\n",
        "    ax.plot(hst.history['loss'], label='Training')\n",
        "    if 'val_loss' in hst.history.keys():\n",
        "        ax.plot(hst.history['val_loss'], label='Validation')\n",
        "        ax.legend()\n",
        "    ax.set_title('Loss')\n",
        "    ax.set_xlabel('Epoch')\n",
        "    ax.set_ylabel('loss')\n",
        "    return fig"
      ],
      "execution_count": null,
      "outputs": []
    },
    {
      "cell_type": "code",
      "source": [
        "# Intuition behind the log-loss\n",
        "# Entropy (degree of chaos/uncertainty)\n",
        "x = np.linspace(0.0001, 0.9999, 100)\n",
        "entropy = -(x * np.log(x) + (1-x) * np.log(1-x))\n",
        "plt.plot(x, entropy)\n",
        "plt.vlines(x=0.5, ymin=0, ymax=0.7)"
      ],
      "metadata": {
        "colab": {
          "base_uri": "https://localhost:8080/",
          "height": 282
        },
        "id": "y8q9biA_j1Hz",
        "outputId": "60b326f6-d0f2-466e-bf38-28471e8d16d3"
      },
      "execution_count": null,
      "outputs": [
        {
          "output_type": "execute_result",
          "data": {
            "text/plain": [
              "<matplotlib.collections.LineCollection at 0x7f4208721750>"
            ]
          },
          "metadata": {},
          "execution_count": 7
        },
        {
          "output_type": "display_data",
          "data": {
            "text/plain": [
              "<Figure size 432x288 with 1 Axes>"
            ],
            "image/png": "[encoded data removed]"
          },
          "metadata": {
            "needs_background": "light"
          }
        }
      ]
    },
    {
      "cell_type": "code",
      "source": [
        "# log_loss (as defined above) is a kind of entropy, it is\n",
        "# actually called binary cross entropy, which\n",
        "# we want to minimize during the training.\n",
        "# Reducing log-loss decreases entropy, which increases match\n",
        "# between the learned model and the truth.\n",
        "\n",
        "from itertools import repeat, chain\n",
        "\n",
        "def compute_entropy(y, yhat):\n",
        "    return -(y*np.log(yhat) + (1-y)*np.log(1-yhat))\n",
        "\n",
        "y = np.array(list(chain(repeat(0, 50), repeat(1, 50))))\n",
        "yhat = np.linspace(0.0001, 0.9999, 100)\n",
        "y, yhat = np.meshgrid(y, yhat)\n",
        "entropy = compute_entropy(y, yhat)"
      ],
      "metadata": {
        "id": "rgA-2kYtgNkq"
      },
      "execution_count": null,
      "outputs": []
    },
    {
      "cell_type": "code",
      "source": [
        "y_flat = np.ravel(y)\n",
        "yhat_flat = np.ravel(yhat)\n",
        "entropy_flat = np.ravel(entropy)\n",
        "ax = plt.axes(projection='3d')\n",
        "ax.scatter(y_flat, yhat_flat, entropy_flat)\n",
        "ax.set_xlabel('y')\n",
        "ax.set_ylabel('yhat')\n",
        "ax.set_zlabel('entropy');"
      ],
      "metadata": {
        "colab": {
          "base_uri": "https://localhost:8080/",
          "height": 248
        },
        "id": "wSXVbntciNMX",
        "outputId": "0b1b348d-891d-4865-ac8a-ff74c7a35d91"
      },
      "execution_count": null,
      "outputs": [
        {
          "output_type": "display_data",
          "data": {
            "text/plain": [
              "<Figure size 432x288 with 1 Axes>"
            ],
            "image/png": "[encoded data removed]"
          },
          "metadata": {
            "needs_background": "light"
          }
        }
      ]
    },
    {
      "cell_type": "markdown",
      "metadata": {
        "id": "0AUGX6Asz3a0"
      },
      "source": [
        "# 1 Example Calculations (Optional)\n",
        "\n",
        "In this section, we carry out the example calculations from the accompanying slides.  \n",
        "\n",
        "## Single Neuron Calculations\n",
        "\n",
        "This should illustrate that TensorFlow/Keras is not efficient for a single neuron, but later we will see that it is efficient for networks of many neurons."
      ]
    },
    {
      "cell_type": "code",
      "metadata": {
        "id": "QctSJMLDz3a1"
      },
      "source": [
        "## By Hand\n",
        "## This is a blank cell to use Python as a calculator, if you are so inclined.\n"
      ],
      "execution_count": null,
      "outputs": []
    },
    {
      "cell_type": "code",
      "metadata": {
        "id": "ts-7iWMNz3a3"
      },
      "source": [
        "## Example Node 1\n",
        "ex_node = Sequential()\n",
        "ex_node.add(Dense(1, input_dim=3, name='mynode', activation='linear'))\n",
        "weights = np.array([2,0,-1]).reshape((3,1))\n",
        "bias = np.array([2]).reshape((1,))\n",
        "ex_node.get_layer('mynode').set_weights([weights, bias])"
      ],
      "execution_count": null,
      "outputs": []
    },
    {
      "cell_type": "code",
      "metadata": {
        "id": "5LiEji6rz3a6",
        "outputId": "d6dd9320-0f31-4152-ee6b-18b64ac0a09b",
        "colab": {
          "base_uri": "https://localhost:8080/"
        }
      },
      "source": [
        "x = np.array([2,-2, 1]).reshape((1,3))\n",
        "ex_node.predict(x)"
      ],
      "execution_count": null,
      "outputs": [
        {
          "output_type": "execute_result",
          "data": {
            "text/plain": [
              "array([[5.]], dtype=float32)"
            ]
          },
          "metadata": {},
          "execution_count": 11
        }
      ]
    },
    {
      "cell_type": "code",
      "metadata": {
        "id": "sjP5pMXTz3a9"
      },
      "source": [
        "## Example Node 2\n",
        "ex_node = Sequential()\n",
        "ex_node.add(Dense(1, input_dim=3, name='mynode', activation='sigmoid'))\n",
        "weights = np.array([2,0,-1]).reshape((3,1))\n",
        "bias = np.array([2]).reshape((1,))\n",
        "ex_node.get_layer('mynode').set_weights([weights, bias])"
      ],
      "execution_count": null,
      "outputs": []
    },
    {
      "cell_type": "code",
      "metadata": {
        "id": "ggvijh0rz3bA",
        "outputId": "47a62d5e-c480-4eed-d6ea-fd746cd5690d",
        "colab": {
          "base_uri": "https://localhost:8080/"
        }
      },
      "source": [
        "x = np.array([2,-2, 1]).reshape((1,3))\n",
        "ex_node.predict(x)"
      ],
      "execution_count": null,
      "outputs": [
        {
          "output_type": "execute_result",
          "data": {
            "text/plain": [
              "array([[0.9933071]], dtype=float32)"
            ]
          },
          "metadata": {},
          "execution_count": 13
        }
      ]
    },
    {
      "cell_type": "code",
      "source": [
        "sigmoid(5)"
      ],
      "metadata": {
        "colab": {
          "base_uri": "https://localhost:8080/"
        },
        "id": "g982bPhYtfvO",
        "outputId": "1624dbb4-d2d6-47fd-df90-32d0e397b8b1"
      },
      "execution_count": null,
      "outputs": [
        {
          "output_type": "execute_result",
          "data": {
            "text/plain": [
              "0.9933071490757153"
            ]
          },
          "metadata": {},
          "execution_count": 14
        }
      ]
    },
    {
      "cell_type": "code",
      "metadata": {
        "id": "H1zpdYZaz3bC"
      },
      "source": [
        "## Network Computation Example 1\n",
        "## This builds the network from example 3\n",
        "ex_net = Sequential()\n",
        "ex_net.add(Dense(2, input_dim=3, activation='linear', name='hl1'))\n",
        "ex_net.add(Dense(1, activation='sigmoid', name='hl2'))\n",
        "weights1 = np.array([[1,-1],[-1,0], [0,2]])\n",
        "bias1 = np.array([0,0])\n",
        "weights2 = np.array([-1,1]).reshape((2,1))\n",
        "bias2 = np.array([1])\n",
        "ex_net.get_layer('hl1').set_weights([weights1, bias1])\n",
        "ex_net.get_layer('hl2').set_weights([weights2, bias2])\n"
      ],
      "execution_count": null,
      "outputs": []
    },
    {
      "cell_type": "code",
      "metadata": {
        "id": "UWmd0rEsz3bF",
        "outputId": "da8337e0-3d58-46b9-beab-f5e6673225cc",
        "colab": {
          "base_uri": "https://localhost:8080/"
        }
      },
      "source": [
        "ex_net.layers[0].get_weights()"
      ],
      "execution_count": null,
      "outputs": [
        {
          "output_type": "execute_result",
          "data": {
            "text/plain": [
              "[array([[ 1., -1.],\n",
              "        [-1.,  0.],\n",
              "        [ 0.,  2.]], dtype=float32), array([0., 0.], dtype=float32)]"
            ]
          },
          "metadata": {},
          "execution_count": 16
        }
      ]
    },
    {
      "cell_type": "code",
      "metadata": {
        "id": "ltrwzb03z3bH",
        "outputId": "12b120d9-e231-4c1a-e3f4-e2ea5318a8d8",
        "colab": {
          "base_uri": "https://localhost:8080/"
        }
      },
      "source": [
        "## Here we can use the predict() method of the network to calculate the output\n",
        "x = np.array([2, -2, 1]).reshape((1,3))\n",
        "ex_net.predict(x)"
      ],
      "execution_count": null,
      "outputs": [
        {
          "output_type": "execute_result",
          "data": {
            "text/plain": [
              "array([[0.04742587]], dtype=float32)"
            ]
          },
          "metadata": {},
          "execution_count": 17
        }
      ]
    },
    {
      "cell_type": "markdown",
      "metadata": {
        "id": "Ot4jsS0Gz3bK"
      },
      "source": [
        "### Example Loss Function Calculation\n",
        "\n",
        "These are blank cells to ccarry out calculations of the loss function from the example in the accompanying slides."
      ]
    },
    {
      "cell_type": "code",
      "metadata": {
        "id": "nMsWcckVz3bK"
      },
      "source": [
        ""
      ],
      "execution_count": null,
      "outputs": []
    },
    {
      "cell_type": "code",
      "metadata": {
        "id": "NxtJZH5Az3bO"
      },
      "source": [
        ""
      ],
      "execution_count": null,
      "outputs": []
    },
    {
      "cell_type": "markdown",
      "metadata": {
        "id": "XOAshV-Tz3bQ"
      },
      "source": [
        "# 2 Building and Training Neural Networks to Credit Worthness\n",
        "\n",
        "We revisit the example from the previous module, this time using neural networks to predict credit-worthiness.\n"
      ]
    },
    {
      "cell_type": "markdown",
      "metadata": {
        "id": "tQshD7Kxz3bR"
      },
      "source": [
        "## 2.1 Load and Prepare the Data\n",
        "We load in the data, split off the testing set, and then **rescale** the data."
      ]
    },
    {
      "cell_type": "code",
      "metadata": {
        "id": "dyEpPfmKz3bS"
      },
      "source": [
        "## Add the PATH to the data\n",
        "df = pd.read_csv('data/face_data2.csv', index_col=\"face_id\")"
      ],
      "execution_count": null,
      "outputs": []
    },
    {
      "cell_type": "code",
      "metadata": {
        "id": "b8poNetkz3bU",
        "outputId": "147c866f-5cf5-4942-cc60-ca9dec81bdf4",
        "colab": {
          "base_uri": "https://localhost:8080/",
          "height": 487
        }
      },
      "source": [
        "## Take a look at the data structure\n",
        "df.head()"
      ],
      "execution_count": null,
      "outputs": [
        {
          "output_type": "execute_result",
          "data": {
            "text/plain": [
              "          age  gender relationship  music_genre  \\\n",
              "face_id                                           \n",
              "1        12.0    male       single      country   \n",
              "2        43.0    male       single  heavy metal   \n",
              "3        42.0    male       single         folk   \n",
              "4        29.0  female      married      country   \n",
              "5        50.0    male      married  heavy metal   \n",
              "\n",
              "                                                 band                  team  \\\n",
              "face_id                                                                       \n",
              "1                           Terminal Of The Authority    Kansas City Chiefs   \n",
              "2                                           Mutant Be     Arizona Cardinals   \n",
              "3                                 Triumphant Petition  Jacksonville Jaguars   \n",
              "4        Vitally Technicality With The Beaker Breaker       Oakland Raiders   \n",
              "5                                         Der Carnage        Miami Dolphins   \n",
              "\n",
              "        first_name  last_name          education  \\\n",
              "face_id                                            \n",
              "1             Gary    Stearns               none   \n",
              "2            Andre  Garfinkle  general_education   \n",
              "3             John    Landrum             doctor   \n",
              "4           Sandra       Cole  general_education   \n",
              "5            Ricky   Franklin           bachelor   \n",
              "\n",
              "                              education_prompt  ... hogwarts_hufflepuff  \\\n",
              "face_id                                         ...                       \n",
              "1        Goes to Pleasant Grove Grammar School  ...                   0   \n",
              "2                    Went to Elk Valley School  ...                   0   \n",
              "3                    Went to Waterford College  ...                   1   \n",
              "4                Went to Sandalwood University  ...                   0   \n",
              "5                      Went to Monarch College  ...                   0   \n",
              "\n",
              "        hogwarts_ravenclaw hogwarts_slytherin fav_pet_birds fav_pet_cats  \\\n",
              "face_id                                                                    \n",
              "1                        0                  0             0            0   \n",
              "2                        0                  0             0            0   \n",
              "3                        0                  0             0            0   \n",
              "4                        0                  1             0            0   \n",
              "5                        0                  1             0            0   \n",
              "\n",
              "        fav_pet_dogs fav_pet_fish fav_pet_horses fav_pet_reptiles  \\\n",
              "face_id                                                             \n",
              "1                  0            0              0                0   \n",
              "2                  0            0              0                0   \n",
              "3                  0            0              0                0   \n",
              "4                  0            0              0                0   \n",
              "5                  0            0              0                0   \n",
              "\n",
              "        fav_pet_rodents  \n",
              "face_id                  \n",
              "1                     1  \n",
              "2                     1  \n",
              "3                     1  \n",
              "4                     1  \n",
              "5                     1  \n",
              "\n",
              "[5 rows x 58 columns]"
            ],
            "text/html": [
              "\n",
              "  <div id=\"df-0c3401eb-642d-474c-a8c8-07da2b5878b5\">\n",
              "    <div class=\"colab-df-container\">\n",
              "      <div>\n",
              "<style scoped>\n",
              "    .dataframe tbody tr th:only-of-type {\n",
              "        vertical-align: middle;\n",
              "    }\n",
              "\n",
              "    .dataframe tbody tr th {\n",
              "        vertical-align: top;\n",
              "    }\n",
              "\n",
              "    .dataframe thead th {\n",
              "        text-align: right;\n",
              "    }\n",
              "</style>\n",
              "<table border=\"1\" class=\"dataframe\">\n",
              "  <thead>\n",
              "    <tr style=\"text-align: right;\">\n",
              "      <th></th>\n",
              "      <th>age</th>\n",
              "      <th>gender</th>\n",
              "      <th>relationship</th>\n",
              "      <th>music_genre</th>\n",
              "      <th>band</th>\n",
              "      <th>team</th>\n",
              "      <th>first_name</th>\n",
              "      <th>last_name</th>\n",
              "      <th>education</th>\n",
              "      <th>education_prompt</th>\n",
              "      <th>...</th>\n",
              "      <th>hogwarts_hufflepuff</th>\n",
              "      <th>hogwarts_ravenclaw</th>\n",
              "      <th>hogwarts_slytherin</th>\n",
              "      <th>fav_pet_birds</th>\n",
              "      <th>fav_pet_cats</th>\n",
              "      <th>fav_pet_dogs</th>\n",
              "      <th>fav_pet_fish</th>\n",
              "      <th>fav_pet_horses</th>\n",
              "      <th>fav_pet_reptiles</th>\n",
              "      <th>fav_pet_rodents</th>\n",
              "    </tr>\n",
              "    <tr>\n",
              "      <th>face_id</th>\n",
              "      <th></th>\n",
              "      <th></th>\n",
              "      <th></th>\n",
              "      <th></th>\n",
              "      <th></th>\n",
              "      <th></th>\n",
              "      <th></th>\n",
              "      <th></th>\n",
              "      <th></th>\n",
              "      <th></th>\n",
              "      <th></th>\n",
              "      <th></th>\n",
              "      <th></th>\n",
              "      <th></th>\n",
              "      <th></th>\n",
              "      <th></th>\n",
              "      <th></th>\n",
              "      <th></th>\n",
              "      <th></th>\n",
              "      <th></th>\n",
              "      <th></th>\n",
              "    </tr>\n",
              "  </thead>\n",
              "  <tbody>\n",
              "    <tr>\n",
              "      <th>1</th>\n",
              "      <td>12.0</td>\n",
              "      <td>male</td>\n",
              "      <td>single</td>\n",
              "      <td>country</td>\n",
              "      <td>Terminal Of The Authority</td>\n",
              "      <td>Kansas City Chiefs</td>\n",
              "      <td>Gary</td>\n",
              "      <td>Stearns</td>\n",
              "      <td>none</td>\n",
              "      <td>Goes to Pleasant Grove Grammar School</td>\n",
              "      <td>...</td>\n",
              "      <td>0</td>\n",
              "      <td>0</td>\n",
              "      <td>0</td>\n",
              "      <td>0</td>\n",
              "      <td>0</td>\n",
              "      <td>0</td>\n",
              "      <td>0</td>\n",
              "      <td>0</td>\n",
              "      <td>0</td>\n",
              "      <td>1</td>\n",
              "    </tr>\n",
              "    <tr>\n",
              "      <th>2</th>\n",
              "      <td>43.0</td>\n",
              "      <td>male</td>\n",
              "      <td>single</td>\n",
              "      <td>heavy metal</td>\n",
              "      <td>Mutant Be</td>\n",
              "      <td>Arizona Cardinals</td>\n",
              "      <td>Andre</td>\n",
              "      <td>Garfinkle</td>\n",
              "      <td>general_education</td>\n",
              "      <td>Went to Elk Valley School</td>\n",
              "      <td>...</td>\n",
              "      <td>0</td>\n",
              "      <td>0</td>\n",
              "      <td>0</td>\n",
              "      <td>0</td>\n",
              "      <td>0</td>\n",
              "      <td>0</td>\n",
              "      <td>0</td>\n",
              "      <td>0</td>\n",
              "      <td>0</td>\n",
              "      <td>1</td>\n",
              "    </tr>\n",
              "    <tr>\n",
              "      <th>3</th>\n",
              "      <td>42.0</td>\n",
              "      <td>male</td>\n",
              "      <td>single</td>\n",
              "      <td>folk</td>\n",
              "      <td>Triumphant Petition</td>\n",
              "      <td>Jacksonville Jaguars</td>\n",
              "      <td>John</td>\n",
              "      <td>Landrum</td>\n",
              "      <td>doctor</td>\n",
              "      <td>Went to Waterford College</td>\n",
              "      <td>...</td>\n",
              "      <td>1</td>\n",
              "      <td>0</td>\n",
              "      <td>0</td>\n",
              "      <td>0</td>\n",
              "      <td>0</td>\n",
              "      <td>0</td>\n",
              "      <td>0</td>\n",
              "      <td>0</td>\n",
              "      <td>0</td>\n",
              "      <td>1</td>\n",
              "    </tr>\n",
              "    <tr>\n",
              "      <th>4</th>\n",
              "      <td>29.0</td>\n",
              "      <td>female</td>\n",
              "      <td>married</td>\n",
              "      <td>country</td>\n",
              "      <td>Vitally Technicality With The Beaker Breaker</td>\n",
              "      <td>Oakland Raiders</td>\n",
              "      <td>Sandra</td>\n",
              "      <td>Cole</td>\n",
              "      <td>general_education</td>\n",
              "      <td>Went to Sandalwood University</td>\n",
              "      <td>...</td>\n",
              "      <td>0</td>\n",
              "      <td>0</td>\n",
              "      <td>1</td>\n",
              "      <td>0</td>\n",
              "      <td>0</td>\n",
              "      <td>0</td>\n",
              "      <td>0</td>\n",
              "      <td>0</td>\n",
              "      <td>0</td>\n",
              "      <td>1</td>\n",
              "    </tr>\n",
              "    <tr>\n",
              "      <th>5</th>\n",
              "      <td>50.0</td>\n",
              "      <td>male</td>\n",
              "      <td>married</td>\n",
              "      <td>heavy metal</td>\n",
              "      <td>Der Carnage</td>\n",
              "      <td>Miami Dolphins</td>\n",
              "      <td>Ricky</td>\n",
              "      <td>Franklin</td>\n",
              "      <td>bachelor</td>\n",
              "      <td>Went to Monarch College</td>\n",
              "      <td>...</td>\n",
              "      <td>0</td>\n",
              "      <td>0</td>\n",
              "      <td>1</td>\n",
              "      <td>0</td>\n",
              "      <td>0</td>\n",
              "      <td>0</td>\n",
              "      <td>0</td>\n",
              "      <td>0</td>\n",
              "      <td>0</td>\n",
              "      <td>1</td>\n",
              "    </tr>\n",
              "  </tbody>\n",
              "</table>\n",
              "<p>5 rows × 58 columns</p>\n",
              "</div>\n",
              "      <button class=\"colab-df-convert\" onclick=\"convertToInteractive('df-0c3401eb-642d-474c-a8c8-07da2b5878b5')\"\n",
              "              title=\"Convert this dataframe to an interactive table.\"\n",
              "              style=\"display:none;\">\n",
              "        \n",
              "  <svg xmlns=\"http://www.w3.org/2000/svg\" height=\"24px\"viewBox=\"0 0 24 24\"\n",
              "       width=\"24px\">\n",
              "    <path d=\"M0 0h24v24H0V0z\" fill=\"none\"/>\n",
              "    <path d=\"M18.56 5.44l.94 2.06.94-2.06 2.06-.94-2.06-.94-.94-2.06-.94 2.06-2.06.94zm-11 1L8.5 8.5l.94-2.06 2.06-.94-2.06-.94L8.5 2.5l-.94 2.06-2.06.94zm10 10l.94 2.06.94-2.06 2.06-.94-2.06-.94-.94-2.06-.94 2.06-2.06.94z\"/><path d=\"M17.41 7.96l-1.37-1.37c-.4-.4-.92-.59-1.43-.59-.52 0-1.04.2-1.43.59L10.3 9.45l-7.72 7.72c-.78.78-.78 2.05 0 2.83L4 21.41c.39.39.9.59 1.41.59.51 0 1.02-.2 1.41-.59l7.78-7.78 2.81-2.81c.8-.78.8-2.07 0-2.86zM5.41 20L4 18.59l7.72-7.72 1.47 1.35L5.41 20z\"/>\n",
              "  </svg>\n",
              "      </button>\n",
              "      \n",
              "  <style>\n",
              "    .colab-df-container {\n",
              "      display:flex;\n",
              "      flex-wrap:wrap;\n",
              "      gap: 12px;\n",
              "    }\n",
              "\n",
              "    .colab-df-convert {\n",
              "      background-color: #E8F0FE;\n",
              "      border: none;\n",
              "      border-radius: 50%;\n",
              "      cursor: pointer;\n",
              "      display: none;\n",
              "      fill: #1967D2;\n",
              "      height: 32px;\n",
              "      padding: 0 0 0 0;\n",
              "      width: 32px;\n",
              "    }\n",
              "\n",
              "    .colab-df-convert:hover {\n",
              "      background-color: #E2EBFA;\n",
              "      box-shadow: 0px 1px 2px rgba(60, 64, 67, 0.3), 0px 1px 3px 1px rgba(60, 64, 67, 0.15);\n",
              "      fill: #174EA6;\n",
              "    }\n",
              "\n",
              "    [theme=dark] .colab-df-convert {\n",
              "      background-color: #3B4455;\n",
              "      fill: #D2E3FC;\n",
              "    }\n",
              "\n",
              "    [theme=dark] .colab-df-convert:hover {\n",
              "      background-color: #434B5C;\n",
              "      box-shadow: 0px 1px 3px 1px rgba(0, 0, 0, 0.15);\n",
              "      filter: drop-shadow(0px 1px 2px rgba(0, 0, 0, 0.3));\n",
              "      fill: #FFFFFF;\n",
              "    }\n",
              "  </style>\n",
              "\n",
              "      <script>\n",
              "        const buttonEl =\n",
              "          document.querySelector('#df-0c3401eb-642d-474c-a8c8-07da2b5878b5 button.colab-df-convert');\n",
              "        buttonEl.style.display =\n",
              "          google.colab.kernel.accessAllowed ? 'block' : 'none';\n",
              "\n",
              "        async function convertToInteractive(key) {\n",
              "          const element = document.querySelector('#df-0c3401eb-642d-474c-a8c8-07da2b5878b5');\n",
              "          const dataTable =\n",
              "            await google.colab.kernel.invokeFunction('convertToInteractive',\n",
              "                                                     [key], {});\n",
              "          if (!dataTable) return;\n",
              "\n",
              "          const docLinkHtml = 'Like what you see? Visit the ' +\n",
              "            '<a target=\"_blank\" href=https://colab.research.google.com/notebooks/data_table.ipynb>data table notebook</a>'\n",
              "            + ' to learn more about interactive tables.';\n",
              "          element.innerHTML = '';\n",
              "          dataTable['output_type'] = 'display_data';\n",
              "          await google.colab.output.renderOutput(dataTable, element);\n",
              "          const docLink = document.createElement('div');\n",
              "          docLink.innerHTML = docLinkHtml;\n",
              "          element.appendChild(docLink);\n",
              "        }\n",
              "      </script>\n",
              "    </div>\n",
              "  </div>\n",
              "  "
            ]
          },
          "metadata": {},
          "execution_count": 19
        }
      ]
    },
    {
      "cell_type": "code",
      "metadata": {
        "id": "ZOy6uqsC3aZY",
        "outputId": "fd2eb538-55f0-442c-d0d2-8f6ab0dd7875",
        "colab": {
          "base_uri": "https://localhost:8080/"
        }
      },
      "source": [
        "## This is a way to look at all the variables in the data\n",
        "df.columns\n"
      ],
      "execution_count": null,
      "outputs": [
        {
          "output_type": "execute_result",
          "data": {
            "text/plain": [
              "Index(['age', 'gender', 'relationship', 'music_genre', 'band', 'team',\n",
              "       'first_name', 'last_name', 'education', 'education_prompt', 'work',\n",
              "       'work_prompt', 'fav_movie_1', 'fav_movie_2', 'fav_book_1', 'fav_book_2',\n",
              "       'fav_book_3', 'fav_auth_1', 'fav_auth_2', 'fav_auth_3', 'fav_food_1',\n",
              "       'fav_food_2', 'fav_food_3', 'home_city', 'home_state', 'languages',\n",
              "       'hogwarts', 'fav_pet', 'vg_genre', 'fav_video_game', 'spouse_id',\n",
              "       'n_friends', 'credit', 'gender_female', 'gender_male',\n",
              "       'relationship_married', 'relationship_single', 'relationship_widowed',\n",
              "       'music_genre_classical', 'music_genre_country',\n",
              "       'music_genre_electronic', 'music_genre_folk', 'music_genre_heavy metal',\n",
              "       'music_genre_hip-hop', 'music_genre_jazz', 'music_genre_rock',\n",
              "       'music_genre_tibetian throat singing', 'hogwarts_gryffindor',\n",
              "       'hogwarts_hufflepuff', 'hogwarts_ravenclaw', 'hogwarts_slytherin',\n",
              "       'fav_pet_birds', 'fav_pet_cats', 'fav_pet_dogs', 'fav_pet_fish',\n",
              "       'fav_pet_horses', 'fav_pet_reptiles', 'fav_pet_rodents'],\n",
              "      dtype='object')"
            ]
          },
          "metadata": {},
          "execution_count": 21
        }
      ]
    },
    {
      "cell_type": "markdown",
      "metadata": {
        "id": "xvDDzx2J07yy"
      },
      "source": [
        "When examining the data, we notice that several of the variables have been what we refer to as \"dummy codded\".  \n",
        "\n",
        "Since neural networks are in some sense a very complicated calculator, they work much better with numbers than they do with words.  In order to make words understandable, we often need to convert the words into numbers.  \n",
        "\n",
        "For example, look at the \"fav_pet\" variable.\n"
      ]
    },
    {
      "cell_type": "code",
      "metadata": {
        "id": "WqcrtZzZ57l6",
        "outputId": "d1105c05-df48-45d5-9543-b9909de4bb70",
        "colab": {
          "base_uri": "https://localhost:8080/"
        }
      },
      "source": [
        "df['fav_pet'].value_counts()"
      ],
      "execution_count": null,
      "outputs": [
        {
          "output_type": "execute_result",
          "data": {
            "text/plain": [
              "dogs        162\n",
              "horses      151\n",
              "reptiles    150\n",
              "birds       148\n",
              "fish        133\n",
              "cats        130\n",
              "rodents     126\n",
              "Name: fav_pet, dtype: int64"
            ]
          },
          "metadata": {},
          "execution_count": 23
        }
      ]
    },
    {
      "cell_type": "markdown",
      "metadata": {
        "id": "J8L8jJe66TJH"
      },
      "source": [
        "To make this more understandable, we \"dummy code\" or \"one hot encode\" this variable.  \n",
        "\n",
        "For each possible value, such as \"dogs\", we give the value of 1 if \"fav_pet\" is \"dogs\", and 0 otherwise.  We can see this below:"
      ]
    },
    {
      "cell_type": "code",
      "metadata": {
        "id": "ShRNGtq96F_H",
        "outputId": "ffc32e3e-04d7-46ea-e7f0-106c8cda15bd",
        "colab": {
          "base_uri": "https://localhost:8080/",
          "height": 488
        }
      },
      "source": [
        "pd.crosstab(df['fav_pet'], [df['fav_pet_birds'],  df['fav_pet_cats'],  df['fav_pet_dogs'],  df['fav_pet_fish'],  df['fav_pet_horses'],  \n",
        "                            df['fav_pet_reptiles'], df['fav_pet_rodents']])"
      ],
      "execution_count": null,
      "outputs": [
        {
          "output_type": "execute_result",
          "data": {
            "text/plain": [
              "fav_pet_birds       0                             1\n",
              "fav_pet_cats        0                        1    0\n",
              "fav_pet_dogs        0                   1    0    0\n",
              "fav_pet_fish        0              1    0    0    0\n",
              "fav_pet_horses      0         1    0    0    0    0\n",
              "fav_pet_reptiles    0    1    0    0    0    0    0\n",
              "fav_pet_rodents     1    0    0    0    0    0    0\n",
              "fav_pet                                            \n",
              "birds               0    0    0    0    0    0  148\n",
              "cats                0    0    0    0    0  130    0\n",
              "dogs                0    0    0    0  162    0    0\n",
              "fish                0    0    0  133    0    0    0\n",
              "horses              0    0  151    0    0    0    0\n",
              "reptiles            0  150    0    0    0    0    0\n",
              "rodents           126    0    0    0    0    0    0"
            ],
            "text/html": [
              "\n",
              "  <div id=\"df-b2f03e1e-5190-40aa-b9a9-1ad6684b3f79\">\n",
              "    <div class=\"colab-df-container\">\n",
              "      <div>\n",
              "<style scoped>\n",
              "    .dataframe tbody tr th:only-of-type {\n",
              "        vertical-align: middle;\n",
              "    }\n",
              "\n",
              "    .dataframe tbody tr th {\n",
              "        vertical-align: top;\n",
              "    }\n",
              "\n",
              "    .dataframe thead tr th {\n",
              "        text-align: left;\n",
              "    }\n",
              "\n",
              "    .dataframe thead tr:last-of-type th {\n",
              "        text-align: right;\n",
              "    }\n",
              "</style>\n",
              "<table border=\"1\" class=\"dataframe\">\n",
              "  <thead>\n",
              "    <tr>\n",
              "      <th>fav_pet_birds</th>\n",
              "      <th colspan=\"6\" halign=\"left\">0</th>\n",
              "      <th>1</th>\n",
              "    </tr>\n",
              "    <tr>\n",
              "      <th>fav_pet_cats</th>\n",
              "      <th colspan=\"5\" halign=\"left\">0</th>\n",
              "      <th>1</th>\n",
              "      <th>0</th>\n",
              "    </tr>\n",
              "    <tr>\n",
              "      <th>fav_pet_dogs</th>\n",
              "      <th colspan=\"4\" halign=\"left\">0</th>\n",
              "      <th>1</th>\n",
              "      <th>0</th>\n",
              "      <th>0</th>\n",
              "    </tr>\n",
              "    <tr>\n",
              "      <th>fav_pet_fish</th>\n",
              "      <th colspan=\"3\" halign=\"left\">0</th>\n",
              "      <th>1</th>\n",
              "      <th>0</th>\n",
              "      <th>0</th>\n",
              "      <th>0</th>\n",
              "    </tr>\n",
              "    <tr>\n",
              "      <th>fav_pet_horses</th>\n",
              "      <th colspan=\"2\" halign=\"left\">0</th>\n",
              "      <th>1</th>\n",
              "      <th>0</th>\n",
              "      <th>0</th>\n",
              "      <th>0</th>\n",
              "      <th>0</th>\n",
              "    </tr>\n",
              "    <tr>\n",
              "      <th>fav_pet_reptiles</th>\n",
              "      <th>0</th>\n",
              "      <th>1</th>\n",
              "      <th>0</th>\n",
              "      <th>0</th>\n",
              "      <th>0</th>\n",
              "      <th>0</th>\n",
              "      <th>0</th>\n",
              "    </tr>\n",
              "    <tr>\n",
              "      <th>fav_pet_rodents</th>\n",
              "      <th>1</th>\n",
              "      <th>0</th>\n",
              "      <th>0</th>\n",
              "      <th>0</th>\n",
              "      <th>0</th>\n",
              "      <th>0</th>\n",
              "      <th>0</th>\n",
              "    </tr>\n",
              "    <tr>\n",
              "      <th>fav_pet</th>\n",
              "      <th></th>\n",
              "      <th></th>\n",
              "      <th></th>\n",
              "      <th></th>\n",
              "      <th></th>\n",
              "      <th></th>\n",
              "      <th></th>\n",
              "    </tr>\n",
              "  </thead>\n",
              "  <tbody>\n",
              "    <tr>\n",
              "      <th>birds</th>\n",
              "      <td>0</td>\n",
              "      <td>0</td>\n",
              "      <td>0</td>\n",
              "      <td>0</td>\n",
              "      <td>0</td>\n",
              "      <td>0</td>\n",
              "      <td>148</td>\n",
              "    </tr>\n",
              "    <tr>\n",
              "      <th>cats</th>\n",
              "      <td>0</td>\n",
              "      <td>0</td>\n",
              "      <td>0</td>\n",
              "      <td>0</td>\n",
              "      <td>0</td>\n",
              "      <td>130</td>\n",
              "      <td>0</td>\n",
              "    </tr>\n",
              "    <tr>\n",
              "      <th>dogs</th>\n",
              "      <td>0</td>\n",
              "      <td>0</td>\n",
              "      <td>0</td>\n",
              "      <td>0</td>\n",
              "      <td>162</td>\n",
              "      <td>0</td>\n",
              "      <td>0</td>\n",
              "    </tr>\n",
              "    <tr>\n",
              "      <th>fish</th>\n",
              "      <td>0</td>\n",
              "      <td>0</td>\n",
              "      <td>0</td>\n",
              "      <td>133</td>\n",
              "      <td>0</td>\n",
              "      <td>0</td>\n",
              "      <td>0</td>\n",
              "    </tr>\n",
              "    <tr>\n",
              "      <th>horses</th>\n",
              "      <td>0</td>\n",
              "      <td>0</td>\n",
              "      <td>151</td>\n",
              "      <td>0</td>\n",
              "      <td>0</td>\n",
              "      <td>0</td>\n",
              "      <td>0</td>\n",
              "    </tr>\n",
              "    <tr>\n",
              "      <th>reptiles</th>\n",
              "      <td>0</td>\n",
              "      <td>150</td>\n",
              "      <td>0</td>\n",
              "      <td>0</td>\n",
              "      <td>0</td>\n",
              "      <td>0</td>\n",
              "      <td>0</td>\n",
              "    </tr>\n",
              "    <tr>\n",
              "      <th>rodents</th>\n",
              "      <td>126</td>\n",
              "      <td>0</td>\n",
              "      <td>0</td>\n",
              "      <td>0</td>\n",
              "      <td>0</td>\n",
              "      <td>0</td>\n",
              "      <td>0</td>\n",
              "    </tr>\n",
              "  </tbody>\n",
              "</table>\n",
              "</div>\n",
              "      <button class=\"colab-df-convert\" onclick=\"convertToInteractive('df-b2f03e1e-5190-40aa-b9a9-1ad6684b3f79')\"\n",
              "              title=\"Convert this dataframe to an interactive table.\"\n",
              "              style=\"display:none;\">\n",
              "        \n",
              "  <svg xmlns=\"http://www.w3.org/2000/svg\" height=\"24px\"viewBox=\"0 0 24 24\"\n",
              "       width=\"24px\">\n",
              "    <path d=\"M0 0h24v24H0V0z\" fill=\"none\"/>\n",
              "    <path d=\"M18.56 5.44l.94 2.06.94-2.06 2.06-.94-2.06-.94-.94-2.06-.94 2.06-2.06.94zm-11 1L8.5 8.5l.94-2.06 2.06-.94-2.06-.94L8.5 2.5l-.94 2.06-2.06.94zm10 10l.94 2.06.94-2.06 2.06-.94-2.06-.94-.94-2.06-.94 2.06-2.06.94z\"/><path d=\"M17.41 7.96l-1.37-1.37c-.4-.4-.92-.59-1.43-.59-.52 0-1.04.2-1.43.59L10.3 9.45l-7.72 7.72c-.78.78-.78 2.05 0 2.83L4 21.41c.39.39.9.59 1.41.59.51 0 1.02-.2 1.41-.59l7.78-7.78 2.81-2.81c.8-.78.8-2.07 0-2.86zM5.41 20L4 18.59l7.72-7.72 1.47 1.35L5.41 20z\"/>\n",
              "  </svg>\n",
              "      </button>\n",
              "      \n",
              "  <style>\n",
              "    .colab-df-container {\n",
              "      display:flex;\n",
              "      flex-wrap:wrap;\n",
              "      gap: 12px;\n",
              "    }\n",
              "\n",
              "    .colab-df-convert {\n",
              "      background-color: #E8F0FE;\n",
              "      border: none;\n",
              "      border-radius: 50%;\n",
              "      cursor: pointer;\n",
              "      display: none;\n",
              "      fill: #1967D2;\n",
              "      height: 32px;\n",
              "      padding: 0 0 0 0;\n",
              "      width: 32px;\n",
              "    }\n",
              "\n",
              "    .colab-df-convert:hover {\n",
              "      background-color: #E2EBFA;\n",
              "      box-shadow: 0px 1px 2px rgba(60, 64, 67, 0.3), 0px 1px 3px 1px rgba(60, 64, 67, 0.15);\n",
              "      fill: #174EA6;\n",
              "    }\n",
              "\n",
              "    [theme=dark] .colab-df-convert {\n",
              "      background-color: #3B4455;\n",
              "      fill: #D2E3FC;\n",
              "    }\n",
              "\n",
              "    [theme=dark] .colab-df-convert:hover {\n",
              "      background-color: #434B5C;\n",
              "      box-shadow: 0px 1px 3px 1px rgba(0, 0, 0, 0.15);\n",
              "      filter: drop-shadow(0px 1px 2px rgba(0, 0, 0, 0.3));\n",
              "      fill: #FFFFFF;\n",
              "    }\n",
              "  </style>\n",
              "\n",
              "      <script>\n",
              "        const buttonEl =\n",
              "          document.querySelector('#df-b2f03e1e-5190-40aa-b9a9-1ad6684b3f79 button.colab-df-convert');\n",
              "        buttonEl.style.display =\n",
              "          google.colab.kernel.accessAllowed ? 'block' : 'none';\n",
              "\n",
              "        async function convertToInteractive(key) {\n",
              "          const element = document.querySelector('#df-b2f03e1e-5190-40aa-b9a9-1ad6684b3f79');\n",
              "          const dataTable =\n",
              "            await google.colab.kernel.invokeFunction('convertToInteractive',\n",
              "                                                     [key], {});\n",
              "          if (!dataTable) return;\n",
              "\n",
              "          const docLinkHtml = 'Like what you see? Visit the ' +\n",
              "            '<a target=\"_blank\" href=https://colab.research.google.com/notebooks/data_table.ipynb>data table notebook</a>'\n",
              "            + ' to learn more about interactive tables.';\n",
              "          element.innerHTML = '';\n",
              "          dataTable['output_type'] = 'display_data';\n",
              "          await google.colab.output.renderOutput(dataTable, element);\n",
              "          const docLink = document.createElement('div');\n",
              "          docLink.innerHTML = docLinkHtml;\n",
              "          element.appendChild(docLink);\n",
              "        }\n",
              "      </script>\n",
              "    </div>\n",
              "  </div>\n",
              "  "
            ]
          },
          "metadata": {},
          "execution_count": 25
        }
      ]
    },
    {
      "cell_type": "markdown",
      "metadata": {
        "id": "FJtjCeGOPs32"
      },
      "source": [
        "_Note: These variables were created with the pandas function pd.get_dummies(), if you would like to create some for your own project._"
      ]
    },
    {
      "cell_type": "markdown",
      "metadata": {
        "id": "FF6CbmA6z3bZ"
      },
      "source": [
        "### 2.1.1 Splitting the Data\n",
        "Split the data into training/testing split.  We use the train_test_split from the scikit-learn model selection.\n",
        "\n",
        "Before we split, we should decide which variables to use as predictors.  We should definitely include those that were used in the logistic regression model, but also some others from the list of variables."
      ]
    },
    {
      "cell_type": "markdown",
      "metadata": {
        "id": "Hk3PNyct2TZ5"
      },
      "source": [
        "**Question:** Why do you think it would not be useful to include variables like 'last_name', 'band', 'team', or \"fav_food\" make good predictors, even if they were dummy-coded?\n",
        "\n",
        "**Question 2:** Can you think of reasons why some of these variables may be a **BAD IDEA** for a bank to use if it wants to use such a model to select who gets a credit card?"
      ]
    },
    {
      "cell_type": "code",
      "metadata": {
        "id": "AeGPaFaM7ogx"
      },
      "source": [
        "## Of the available variables, these may be considered to be predictors\n",
        "potential_pred_vars = ['age',  'languages',\n",
        "       'n_friends', 'gender_female', 'gender_male',\n",
        "       'relationship_married', 'relationship_single', 'relationship_widowed',\n",
        "       'music_genre_classical', 'music_genre_country',\n",
        "       'music_genre_electronic', 'music_genre_folk', 'music_genre_heavy metal',\n",
        "       'music_genre_hip-hop', 'music_genre_jazz', 'music_genre_rock',\n",
        "       'music_genre_tibetian throat singing', 'hogwarts_gryffindor',\n",
        "       'hogwarts_hufflepuff', 'hogwarts_ravenclaw', 'hogwarts_slytherin',\n",
        "       'fav_pet_birds', 'fav_pet_cats', 'fav_pet_dogs', 'fav_pet_fish',\n",
        "       'fav_pet_horses', 'fav_pet_reptiles', 'fav_pet_rodents']"
      ],
      "execution_count": null,
      "outputs": []
    },
    {
      "cell_type": "code",
      "metadata": {
        "id": "fwcLrfhl2HqD"
      },
      "source": [
        "## Select some of the above variables to use as predictors\n",
        "## Feel free to use some of what you learned about this data in a the previous module\n",
        "pred_vars = ['age', 'n_friends', 'hogwarts_gryffindor',\n",
        "       'hogwarts_hufflepuff', 'hogwarts_ravenclaw', 'hogwarts_slytherin',\n",
        "       'fav_pet_birds', 'fav_pet_cats', 'fav_pet_dogs', 'fav_pet_fish',\n",
        "       'fav_pet_horses', 'fav_pet_reptiles', 'fav_pet_rodents']\n",
        "\n",
        "response = 'credit'"
      ],
      "execution_count": null,
      "outputs": []
    },
    {
      "cell_type": "code",
      "metadata": {
        "id": "fB1px2lzz3bZ"
      },
      "source": [
        "\n",
        "\n",
        "x = df[pred_vars]\n",
        "y = df[response]\n",
        "\n",
        "\n",
        "xtrain, xtest, ytrain, ytest = train_test_split(x, y, test_size=0.25, random_state=123)"
      ],
      "execution_count": null,
      "outputs": []
    },
    {
      "cell_type": "markdown",
      "metadata": {
        "id": "5v7KL5xcz3bb"
      },
      "source": [
        "### 2.1.2 Rescale the Data\n",
        "The scikit-learn preprocessing  module has a few options, including a t StandardScaler(), which subtracts the variable mean and divides by the variable standard deviation and a MinMaxScaler() that maps the smallest value to\n",
        "\n",
        "The scalers work on each column (variable) seperately.\n",
        "\n",
        "Also, notice that the scalers behave like scikit-learn model objects.  You first fit them to the data to learn the transformation, and then create rescaled data by using the _transform()_ method.  "
      ]
    },
    {
      "cell_type": "code",
      "metadata": {
        "id": "_QOFn612z3bc"
      },
      "source": [
        "from sklearn.preprocessing import StandardScaler, MinMaxScaler\n",
        "\n",
        "my_scaler = MinMaxScaler()\n",
        "my_scaler.fit(xtrain)\n",
        "\n",
        "\n",
        "## Rescaled Data\n",
        "xs_train = my_scaler.transform(xtrain)\n",
        "xs_test = my_scaler.transform(xtest)\n",
        "\n",
        "\n"
      ],
      "execution_count": null,
      "outputs": []
    },
    {
      "cell_type": "markdown",
      "metadata": {
        "id": "rXeLjCbBz3bf"
      },
      "source": [
        "### 2.1.3 Some Questions about Data Preparation\n",
        "\n",
        "**Q:** Why do we learn our scaling function using only the training data? Why not use the mean/standard of the complete data set?\n",
        "\n",
        "\n",
        "**Q2:** Why do we not need to scale the response variable, y?"
      ]
    },
    {
      "cell_type": "markdown",
      "metadata": {
        "id": "3uya2a8Qz3bg"
      },
      "source": [
        "## 2.2 Build a Neural Network with a Single Hidden Layer\n",
        "Here we build our first neural network.  We chose a relatively small single hidden layer.\n"
      ]
    },
    {
      "cell_type": "code",
      "metadata": {
        "id": "QFohFfkqz3bg"
      },
      "source": [
        "from keras.models import Sequential\n",
        "from keras.layers import Dense"
      ],
      "execution_count": null,
      "outputs": []
    },
    {
      "cell_type": "code",
      "metadata": {
        "id": "_dewYyR9z3bi",
        "outputId": "18c8c862-84f3-4b8e-ed07-9ff7bc8a1be9",
        "colab": {
          "base_uri": "https://localhost:8080/"
        }
      },
      "source": [
        "xs_train.shape"
      ],
      "execution_count": null,
      "outputs": [
        {
          "output_type": "execute_result",
          "data": {
            "text/plain": [
              "(750, 13)"
            ]
          },
          "metadata": {},
          "execution_count": 35
        }
      ]
    },
    {
      "cell_type": "code",
      "metadata": {
        "id": "AOQTlii-z3bk"
      },
      "source": [
        "## Start by creating a model object\n",
        "nn1 = Sequential()\n",
        "## Add a hidden layer-- specify the dimension of the input.  Choose an activation function and a name\n",
        "nn1.add(Dense(3, input_dim=xs_train.shape[1] , activation='tanh', name='hl1'))\n",
        "nn1.add(Dense(1, activation='sigmoid', name='output'))"
      ],
      "execution_count": null,
      "outputs": []
    },
    {
      "cell_type": "code",
      "metadata": {
        "id": "0bcuLbfMz3bm"
      },
      "source": [
        "## Compile the model\n",
        "np.random.seed(55) ## Set the seed for reproducibility\n",
        "nn1.compile(optimizer='adam', loss='binary_crossentropy', metrics=['acc'])"
      ],
      "execution_count": null,
      "outputs": []
    },
    {
      "cell_type": "code",
      "metadata": {
        "scrolled": true,
        "id": "YPPROV9Sz3bo"
      },
      "source": [
        "## Fit the model \n",
        "hst = nn1.fit(xs_train, ytrain, batch_size=250, epochs=10, validation_data=(xs_test, ytest), verbose=0)"
      ],
      "execution_count": null,
      "outputs": []
    },
    {
      "cell_type": "code",
      "metadata": {
        "scrolled": false,
        "id": "03xwWFIDz3bq",
        "outputId": "047336e4-1f9c-4311-8821-493502da2476",
        "colab": {
          "base_uri": "https://localhost:8080/",
          "height": 598
        }
      },
      "source": [
        "ff = plot_learning_loss(hst)"
      ],
      "execution_count": null,
      "outputs": [
        {
          "output_type": "display_data",
          "data": {
            "text/plain": [
              "<Figure size 1440x720 with 1 Axes>"
            ],
            "image/png": "[encoded data removed]"
          },
          "metadata": {
            "needs_background": "light"
          }
        }
      ]
    },
    {
      "cell_type": "markdown",
      "metadata": {
        "id": "bX8bRFdwz3bs"
      },
      "source": [
        "This seems like our network is still learning.  Let's try training it for longer."
      ]
    },
    {
      "cell_type": "code",
      "metadata": {
        "scrolled": true,
        "id": "GNVj5bn_z3bt"
      },
      "source": [
        "## Fit the model \n",
        "hst = nn1.fit(xs_train, ytrain, batch_size=250, epochs=20, validation_split=0.2, verbose=0)"
      ],
      "execution_count": null,
      "outputs": []
    },
    {
      "cell_type": "code",
      "metadata": {
        "id": "h_KoFC_Uz3bu",
        "outputId": "3e88a051-1686-4298-d566-853104e89f6b",
        "colab": {
          "base_uri": "https://localhost:8080/",
          "height": 598
        }
      },
      "source": [
        "ff = plot_learning_loss(hst)"
      ],
      "execution_count": null,
      "outputs": [
        {
          "output_type": "display_data",
          "data": {
            "text/plain": [
              "<Figure size 1440x720 with 1 Axes>"
            ],
            "image/png": "[encoded data removed]"
          },
          "metadata": {
            "needs_background": "light"
          }
        }
      ]
    },
    {
      "cell_type": "markdown",
      "metadata": {
        "id": "pcTbtInWz3bw"
      },
      "source": [
        "**Note:** What is going on here?  The training calling fit() on the model again caused the model to pick up where it started, rather than starting again.  In this case (and many other), it may be useful, but often we want to change some parameters on the model, and start it again.  \n",
        "\n",
        "Let's do this now.  Let's build a model from the beginning, and try a smaller batch size."
      ]
    },
    {
      "cell_type": "code",
      "metadata": {
        "id": "ykHjH59bz3bx"
      },
      "source": [
        "## Start by creating a model object\n",
        "nn1 = Sequential()\n",
        "## Add a hidden layer-- specify the dimension \n",
        "nn1.add(Dense(3, input_dim=xs_train.shape[1] , activation='tanh', name='hl1'))\n",
        "nn1.add(Dense(1, activation='sigmoid', name='output'))"
      ],
      "execution_count": null,
      "outputs": []
    },
    {
      "cell_type": "code",
      "metadata": {
        "id": "nG4VDYwOz3bz"
      },
      "source": [
        "## Compile the model\n",
        "np.random.seed(55) ## Set the seed for reproducibility\n",
        "nn1.compile(optimizer='sgd', loss='binary_crossentropy', metrics=['acc'])"
      ],
      "execution_count": null,
      "outputs": []
    },
    {
      "cell_type": "code",
      "metadata": {
        "scrolled": true,
        "id": "HQK9ACBmz3b1"
      },
      "source": [
        "## Fit the model \n",
        "hst = nn1.fit(xs_train, ytrain, batch_size=50, epochs=100, validation_split=0.2, verbose=0)"
      ],
      "execution_count": null,
      "outputs": []
    },
    {
      "cell_type": "code",
      "metadata": {
        "scrolled": false,
        "id": "1MA43zEyz3b3",
        "outputId": "e6951b33-c993-4042-d21c-ba46e27be8bf",
        "colab": {
          "base_uri": "https://localhost:8080/",
          "height": 598
        }
      },
      "source": [
        "ff = plot_learning_loss(hst)"
      ],
      "execution_count": null,
      "outputs": [
        {
          "output_type": "display_data",
          "data": {
            "text/plain": [
              "<Figure size 1440x720 with 1 Axes>"
            ],
            "image/png": "[encoded data removed]"
          },
          "metadata": {
            "needs_background": "light"
          }
        }
      ]
    },
    {
      "cell_type": "markdown",
      "metadata": {
        "id": "AEYzvvNLz3b5"
      },
      "source": [
        "**Evaluate the Model:** When we are comfortable with the model that we have trained, we should evaluate the model against the testing set that we have held out."
      ]
    },
    {
      "cell_type": "code",
      "metadata": {
        "id": "ZL_40JHmz3b6",
        "outputId": "43c209e8-c422-490f-8710-152f4d975722",
        "colab": {
          "base_uri": "https://localhost:8080/"
        }
      },
      "source": [
        "## Calculate the predicted Values and Classes of both the training and testing sets\n",
        "## Predicted Classes\n",
        "# ypc_train = nn1.predict_classes(xs_train)\n",
        "# ypc_test = nn1.predict_classes(xs_test)\n",
        "\n",
        "## Predicted Probabilities\n",
        "yh_train = nn1.predict(xs_train)\n",
        "yh_test = nn1.predict(xs_test)\n",
        "\n",
        "ypc_train=np.where(yh_train >= 0.5, 1, 0)\n",
        "ypc_test=np.where(yh_test >= 0.5, 1, 0)\n",
        "\n",
        "print('Training Set')\n",
        "print('Accuracy', accuracy_score(ytrain, ypc_train))\n",
        "print('Confusion Matrix: \\n', confusion_matrix(ytrain, ypc_train))\n",
        "print('AUC Score:', roc_auc_score(ytrain, yh_train), '\\n\\n')\n",
        "\n",
        "print('Testing Set')\n",
        "print('Accuracy', accuracy_score(ytest, ypc_test))\n",
        "print('Confusion Matrix: \\n', confusion_matrix(ytest, ypc_test))\n",
        "print('AUC Score:', roc_auc_score(ytest, yh_test), '\\n\\n')"
      ],
      "execution_count": null,
      "outputs": [
        {
          "output_type": "stream",
          "name": "stdout",
          "text": [
            "Training Set\n",
            "Accuracy 0.7506666666666667\n",
            "Confusion Matrix: \n",
            " [[563   0]\n",
            " [187   0]]\n",
            "AUC Score: 0.7067277096532139 \n",
            "\n",
            "\n",
            "Testing Set\n",
            "Accuracy 0.792\n",
            "Confusion Matrix: \n",
            " [[198   0]\n",
            " [ 52   0]]\n",
            "AUC Score: 0.7487373737373737 \n",
            "\n",
            "\n"
          ]
        }
      ]
    },
    {
      "cell_type": "markdown",
      "metadata": {
        "id": "w-P8BU_ez3b9"
      },
      "source": [
        "**Exercise**\n",
        "\n",
        "Try fitting the same model by varying the batch size.  Try 25, 50, and 500.  How do the learning curves compare?\n",
        "\n",
        "How well can you predict the performance on the test set using the learning curves?\n"
      ]
    },
    {
      "cell_type": "code",
      "metadata": {
        "id": "V547cZ3vz3b-"
      },
      "source": [
        ""
      ],
      "execution_count": null,
      "outputs": []
    },
    {
      "cell_type": "code",
      "metadata": {
        "id": "YmZsaDG_z3b_"
      },
      "source": [
        ""
      ],
      "execution_count": null,
      "outputs": []
    },
    {
      "cell_type": "markdown",
      "metadata": {
        "id": "BYFJNoN4z3cC"
      },
      "source": [
        "## 2.3 Build a Neural Network with a Wider Layer\n",
        "Here we look at building a wider neural network."
      ]
    },
    {
      "cell_type": "code",
      "metadata": {
        "id": "5z3CMVstz3cC"
      },
      "source": [
        "## Start by creating a model object\n",
        "nn2 = Sequential()\n",
        "## Add a hidden layer-- specify the dimension \n",
        "nn2.add(Dense(30, input_dim=xs_train.shape[1] , activation='tanh', name='hl1'))\n",
        "nn2.add(Dense(1, activation='sigmoid', name='output')) ## Why don't we make this layer wider?"
      ],
      "execution_count": null,
      "outputs": []
    },
    {
      "cell_type": "code",
      "metadata": {
        "id": "O10hcAxjz3cE"
      },
      "source": [
        "## Compile the model\n",
        "np.random.seed(55) ## Set the seed for reproducibility\n",
        "nn2.compile(optimizer='sgd', loss='binary_crossentropy', metrics=['acc'])"
      ],
      "execution_count": null,
      "outputs": []
    },
    {
      "cell_type": "code",
      "metadata": {
        "scrolled": true,
        "id": "TSOUB8Nsz3cG"
      },
      "source": [
        "## Fit the model \n",
        "hst = nn2.fit(xs_train, ytrain, batch_size=50, epochs=250, validation_split=0.2, verbose=0)"
      ],
      "execution_count": null,
      "outputs": []
    },
    {
      "cell_type": "code",
      "metadata": {
        "scrolled": false,
        "id": "tub2lm_Tz3cI",
        "outputId": "ffe32bc2-2cc2-4c6a-c7a3-0c4943731e0e",
        "colab": {
          "base_uri": "https://localhost:8080/",
          "height": 598
        }
      },
      "source": [
        "ff = plot_learning_loss(hst)"
      ],
      "execution_count": null,
      "outputs": [
        {
          "output_type": "display_data",
          "data": {
            "text/plain": [
              "<Figure size 1440x720 with 1 Axes>"
            ],
            "image/png": "[encoded data removed]"
          },
          "metadata": {
            "needs_background": "light"
          }
        }
      ]
    },
    {
      "cell_type": "code",
      "metadata": {
        "id": "v9zst-qQz3cK",
        "outputId": "d42781fc-5ccb-491d-e980-300a4952326e",
        "colab": {
          "base_uri": "https://localhost:8080/"
        }
      },
      "source": [
        "## Calculate the predicted Values and Classes of both the training and testing sets\n",
        "## Predicted Classes\n",
        "# ypc_train = nn2.predict_classes(xs_train)\n",
        "# ypc_test = nn2.predict_classes(xs_test)\n",
        "\n",
        "## Predicted Probabilities\n",
        "yh_train = nn2.predict(xs_train)\n",
        "yh_test = nn2.predict(xs_test)\n",
        "\n",
        "ypc_train=np.where(yh_train >= 0.5, 1, 0)\n",
        "ypc_test=np.where(yh_test >= 0.5, 1, 0)\n",
        "\n",
        "print('Training Set')\n",
        "print('Accuracy', accuracy_score(ytrain, ypc_train))\n",
        "print('Confusion Matrix: \\n', confusion_matrix(ytrain, ypc_train))\n",
        "print('AUC Score:', roc_auc_score(ytrain, yh_train), '\\n\\n')\n",
        "\n",
        "print('Testing Set')\n",
        "print('Accuracy', accuracy_score(ytest, ypc_test))\n",
        "print('Confusion Matrix: \\n', confusion_matrix(ytest, ypc_test))\n",
        "print('AUC Score:', roc_auc_score(ytest, yh_test), '\\n\\n')"
      ],
      "execution_count": null,
      "outputs": [
        {
          "output_type": "stream",
          "name": "stdout",
          "text": [
            "Training Set\n",
            "Accuracy 0.8626666666666667\n",
            "Confusion Matrix: \n",
            " [[561   2]\n",
            " [101  86]]\n",
            "AUC Score: 0.9673397859062889 \n",
            "\n",
            "\n",
            "Testing Set\n",
            "Accuracy 0.888\n",
            "Confusion Matrix: \n",
            " [[196   2]\n",
            " [ 26  26]]\n",
            "AUC Score: 0.9689199689199689 \n",
            "\n",
            "\n"
          ]
        }
      ]
    },
    {
      "cell_type": "code",
      "metadata": {
        "id": "Mvtxsykiz3cM"
      },
      "source": [
        ""
      ],
      "execution_count": null,
      "outputs": []
    },
    {
      "cell_type": "code",
      "metadata": {
        "id": "8gW6q11wz3cO"
      },
      "source": [
        ""
      ],
      "execution_count": null,
      "outputs": []
    },
    {
      "cell_type": "code",
      "metadata": {
        "id": "xLM7JLNlz3cQ"
      },
      "source": [
        ""
      ],
      "execution_count": null,
      "outputs": []
    },
    {
      "cell_type": "markdown",
      "metadata": {
        "id": "W6MvxKuXz3cT"
      },
      "source": [
        "## 2.4 Build a Deeper Neural Network\n",
        "Now, we examine what happens if we look at multiple layers in the network."
      ]
    },
    {
      "cell_type": "code",
      "metadata": {
        "id": "BJgYhyJbz3cT"
      },
      "source": [
        "## Start by creating a model object\n",
        "nn3 = Sequential()\n",
        "## Add a hidden layer-- specify the dimension \n",
        "nn3.add(Dense(30, input_dim=xs_train.shape[1] , activation='tanh', name='hl1'))\n",
        "nn3.add(Dense(20, activation='tanh', name='hl2'))\n",
        "nn3.add(Dense(10, activation='tanh', name='hl3'))\n",
        "nn3.add(Dense(1, activation='sigmoid', name='output'))"
      ],
      "execution_count": null,
      "outputs": []
    },
    {
      "cell_type": "code",
      "metadata": {
        "id": "2ohqBUkRz3cV",
        "outputId": "c8872d69-7942-4dfd-a4c1-7e553ece7360",
        "colab": {
          "base_uri": "https://localhost:8080/"
        }
      },
      "source": [
        "## Take a look at our model to make sure we built the network we are intending to build\n",
        "nn3.summary()"
      ],
      "execution_count": null,
      "outputs": [
        {
          "output_type": "stream",
          "name": "stdout",
          "text": [
            "Model: \"sequential_6\"\n",
            "_________________________________________________________________\n",
            " Layer (type)                Output Shape              Param #   \n",
            "=================================================================\n",
            " hl1 (Dense)                 (None, 30)                420       \n",
            "                                                                 \n",
            " hl2 (Dense)                 (None, 20)                620       \n",
            "                                                                 \n",
            " hl3 (Dense)                 (None, 10)                210       \n",
            "                                                                 \n",
            " output (Dense)              (None, 1)                 11        \n",
            "                                                                 \n",
            "=================================================================\n",
            "Total params: 1,261\n",
            "Trainable params: 1,261\n",
            "Non-trainable params: 0\n",
            "_________________________________________________________________\n"
          ]
        }
      ]
    },
    {
      "cell_type": "code",
      "source": [
        "plot_model(nn3, show_shapes=True)"
      ],
      "metadata": {
        "colab": {
          "base_uri": "https://localhost:8080/",
          "height": 533
        },
        "id": "lw7xuqFTLGtx",
        "outputId": "15f61ce1-38c6-445d-d4ee-a7fcbf10a095"
      },
      "execution_count": null,
      "outputs": [
        {
          "output_type": "execute_result",
          "data": {
            "text/plain": [
              "<IPython.core.display.Image object>"
            ],
            "image/png": "[encoded data removed]"
          },
          "metadata": {},
          "execution_count": 68
        }
      ]
    },
    {
      "cell_type": "code",
      "metadata": {
        "id": "T8XWxBAez3cX"
      },
      "source": [
        "## Compile the model\n",
        "np.random.seed(55) ## Set the seed for reproducibility\n",
        "nn3.compile(optimizer='sgd', loss='binary_crossentropy', metrics=['acc'])"
      ],
      "execution_count": null,
      "outputs": []
    },
    {
      "cell_type": "code",
      "metadata": {
        "scrolled": true,
        "id": "MipyAFA5z3cZ"
      },
      "source": [
        "## Fit the model \n",
        "hst = nn3.fit(xs_train, ytrain, batch_size=50, epochs=250, validation_split=0.2, verbose=0)"
      ],
      "execution_count": null,
      "outputs": []
    },
    {
      "cell_type": "code",
      "metadata": {
        "scrolled": false,
        "id": "IYO5n1QRz3cb",
        "outputId": "ff7a75ee-651e-4cff-b65b-decf60bd0b40",
        "colab": {
          "base_uri": "https://localhost:8080/",
          "height": 601
        }
      },
      "source": [
        "ff = plot_learning_loss(hst)"
      ],
      "execution_count": null,
      "outputs": [
        {
          "output_type": "display_data",
          "data": {
            "text/plain": [
              "<Figure size 1440x720 with 1 Axes>"
            ],
            "image/png": "[encoded data removed]"
          },
          "metadata": {
            "needs_background": "light"
          }
        }
      ]
    },
    {
      "cell_type": "code",
      "metadata": {
        "id": "Xx_qm9Gkz3cd",
        "outputId": "323d6639-19d0-4e3a-a3b4-f127808b18ea",
        "colab": {
          "base_uri": "https://localhost:8080/"
        }
      },
      "source": [
        "## Calculate the predicted Values and Classes of both the training and testing sets\n",
        "## Predicted Classes\n",
        "# ypc_train = nn3.predict_classes(xs_train)\n",
        "# ypc_test = nn3.predict_classes(xs_test)\n",
        "\n",
        "## Predicted Probabilities\n",
        "yh_train = nn3.predict(xs_train)\n",
        "yh_test = nn3.predict(xs_test)\n",
        "\n",
        "ypc_train=np.where(yh_train >= 0.5, 1, 0)\n",
        "ypc_test=np.where(yh_test >= 0.5, 1, 0)\n",
        "\n",
        "print('Training Set')\n",
        "print('Accuracy', accuracy_score(ytrain, ypc_train))\n",
        "print('Confusion Matrix: \\n', confusion_matrix(ytrain, ypc_train))\n",
        "print('AUC Score:', roc_auc_score(ytrain, yh_train), '\\n\\n')\n",
        "\n",
        "print('Testing Set')\n",
        "print('Accuracy', accuracy_score(ytest, ypc_test))\n",
        "print('Confusion Matrix: \\n', confusion_matrix(ytest, ypc_test))\n",
        "print('AUC Score:', roc_auc_score(ytest, yh_test), '\\n\\n')"
      ],
      "execution_count": null,
      "outputs": [
        {
          "output_type": "stream",
          "name": "stdout",
          "text": [
            "Training Set\n",
            "Accuracy 0.9253333333333333\n",
            "Confusion Matrix: \n",
            " [[541  22]\n",
            " [ 34 153]]\n",
            "AUC Score: 0.9761257966774631 \n",
            "\n",
            "\n",
            "Testing Set\n",
            "Accuracy 0.948\n",
            "Confusion Matrix: \n",
            " [[192   6]\n",
            " [  7  45]]\n",
            "AUC Score: 0.9787296037296037 \n",
            "\n",
            "\n"
          ]
        }
      ]
    },
    {
      "cell_type": "markdown",
      "metadata": {
        "id": "nwV9PNRXz3cf"
      },
      "source": [
        "## 2.5 Build a network with different activation functions\n",
        "What happens if we change the activation functions?"
      ]
    },
    {
      "cell_type": "code",
      "metadata": {
        "id": "EOeZeXTwz3cg"
      },
      "source": [
        "## Start by creating a model object\n",
        "nn4 = Sequential()\n",
        "## Add a hidden layer-- specify the dimension \n",
        "nn4.add(Dense(30, input_dim=xs_train.shape[1] , activation='relu', name='hl1'))\n",
        "nn4.add(Dense(20, activation='relu', name='hl2'))\n",
        "nn4.add(Dense(10, activation='relu', name='hl3'))\n",
        "nn4.add(Dense(1, activation='sigmoid', name='output')) ##Why don't we want to change"
      ],
      "execution_count": null,
      "outputs": []
    },
    {
      "cell_type": "code",
      "metadata": {
        "id": "3rzaPNj3z3ci",
        "outputId": "3b83e69f-6911-40fe-fb44-7a1830de2278",
        "colab": {
          "base_uri": "https://localhost:8080/"
        }
      },
      "source": [
        "## Take a look at our model to make sure we built the network we are intending to build\n",
        "nn4.summary()"
      ],
      "execution_count": null,
      "outputs": [
        {
          "output_type": "stream",
          "name": "stdout",
          "text": [
            "Model: \"sequential_7\"\n",
            "_________________________________________________________________\n",
            " Layer (type)                Output Shape              Param #   \n",
            "=================================================================\n",
            " hl1 (Dense)                 (None, 30)                420       \n",
            "                                                                 \n",
            " hl2 (Dense)                 (None, 20)                620       \n",
            "                                                                 \n",
            " hl3 (Dense)                 (None, 10)                210       \n",
            "                                                                 \n",
            " output (Dense)              (None, 1)                 11        \n",
            "                                                                 \n",
            "=================================================================\n",
            "Total params: 1,261\n",
            "Trainable params: 1,261\n",
            "Non-trainable params: 0\n",
            "_________________________________________________________________\n"
          ]
        }
      ]
    },
    {
      "cell_type": "code",
      "metadata": {
        "id": "TIrs2w1Gz3cm"
      },
      "source": [
        "## Compile the model\n",
        "np.random.seed(55) ## Set the seed for reproducibility\n",
        "nn4.compile(optimizer='sgd', loss='binary_crossentropy', metrics=['acc'])"
      ],
      "execution_count": null,
      "outputs": []
    },
    {
      "cell_type": "code",
      "metadata": {
        "scrolled": true,
        "id": "e0scFet0z3co"
      },
      "source": [
        "## Fit the model \n",
        "hst = nn4.fit(xs_train, ytrain, batch_size=50, epochs=100, validation_split=0.2, verbose=0)"
      ],
      "execution_count": null,
      "outputs": []
    },
    {
      "cell_type": "code",
      "metadata": {
        "scrolled": false,
        "id": "KnOPRpEsz3cr",
        "outputId": "0694793c-8304-4c86-b83a-ec17df6316aa",
        "colab": {
          "base_uri": "https://localhost:8080/",
          "height": 598
        }
      },
      "source": [
        "ff = plot_learning_loss(hst)"
      ],
      "execution_count": null,
      "outputs": [
        {
          "output_type": "display_data",
          "data": {
            "text/plain": [
              "<Figure size 1440x720 with 1 Axes>"
            ],
            "image/png": "[encoded data removed]"
          },
          "metadata": {
            "needs_background": "light"
          }
        }
      ]
    },
    {
      "cell_type": "code",
      "metadata": {
        "id": "GSWhYpcez3ct",
        "outputId": "03957fc8-f76f-4dff-d6d7-67550885d4ac",
        "colab": {
          "base_uri": "https://localhost:8080/"
        }
      },
      "source": [
        "## Calculate the predicted Values and Classes of both the training and testing sets\n",
        "## Predicted Classes\n",
        "# ypc_train = nn4.predict_classes(xs_train)\n",
        "# ypc_test = nn4.predict_classes(xs_test)\n",
        "\n",
        "## Predicted Probabilities\n",
        "yh_train = nn4.predict(xs_train)\n",
        "yh_test = nn4.predict(xs_test)\n",
        "\n",
        "ypc_train=np.where(yh_train >= 0.5, 1, 0)\n",
        "ypc_test=np.where(yh_test >= 0.5, 1, 0)\n",
        "\n",
        "print('Training Set')\n",
        "print('Accuracy', accuracy_score(ytrain, ypc_train))\n",
        "print('Confusion Matrix: \\n', confusion_matrix(ytrain, ypc_train))\n",
        "print('AUC Score:', roc_auc_score(ytrain, yh_train), '\\n\\n')\n",
        "\n",
        "print('Testing Set')\n",
        "print('Accuracy', accuracy_score(ytest, ypc_test))\n",
        "print('Confusion Matrix: \\n', confusion_matrix(ytest, ypc_test))\n",
        "print('AUC Score:', roc_auc_score(ytest, yh_test), '\\n\\n')"
      ],
      "execution_count": null,
      "outputs": [
        {
          "output_type": "stream",
          "name": "stdout",
          "text": [
            "Training Set\n",
            "Accuracy 0.7506666666666667\n",
            "Confusion Matrix: \n",
            " [[563   0]\n",
            " [187   0]]\n",
            "AUC Score: 0.8991365963469193 \n",
            "\n",
            "\n",
            "Testing Set\n",
            "Accuracy 0.792\n",
            "Confusion Matrix: \n",
            " [[198   0]\n",
            " [ 52   0]]\n",
            "AUC Score: 0.9189976689976689 \n",
            "\n",
            "\n"
          ]
        }
      ]
    },
    {
      "cell_type": "markdown",
      "metadata": {
        "id": "4eKhCRHsz3cv"
      },
      "source": [
        "# 3 Main Exercise: Build Your Own Network\n",
        "\n",
        "Build and evaluate (at least) 3 additional neural networks.  Consider the following:\n",
        "    \n",
        "* Which variables to use as predictors.\n",
        "* Number of Layers\n",
        "* Number of nodes on each layer\n",
        "* Activation Functions\n",
        "* Batch Size and number of epochs\n",
        "* How well your network being trained\n",
        "    \n",
        "Try to see if you can find any patterns in how your choices affect the performance of the network.\n",
        "\n",
        "_Hint_: The variables and values selected below as examples may not be the best.  They are only so there is an example to work with.  Experiment on your own!"
      ]
    },
    {
      "cell_type": "markdown",
      "metadata": {
        "id": "g_WlbQEdM0bK"
      },
      "source": [
        "## 3.1 Select Variables\n",
        "\n",
        "Begin by selecting a different set of the available predictors.\n",
        "\n",
        "Do this by changing the list _pred_vars_ in the second cell below.  (The first one is just to remind you of the candidates.)\n",
        "\n"
      ]
    },
    {
      "cell_type": "code",
      "metadata": {
        "id": "JCYOvGEKMx7U"
      },
      "source": [
        "## Of the available variables, these may be considered to be predictors\n",
        "potential_pred_vars = ['age',  'languages',\n",
        "       'n_friends', 'gender_female', 'gender_male',\n",
        "       'relationship_married', 'relationship_single', 'relationship_widowed',\n",
        "       'music_genre_classical', 'music_genre_country',\n",
        "       'music_genre_electronic', 'music_genre_folk', 'music_genre_heavy metal',\n",
        "       'music_genre_hip-hop', 'music_genre_jazz', 'music_genre_rock',\n",
        "       'music_genre_tibetian throat singing', 'hogwarts_gryffindor',\n",
        "       'hogwarts_hufflepuff', 'hogwarts_ravenclaw', 'hogwarts_slytherin',\n",
        "       'fav_pet_birds', 'fav_pet_cats', 'fav_pet_dogs', 'fav_pet_fish',\n",
        "       'fav_pet_horses', 'fav_pet_reptiles', 'fav_pet_rodents']"
      ],
      "execution_count": null,
      "outputs": []
    },
    {
      "cell_type": "code",
      "metadata": {
        "id": "pgG17EamMx7q"
      },
      "source": [
        "## Select some of the above variables to use as predictors\n",
        "## Feel free to use some of what you learned about this data in a the previous module\n",
        "pred_vars = ['age', 'n_friends', 'hogwarts_gryffindor',\n",
        "       'hogwarts_hufflepuff', 'hogwarts_ravenclaw', 'hogwarts_slytherin',\n",
        "       'fav_pet_birds', 'fav_pet_cats', 'fav_pet_dogs', 'fav_pet_fish',\n",
        "       'fav_pet_horses', 'fav_pet_reptiles', 'fav_pet_rodents']\n",
        "\n",
        "response = 'credit'"
      ],
      "execution_count": null,
      "outputs": []
    },
    {
      "cell_type": "markdown",
      "metadata": {
        "id": "abdQA2ctMx7w"
      },
      "source": [
        "## 3.2 Repeat train/test split and rescale\n",
        "\n",
        "Since we've chosen new variables, we should re-do the train/test split with the new set of variables, and then rescale the variables for better training."
      ]
    },
    {
      "cell_type": "code",
      "metadata": {
        "id": "e6Ugw2fbMx7u"
      },
      "source": [
        "\n",
        "\n",
        "x = df[pred_vars]\n",
        "y = df[response]\n",
        "\n",
        "\n",
        "xtrain, xtest, ytrain, ytest = train_test_split(x, y, test_size=0.25, random_state=123)"
      ],
      "execution_count": null,
      "outputs": []
    },
    {
      "cell_type": "code",
      "metadata": {
        "id": "cm2gw0QqMx7x"
      },
      "source": [
        "from sklearn.preprocessing import StandardScaler, MinMaxScaler\n",
        "\n",
        "my_scaler = MinMaxScaler()\n",
        "my_scaler.fit(xtrain)\n",
        "\n",
        "\n",
        "## Rescaled Data\n",
        "xs_train = my_scaler.transform(xtrain)\n",
        "xs_test = my_scaler.transform(xtest)\n",
        "\n",
        "\n"
      ],
      "execution_count": null,
      "outputs": []
    },
    {
      "cell_type": "markdown",
      "metadata": {
        "id": "Hj3Rgy9IN2aa"
      },
      "source": [
        "## 3.3 Build New Networks\n",
        "\n",
        "Use the framework below to experiment with the neural network architecture.  If you want to make more than one network, feel free to copy these cells and paste them below."
      ]
    },
    {
      "cell_type": "code",
      "metadata": {
        "id": "Vt7MRP2rPFIa"
      },
      "source": [
        "## Start by creating a model object\n",
        "nn_new = Sequential()\n",
        "## Add a hidden layer-- specify the dimension \n",
        "nn_new.add(Dense(30, input_dim=xs_train.shape[1] , activation='tanh', name='hl1'))\n",
        "nn_new.add(Dense(30, activation='tanh', name='hl2'))\n",
        "nn_new.add(Dense(1, activation='sigmoid', name='output')) ## Why don't we make this layer wider?"
      ],
      "execution_count": null,
      "outputs": []
    },
    {
      "cell_type": "code",
      "metadata": {
        "id": "Qte7kG96PFIp"
      },
      "source": [
        "## Compile the model\n",
        "np.random.seed(55) ## Set the seed for reproducibility\n",
        "nn_new.compile(optimizer='sgd', loss='binary_crossentropy', metrics=['acc'])"
      ],
      "execution_count": null,
      "outputs": []
    },
    {
      "cell_type": "code",
      "metadata": {
        "scrolled": true,
        "id": "kYTWK9VuPFIv"
      },
      "source": [
        "## Fit the model \n",
        "hst = nn_new.fit(xs_train, ytrain, batch_size=50, epochs=250, validation_split=0.2, verbose=0)"
      ],
      "execution_count": null,
      "outputs": []
    },
    {
      "cell_type": "code",
      "metadata": {
        "scrolled": false,
        "outputId": "bdfc63a4-90d8-470c-cfc1-4f9305a01bdb",
        "id": "cTUwkOgGPFIz",
        "colab": {
          "base_uri": "https://localhost:8080/",
          "height": 601
        }
      },
      "source": [
        "ff = plot_learning_loss(hst)"
      ],
      "execution_count": null,
      "outputs": [
        {
          "output_type": "display_data",
          "data": {
            "text/plain": [
              "<Figure size 1440x720 with 1 Axes>"
            ],
            "image/png": "[encoded data removed]"
          },
          "metadata": {
            "needs_background": "light"
          }
        }
      ]
    },
    {
      "cell_type": "code",
      "metadata": {
        "outputId": "4fdda016-8ba1-4502-ebf5-7ca0abe65eeb",
        "id": "poA2TqeTPFI3",
        "colab": {
          "base_uri": "https://localhost:8080/"
        }
      },
      "source": [
        "## Calculate the predicted Values and Classes of both the training and testing sets\n",
        "## Predicted Classes\n",
        "# ypc_train = nn_new.predict_classes(xs_train)\n",
        "# ypc_test = nn_new.predict_classes(xs_test)\n",
        "\n",
        "## Predicted Probabilities\n",
        "yh_train = nn2.predict(xs_train)\n",
        "yh_test = nn2.predict(xs_test)\n",
        "\n",
        "ypc_train=np.where(yh_train >= 0.5, 1, 0)\n",
        "ypc_test=np.where(yh_test >= 0.5, 1, 0)\n",
        "\n",
        "print('Training Set')\n",
        "print('Accuracy', accuracy_score(ytrain, ypc_train))\n",
        "print('Confusion Matrix: \\n', confusion_matrix(ytrain, ypc_train))\n",
        "print('AUC Score:', roc_auc_score(ytrain, yh_train), '\\n\\n')\n",
        "\n",
        "print('Testing Set')\n",
        "print('Accuracy', accuracy_score(ytest, ypc_test))\n",
        "print('Confusion Matrix: \\n', confusion_matrix(ytest, ypc_test))\n",
        "print('AUC Score:', roc_auc_score(ytest, yh_test), '\\n\\n')"
      ],
      "execution_count": null,
      "outputs": [
        {
          "output_type": "stream",
          "name": "stdout",
          "text": [
            "Training Set\n",
            "Accuracy 0.8626666666666667\n",
            "Confusion Matrix: \n",
            " [[561   2]\n",
            " [101  86]]\n",
            "AUC Score: 0.9673397859062889 \n",
            "\n",
            "\n",
            "Testing Set\n",
            "Accuracy 0.888\n",
            "Confusion Matrix: \n",
            " [[196   2]\n",
            " [ 26  26]]\n",
            "AUC Score: 0.9689199689199689 \n",
            "\n",
            "\n"
          ]
        }
      ]
    }
  ]
}
