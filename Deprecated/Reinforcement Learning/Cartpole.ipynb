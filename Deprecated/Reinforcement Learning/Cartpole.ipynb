{
  "nbformat": 4,
  "nbformat_minor": 0,
  "metadata": {
    "colab": {
      "name": "Cartpole.ipynb",
      "provenance": [],
      "collapsed_sections": []
    },
    "kernelspec": {
      "name": "python3",
      "display_name": "Python 3"
    },
    "language_info": {
      "name": "python"
    }
  },
  "cells": [
    {
      "cell_type": "markdown",
      "metadata": {
        "id": "NGTtq8OtZp9S"
      },
      "source": [
        "# CartPole\n",
        "\n"
      ]
    },
    {
      "cell_type": "markdown",
      "metadata": {
        "id": "U03gT95hZ0Ab"
      },
      "source": [
        "## 1. Import and Install Modules"
      ]
    },
    {
      "cell_type": "code",
      "metadata": {
        "id": "vPFfF6bkKEdZ"
      },
      "source": [
        "#remove \" > /dev/null 2>&1\" to see what is going on under the hood\n",
        "!pip install gym pyvirtualdisplay > /dev/null 2>&1\n",
        "!apt-get install -y xvfb python-opengl ffmpeg > /dev/null 2>&1"
      ],
      "execution_count": 1,
      "outputs": []
    },
    {
      "cell_type": "code",
      "metadata": {
        "colab": {
          "base_uri": "https://localhost:8080/",
          "height": 276
        },
        "id": "ZcAP5_zEMR5o",
        "outputId": "8da34f1b-0bbf-4976-f945-2fcb170f9c39"
      },
      "source": [
        "!apt-get update > /dev/null 2>&1\n",
        "!apt-get install cmake > /dev/null 2>&1\n",
        "!pip install --upgrade setuptools 2>&1\n",
        "!pip install ez_setup > /dev/null 2>&1\n",
        "!pip install gym[atari] > /dev/null 2>&1"
      ],
      "execution_count": 2,
      "outputs": [
        {
          "output_type": "stream",
          "text": [
            "Collecting setuptools\n",
            "\u001b[?25l  Downloading https://files.pythonhosted.org/packages/11/1b/7012b145cb228aed20f9b2b8b259df49e7963d900799ea44791f54d06ab9/setuptools-56.1.0-py3-none-any.whl (785kB)\n",
            "\r\u001b[K     |▍                               | 10kB 17.7MB/s eta 0:00:01\r\u001b[K     |▉                               | 20kB 22.0MB/s eta 0:00:01\r\u001b[K     |█▎                              | 30kB 13.6MB/s eta 0:00:01\r\u001b[K     |█▊                              | 40kB 10.3MB/s eta 0:00:01\r\u001b[K     |██                              | 51kB 7.9MB/s eta 0:00:01\r\u001b[K     |██▌                             | 61kB 8.1MB/s eta 0:00:01\r\u001b[K     |███                             | 71kB 8.2MB/s eta 0:00:01\r\u001b[K     |███▍                            | 81kB 8.3MB/s eta 0:00:01\r\u001b[K     |███▊                            | 92kB 8.2MB/s eta 0:00:01\r\u001b[K     |████▏                           | 102kB 7.4MB/s eta 0:00:01\r\u001b[K     |████▋                           | 112kB 7.4MB/s eta 0:00:01\r\u001b[K     |█████                           | 122kB 7.4MB/s eta 0:00:01\r\u001b[K     |█████▍                          | 133kB 7.4MB/s eta 0:00:01\r\u001b[K     |█████▉                          | 143kB 7.4MB/s eta 0:00:01\r\u001b[K     |██████▎                         | 153kB 7.4MB/s eta 0:00:01\r\u001b[K     |██████▊                         | 163kB 7.4MB/s eta 0:00:01\r\u001b[K     |███████                         | 174kB 7.4MB/s eta 0:00:01\r\u001b[K     |███████▌                        | 184kB 7.4MB/s eta 0:00:01\r\u001b[K     |████████                        | 194kB 7.4MB/s eta 0:00:01\r\u001b[K     |████████▍                       | 204kB 7.4MB/s eta 0:00:01\r\u001b[K     |████████▊                       | 215kB 7.4MB/s eta 0:00:01\r\u001b[K     |█████████▏                      | 225kB 7.4MB/s eta 0:00:01\r\u001b[K     |█████████▋                      | 235kB 7.4MB/s eta 0:00:01\r\u001b[K     |██████████                      | 245kB 7.4MB/s eta 0:00:01\r\u001b[K     |██████████▍                     | 256kB 7.4MB/s eta 0:00:01\r\u001b[K     |██████████▉                     | 266kB 7.4MB/s eta 0:00:01\r\u001b[K     |███████████▎                    | 276kB 7.4MB/s eta 0:00:01\r\u001b[K     |███████████▊                    | 286kB 7.4MB/s eta 0:00:01\r\u001b[K     |████████████                    | 296kB 7.4MB/s eta 0:00:01\r\u001b[K     |████████████▌                   | 307kB 7.4MB/s eta 0:00:01\r\u001b[K     |█████████████                   | 317kB 7.4MB/s eta 0:00:01\r\u001b[K     |█████████████▍                  | 327kB 7.4MB/s eta 0:00:01\r\u001b[K     |█████████████▊                  | 337kB 7.4MB/s eta 0:00:01\r\u001b[K     |██████████████▏                 | 348kB 7.4MB/s eta 0:00:01\r\u001b[K     |██████████████▋                 | 358kB 7.4MB/s eta 0:00:01\r\u001b[K     |███████████████                 | 368kB 7.4MB/s eta 0:00:01\r\u001b[K     |███████████████▍                | 378kB 7.4MB/s eta 0:00:01\r\u001b[K     |███████████████▉                | 389kB 7.4MB/s eta 0:00:01\r\u001b[K     |████████████████▎               | 399kB 7.4MB/s eta 0:00:01\r\u001b[K     |████████████████▊               | 409kB 7.4MB/s eta 0:00:01\r\u001b[K     |█████████████████               | 419kB 7.4MB/s eta 0:00:01\r\u001b[K     |█████████████████▌              | 430kB 7.4MB/s eta 0:00:01\r\u001b[K     |██████████████████              | 440kB 7.4MB/s eta 0:00:01\r\u001b[K     |██████████████████▍             | 450kB 7.4MB/s eta 0:00:01\r\u001b[K     |██████████████████▊             | 460kB 7.4MB/s eta 0:00:01\r\u001b[K     |███████████████████▏            | 471kB 7.4MB/s eta 0:00:01\r\u001b[K     |███████████████████▋            | 481kB 7.4MB/s eta 0:00:01\r\u001b[K     |████████████████████            | 491kB 7.4MB/s eta 0:00:01\r\u001b[K     |████████████████████▍           | 501kB 7.4MB/s eta 0:00:01\r\u001b[K     |████████████████████▉           | 512kB 7.4MB/s eta 0:00:01\r\u001b[K     |█████████████████████▎          | 522kB 7.4MB/s eta 0:00:01\r\u001b[K     |█████████████████████▊          | 532kB 7.4MB/s eta 0:00:01\r\u001b[K     |██████████████████████▏         | 542kB 7.4MB/s eta 0:00:01\r\u001b[K     |██████████████████████▌         | 552kB 7.4MB/s eta 0:00:01\r\u001b[K     |███████████████████████         | 563kB 7.4MB/s eta 0:00:01\r\u001b[K     |███████████████████████▍        | 573kB 7.4MB/s eta 0:00:01\r\u001b[K     |███████████████████████▉        | 583kB 7.4MB/s eta 0:00:01\r\u001b[K     |████████████████████████▏       | 593kB 7.4MB/s eta 0:00:01\r\u001b[K     |████████████████████████▋       | 604kB 7.4MB/s eta 0:00:01\r\u001b[K     |█████████████████████████       | 614kB 7.4MB/s eta 0:00:01\r\u001b[K     |█████████████████████████▌      | 624kB 7.4MB/s eta 0:00:01\r\u001b[K     |█████████████████████████▉      | 634kB 7.4MB/s eta 0:00:01\r\u001b[K     |██████████████████████████▎     | 645kB 7.4MB/s eta 0:00:01\r\u001b[K     |██████████████████████████▊     | 655kB 7.4MB/s eta 0:00:01\r\u001b[K     |███████████████████████████▏    | 665kB 7.4MB/s eta 0:00:01\r\u001b[K     |███████████████████████████▌    | 675kB 7.4MB/s eta 0:00:01\r\u001b[K     |████████████████████████████    | 686kB 7.4MB/s eta 0:00:01\r\u001b[K     |████████████████████████████▍   | 696kB 7.4MB/s eta 0:00:01\r\u001b[K     |████████████████████████████▉   | 706kB 7.4MB/s eta 0:00:01\r\u001b[K     |█████████████████████████████▏  | 716kB 7.4MB/s eta 0:00:01\r\u001b[K     |█████████████████████████████▋  | 727kB 7.4MB/s eta 0:00:01\r\u001b[K     |██████████████████████████████  | 737kB 7.4MB/s eta 0:00:01\r\u001b[K     |██████████████████████████████▌ | 747kB 7.4MB/s eta 0:00:01\r\u001b[K     |██████████████████████████████▉ | 757kB 7.4MB/s eta 0:00:01\r\u001b[K     |███████████████████████████████▎| 768kB 7.4MB/s eta 0:00:01\r\u001b[K     |███████████████████████████████▊| 778kB 7.4MB/s eta 0:00:01\r\u001b[K     |████████████████████████████████| 788kB 7.4MB/s \n",
            "\u001b[31mERROR: datascience 0.10.6 has requirement folium==0.2.1, but you'll have folium 0.8.3 which is incompatible.\u001b[0m\n",
            "\u001b[?25hInstalling collected packages: setuptools\n",
            "  Found existing installation: setuptools 56.0.0\n",
            "    Uninstalling setuptools-56.0.0:\n",
            "      Successfully uninstalled setuptools-56.0.0\n",
            "Successfully installed setuptools-56.1.0\n"
          ],
          "name": "stdout"
        },
        {
          "output_type": "display_data",
          "data": {
            "application/vnd.colab-display-data+json": {
              "pip_warning": {
                "packages": [
                  "pkg_resources"
                ]
              }
            }
          },
          "metadata": {
            "tags": []
          }
        }
      ]
    },
    {
      "cell_type": "code",
      "metadata": {
        "id": "rM-c3WDwJjyw"
      },
      "source": [
        "import gym\n",
        "from gym import logger as gymlogger\n",
        "from gym.wrappers import Monitor\n",
        "gymlogger.set_level(40) #error only\n",
        "import tensorflow as tf\n",
        "import numpy as np\n",
        "import random\n",
        "import matplotlib\n",
        "import matplotlib.pyplot as plt\n",
        "%matplotlib inline\n",
        "import math\n",
        "import glob\n",
        "import io\n",
        "import base64\n",
        "from IPython.display import HTML\n",
        "\n",
        "from IPython import display as ipythondisplay"
      ],
      "execution_count": 3,
      "outputs": []
    },
    {
      "cell_type": "code",
      "metadata": {
        "colab": {
          "base_uri": "https://localhost:8080/"
        },
        "id": "DgChTWkfJ6I2",
        "outputId": "9c76edd5-54ab-4359-ab61-03d9bd015c1e"
      },
      "source": [
        "from pyvirtualdisplay import Display\n",
        "display = Display(visible=0, size=(1400, 900))\n",
        "display.start()"
      ],
      "execution_count": 4,
      "outputs": [
        {
          "output_type": "execute_result",
          "data": {
            "text/plain": [
              "<pyvirtualdisplay.display.Display at 0x7fcdf3ccccd0>"
            ]
          },
          "metadata": {
            "tags": []
          },
          "execution_count": 4
        }
      ]
    },
    {
      "cell_type": "markdown",
      "metadata": {
        "id": "ksQSQnaaZ-4I"
      },
      "source": [
        "##2. Define Video Utility "
      ]
    },
    {
      "cell_type": "code",
      "metadata": {
        "id": "_u5aMbJYKdu6"
      },
      "source": [
        "\"\"\"\n",
        "Utility functions to enable video recording of gym environment and displaying it\n",
        "To enable video, just do \"env = wrap_env(env)\"\"\n",
        "\"\"\"\n",
        "\n",
        "def show_video():\n",
        "  mp4list = glob.glob('video/*.mp4')\n",
        "  print(mp4list)\n",
        "  if len(mp4list) > 0:\n",
        "    mp4 = mp4list[0]\n",
        "    video = io.open(mp4, 'r+b').read()\n",
        "    encoded = base64.b64encode(video)\n",
        "    ipythondisplay.display(HTML(data='''<video alt=\"test\" autoplay \n",
        "                loop controls style=\"height: 400px;\">\n",
        "                <source src=\"data:video/mp4;base64,{0}\" type=\"video/mp4\" />\n",
        "             </video>'''.format(encoded.decode('ascii'))))\n",
        "  else: \n",
        "    print(\"Could not find video\")\n",
        "    \n",
        "\n",
        "def wrap_env(env):\n",
        "  env = Monitor(env, './video', force=True)\n",
        "  return env"
      ],
      "execution_count": 5,
      "outputs": []
    },
    {
      "cell_type": "markdown",
      "metadata": {
        "id": "Q-9d95fDaGX_"
      },
      "source": [
        "##3. CartPole with Random Policy"
      ]
    },
    {
      "cell_type": "markdown",
      "metadata": {
        "id": "KotguaPuaQJC"
      },
      "source": [
        "Below we show how an agent chooses random actions to balance the cartpole. As we can see, the agent is not successful in balancing the cartpole."
      ]
    },
    {
      "cell_type": "code",
      "metadata": {
        "id": "t5VdAEBaKlFQ"
      },
      "source": [
        "env1=wrap_env(gym.make(\"CartPole-v0\"))\n",
        "observation = env1.reset()"
      ],
      "execution_count": 6,
      "outputs": []
    },
    {
      "cell_type": "code",
      "metadata": {
        "colab": {
          "base_uri": "https://localhost:8080/",
          "height": 438
        },
        "id": "2sMS-wefKwkn",
        "outputId": "5f2ad288-46cc-40f4-bc5a-3abc28f8e1d5"
      },
      "source": [
        "while True:\n",
        "  \n",
        "    env1.render()\n",
        "    \n",
        "    #your agent goes here\n",
        "    action = env1.action_space.sample() \n",
        "         \n",
        "    observation, reward, done, info = env1.step(action) \n",
        "   \n",
        "        \n",
        "    if done: \n",
        "      break;\n",
        "            \n",
        "env1.close()\n",
        "show_video()"
      ],
      "execution_count": 7,
      "outputs": [
        {
          "output_type": "stream",
          "text": [
            "['video/openaigym.video.0.59.video000000.mp4']\n"
          ],
          "name": "stdout"
        },
        {
          "output_type": "display_data",
          "data": {
            "text/html": [
              "<video alt=\"test\" autoplay \n",
              "                loop controls style=\"height: 400px;\">\n",
              "                <source src=\"data:video/mp4;base64,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\" type=\"video/mp4\" />\n",
              "             </video>"
            ],
            "text/plain": [
              "<IPython.core.display.HTML object>"
            ]
          },
          "metadata": {
            "tags": []
          }
        }
      ]
    },
    {
      "cell_type": "markdown",
      "metadata": {
        "id": "ClD7sKvRu1ki"
      },
      "source": [
        "##4. Cartpole with SARSA"
      ]
    },
    {
      "cell_type": "markdown",
      "metadata": {
        "id": "l-ZWu0Oq8YXC"
      },
      "source": [
        "Here we will use SARSA algorithm to find a policy that keeps the cartpole balanced. \n",
        "\n",
        "The state space here consists of a 4 dimensional vector which includes the cart position, cart velocity, pole angle and pole velocity. These are continuous variables and in order to make calculations easier, we will discretize these variables into bins as shown below:"
      ]
    },
    {
      "cell_type": "code",
      "metadata": {
        "id": "Irgg2UAtvSPG"
      },
      "source": [
        "#discretize the spaces\n",
        "poleThetaSpace = np.linspace(-0.20943951, 0.20943951, 10)\n",
        "poleThetaVelSpace = np.linspace(-4, 4, 10)\n",
        "cartPosSpace = np.linspace(-2.4, 2.4, 10)\n",
        "cartVelSpace = np.linspace(-4, 4, 10)"
      ],
      "execution_count": 8,
      "outputs": []
    },
    {
      "cell_type": "code",
      "metadata": {
        "id": "9up3kWunDca4"
      },
      "source": [
        "#to plot the average of total rewards in each episode\n",
        "def plotRunningAverage(totalrewards):\n",
        "    N = len(totalrewards)\n",
        "    running_avg = np.empty(N)\n",
        "    for t in range(N):\n",
        "\t    running_avg[t] = np.mean(totalrewards[max(0, t-100):(t+1)])\n",
        "    plt.plot(running_avg)\n",
        "    plt.title(\"Running Average\")\n",
        "    plt.show()"
      ],
      "execution_count": 9,
      "outputs": []
    },
    {
      "cell_type": "code",
      "metadata": {
        "id": "DDapH7Yk_5I9"
      },
      "source": [
        "#returns the action that maximizes the Q value at a particular state\n",
        "def maxAction(Q, state):    \n",
        "    values = np.array([Q[state,a] for a in range(2)])\n",
        "    action = np.argmax(values)\n",
        "    return action\n",
        "\n",
        "#takes the state observation and returns the binned state observation\n",
        "def getState(observation):\n",
        "    cartX, cartXdot, cartTheta, cartThetadot = observation\n",
        "    cartX = int(np.digitize(cartX, cartPosSpace))\n",
        "    cartXdot = int(np.digitize(cartXdot, cartVelSpace))\n",
        "    cartTheta = int(np.digitize(cartTheta, poleThetaSpace))\n",
        "    cartThetadot = int(np.digitize(cartThetadot, poleThetaVelSpace))\n",
        "\n",
        "    return (cartX, cartXdot, cartTheta, cartThetadot)"
      ],
      "execution_count": 10,
      "outputs": []
    },
    {
      "cell_type": "markdown",
      "metadata": {
        "id": "_aFnVx0C97Yi"
      },
      "source": [
        "Now we will construct the state space which is the discretized version of the continuous state space:"
      ]
    },
    {
      "cell_type": "code",
      "metadata": {
        "id": "3LgERPGJvJGK"
      },
      "source": [
        "env1 = gym.make('CartPole-v0')\n",
        "# model hyperparameters\n",
        "ALPHA = 0.1\n",
        "GAMMA = 1.0    \n",
        "EPS = 1.0\n",
        "\n",
        "#construct state space\n",
        "states = []\n",
        "for i in range(len(cartPosSpace)+1):\n",
        "    for j in range(len(cartVelSpace)+1):\n",
        "        for k in range(len(poleThetaSpace)+1):\n",
        "            for l in range(len(poleThetaVelSpace)+1):\n",
        "                states.append((i,j,k,l))\n",
        "\n",
        "Q = {}\n",
        "for state in states:\n",
        "    for action in range(2):\n",
        "        Q[state, action] = 0"
      ],
      "execution_count": 11,
      "outputs": []
    },
    {
      "cell_type": "markdown",
      "metadata": {
        "id": "lGSEbZH0-L0e"
      },
      "source": [
        "Here, we run the SARSA algorithm. We run 50,000 games in this simulation. The agent uses an Epsilon greedy strategy where in the initial games, it uses an exploration strategy and as it gets experience it starts to exploit on its understanding. \n",
        "\n",
        "The value function for the state,action pair is updated with the following formula\n",
        "\n",
        "$Q(s,a)=Q(s,a)+\\alpha [R+\\gamma Q(s',a') - Q(s,a)]$\n",
        "\n",
        "When the agent uses the exploitation strategy, it chooses the action that has the maximum Q value for a function. \n"
      ]
    },
    {
      "cell_type": "code",
      "metadata": {
        "colab": {
          "base_uri": "https://localhost:8080/",
          "height": 451
        },
        "id": "6CSc0sZ3vZR9",
        "outputId": "c8e99de8-fbfc-4232-e842-3452506e3882"
      },
      "source": [
        "numGames = 50000\n",
        "totalRewards = np.zeros(numGames)\n",
        "for i in range(numGames):\n",
        "    if i % 5000 == 0:\n",
        "        print('starting game', i)\n",
        "    # cart x position, cart velocity, pole theta, pole velocity\n",
        "    observation = env1.reset()        \n",
        "    state = getState(observation)\n",
        "    rand = np.random.random()\n",
        "    action = maxAction(Q, state) if rand < (1-EPS) else env1.action_space.sample()\n",
        "    done = False\n",
        "    epRewards = 0\n",
        "    while not done:\n",
        "        observation_, reward, done, info = env1.step(action)\n",
        "        epRewards += reward\n",
        "        state_ = getState(observation_)\n",
        "        rand = np.random.random()\n",
        "        action_ = maxAction(Q, state_) if rand < (1-EPS) else env1.action_space.sample()            \n",
        "        Q[state,action] = Q[state,action] + ALPHA*(reward + GAMMA*Q[state_,action_] - Q[state,action])\n",
        "        state, action = state_, action_            \n",
        "    if EPS - 2 / numGames > 0:\n",
        "        EPS -= 2 / numGames\n",
        "    else:\n",
        "        EPS = 0\n",
        "    totalRewards[i] = epRewards\n",
        "plotRunningAverage(totalRewards)"
      ],
      "execution_count": 12,
      "outputs": [
        {
          "output_type": "stream",
          "text": [
            "starting game 0\n",
            "starting game 5000\n",
            "starting game 10000\n",
            "starting game 15000\n",
            "starting game 20000\n",
            "starting game 25000\n",
            "starting game 30000\n",
            "starting game 35000\n",
            "starting game 40000\n",
            "starting game 45000\n"
          ],
          "name": "stdout"
        },
        {
          "output_type": "display_data",
          "data": {
            "image/png": "[encoded data removed]",
            "text/plain": [
              "<Figure size 432x288 with 1 Axes>"
            ]
          },
          "metadata": {
            "tags": [],
            "needs_background": "light"
          }
        }
      ]
    },
    {
      "cell_type": "markdown",
      "metadata": {
        "id": "ounIyr7-AA7G"
      },
      "source": [
        "Now let us see the cartpole in action!"
      ]
    },
    {
      "cell_type": "code",
      "metadata": {
        "id": "97SArBWBDnh7"
      },
      "source": [
        "video_env2=wrap_env(gym.make(\"CartPole-v0\"))\n",
        "done=False\n",
        "cnt=0\n",
        "observation=video_env2.reset()       \n",
        "state = getState(observation)\n",
        "rand = np.random.random()\n",
        "action = maxAction(Q, state) if rand < (1-EPS) else video_env2.action_space.sample()\n",
        "done = False\n",
        "epRewards = 0\n",
        "while not done:\n",
        "  video_env2.render()\n",
        "  cnt+=1\n",
        "  observation_,reward,done,info=video_env2.step(action)\n",
        "  epRewards += reward\n",
        "  state_ = getState(observation_)\n",
        "  rand = np.random.random()\n",
        "  action_ = maxAction(Q, state_) if rand < (1-EPS) else video_env2.action_space.sample()            \n",
        "  Q[state,action] = Q[state,action] + ALPHA*(reward + GAMMA*Q[state_,action_] - Q[state,action])\n",
        "  state, action = state_, action_    \n",
        "  if done:\n",
        "    break\n",
        "video_env2.close()"
      ],
      "execution_count": 12,
      "outputs": []
    },
    {
      "cell_type": "code",
      "metadata": {
        "colab": {
          "base_uri": "https://localhost:8080/",
          "height": 438
        },
        "id": "1VqvU2O2FsNY",
        "outputId": "8d0cb024-bed9-4a79-d54f-aa5beea5821b"
      },
      "source": [
        "show_video()"
      ],
      "execution_count": 13,
      "outputs": [
        {
          "output_type": "stream",
          "text": [
            "['video/openaigym.video.1.59.video000000.mp4']\n"
          ],
          "name": "stdout"
        },
        {
          "output_type": "display_data",
          "data": {
            "text/html": [
              "<video alt=\"test\" autoplay \n",
              "                loop controls style=\"height: 400px;\">\n",
              "                <source src=\"data:video/mp4;base64,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\" type=\"video/mp4\" />\n",
              "             </video>"
            ],
            "text/plain": [
              "<IPython.core.display.HTML object>"
            ]
          },
          "metadata": {
            "tags": []
          }
        }
      ]
    }
  ]
}