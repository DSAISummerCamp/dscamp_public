{
  "cells": [
    {
      "cell_type": "markdown",
      "metadata": {
        "id": "x6uwn9wwpVkm"
      },
      "source": [
        "# Image Recognition Project Dataset"
      ]
    },
    {
      "cell_type": "markdown",
      "metadata": {
        "id": "UZFKbKLJpVku"
      },
      "source": [
        "The dataset is collected by the previous code. Please save the collected data (zip file or folder) in the same directory of this code in google drive.\n",
        "\n",
        "The dataset consists of multiple <b> 480x640x3</b> color images in 3 classes (scissors, rock and paper).\n"
      ]
    },
    {
      "cell_type": "code",
      "execution_count": 29,
      "metadata": {
        "colab": {
          "base_uri": "https://localhost:8080/"
        },
        "id": "JkApFJBApu78",
        "outputId": "7fa1dd56-4db8-4d66-975b-70cd19703d53"
      },
      "outputs": [
        {
          "output_type": "stream",
          "name": "stdout",
          "text": [
            "Drive already mounted at /content/gdrive; to attempt to forcibly remount, call drive.mount(\"/content/gdrive\", force_remount=True).\n"
          ]
        }
      ],
      "source": [
        "from google.colab import drive\n",
        "drive.mount('/content/gdrive')"
      ]
    },
    {
      "cell_type": "code",
      "execution_count": 30,
      "metadata": {
        "colab": {
          "base_uri": "https://localhost:8080/"
        },
        "id": "3KXpQJnKu_dp",
        "outputId": "47b1ade9-7a26-4f3e-a25d-ff7cabc6e9e4"
      },
      "outputs": [
        {
          "output_type": "stream",
          "name": "stdout",
          "text": [
            " 2024_project_template.ipynb  'NN team project presentation template for students.pptx'   rps.zip\n",
            " dlutils.py                    \u001b[0m\u001b[01;34m__pycache__\u001b[0m/\n",
            " kerutils.py                   rps_test.zip\n"
          ]
        }
      ],
      "source": [
        "\n",
        "## Look at the current directory\n",
        "%ls"
      ]
    },
    {
      "cell_type": "code",
      "execution_count": 31,
      "metadata": {
        "colab": {
          "base_uri": "https://localhost:8080/"
        },
        "id": "7IiB2CudurIi",
        "outputId": "e3279a59-c045-47d2-f85a-f4a9895c07b2"
      },
      "outputs": [
        {
          "output_type": "stream",
          "name": "stdout",
          "text": [
            "/content/gdrive/MyDrive/dscamp_public-master/dscamp_public-master/Project Object Recognition/2024 Camp Rock Paper Scissors/Templates\n"
          ]
        }
      ],
      "source": [
        "## Change the current dire\n",
        "#%cd 'gdrive/My Drive/CIFAR_Image_Recognition'\n",
        "%cd '/content/gdrive/MyDrive/dscamp_public-master/dscamp_public-master/Project Object Recognition/2024 Camp Rock Paper Scissors/Templates'"
      ]
    },
    {
      "cell_type": "markdown",
      "metadata": {
        "id": "kC-n5aZC89I4"
      },
      "source": [
        "# Import Data"
      ]
    },
    {
      "cell_type": "code",
      "execution_count": 32,
      "metadata": {
        "colab": {
          "base_uri": "https://localhost:8080/"
        },
        "id": "V1t9OoqfnxRF",
        "outputId": "7bb37ddd-e68e-408a-ed32-766360821828"
      },
      "outputs": [
        {
          "output_type": "stream",
          "name": "stdout",
          "text": [
            "Archive:  rps.zip\n",
            "  inflating: rps/scissors/scissors_3.jpg  \n",
            "  inflating: rps/scissors/scissors_8.jpg  \n",
            "  inflating: rps/paper/paper_9.jpg   \n",
            "  inflating: rps/scissors/scissors_9.jpg  \n",
            "  inflating: rps/scissors/scissors_2.jpg  \n",
            "  inflating: rps/scissors/scissors_7.jpg  \n",
            "  inflating: rps/scissors/scissors_10.jpg  \n",
            "  inflating: rps/scissors/scissors_11.jpg  \n",
            "  inflating: rps/paper/paper_5.jpg   \n",
            "  inflating: rps/scissors/scissors_1.jpg  \n",
            "  inflating: rps/paper/paper_1.jpg   \n",
            "  inflating: rps/scissors/scissors_6.jpg  \n",
            "  inflating: rps/paper/paper_2.jpg   \n",
            "  inflating: rps/paper/paper_10.jpg  \n",
            "  inflating: rps/paper/paper_6.jpg   \n",
            "  inflating: rps/paper/paper_7.jpg   \n",
            "  inflating: rps/paper/paper_8.jpg   \n",
            "  inflating: rps/paper/paper_4.jpg   \n",
            "  inflating: rps/paper/paper_3.jpg   \n",
            "  inflating: rps/rock/rock_3.jpg     \n",
            "  inflating: rps/rock/rock_2.jpg     \n",
            "  inflating: rps/rock/rock_4.jpg     \n",
            "  inflating: rps/rock/rock_1.jpg     \n",
            "  inflating: rps/rock/rock_5.jpg     \n",
            "  inflating: rps/scissors/scissors_4.jpg  \n"
          ]
        }
      ],
      "source": [
        "!unzip -o rps.zip # use this only when you use zip files or just skip this step"
      ]
    },
    {
      "cell_type": "code",
      "execution_count": 33,
      "metadata": {
        "colab": {
          "base_uri": "https://localhost:8080/"
        },
        "id": "Uzo21vicMwIB",
        "outputId": "48edcf6c-e7d1-40ec-840c-ce026fac6cfc"
      },
      "outputs": [
        {
          "output_type": "stream",
          "name": "stdout",
          "text": [
            "Archive:  rps_test.zip\n",
            "   creating: rps_test/\n",
            "  inflating: __MACOSX/._rps_test     \n",
            "   creating: rps_test/paper/\n",
            "  inflating: __MACOSX/rps_test/._paper  \n",
            "  inflating: rps_test/.DS_Store      \n",
            "  inflating: __MACOSX/rps_test/._.DS_Store  \n",
            "   creating: rps_test/rock/\n",
            "  inflating: __MACOSX/rps_test/._rock  \n",
            "   creating: rps_test/scissors/\n",
            "  inflating: __MACOSX/rps_test/._scissors  \n",
            "  inflating: rps_test/paper/paper_17.jpg  \n",
            "  inflating: __MACOSX/rps_test/paper/._paper_17.jpg  \n",
            "  inflating: rps_test/paper/paper_16.jpg  \n",
            "  inflating: __MACOSX/rps_test/paper/._paper_16.jpg  \n",
            "  inflating: rps_test/paper/paper_14.jpg  \n",
            "  inflating: __MACOSX/rps_test/paper/._paper_14.jpg  \n",
            "  inflating: rps_test/paper/paper_15.jpg  \n",
            "  inflating: __MACOSX/rps_test/paper/._paper_15.jpg  \n",
            "  inflating: rps_test/paper/paper_11.jpg  \n",
            "  inflating: __MACOSX/rps_test/paper/._paper_11.jpg  \n",
            "  inflating: rps_test/paper/paper_10.jpg  \n",
            "  inflating: __MACOSX/rps_test/paper/._paper_10.jpg  \n",
            "  inflating: rps_test/paper/paper_12.jpg  \n",
            "  inflating: __MACOSX/rps_test/paper/._paper_12.jpg  \n",
            "  inflating: rps_test/paper/paper_13.jpg  \n",
            "  inflating: __MACOSX/rps_test/paper/._paper_13.jpg  \n",
            "  inflating: rps_test/paper/paper_9.jpg  \n",
            "  inflating: __MACOSX/rps_test/paper/._paper_9.jpg  \n",
            "  inflating: rps_test/paper/paper_8.jpg  \n",
            "  inflating: __MACOSX/rps_test/paper/._paper_8.jpg  \n",
            "  inflating: rps_test/paper/paper_5.jpg  \n",
            "  inflating: __MACOSX/rps_test/paper/._paper_5.jpg  \n",
            "  inflating: rps_test/paper/paper_4.jpg  \n",
            "  inflating: __MACOSX/rps_test/paper/._paper_4.jpg  \n",
            "  inflating: rps_test/paper/paper_6.jpg  \n",
            "  inflating: __MACOSX/rps_test/paper/._paper_6.jpg  \n",
            "  inflating: rps_test/paper/paper_7.jpg  \n",
            "  inflating: __MACOSX/rps_test/paper/._paper_7.jpg  \n",
            "  inflating: rps_test/paper/paper_3.jpg  \n",
            "  inflating: __MACOSX/rps_test/paper/._paper_3.jpg  \n",
            "  inflating: rps_test/paper/paper_2.jpg  \n",
            "  inflating: __MACOSX/rps_test/paper/._paper_2.jpg  \n",
            "  inflating: rps_test/paper/paper_1.jpg  \n",
            "  inflating: __MACOSX/rps_test/paper/._paper_1.jpg  \n",
            "  inflating: rps_test/paper/paper_22.jpg  \n",
            "  inflating: __MACOSX/rps_test/paper/._paper_22.jpg  \n",
            "  inflating: rps_test/paper/paper_23.jpg  \n",
            "  inflating: __MACOSX/rps_test/paper/._paper_23.jpg  \n",
            "  inflating: rps_test/paper/paper_21.jpg  \n",
            "  inflating: __MACOSX/rps_test/paper/._paper_21.jpg  \n",
            "  inflating: rps_test/paper/paper_20.jpg  \n",
            "  inflating: __MACOSX/rps_test/paper/._paper_20.jpg  \n",
            "  inflating: rps_test/paper/paper_24.jpg  \n",
            "  inflating: __MACOSX/rps_test/paper/._paper_24.jpg  \n",
            "  inflating: rps_test/paper/paper_18.jpg  \n",
            "  inflating: __MACOSX/rps_test/paper/._paper_18.jpg  \n",
            "  inflating: rps_test/paper/paper_19.jpg  \n",
            "  inflating: __MACOSX/rps_test/paper/._paper_19.jpg  \n",
            "  inflating: rps_test/paper/paper_25.jpg  \n",
            "  inflating: __MACOSX/rps_test/paper/._paper_25.jpg  \n",
            "  inflating: rps_test/rock/rock_15.jpg  \n",
            "  inflating: __MACOSX/rps_test/rock/._rock_15.jpg  \n",
            "  inflating: rps_test/rock/rock_14.jpg  \n",
            "  inflating: __MACOSX/rps_test/rock/._rock_14.jpg  \n",
            "  inflating: rps_test/rock/rock_16.jpg  \n",
            "  inflating: __MACOSX/rps_test/rock/._rock_16.jpg  \n",
            "  inflating: rps_test/rock/rock_17.jpg  \n",
            "  inflating: __MACOSX/rps_test/rock/._rock_17.jpg  \n",
            "  inflating: rps_test/rock/rock_13.jpg  \n",
            "  inflating: __MACOSX/rps_test/rock/._rock_13.jpg  \n",
            "  inflating: rps_test/rock/rock_12.jpg  \n",
            "  inflating: __MACOSX/rps_test/rock/._rock_12.jpg  \n",
            "  inflating: rps_test/rock/rock_10.jpg  \n",
            "  inflating: __MACOSX/rps_test/rock/._rock_10.jpg  \n",
            "  inflating: rps_test/rock/rock_11.jpg  \n",
            "  inflating: __MACOSX/rps_test/rock/._rock_11.jpg  \n",
            "  inflating: rps_test/rock/rock_8.jpg  \n",
            "  inflating: __MACOSX/rps_test/rock/._rock_8.jpg  \n",
            "  inflating: rps_test/rock/rock_9.jpg  \n",
            "  inflating: __MACOSX/rps_test/rock/._rock_9.jpg  \n",
            "  inflating: rps_test/rock/rock_7.jpg  \n",
            "  inflating: __MACOSX/rps_test/rock/._rock_7.jpg  \n",
            "  inflating: rps_test/rock/rock_6.jpg  \n",
            "  inflating: __MACOSX/rps_test/rock/._rock_6.jpg  \n",
            "  inflating: rps_test/rock/rock_4.jpg  \n",
            "  inflating: __MACOSX/rps_test/rock/._rock_4.jpg  \n",
            "  inflating: rps_test/rock/rock_5.jpg  \n",
            "  inflating: __MACOSX/rps_test/rock/._rock_5.jpg  \n",
            "  inflating: rps_test/rock/rock_1.jpg  \n",
            "  inflating: __MACOSX/rps_test/rock/._rock_1.jpg  \n",
            "  inflating: rps_test/rock/rock_2.jpg  \n",
            "  inflating: __MACOSX/rps_test/rock/._rock_2.jpg  \n",
            "  inflating: rps_test/rock/rock_3.jpg  \n",
            "  inflating: __MACOSX/rps_test/rock/._rock_3.jpg  \n",
            "  inflating: rps_test/rock/rock_20.jpg  \n",
            "  inflating: __MACOSX/rps_test/rock/._rock_20.jpg  \n",
            "  inflating: rps_test/rock/rock_21.jpg  \n",
            "  inflating: __MACOSX/rps_test/rock/._rock_21.jpg  \n",
            "  inflating: rps_test/rock/rock_23.jpg  \n",
            "  inflating: __MACOSX/rps_test/rock/._rock_23.jpg  \n",
            "  inflating: rps_test/rock/rock_22.jpg  \n",
            "  inflating: __MACOSX/rps_test/rock/._rock_22.jpg  \n",
            "  inflating: rps_test/rock/rock_25.jpg  \n",
            "  inflating: __MACOSX/rps_test/rock/._rock_25.jpg  \n",
            "  inflating: rps_test/rock/rock_19.jpg  \n",
            "  inflating: __MACOSX/rps_test/rock/._rock_19.jpg  \n",
            "  inflating: rps_test/rock/rock_18.jpg  \n",
            "  inflating: __MACOSX/rps_test/rock/._rock_18.jpg  \n",
            "  inflating: rps_test/rock/rock_24.jpg  \n",
            "  inflating: __MACOSX/rps_test/rock/._rock_24.jpg  \n",
            "  inflating: rps_test/scissors/scissors_8.jpg  \n",
            "  inflating: __MACOSX/rps_test/scissors/._scissors_8.jpg  \n",
            "  inflating: rps_test/scissors/scissors_25.jpg  \n",
            "  inflating: __MACOSX/rps_test/scissors/._scissors_25.jpg  \n",
            "  inflating: rps_test/scissors/scissors_19.jpg  \n",
            "  inflating: __MACOSX/rps_test/scissors/._scissors_19.jpg  \n",
            "  inflating: rps_test/scissors/scissors_18.jpg  \n",
            "  inflating: __MACOSX/rps_test/scissors/._scissors_18.jpg  \n",
            "  inflating: rps_test/scissors/scissors_24.jpg  \n",
            "  inflating: __MACOSX/rps_test/scissors/._scissors_24.jpg  \n",
            "  inflating: rps_test/scissors/scissors_9.jpg  \n",
            "  inflating: __MACOSX/rps_test/scissors/._scissors_9.jpg  \n",
            "  inflating: rps_test/scissors/scissors_20.jpg  \n",
            "  inflating: __MACOSX/rps_test/scissors/._scissors_20.jpg  \n",
            "  inflating: rps_test/scissors/scissors_21.jpg  \n",
            "  inflating: __MACOSX/rps_test/scissors/._scissors_21.jpg  \n",
            "  inflating: rps_test/scissors/scissors_23.jpg  \n",
            "  inflating: __MACOSX/rps_test/scissors/._scissors_23.jpg  \n",
            "  inflating: rps_test/scissors/scissors_22.jpg  \n",
            "  inflating: __MACOSX/rps_test/scissors/._scissors_22.jpg  \n",
            "  inflating: rps_test/scissors/scissors_2.jpg  \n",
            "  inflating: __MACOSX/rps_test/scissors/._scissors_2.jpg  \n",
            "  inflating: rps_test/scissors/scissors_13.jpg  \n",
            "  inflating: __MACOSX/rps_test/scissors/._scissors_13.jpg  \n",
            "  inflating: rps_test/scissors/scissors_12.jpg  \n",
            "  inflating: __MACOSX/rps_test/scissors/._scissors_12.jpg  \n",
            "  inflating: rps_test/scissors/scissors_3.jpg  \n",
            "  inflating: __MACOSX/rps_test/scissors/._scissors_3.jpg  \n",
            "  inflating: rps_test/scissors/scissors_1.jpg  \n",
            "  inflating: __MACOSX/rps_test/scissors/._scissors_1.jpg  \n",
            "  inflating: rps_test/scissors/scissors_10.jpg  \n",
            "  inflating: __MACOSX/rps_test/scissors/._scissors_10.jpg  \n",
            "  inflating: rps_test/scissors/scissors_11.jpg  \n",
            "  inflating: __MACOSX/rps_test/scissors/._scissors_11.jpg  \n",
            "  inflating: rps_test/scissors/scissors_4.jpg  \n",
            "  inflating: __MACOSX/rps_test/scissors/._scissors_4.jpg  \n",
            "  inflating: rps_test/scissors/scissors_15.jpg  \n",
            "  inflating: __MACOSX/rps_test/scissors/._scissors_15.jpg  \n",
            "  inflating: rps_test/scissors/scissors_14.jpg  \n",
            "  inflating: __MACOSX/rps_test/scissors/._scissors_14.jpg  \n",
            "  inflating: rps_test/scissors/scissors_5.jpg  \n",
            "  inflating: __MACOSX/rps_test/scissors/._scissors_5.jpg  \n",
            "  inflating: rps_test/scissors/scissors_7.jpg  \n",
            "  inflating: __MACOSX/rps_test/scissors/._scissors_7.jpg  \n",
            "  inflating: rps_test/scissors/scissors_16.jpg  \n",
            "  inflating: __MACOSX/rps_test/scissors/._scissors_16.jpg  \n",
            "  inflating: rps_test/scissors/scissors_17.jpg  \n",
            "  inflating: __MACOSX/rps_test/scissors/._scissors_17.jpg  \n",
            "  inflating: rps_test/scissors/scissors_6.jpg  \n",
            "  inflating: __MACOSX/rps_test/scissors/._scissors_6.jpg  \n"
          ]
        }
      ],
      "source": [
        "!unzip -o rps_test.zip # use this only when you use zip files or just skip this step"
      ]
    },
    {
      "cell_type": "code",
      "execution_count": 34,
      "metadata": {
        "colab": {
          "base_uri": "https://localhost:8080/"
        },
        "id": "UZkDdiOTyEe3",
        "outputId": "05d2b170-486f-4490-f35a-ca38beaee4c3"
      },
      "outputs": [
        {
          "output_type": "stream",
          "name": "stdout",
          "text": [
            "(25, 480, 640, 3)\n",
            "(25,)\n"
          ]
        }
      ],
      "source": [
        "import cv2\n",
        "import glob\n",
        "import numpy as np\n",
        "\n",
        "X_scissor = np.asarray([cv2.imread(file) for file in glob.glob('rps/scissors/*.jpg')])\n",
        "y_scissor = np.zeros(X_scissor.shape[0])\n",
        "X_rock = np.asarray([cv2.imread(file) for file in glob.glob('rps/rock/*.jpg')])\n",
        "y_rock = np.zeros(X_rock.shape[0]) + 1\n",
        "X_paper = np.asarray([cv2.imread(file) for file in glob.glob('rps/paper/*.jpg')])\n",
        "y_paper = np.zeros(X_paper.shape[0]) + 2\n",
        "\n",
        "X_train = np.concatenate((X_scissor, X_rock, X_paper), axis=0)\n",
        "y_train = np.concatenate((y_scissor, y_rock, y_paper), axis=0)\n",
        "\n",
        "print(X_train.shape)\n",
        "print(y_train.shape)"
      ]
    },
    {
      "cell_type": "code",
      "execution_count": 35,
      "metadata": {
        "colab": {
          "base_uri": "https://localhost:8080/"
        },
        "id": "_rmrZZxgS9Ro",
        "outputId": "77f25de3-0d4f-496a-b1fd-37da0ebd5f1d"
      },
      "outputs": [
        {
          "output_type": "stream",
          "name": "stdout",
          "text": [
            "(75, 480, 640, 3)\n",
            "(75,)\n"
          ]
        }
      ],
      "source": [
        "X_scissor = np.asarray([cv2.imread(file) for file in glob.glob('rps_test/scissors/*.jpg')])\n",
        "y_scissor = np.zeros(X_scissor.shape[0])\n",
        "X_rock = np.asarray([cv2.imread(file) for file in glob.glob('rps_test/rock/*.jpg')])\n",
        "y_rock = np.zeros(X_rock.shape[0]) + 1\n",
        "X_paper = np.asarray([cv2.imread(file) for file in glob.glob('rps_test/paper/*.jpg')])\n",
        "y_paper = np.zeros(X_paper.shape[0]) + 2\n",
        "\n",
        "X_test = np.concatenate((X_scissor, X_rock, X_paper), axis=0)\n",
        "y_test = np.concatenate((y_scissor, y_rock, y_paper), axis=0)\n",
        "\n",
        "print(X_test.shape)\n",
        "print(y_test.shape)"
      ]
    },
    {
      "cell_type": "code",
      "execution_count": 37,
      "metadata": {
        "id": "FByWfUxgtUmZ"
      },
      "outputs": [],
      "source": [
        "# only needed when you want to take random samples of training data\n",
        "\n",
        "# from sklearn.model_selection import train_test_split\n",
        "\n",
        "# X_train, X_test, y_train, y_test = train_test_split(X_all, y_all, test_size=0.20, random_state=42)\n",
        "\n",
        "# print(X_train.shape)\n",
        "# print(X_test.shape)"
      ]
    },
    {
      "cell_type": "markdown",
      "metadata": {
        "id": "kogFLhYppVkv"
      },
      "source": [
        "# Import Packages"
      ]
    },
    {
      "cell_type": "code",
      "execution_count": 41,
      "metadata": {
        "id": "NrGDMTU1pVkw"
      },
      "outputs": [],
      "source": [
        "import keras\n",
        "from keras.datasets import cifar10\n",
        "from keras.preprocessing.image import ImageDataGenerator\n",
        "from keras.models import Sequential, load_model\n",
        "from keras.layers import Dense, Dropout, Activation, Flatten\n",
        "from keras.layers import Convolution2D, MaxPooling2D\n",
        "# from keras.optimizers import SGD\n",
        "from keras.constraints import MaxNorm\n",
        "from keras import utils\n",
        "from keras.layers import GaussianNoise\n",
        "#from keras.layers.advanced_activations import SReLU\n",
        "#from keras.utils import plot_model\n",
        "import pandas as pd\n",
        "import matplotlib.pyplot as plt\n",
        "import time, pickle\n",
        "import os, sys, time, datetime, fnmatch\n",
        "import numpy as np\n",
        "import dlutils\n",
        "import kerutils\n",
        "from dlutils import *\n",
        "from kerutils import *"
      ]
    },
    {
      "cell_type": "markdown",
      "metadata": {
        "id": "-TJjrzBVpVkx"
      },
      "source": [
        "Define classes"
      ]
    },
    {
      "cell_type": "code",
      "execution_count": null,
      "metadata": {
        "id": "PSldcIpfpVky"
      },
      "outputs": [],
      "source": [
        "nb_classes = 3\n",
        "class_name = {\n",
        "    0: 'scissor',\n",
        "    1: 'rock',\n",
        "    2: 'paper'\n",
        "}"
      ]
    },
    {
      "cell_type": "markdown",
      "metadata": {
        "id": "LrTp_ahnpVky"
      },
      "source": [
        "Loading Training and test data"
      ]
    },
    {
      "cell_type": "markdown",
      "metadata": {
        "id": "9eY7Tu2lpVkz"
      },
      "source": [
        "The original data of each image is a 480x640x3 matrix of integers from 0 to 255. We need to scale it down to floats in the unit interval"
      ]
    },
    {
      "cell_type": "code",
      "execution_count": null,
      "metadata": {
        "id": "InOz1XQqpVkz"
      },
      "outputs": [],
      "source": [
        "X_train = X_train.astype('float32')\n",
        "X_test = X_test.astype('float32')\n",
        "X_train /= 255\n",
        "X_test /= 255"
      ]
    },
    {
      "cell_type": "markdown",
      "metadata": {
        "id": "MaV9bzuRpVk0"
      },
      "source": [
        "As usual, we must convert the y_train and y_test vectors to one-hot format:<br>\n",
        "0 → [1, 0, 0, 0, 0, 0, 0, 0, 0, 0]<br>\n",
        "1 → [0, 1, 0, 0, 0, 0, 0, 0, 0, 0]<br>\n",
        "2 → [0, 0, 1, 0, 0, 0, 0, 0, 0, 0]<br>"
      ]
    },
    {
      "cell_type": "code",
      "execution_count": null,
      "metadata": {
        "id": "ivXkGZq-1U1z"
      },
      "outputs": [],
      "source": [
        "Y_train = np_utils.to_categorical(y_train, nb_classes)\n",
        "Y_test = np_utils.to_categorical(y_test, nb_classes)"
      ]
    },
    {
      "cell_type": "markdown",
      "metadata": {
        "id": "V_rXfdkppVk1"
      },
      "source": [
        "Let's also write two small utilities for drawing samples of images, so we can inspect our results visually."
      ]
    },
    {
      "cell_type": "code",
      "execution_count": null,
      "metadata": {
        "id": "DkbhQ_4BpVk2"
      },
      "outputs": [],
      "source": [
        "def draw_img(i):\n",
        "    im = X_train[i]\n",
        "    c = y_train[i]\n",
        "    plt.imshow(im)\n",
        "    plt.title(\"Class %d (%s)\" % (c, class_name[c]))\n",
        "    plt.axis('on')\n",
        "\n",
        "def draw_sample(X, y, n, rows=4, cols=4, imfile=None, fontsize=12):\n",
        "    for i in range(0, rows*cols):\n",
        "        plt.subplot(rows, cols, i+1)\n",
        "        im = X[n+i].reshape(480,640,3)\n",
        "        plt.imshow(im, cmap='gnuplot2')\n",
        "        plt.title(\"{}\".format(class_name[y[n+i]]), fontsize=fontsize)\n",
        "        plt.axis('off')\n",
        "        plt.subplots_adjust(wspace=0.6, hspace=0.01)\n",
        "        #plt.subplots_adjust(hspace=0.45, wspace=0.45)\n",
        "        #plt.tight_layout(pad=0.4, w_pad=0.5, h_pad=1.0)\n",
        "    if imfile:\n",
        "        plt.savefig(imfile)"
      ]
    },
    {
      "cell_type": "markdown",
      "metadata": {
        "id": "Tn37G67jpVk2"
      },
      "source": [
        "Let's draw an image in X_train for example"
      ]
    },
    {
      "cell_type": "code",
      "execution_count": null,
      "metadata": {
        "id": "v6ifUyLnpVk2"
      },
      "outputs": [],
      "source": [
        "draw_img(0)"
      ]
    },
    {
      "cell_type": "markdown",
      "metadata": {
        "id": "gN1Os8-2pVk3"
      },
      "source": [
        "To test the second utility, let's draw the first 15 images in a 3x5 grid:"
      ]
    },
    {
      "cell_type": "code",
      "execution_count": null,
      "metadata": {
        "id": "B84Zb--lpVk3"
      },
      "outputs": [],
      "source": [
        "draw_sample(X_train, y_train, 0,3,5)"
      ]
    },
    {
      "cell_type": "markdown",
      "metadata": {
        "id": "zUK5rMRLpVk4"
      },
      "source": [
        "# Building Neural Network for the image set"
      ]
    },
    {
      "cell_type": "markdown",
      "metadata": {
        "id": "EsWywvHfpVk4"
      },
      "source": [
        "The input layer would have to be of size 480x640x3. If we add a hidden layer with the same size, we'll end up with 9 milion synapses on the first floor. Adding one more layer of such size will take us to billions of synapses, which is of course impractical.<br>\n",
        "Deep learning frameworks have come up with special types of designated layers for processing images. Each image pixel is connected to a very small subset of pixels of size 3x3 or 5x5 in its neighborhood. Intuitively, image pixels are mostly impacted by pixels around them rather than pixels in a far away region of the image.<br>\n",
        "We will start with a small Keras model which combines a well thought mix of <b>Convolution2D</b>, <b>Maxpooling2D</b> and Dense layers.<br>\n"
      ]
    },
    {
      "cell_type": "markdown",
      "metadata": {
        "id": "vu4OtZYXpVk5"
      },
      "source": [
        "We will use two types of training:<br>\n",
        "<b>Standard training</b>: the usual Keras fit method<br>\n",
        "\n"
      ]
    },
    {
      "cell_type": "markdown",
      "metadata": {
        "id": "YsLL_glRpVk5"
      },
      "source": [
        "# Let's Train Model"
      ]
    },
    {
      "cell_type": "markdown",
      "metadata": {
        "id": "qE-yfsBuQVuX"
      },
      "source": [
        "Try another architecture"
      ]
    },
    {
      "cell_type": "code",
      "execution_count": null,
      "metadata": {
        "id": "vNEZh1h457I0"
      },
      "outputs": [],
      "source": [
        "nb_epoch = 10\n",
        "batch_size = 4\n",
        "\n",
        "model1 = Sequential()\n",
        "model1.add(Convolution2D(4, 2, 2, input_shape=(480, 640, 3), activation='relu')) # add parameters and activation function\n",
        "model1.add(MaxPooling2D(pool_size=(2, 2))) # add parameters\n",
        "model1.add(Convolution2D(8, 2, 2, activation='relu')) # add parameters and activation function\n",
        "model1.add(MaxPooling2D(pool_size=(2, 2))) # add parameters\n",
        "model1.add(Flatten())\n",
        "model1.add(Dense(32, activation='relu')) # add parameters and activation function\n",
        "model1.add(Dense(nb_classes, activation='softmax')) # activation function\n",
        "# Compile model\n",
        "model1.compile(loss='categorical_crossentropy', optimizer='adam', metrics=['accuracy'])\n",
        "print(model1.summary())\n",
        "\n",
        "print('Standard Training.')\n",
        "\n",
        "h = model1.fit(\n",
        "    X_train,\n",
        "    Y_train,\n",
        "    batch_size=batch_size,\n",
        "    epochs=nb_epoch,\n",
        "    validation_data=(X_test, Y_test),\n",
        "    shuffle=True\n",
        ")\n",
        "\n",
        "# save the model if it's needed\n",
        "# print('Saving model1 to the file \"model_1.h5\"')\n",
        "# model1.save(\"model_1.h5\")"
      ]
    },
    {
      "cell_type": "code",
      "execution_count": null,
      "metadata": {
        "id": "HFloOVj_1S1e"
      },
      "outputs": [],
      "source": [
        "def show_scores1(model, h, X_train, Y_train, X_test, Y_test):\n",
        "    loss, acc = model.evaluate(X_train, Y_train, verbose=0)\n",
        "    print (\"Training: accuracy   = %.6f loss = %.6f\" % (acc, loss))\n",
        "    loss, acc = model.evaluate(X_test, Y_test, verbose=0)\n",
        "    print (\"Validation: accuracy = %.6f loss = %.6f\" % (acc, loss))\n",
        "    if 'val_acc' in h.history:\n",
        "        print (\"Over fitting score   = %.6f\" % over_fitting_score(h))\n",
        "        print (\"Under fitting score  = %.6f\" % under_fitting_score(h))\n",
        "    print (\"Params count:\", model.count_params())\n",
        "    print (\"stop epoch =\", max(h.epoch))\n",
        "    print (\"nb_epoch =\", h.params['epochs'])\n",
        "    #print (\"batch_size =\", h.params['batch_size'])\n",
        "    #print (\"nb_sample =\", h.params['samples'])\n",
        "    view_acc1(h)\n",
        "    id = model.name[-1]\n",
        "    plt.savefig(model.name + '_acc_graph.png')\n",
        "    plt.show()\n",
        "    view_loss(h)\n",
        "    plt.savefig(model.name + '_loss_graph.png')\n",
        "    plt.show()\n"
      ]
    },
    {
      "cell_type": "code",
      "execution_count": null,
      "metadata": {
        "id": "8bnD4Z1U1oUq"
      },
      "outputs": [],
      "source": [
        "def view_acc1(h):\n",
        "    # Accuracy history graph\n",
        "    plt.plot(h.history['accuracy'])\n",
        "    if 'val_accuracy' in h.history:\n",
        "        plt.plot(h.history['val_accuracy'])\n",
        "    plt.title('model accuracy')\n",
        "    plt.ylabel('accuracy')\n",
        "    plt.xlabel('epoch')\n",
        "    leg = plt.legend(['train', 'validation'], loc='best')\n",
        "    plt.setp(leg.get_lines(), linewidth=3.0)\n"
      ]
    },
    {
      "cell_type": "code",
      "execution_count": null,
      "metadata": {
        "id": "pcBXVUcTyC6l"
      },
      "outputs": [],
      "source": [
        "show_scores1(model1, h, X_train, Y_train, X_test, Y_test)"
      ]
    },
    {
      "cell_type": "code",
      "execution_count": null,
      "metadata": {
        "id": "TkbhLNsBpVk6"
      },
      "outputs": [],
      "source": [
        "# model1 = load_model(\"model_1.h5\")"
      ]
    },
    {
      "cell_type": "code",
      "execution_count": null,
      "metadata": {
        "id": "ITlw6_cKpVk7"
      },
      "outputs": [],
      "source": [
        "loss, accuracy = model1.evaluate(X_train, Y_train, verbose=0)\n",
        "print(\"Training: accuracy = %f  ;  loss = %f\" % (accuracy, loss))\n",
        "loss, accuracy = model1.evaluate(X_test, Y_test, verbose=0)\n",
        "print(\"Validation: accuracy1 = %f  ;  loss1 = %f\" % (accuracy, loss))"
      ]
    },
    {
      "cell_type": "markdown",
      "metadata": {
        "id": "j6GMm1tVpVk7"
      },
      "source": [
        "# Inspecting Output"
      ]
    },
    {
      "cell_type": "markdown",
      "metadata": {
        "id": "F0m8K77upVk8"
      },
      "source": [
        "Neverthelss, befor we search for a new model, let's take a quick look on some of the cases that our model1 missed. It may give us hints on the strengths an weaknesses of NN models, and what we can expect from these artificial models.<br>\n",
        "The predict_classes method is helpful for getting a vector (y_pred) of the predicted classes of model1. We should compare y_pred to the expected true classes y_test in order to get the false cases:"
      ]
    },
    {
      "cell_type": "code",
      "execution_count": null,
      "metadata": {
        "id": "BtEP3Ndd7cAb"
      },
      "outputs": [],
      "source": []
    },
    {
      "cell_type": "code",
      "execution_count": null,
      "metadata": {
        "id": "uXpCJG3OpVk8"
      },
      "outputs": [],
      "source": [
        "predict_x=model1.predict(X_test)\n",
        "y_pred =np.argmax(predict_x,axis=1)\n",
        "true_preds = [(x,y,p) for (x,y,p) in zip(X_test, y_test, y_pred) if y == p]\n",
        "false_preds = [(x,y,p) for (x,y,p) in zip(X_test, y_test, y_pred) if y != p]\n",
        "print(\"Number of true predictions: \", len(true_preds))\n",
        "print(\"Number of false predictions:\", len(false_preds))"
      ]
    },
    {
      "cell_type": "markdown",
      "metadata": {
        "id": "NjdS2w49pVk8"
      },
      "source": [
        "Let's see images we can recognize"
      ]
    },
    {
      "cell_type": "code",
      "execution_count": null,
      "metadata": {
        "id": "fo7l1hDWpVk8"
      },
      "outputs": [],
      "source": [
        "for i,(x,y,p) in enumerate(true_preds[0:15]):\n",
        "    plt.subplot(3, 5, i+1)\n",
        "    plt.imshow(x, cmap='gnuplot2')\n",
        "    plt.title(\"y: %s\\np: %s\" % (class_name[y], class_name[p]), fontsize=9, loc='left')\n",
        "    plt.axis('off')\n",
        "    plt.subplots_adjust(wspace=0.6, hspace=0.2)"
      ]
    },
    {
      "cell_type": "markdown",
      "metadata": {
        "id": "0D7aYuEWpVk9"
      },
      "source": [
        "Let's see iamges we can not recognize."
      ]
    },
    {
      "cell_type": "code",
      "execution_count": null,
      "metadata": {
        "id": "TZLFFUvppVk9"
      },
      "outputs": [],
      "source": [
        "for i,(x,y,p) in enumerate(false_preds[0:15]):\n",
        "    plt.subplot(3, 5, i+1)\n",
        "    plt.imshow(x, cmap='gnuplot2')\n",
        "    plt.title(\"y: %s\\np: %s\" % (class_name[y], class_name[p]), fontsize=9, loc='left')\n",
        "    plt.axis('off')\n",
        "    plt.subplots_adjust(wspace=0.6, hspace=0.2)"
      ]
    },
    {
      "cell_type": "code",
      "execution_count": null,
      "metadata": {
        "id": "Oo46J5cA5376"
      },
      "outputs": [],
      "source": []
    },
    {
      "cell_type": "code",
      "execution_count": null,
      "metadata": {
        "id": "2mWom7OexN7M"
      },
      "outputs": [],
      "source": []
    },
    {
      "cell_type": "code",
      "execution_count": null,
      "metadata": {
        "id": "giQBylaYxN9p"
      },
      "outputs": [],
      "source": [
        "from google.colab import drive\n",
        "drive.flush_and_unmount()"
      ]
    }
  ],
  "metadata": {
    "colab": {
      "provenance": []
    },
    "kernelspec": {
      "display_name": "Python 3",
      "language": "python",
      "name": "python3"
    },
    "language_info": {
      "codemirror_mode": {
        "name": "ipython",
        "version": 3
      },
      "file_extension": ".py",
      "mimetype": "text/x-python",
      "name": "python",
      "nbconvert_exporter": "python",
      "pygments_lexer": "ipython3",
      "version": "3.7.3"
    }
  },
  "nbformat": 4,
  "nbformat_minor": 0
}