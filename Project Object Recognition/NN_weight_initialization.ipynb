{
 "cells": [
  {
   "cell_type": "markdown",
   "metadata": {},
   "source": [
    "# Neural Networks Weight Initialization"
   ]
  },
  {
   "cell_type": "markdown",
   "metadata": {},
   "source": [
    "Training your neural network requires specifying an initial value of the weights. \n",
    "\n",
    "A well chosen initialization can:\n",
    "<ul>\n",
    "<li>Speed up the convergence of gradient descent\n",
    "<li>Increase the odds of gradient descent converging to a lower training (and generalization) error\n",
    "</ul."
   ]
  },
  {
   "cell_type": "markdown",
   "metadata": {},
   "source": [
    "There are three possible weight initialization methods:\n",
    "<ul>\n",
    "<li> <i>Zero Initialization</i> -- Assigns an initial weight of zero to all the weights.\n",
    "    <li> <i> Random Initialization </i> -- This initializes the weights to large random values.\n",
    "    <li> <i> He Initialization </i> --  This initializes the weights to random values scaled according to a paper by He et al., 2015. \n",
    "</ul>"
   ]
  },
  {
   "cell_type": "markdown",
   "metadata": {},
   "source": [
    "These three initialization methods were applied on a three layer neural network which tried to separate the blue dots from the red dots as shown in the image below."
   ]
  },
  {
   "cell_type": "markdown",
   "metadata": {},
   "source": [
    "![title](img/input_image.png)"
   ]
  },
  {
   "cell_type": "markdown",
   "metadata": {},
   "source": [
    "Now we can see how each initialization methods perform in their classification tasks"
   ]
  },
  {
   "cell_type": "markdown",
   "metadata": {},
   "source": [
    "There are two types of parameters to initialize in a neural network:\n",
    "<ul>\n",
    "<li>the weight matrices (${W^{[1]},W^{[2]},W^{[3]},\\dots,W^{[L-1]},W^{[L]}}$)\n",
    "<li>the bias vectors ($b^{[1]},b^{[1]},b^{[1]}.\\dots,b^{[L-1]},b^{[L]}$)\n",
    "    </ul>"
   ]
  },
  {
   "cell_type": "markdown",
   "metadata": {},
   "source": [
    "## 1. Zero Weight Initialization"
   ]
  },
  {
   "cell_type": "markdown",
   "metadata": {},
   "source": [
    "We see in the plot below that the cost function is not getting updated during the training phase."
   ]
  },
  {
   "cell_type": "markdown",
   "metadata": {},
   "source": [
    "![zero_weights_performance](img/zero_weights_performance.png)"
   ]
  },
  {
   "cell_type": "markdown",
   "metadata": {},
   "source": [
    "We can also see the decision boundary determined by the model:"
   ]
  },
  {
   "cell_type": "markdown",
   "metadata": {},
   "source": [
    "![zero_weight_result](img/zero_weights_result.png)"
   ]
  },
  {
   "cell_type": "markdown",
   "metadata": {},
   "source": [
    "The model is predicting 0 for every example.\n",
    "\n",
    "In general, initializing all the weights to zero results in the network failing to break symmetry. This means that every neuron in each layer will learn the same thing, and you might as well be training a neural network with $\\boldsymbol{n^{[l]}}=1$ for every layer, and the network is no more powerful than a linear classifier such as logistic regression.\n",
    "\n",
    "<b>What you should remember</b>:\n",
    "<ul>\n",
    "<li>The weights ${W^{[l]}}$ should be initialized randomly to break symmetry.\n",
    "<li>It is however okay to initialize the biases ${b^{[l]}}$ to zeros. Symmetry is still broken so long as ${W^{[l]}}$ is initialized randomly.\n",
    "</ul>"
   ]
  },
  {
   "cell_type": "markdown",
   "metadata": {},
   "source": [
    "## 2. Random Weight Initialization"
   ]
  },
  {
   "cell_type": "markdown",
   "metadata": {},
   "source": [
    "To break symmetry, the weights are initialized randomly. Following random initialization, each neuron can then proceed to learn a different function of its inputs. We will see what happens if the weights are intialized randomly, but to very large values."
   ]
  },
  {
   "cell_type": "markdown",
   "metadata": {},
   "source": [
    "Each weight matrix is initialized with the values ```np.random.randn( layers_dims[l],layers_dims[l-1] ) * 10```. This generates normally distributed random variables with mean 0 and standard deviation and multiplies the resulting random number by 10. The bias vectors are initialized with zero values."
   ]
  },
  {
   "cell_type": "markdown",
   "metadata": {},
   "source": [
    "![random_weights_performance](img/random_weights_performance.png)"
   ]
  },
  {
   "cell_type": "markdown",
   "metadata": {},
   "source": [
    "![random_weight_result](img/random_weights_results.png)"
   ]
  },
  {
   "cell_type": "markdown",
   "metadata": {},
   "source": [
    "<b>Observations</b>:\n",
    "<ul>\n",
    "    <li>The cost starts very high. This is because with large random-valued weights, the last activation (sigmoid) outputs results that are very close to 0 or 1 for some examples, and when it gets that example wrong it incurs a very high loss for that example. Indeed, when $log(a^{[3]})=log(0)$, the loss goes to infinity.\n",
    "<li>Poor initialization can lead to vanishing/exploding gradients, which also slows down the optimization algorithm.\n",
    "<li>If you train this network longer you will see better results, but initializing with overly large random numbers slows down the optimization.\n",
    "</ul>\n",
    "    \n",
    "<b>In summary</b>:\n",
    "<ul>\n",
    "<li>Initializing weights to very large random values does not work well.\n",
    "<li>Hopefully intializing with small random values does better. The important question is: how small should be these random values be? Lets find out in the next part!"
   ]
  },
  {
   "cell_type": "markdown",
   "metadata": {},
   "source": [
    "## 3. He Initialization"
   ]
  },
  {
   "cell_type": "markdown",
   "metadata": {},
   "source": [
    "Finally, we try \"He Initialization\"; this is named for the first author of He et al., 2015. (If you have heard of \"Xavier initialization\", this is similar except Xavier initialization uses a scaling factor for the weights  of ```sqrt(1./layers_dims[l-1])``` where He initialization would use ```sqrt(2./layers_dims[l-1]).)```"
   ]
  },
  {
   "cell_type": "markdown",
   "metadata": {},
   "source": [
    "The only difference is that instead of multiplying ```np.random.randn(..,..) by 10```, we multiply it by $\\sqrt{\\frac{2}{\\text{dimension of the previous layer}}}$, which is what He initialization recommends for layers with a ReLU activation."
   ]
  },
  {
   "cell_type": "markdown",
   "metadata": {},
   "source": [
    "![he_weights_performance](img/he_weights_performance.png)"
   ]
  },
  {
   "cell_type": "markdown",
   "metadata": {},
   "source": [
    "![he_weights_results](img/he_weights_result.png)"
   ]
  },
  {
   "cell_type": "markdown",
   "metadata": {},
   "source": [
    "<b>Observations:</b>\n",
    "<ul>\n",
    "<li>The model with He initialization separates the blue and the red dots very well in a small number of iterations."
   ]
  },
  {
   "cell_type": "markdown",
   "metadata": {},
   "source": [
    "## 4. Conclusion"
   ]
  },
  {
   "cell_type": "markdown",
   "metadata": {},
   "source": [
    "We haves seen three different types of initializations. For the same number of iterations and same hyperparameters the comparison is:"
   ]
  },
  {
   "cell_type": "markdown",
   "metadata": {},
   "source": [
    "|Model|Train Accuracy| Comment|\n",
    "|---|---|---|\n",
    "|3-layer NN with zeros initialization|50%|fails to break symmetry|\n",
    "|3-layer NN with large random initialization|83%|too large weights|\n",
    "|3-layer NN with He initialization|99%|recommended method|"
   ]
  },
  {
   "cell_type": "markdown",
   "metadata": {},
   "source": [
    "What you should remember from this notebook:\n",
    "<ul>\n",
    "<li>Different initializations lead to different results\n",
    "<li>Random initialization is used to break symmetry and make sure different hidden units can learn different things\n",
    "<li>Don't intialize to values that are too large\n",
    "<li>He initialization works well for networks with ReLU activations."
   ]
  }
 ],
 "metadata": {
  "kernelspec": {
   "display_name": "Python 3",
   "language": "python",
   "name": "python3"
  },
  "language_info": {
   "codemirror_mode": {
    "name": "ipython",
    "version": 3
   },
   "file_extension": ".py",
   "mimetype": "text/x-python",
   "name": "python",
   "nbconvert_exporter": "python",
   "pygments_lexer": "ipython3",
   "version": "3.7.1"
  }
 },
 "nbformat": 4,
 "nbformat_minor": 2
}
