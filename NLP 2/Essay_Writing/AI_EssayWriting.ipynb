{
  "nbformat": 4,
  "nbformat_minor": 0,
  "metadata": {
    "accelerator": "GPU",
    "colab": {
      "name": "AI_EssayWriting.ipynb",
      "provenance": [],
      "collapsed_sections": []
    },
    "kernelspec": {
      "display_name": "Python 3",
      "language": "python",
      "name": "python3"
    },
    "language_info": {
      "codemirror_mode": {
        "name": "ipython",
        "version": 3
      },
      "file_extension": ".py",
      "mimetype": "text/x-python",
      "name": "python",
      "nbconvert_exporter": "python",
      "pygments_lexer": "ipython3",
      "version": "3.7.4"
    },
    "widgets": {
      "application/vnd.jupyter.widget-state+json": {
        "f2f0f1d4fe5442c889288c45d9e179d6": {
          "model_module": "@jupyter-widgets/controls",
          "model_name": "HBoxModel",
          "state": {
            "_view_name": "HBoxView",
            "_dom_classes": [],
            "_model_name": "HBoxModel",
            "_view_module": "@jupyter-widgets/controls",
            "_model_module_version": "1.5.0",
            "_view_count": null,
            "_view_module_version": "1.5.0",
            "box_style": "",
            "layout": "IPY_MODEL_73161c42426d4b04b37a7004a382b4b6",
            "_model_module": "@jupyter-widgets/controls",
            "children": [
              "IPY_MODEL_2d0d3b58998d4416a6019e158d69ab18",
              "IPY_MODEL_4eb31f8de54f476bb37ecc16d24ae708"
            ]
          }
        },
        "73161c42426d4b04b37a7004a382b4b6": {
          "model_module": "@jupyter-widgets/base",
          "model_name": "LayoutModel",
          "state": {
            "_view_name": "LayoutView",
            "grid_template_rows": null,
            "right": null,
            "justify_content": null,
            "_view_module": "@jupyter-widgets/base",
            "overflow": null,
            "_model_module_version": "1.2.0",
            "_view_count": null,
            "flex_flow": null,
            "width": null,
            "min_width": null,
            "border": null,
            "align_items": null,
            "bottom": null,
            "_model_module": "@jupyter-widgets/base",
            "top": null,
            "grid_column": null,
            "overflow_y": null,
            "overflow_x": null,
            "grid_auto_flow": null,
            "grid_area": null,
            "grid_template_columns": null,
            "flex": null,
            "_model_name": "LayoutModel",
            "justify_items": null,
            "grid_row": null,
            "max_height": null,
            "align_content": null,
            "visibility": null,
            "align_self": null,
            "height": null,
            "min_height": null,
            "padding": null,
            "grid_auto_rows": null,
            "grid_gap": null,
            "max_width": null,
            "order": null,
            "_view_module_version": "1.2.0",
            "grid_template_areas": null,
            "object_position": null,
            "object_fit": null,
            "grid_auto_columns": null,
            "margin": null,
            "display": null,
            "left": null
          }
        },
        "2d0d3b58998d4416a6019e158d69ab18": {
          "model_module": "@jupyter-widgets/controls",
          "model_name": "FloatProgressModel",
          "state": {
            "_view_name": "ProgressView",
            "style": "IPY_MODEL_df7546dae9e64ad7917093cc632bd579",
            "_dom_classes": [],
            "description": "Loss 8.921470642089844: 100%",
            "_model_name": "FloatProgressModel",
            "bar_style": "success",
            "max": 3,
            "_view_module": "@jupyter-widgets/controls",
            "_model_module_version": "1.5.0",
            "value": 3,
            "_view_count": null,
            "_view_module_version": "1.5.0",
            "orientation": "horizontal",
            "min": 0,
            "description_tooltip": null,
            "_model_module": "@jupyter-widgets/controls",
            "layout": "IPY_MODEL_1d436520be374a21a3f15674e5b68dbf"
          }
        },
        "4eb31f8de54f476bb37ecc16d24ae708": {
          "model_module": "@jupyter-widgets/controls",
          "model_name": "HTMLModel",
          "state": {
            "_view_name": "HTMLView",
            "style": "IPY_MODEL_a11fc75ce523485a9866df5fc80d3b43",
            "_dom_classes": [],
            "description": "",
            "_model_name": "HTMLModel",
            "placeholder": "​",
            "_view_module": "@jupyter-widgets/controls",
            "_model_module_version": "1.5.0",
            "value": " 3/3 [02:59&lt;00:00, 59.92s/it]",
            "_view_count": null,
            "_view_module_version": "1.5.0",
            "description_tooltip": null,
            "_model_module": "@jupyter-widgets/controls",
            "layout": "IPY_MODEL_4826de9414dd47088c4d777891f71fa3"
          }
        },
        "df7546dae9e64ad7917093cc632bd579": {
          "model_module": "@jupyter-widgets/controls",
          "model_name": "ProgressStyleModel",
          "state": {
            "_view_name": "StyleView",
            "_model_name": "ProgressStyleModel",
            "description_width": "initial",
            "_view_module": "@jupyter-widgets/base",
            "_model_module_version": "1.5.0",
            "_view_count": null,
            "_view_module_version": "1.2.0",
            "bar_color": null,
            "_model_module": "@jupyter-widgets/controls"
          }
        },
        "1d436520be374a21a3f15674e5b68dbf": {
          "model_module": "@jupyter-widgets/base",
          "model_name": "LayoutModel",
          "state": {
            "_view_name": "LayoutView",
            "grid_template_rows": null,
            "right": null,
            "justify_content": null,
            "_view_module": "@jupyter-widgets/base",
            "overflow": null,
            "_model_module_version": "1.2.0",
            "_view_count": null,
            "flex_flow": null,
            "width": null,
            "min_width": null,
            "border": null,
            "align_items": null,
            "bottom": null,
            "_model_module": "@jupyter-widgets/base",
            "top": null,
            "grid_column": null,
            "overflow_y": null,
            "overflow_x": null,
            "grid_auto_flow": null,
            "grid_area": null,
            "grid_template_columns": null,
            "flex": null,
            "_model_name": "LayoutModel",
            "justify_items": null,
            "grid_row": null,
            "max_height": null,
            "align_content": null,
            "visibility": null,
            "align_self": null,
            "height": null,
            "min_height": null,
            "padding": null,
            "grid_auto_rows": null,
            "grid_gap": null,
            "max_width": null,
            "order": null,
            "_view_module_version": "1.2.0",
            "grid_template_areas": null,
            "object_position": null,
            "object_fit": null,
            "grid_auto_columns": null,
            "margin": null,
            "display": null,
            "left": null
          }
        },
        "a11fc75ce523485a9866df5fc80d3b43": {
          "model_module": "@jupyter-widgets/controls",
          "model_name": "DescriptionStyleModel",
          "state": {
            "_view_name": "StyleView",
            "_model_name": "DescriptionStyleModel",
            "description_width": "",
            "_view_module": "@jupyter-widgets/base",
            "_model_module_version": "1.5.0",
            "_view_count": null,
            "_view_module_version": "1.2.0",
            "_model_module": "@jupyter-widgets/controls"
          }
        },
        "4826de9414dd47088c4d777891f71fa3": {
          "model_module": "@jupyter-widgets/base",
          "model_name": "LayoutModel",
          "state": {
            "_view_name": "LayoutView",
            "grid_template_rows": null,
            "right": null,
            "justify_content": null,
            "_view_module": "@jupyter-widgets/base",
            "overflow": null,
            "_model_module_version": "1.2.0",
            "_view_count": null,
            "flex_flow": null,
            "width": null,
            "min_width": null,
            "border": null,
            "align_items": null,
            "bottom": null,
            "_model_module": "@jupyter-widgets/base",
            "top": null,
            "grid_column": null,
            "overflow_y": null,
            "overflow_x": null,
            "grid_auto_flow": null,
            "grid_area": null,
            "grid_template_columns": null,
            "flex": null,
            "_model_name": "LayoutModel",
            "justify_items": null,
            "grid_row": null,
            "max_height": null,
            "align_content": null,
            "visibility": null,
            "align_self": null,
            "height": null,
            "min_height": null,
            "padding": null,
            "grid_auto_rows": null,
            "grid_gap": null,
            "max_width": null,
            "order": null,
            "_view_module_version": "1.2.0",
            "grid_template_areas": null,
            "object_position": null,
            "object_fit": null,
            "grid_auto_columns": null,
            "margin": null,
            "display": null,
            "left": null
          }
        },
        "d1a677c31a544378a24b1c51d44d6da1": {
          "model_module": "@jupyter-widgets/controls",
          "model_name": "HBoxModel",
          "state": {
            "_view_name": "HBoxView",
            "_dom_classes": [],
            "_model_name": "HBoxModel",
            "_view_module": "@jupyter-widgets/controls",
            "_model_module_version": "1.5.0",
            "_view_count": null,
            "_view_module_version": "1.5.0",
            "box_style": "",
            "layout": "IPY_MODEL_140bd9a32bdf4f6abd39c30f62e54e9c",
            "_model_module": "@jupyter-widgets/controls",
            "children": [
              "IPY_MODEL_2614e958fd3a4ed598f7cefa01dabcec",
              "IPY_MODEL_bc883fd3118e4b5084fc45acdcefdcf7"
            ]
          }
        },
        "140bd9a32bdf4f6abd39c30f62e54e9c": {
          "model_module": "@jupyter-widgets/base",
          "model_name": "LayoutModel",
          "state": {
            "_view_name": "LayoutView",
            "grid_template_rows": null,
            "right": null,
            "justify_content": null,
            "_view_module": "@jupyter-widgets/base",
            "overflow": null,
            "_model_module_version": "1.2.0",
            "_view_count": null,
            "flex_flow": null,
            "width": null,
            "min_width": null,
            "border": null,
            "align_items": null,
            "bottom": null,
            "_model_module": "@jupyter-widgets/base",
            "top": null,
            "grid_column": null,
            "overflow_y": null,
            "overflow_x": null,
            "grid_auto_flow": null,
            "grid_area": null,
            "grid_template_columns": null,
            "flex": null,
            "_model_name": "LayoutModel",
            "justify_items": null,
            "grid_row": null,
            "max_height": null,
            "align_content": null,
            "visibility": null,
            "align_self": null,
            "height": null,
            "min_height": null,
            "padding": null,
            "grid_auto_rows": null,
            "grid_gap": null,
            "max_width": null,
            "order": null,
            "_view_module_version": "1.2.0",
            "grid_template_areas": null,
            "object_position": null,
            "object_fit": null,
            "grid_auto_columns": null,
            "margin": null,
            "display": null,
            "left": null
          }
        },
        "2614e958fd3a4ed598f7cefa01dabcec": {
          "model_module": "@jupyter-widgets/controls",
          "model_name": "FloatProgressModel",
          "state": {
            "_view_name": "ProgressView",
            "style": "IPY_MODEL_91dcc55eae5e4c28ae261e840e70e06d",
            "_dom_classes": [],
            "description": "Loss 7.960649490356445: 100%",
            "_model_name": "FloatProgressModel",
            "bar_style": "success",
            "max": 7,
            "_view_module": "@jupyter-widgets/controls",
            "_model_module_version": "1.5.0",
            "value": 7,
            "_view_count": null,
            "_view_module_version": "1.5.0",
            "orientation": "horizontal",
            "min": 0,
            "description_tooltip": null,
            "_model_module": "@jupyter-widgets/controls",
            "layout": "IPY_MODEL_5fc7d1d888344d49907bf84f45dbfc1d"
          }
        },
        "bc883fd3118e4b5084fc45acdcefdcf7": {
          "model_module": "@jupyter-widgets/controls",
          "model_name": "HTMLModel",
          "state": {
            "_view_name": "HTMLView",
            "style": "IPY_MODEL_30e5ee31d23a4e5e9b6e2d696a6b3f52",
            "_dom_classes": [],
            "description": "",
            "_model_name": "HTMLModel",
            "placeholder": "​",
            "_view_module": "@jupyter-widgets/controls",
            "_model_module_version": "1.5.0",
            "value": " 7/7 [00:01&lt;00:00,  5.39it/s]",
            "_view_count": null,
            "_view_module_version": "1.5.0",
            "description_tooltip": null,
            "_model_module": "@jupyter-widgets/controls",
            "layout": "IPY_MODEL_c85d7c7d6d8847bc875ee1b37a771a91"
          }
        },
        "91dcc55eae5e4c28ae261e840e70e06d": {
          "model_module": "@jupyter-widgets/controls",
          "model_name": "ProgressStyleModel",
          "state": {
            "_view_name": "StyleView",
            "_model_name": "ProgressStyleModel",
            "description_width": "initial",
            "_view_module": "@jupyter-widgets/base",
            "_model_module_version": "1.5.0",
            "_view_count": null,
            "_view_module_version": "1.2.0",
            "bar_color": null,
            "_model_module": "@jupyter-widgets/controls"
          }
        },
        "5fc7d1d888344d49907bf84f45dbfc1d": {
          "model_module": "@jupyter-widgets/base",
          "model_name": "LayoutModel",
          "state": {
            "_view_name": "LayoutView",
            "grid_template_rows": null,
            "right": null,
            "justify_content": null,
            "_view_module": "@jupyter-widgets/base",
            "overflow": null,
            "_model_module_version": "1.2.0",
            "_view_count": null,
            "flex_flow": null,
            "width": null,
            "min_width": null,
            "border": null,
            "align_items": null,
            "bottom": null,
            "_model_module": "@jupyter-widgets/base",
            "top": null,
            "grid_column": null,
            "overflow_y": null,
            "overflow_x": null,
            "grid_auto_flow": null,
            "grid_area": null,
            "grid_template_columns": null,
            "flex": null,
            "_model_name": "LayoutModel",
            "justify_items": null,
            "grid_row": null,
            "max_height": null,
            "align_content": null,
            "visibility": null,
            "align_self": null,
            "height": null,
            "min_height": null,
            "padding": null,
            "grid_auto_rows": null,
            "grid_gap": null,
            "max_width": null,
            "order": null,
            "_view_module_version": "1.2.0",
            "grid_template_areas": null,
            "object_position": null,
            "object_fit": null,
            "grid_auto_columns": null,
            "margin": null,
            "display": null,
            "left": null
          }
        },
        "30e5ee31d23a4e5e9b6e2d696a6b3f52": {
          "model_module": "@jupyter-widgets/controls",
          "model_name": "DescriptionStyleModel",
          "state": {
            "_view_name": "StyleView",
            "_model_name": "DescriptionStyleModel",
            "description_width": "",
            "_view_module": "@jupyter-widgets/base",
            "_model_module_version": "1.5.0",
            "_view_count": null,
            "_view_module_version": "1.2.0",
            "_model_module": "@jupyter-widgets/controls"
          }
        },
        "c85d7c7d6d8847bc875ee1b37a771a91": {
          "model_module": "@jupyter-widgets/base",
          "model_name": "LayoutModel",
          "state": {
            "_view_name": "LayoutView",
            "grid_template_rows": null,
            "right": null,
            "justify_content": null,
            "_view_module": "@jupyter-widgets/base",
            "overflow": null,
            "_model_module_version": "1.2.0",
            "_view_count": null,
            "flex_flow": null,
            "width": null,
            "min_width": null,
            "border": null,
            "align_items": null,
            "bottom": null,
            "_model_module": "@jupyter-widgets/base",
            "top": null,
            "grid_column": null,
            "overflow_y": null,
            "overflow_x": null,
            "grid_auto_flow": null,
            "grid_area": null,
            "grid_template_columns": null,
            "flex": null,
            "_model_name": "LayoutModel",
            "justify_items": null,
            "grid_row": null,
            "max_height": null,
            "align_content": null,
            "visibility": null,
            "align_self": null,
            "height": null,
            "min_height": null,
            "padding": null,
            "grid_auto_rows": null,
            "grid_gap": null,
            "max_width": null,
            "order": null,
            "_view_module_version": "1.2.0",
            "grid_template_areas": null,
            "object_position": null,
            "object_fit": null,
            "grid_auto_columns": null,
            "margin": null,
            "display": null,
            "left": null
          }
        }
      }
    }
  },
  "cells": [
    {
      "cell_type": "markdown",
      "metadata": {
        "id": "pUhJmbbeZe_4",
        "colab_type": "text"
      },
      "source": [
        "# Essay Writing using AI\n",
        "\n",
        "*   Part 0: Setup workspace\n",
        "*   Part 1: Loading Machine learning model on any text dataset for free on a GPU using Collaboratory\n",
        "*   Part 2: Training machine learning model on specific topics \n",
        "*   Part 3: Start writing essay"
      ]
    },
    {
      "cell_type": "code",
      "metadata": {
        "id": "quhCq4PKih8P",
        "colab_type": "code",
        "colab": {}
      },
      "source": [
        "from IPython.display import HTML, display\n",
        "\n",
        "def set_css():\n",
        "  display(HTML('''\n",
        "  <style>\n",
        "    pre {\n",
        "        white-space: pre-wrap;\n",
        "    }\n",
        "  </style>\n",
        "  '''))\n",
        "get_ipython().events.register('pre_run_cell', set_css)"
      ],
      "execution_count": 9,
      "outputs": []
    },
    {
      "cell_type": "code",
      "metadata": {
        "id": "KWmIdUkdZe_6",
        "colab_type": "code",
        "colab": {
          "base_uri": "https://localhost:8080/",
          "height": 17
        },
        "outputId": "9c196a86-f48b-4a29-eb93-7708bc6794a5"
      },
      "source": [
        "%matplotlib inline\n",
        "\n",
        "import os, sys \n",
        "import logging, io, json, warnings\n",
        "logger = logging.getLogger()\n",
        "logger.setLevel(logging.CRITICAL)\n",
        "warnings.filterwarnings('ignore')"
      ],
      "execution_count": 10,
      "outputs": [
        {
          "output_type": "display_data",
          "data": {
            "text/html": [
              "\n",
              "  <style>\n",
              "    pre {\n",
              "        white-space: pre-wrap;\n",
              "    }\n",
              "  </style>\n",
              "  "
            ],
            "text/plain": [
              "<IPython.core.display.HTML object>"
            ]
          },
          "metadata": {
            "tags": []
          }
        }
      ]
    },
    {
      "cell_type": "code",
      "metadata": {
        "id": "7NXq8MlEZfAA",
        "colab_type": "code",
        "colab": {
          "base_uri": "https://localhost:8080/",
          "height": 17
        },
        "outputId": "ecc54cb8-111a-47c5-fd05-e211a8e78e43"
      },
      "source": [
        "%load_ext autoreload\n",
        "%autoreload 2"
      ],
      "execution_count": 3,
      "outputs": [
        {
          "output_type": "display_data",
          "data": {
            "text/html": [
              "\n",
              "  <style>\n",
              "    pre {\n",
              "        white-space: pre-wrap;\n",
              "    }\n",
              "  </style>\n",
              "  "
            ],
            "text/plain": [
              "<IPython.core.display.HTML object>"
            ]
          },
          "metadata": {
            "tags": []
          }
        }
      ]
    },
    {
      "cell_type": "markdown",
      "metadata": {
        "id": "t1cv8d9lZfAE",
        "colab_type": "text"
      },
      "source": [
        "## Set up workspace (Mounting Google Drive)\n",
        "\n",
        "1. Mount your google drive\n",
        "2. Add path to the system"
      ]
    },
    {
      "cell_type": "code",
      "metadata": {
        "id": "zScKrrTIcPvQ",
        "colab_type": "code",
        "colab": {
          "base_uri": "https://localhost:8080/",
          "height": 34
        },
        "outputId": "b269191b-d2fa-4a7f-d4f3-36fe440d4553"
      },
      "source": [
        "## This is a goodle \n",
        "from google.colab import drive\n",
        "drive.mount('/content/gdrive')"
      ],
      "execution_count": 8,
      "outputs": [
        {
          "output_type": "stream",
          "text": [
            "Drive already mounted at /content/gdrive; to attempt to forcibly remount, call drive.mount(\"/content/gdrive\", force_remount=True).\n"
          ],
          "name": "stdout"
        }
      ]
    },
    {
      "cell_type": "code",
      "metadata": {
        "id": "NsjomGedcbC7",
        "colab_type": "code",
        "colab": {
          "base_uri": "https://localhost:8080/",
          "height": 34
        },
        "outputId": "a7638d1c-6f04-4858-98fa-14ec41ba7223"
      },
      "source": [
        "mkdir gdrive/'My Drive'/dsscamp"
      ],
      "execution_count": 5,
      "outputs": [
        {
          "output_type": "display_data",
          "data": {
            "text/html": [
              "\n",
              "  <style>\n",
              "    pre {\n",
              "        white-space: pre-wrap;\n",
              "    }\n",
              "  </style>\n",
              "  "
            ],
            "text/plain": [
              "<IPython.core.display.HTML object>"
            ]
          },
          "metadata": {
            "tags": []
          }
        },
        {
          "output_type": "stream",
          "text": [
            "mkdir: cannot create directory ‘gdrive/My Drive/dsscamp’: File exists\n"
          ],
          "name": "stdout"
        }
      ]
    },
    {
      "cell_type": "code",
      "metadata": {
        "id": "kBanD6l_ctln",
        "colab_type": "code",
        "colab": {
          "base_uri": "https://localhost:8080/",
          "height": 34
        },
        "outputId": "9f06f1e3-5c0b-42d0-bb6e-c32a0efeddec"
      },
      "source": [
        "cd /content/gdrive/'My Drive'/dscamp2"
      ],
      "execution_count": 12,
      "outputs": [
        {
          "output_type": "display_data",
          "data": {
            "text/html": [
              "\n",
              "  <style>\n",
              "    pre {\n",
              "        white-space: pre-wrap;\n",
              "    }\n",
              "  </style>\n",
              "  "
            ],
            "text/plain": [
              "<IPython.core.display.HTML object>"
            ]
          },
          "metadata": {
            "tags": []
          }
        },
        {
          "output_type": "stream",
          "text": [
            "/content/gdrive/My Drive/dscamp2\n"
          ],
          "name": "stdout"
        }
      ]
    },
    {
      "cell_type": "code",
      "metadata": {
        "id": "pYTiIVyhdKWk",
        "colab_type": "code",
        "colab": {
          "base_uri": "https://localhost:8080/",
          "height": 34
        },
        "outputId": "225531dd-56cf-431e-c8e1-407a5dd1c184"
      },
      "source": [
        "ls dscamp_public/'NLP 2'/Essay_Writing/"
      ],
      "execution_count": 7,
      "outputs": [
        {
          "output_type": "stream",
          "text": [
            "AI_EssayWriting.ipynb  \u001b[0m\u001b[01;34mcodes\u001b[0m/  \u001b[01;34mdatasets\u001b[0m/  readme.md\n"
          ],
          "name": "stdout"
        }
      ]
    },
    {
      "cell_type": "code",
      "metadata": {
        "colab_type": "code",
        "id": "JZTbCPYfawrS",
        "colab": {
          "base_uri": "https://localhost:8080/",
          "height": 17
        },
        "outputId": "6ecfd639-0659-4908-8633-ad465b7f585d"
      },
      "source": [
        "#codepath = os.path.join(nb_path, 'codes')\n",
        "codepath = os.path.join(os.getcwd(), 'dscamp_public/NLP 2/Essay_Writing/codes')\n",
        "sys.path.append(codepath)"
      ],
      "execution_count": 13,
      "outputs": [
        {
          "output_type": "display_data",
          "data": {
            "text/html": [
              "\n",
              "  <style>\n",
              "    pre {\n",
              "        white-space: pre-wrap;\n",
              "    }\n",
              "  </style>\n",
              "  "
            ],
            "text/plain": [
              "<IPython.core.display.HTML object>"
            ]
          },
          "metadata": {
            "tags": []
          }
        }
      ]
    },
    {
      "cell_type": "markdown",
      "metadata": {
        "id": "gyRWbwvXZfAQ",
        "colab_type": "text"
      },
      "source": [
        "### Install libraries"
      ]
    },
    {
      "cell_type": "code",
      "metadata": {
        "colab_type": "code",
        "id": "YeJYI6JX9lMm",
        "colab": {
          "base_uri": "https://localhost:8080/",
          "height": 545
        },
        "outputId": "dda8e0f0-811c-4bfb-d197-f087e8a48e01"
      },
      "source": [
        "!pip install transformers==2.10"
      ],
      "execution_count": 29,
      "outputs": [
        {
          "output_type": "display_data",
          "data": {
            "text/html": [
              "\n",
              "  <style>\n",
              "    pre {\n",
              "        white-space: pre-wrap;\n",
              "    }\n",
              "  </style>\n",
              "  "
            ],
            "text/plain": [
              "<IPython.core.display.HTML object>"
            ]
          },
          "metadata": {
            "tags": []
          }
        },
        {
          "output_type": "stream",
          "text": [
            "Collecting transformers==2.10\n",
            "\u001b[?25l  Downloading https://files.pythonhosted.org/packages/12/b5/ac41e3e95205ebf53439e4dd087c58e9fd371fd8e3724f2b9b4cdb8282e5/transformers-2.10.0-py3-none-any.whl (660kB)\n",
            "\r\u001b[K     |▌                               | 10kB 25.2MB/s eta 0:00:01\r\u001b[K     |█                               | 20kB 6.0MB/s eta 0:00:01\r\u001b[K     |█▌                              | 30kB 7.3MB/s eta 0:00:01\r\u001b[K     |██                              | 40kB 8.0MB/s eta 0:00:01\r\u001b[K     |██▌                             | 51kB 7.1MB/s eta 0:00:01\r\u001b[K     |███                             | 61kB 8.0MB/s eta 0:00:01\r\u001b[K     |███▌                            | 71kB 7.9MB/s eta 0:00:01\r\u001b[K     |████                            | 81kB 8.9MB/s eta 0:00:01\r\u001b[K     |████▌                           | 92kB 8.1MB/s eta 0:00:01\r\u001b[K     |█████                           | 102kB 8.1MB/s eta 0:00:01\r\u001b[K     |█████▌                          | 112kB 8.1MB/s eta 0:00:01\r\u001b[K     |██████                          | 122kB 8.1MB/s eta 0:00:01\r\u001b[K     |██████▌                         | 133kB 8.1MB/s eta 0:00:01\r\u001b[K     |███████                         | 143kB 8.1MB/s eta 0:00:01\r\u001b[K     |███████▌                        | 153kB 8.1MB/s eta 0:00:01\r\u001b[K     |████████                        | 163kB 8.1MB/s eta 0:00:01\r\u001b[K     |████████▍                       | 174kB 8.1MB/s eta 0:00:01\r\u001b[K     |█████████                       | 184kB 8.1MB/s eta 0:00:01\r\u001b[K     |█████████▍                      | 194kB 8.1MB/s eta 0:00:01\r\u001b[K     |██████████                      | 204kB 8.1MB/s eta 0:00:01\r\u001b[K     |██████████▍                     | 215kB 8.1MB/s eta 0:00:01\r\u001b[K     |███████████                     | 225kB 8.1MB/s eta 0:00:01\r\u001b[K     |███████████▍                    | 235kB 8.1MB/s eta 0:00:01\r\u001b[K     |████████████                    | 245kB 8.1MB/s eta 0:00:01\r\u001b[K     |████████████▍                   | 256kB 8.1MB/s eta 0:00:01\r\u001b[K     |█████████████                   | 266kB 8.1MB/s eta 0:00:01\r\u001b[K     |█████████████▍                  | 276kB 8.1MB/s eta 0:00:01\r\u001b[K     |██████████████                  | 286kB 8.1MB/s eta 0:00:01\r\u001b[K     |██████████████▍                 | 296kB 8.1MB/s eta 0:00:01\r\u001b[K     |███████████████                 | 307kB 8.1MB/s eta 0:00:01\r\u001b[K     |███████████████▍                | 317kB 8.1MB/s eta 0:00:01\r\u001b[K     |███████████████▉                | 327kB 8.1MB/s eta 0:00:01\r\u001b[K     |████████████████▍               | 337kB 8.1MB/s eta 0:00:01\r\u001b[K     |████████████████▉               | 348kB 8.1MB/s eta 0:00:01\r\u001b[K     |█████████████████▍              | 358kB 8.1MB/s eta 0:00:01\r\u001b[K     |█████████████████▉              | 368kB 8.1MB/s eta 0:00:01\r\u001b[K     |██████████████████▍             | 378kB 8.1MB/s eta 0:00:01\r\u001b[K     |██████████████████▉             | 389kB 8.1MB/s eta 0:00:01\r\u001b[K     |███████████████████▍            | 399kB 8.1MB/s eta 0:00:01\r\u001b[K     |███████████████████▉            | 409kB 8.1MB/s eta 0:00:01\r\u001b[K     |████████████████████▍           | 419kB 8.1MB/s eta 0:00:01\r\u001b[K     |████████████████████▉           | 430kB 8.1MB/s eta 0:00:01\r\u001b[K     |█████████████████████▍          | 440kB 8.1MB/s eta 0:00:01\r\u001b[K     |█████████████████████▉          | 450kB 8.1MB/s eta 0:00:01\r\u001b[K     |██████████████████████▍         | 460kB 8.1MB/s eta 0:00:01\r\u001b[K     |██████████████████████▉         | 471kB 8.1MB/s eta 0:00:01\r\u001b[K     |███████████████████████▎        | 481kB 8.1MB/s eta 0:00:01\r\u001b[K     |███████████████████████▉        | 491kB 8.1MB/s eta 0:00:01\r\u001b[K     |████████████████████████▎       | 501kB 8.1MB/s eta 0:00:01\r\u001b[K     |████████████████████████▉       | 512kB 8.1MB/s eta 0:00:01\r\u001b[K     |█████████████████████████▎      | 522kB 8.1MB/s eta 0:00:01\r\u001b[K     |█████████████████████████▉      | 532kB 8.1MB/s eta 0:00:01\r\u001b[K     |██████████████████████████▎     | 542kB 8.1MB/s eta 0:00:01\r\u001b[K     |██████████████████████████▉     | 552kB 8.1MB/s eta 0:00:01\r\u001b[K     |███████████████████████████▎    | 563kB 8.1MB/s eta 0:00:01\r\u001b[K     |███████████████████████████▉    | 573kB 8.1MB/s eta 0:00:01\r\u001b[K     |████████████████████████████▎   | 583kB 8.1MB/s eta 0:00:01\r\u001b[K     |████████████████████████████▉   | 593kB 8.1MB/s eta 0:00:01\r\u001b[K     |█████████████████████████████▎  | 604kB 8.1MB/s eta 0:00:01\r\u001b[K     |█████████████████████████████▉  | 614kB 8.1MB/s eta 0:00:01\r\u001b[K     |██████████████████████████████▎ | 624kB 8.1MB/s eta 0:00:01\r\u001b[K     |██████████████████████████████▊ | 634kB 8.1MB/s eta 0:00:01\r\u001b[K     |███████████████████████████████▎| 645kB 8.1MB/s eta 0:00:01\r\u001b[K     |███████████████████████████████▊| 655kB 8.1MB/s eta 0:00:01\r\u001b[K     |████████████████████████████████| 665kB 8.1MB/s \n",
            "\u001b[?25hRequirement already satisfied: tokenizers==0.7.0 in /usr/local/lib/python3.6/dist-packages (from transformers==2.10) (0.7.0)\n",
            "Requirement already satisfied: numpy in /usr/local/lib/python3.6/dist-packages (from transformers==2.10) (1.18.5)\n",
            "Requirement already satisfied: filelock in /usr/local/lib/python3.6/dist-packages (from transformers==2.10) (3.0.12)\n",
            "Requirement already satisfied: sentencepiece in /usr/local/lib/python3.6/dist-packages (from transformers==2.10) (0.1.91)\n",
            "Requirement already satisfied: sacremoses in /usr/local/lib/python3.6/dist-packages (from transformers==2.10) (0.0.43)\n",
            "Requirement already satisfied: regex!=2019.12.17 in /usr/local/lib/python3.6/dist-packages (from transformers==2.10) (2019.12.20)\n",
            "Requirement already satisfied: requests in /usr/local/lib/python3.6/dist-packages (from transformers==2.10) (2.23.0)\n",
            "Requirement already satisfied: dataclasses; python_version < \"3.7\" in /usr/local/lib/python3.6/dist-packages (from transformers==2.10) (0.7)\n",
            "Requirement already satisfied: tqdm>=4.27 in /usr/local/lib/python3.6/dist-packages (from transformers==2.10) (4.41.1)\n",
            "Requirement already satisfied: joblib in /usr/local/lib/python3.6/dist-packages (from sacremoses->transformers==2.10) (0.16.0)\n",
            "Requirement already satisfied: six in /usr/local/lib/python3.6/dist-packages (from sacremoses->transformers==2.10) (1.15.0)\n",
            "Requirement already satisfied: click in /usr/local/lib/python3.6/dist-packages (from sacremoses->transformers==2.10) (7.1.2)\n",
            "Requirement already satisfied: urllib3!=1.25.0,!=1.25.1,<1.26,>=1.21.1 in /usr/local/lib/python3.6/dist-packages (from requests->transformers==2.10) (1.24.3)\n",
            "Requirement already satisfied: chardet<4,>=3.0.2 in /usr/local/lib/python3.6/dist-packages (from requests->transformers==2.10) (3.0.4)\n",
            "Requirement already satisfied: certifi>=2017.4.17 in /usr/local/lib/python3.6/dist-packages (from requests->transformers==2.10) (2020.6.20)\n",
            "Requirement already satisfied: idna<3,>=2.5 in /usr/local/lib/python3.6/dist-packages (from requests->transformers==2.10) (2.10)\n",
            "Installing collected packages: transformers\n",
            "  Found existing installation: transformers 2.11.0\n",
            "    Uninstalling transformers-2.11.0:\n",
            "      Successfully uninstalled transformers-2.11.0\n",
            "Successfully installed transformers-2.10.0\n"
          ],
          "name": "stdout"
        },
        {
          "output_type": "display_data",
          "data": {
            "application/vnd.colab-display-data+json": {
              "pip_warning": {
                "packages": [
                  "transformers"
                ]
              }
            }
          },
          "metadata": {
            "tags": []
          }
        }
      ]
    },
    {
      "cell_type": "markdown",
      "metadata": {
        "id": "nqt4P41rZfAW",
        "colab_type": "text"
      },
      "source": [
        "### GPU\n",
        "Colaboratory uses either a Nvidia T4 GPU or an Nvidia K80 GPU. The T4 is slightly faster than the old K80 for training GPT-2, and has more memory allowing you to train the larger GPT-2 models and generate more text.\n",
        "\n",
        "You can verify which GPU is active by running the cell below."
      ]
    },
    {
      "cell_type": "code",
      "metadata": {
        "colab_type": "code",
        "id": "zc6XoVO1H2bf",
        "colab": {}
      },
      "source": [
        "import numpy as np\n",
        "import torch\n",
        "from transformers import GPT2Tokenizer, GPT2LMHeadModel"
      ],
      "execution_count": 1,
      "outputs": []
    },
    {
      "cell_type": "code",
      "metadata": {
        "colab_type": "code",
        "id": "Y6ddBD2hCpWH",
        "colab": {}
      },
      "source": [
        "MAX_LENGTH = int(10000)"
      ],
      "execution_count": 3,
      "outputs": []
    },
    {
      "cell_type": "code",
      "metadata": {
        "colab_type": "code",
        "id": "7FhZQtG6EBzf",
        "colab": {}
      },
      "source": [
        "def set_seed(seed):\n",
        "    np.random.seed(seed)\n",
        "    torch.manual_seed(seed)\n",
        "    if args.n_gpu > 0:\n",
        "        torch.cuda.manual_seed_all(seed)"
      ],
      "execution_count": 4,
      "outputs": []
    },
    {
      "cell_type": "code",
      "metadata": {
        "colab_type": "code",
        "id": "mIlOSvALEh7L",
        "colab": {
          "base_uri": "https://localhost:8080/",
          "height": 17
        },
        "outputId": "b1f1aed3-41a3-468d-980b-54341b9d6c1f"
      },
      "source": [
        "from main import GenerateSentence "
      ],
      "execution_count": 14,
      "outputs": [
        {
          "output_type": "display_data",
          "data": {
            "text/html": [
              "\n",
              "  <style>\n",
              "    pre {\n",
              "        white-space: pre-wrap;\n",
              "    }\n",
              "  </style>\n",
              "  "
            ],
            "text/plain": [
              "<IPython.core.display.HTML object>"
            ]
          },
          "metadata": {
            "tags": []
          }
        }
      ]
    },
    {
      "cell_type": "markdown",
      "metadata": {
        "id": "pE-bQ0bXZfAs",
        "colab_type": "text"
      },
      "source": [
        "## Loading machine learning model\n",
        "This machine learning model is trained on a very large corpus of ~40 GB of text data. The largest model size is huge with 1.5 billion parameters, trained on a dataset of **8 million** web pages."
      ]
    },
    {
      "cell_type": "code",
      "metadata": {
        "colab_type": "code",
        "id": "Y-gZ9aWEWVxU",
        "colab": {
          "base_uri": "https://localhost:8080/",
          "height": 34
        },
        "outputId": "db496d91-effd-434b-a6c2-f81abdb6c0d4"
      },
      "source": [
        "generate_sentence = GenerateSentence(dataset_path='dscamp_public/NLP 2/Essay_Writing/datasets')"
      ],
      "execution_count": 15,
      "outputs": [
        {
          "output_type": "display_data",
          "data": {
            "text/html": [
              "\n",
              "  <style>\n",
              "    pre {\n",
              "        white-space: pre-wrap;\n",
              "    }\n",
              "  </style>\n",
              "  "
            ],
            "text/plain": [
              "<IPython.core.display.HTML object>"
            ]
          },
          "metadata": {
            "tags": []
          }
        },
        {
          "output_type": "stream",
          "text": [
            "'Language Generator loaded successfully....'\n"
          ],
          "name": "stdout"
        }
      ]
    },
    {
      "cell_type": "code",
      "metadata": {
        "id": "QB0qOyrpfKXT",
        "colab_type": "code",
        "colab": {
          "base_uri": "https://localhost:8080/",
          "height": 68
        },
        "outputId": "18772907-0abb-4978-abfa-320015b5191b"
      },
      "source": [
        "import nltk\n",
        "nltk.download('punkt')"
      ],
      "execution_count": 16,
      "outputs": [
        {
          "output_type": "display_data",
          "data": {
            "text/html": [
              "\n",
              "  <style>\n",
              "    pre {\n",
              "        white-space: pre-wrap;\n",
              "    }\n",
              "  </style>\n",
              "  "
            ],
            "text/plain": [
              "<IPython.core.display.HTML object>"
            ]
          },
          "metadata": {
            "tags": []
          }
        },
        {
          "output_type": "stream",
          "text": [
            "[nltk_data] Downloading package punkt to /root/nltk_data...\n",
            "[nltk_data]   Package punkt is already up-to-date!\n"
          ],
          "name": "stdout"
        },
        {
          "output_type": "execute_result",
          "data": {
            "text/plain": [
              "True"
            ]
          },
          "metadata": {
            "tags": []
          },
          "execution_count": 16
        }
      ]
    },
    {
      "cell_type": "markdown",
      "metadata": {
        "id": "V6qn2gDGZfA7",
        "colab_type": "text"
      },
      "source": [
        "## Train model on specific topics for free on Google Colab GPUs\n",
        "Option to provide your own datasets is also available.\n",
        "The defaults topics to choose from:\n",
        "\n",
        "1. Artificial intelligence\n",
        "2. Machine learning\n",
        "3. History of United States\n",
        "\n",
        "More topics will be added...."
      ]
    },
    {
      "cell_type": "code",
      "metadata": {
        "id": "2gUu0Xu2ZfA8",
        "colab_type": "code",
        "colab": {
          "base_uri": "https://localhost:8080/",
          "height": 66,
          "referenced_widgets": [
            "f2f0f1d4fe5442c889288c45d9e179d6",
            "73161c42426d4b04b37a7004a382b4b6",
            "2d0d3b58998d4416a6019e158d69ab18",
            "4eb31f8de54f476bb37ecc16d24ae708",
            "df7546dae9e64ad7917093cc632bd579",
            "1d436520be374a21a3f15674e5b68dbf",
            "a11fc75ce523485a9866df5fc80d3b43",
            "4826de9414dd47088c4d777891f71fa3"
          ]
        },
        "outputId": "88e4d97e-bbe2-4d18-9803-48d1842338a8"
      },
      "source": [
        "generate_sentence.train_on_topics('ai')"
      ],
      "execution_count": 17,
      "outputs": [
        {
          "output_type": "display_data",
          "data": {
            "text/html": [
              "\n",
              "  <style>\n",
              "    pre {\n",
              "        white-space: pre-wrap;\n",
              "    }\n",
              "  </style>\n",
              "  "
            ],
            "text/plain": [
              "<IPython.core.display.HTML object>"
            ]
          },
          "metadata": {
            "tags": []
          }
        },
        {
          "output_type": "display_data",
          "data": {
            "application/vnd.jupyter.widget-view+json": {
              "model_id": "f2f0f1d4fe5442c889288c45d9e179d6",
              "version_minor": 0,
              "version_major": 2
            },
            "text/plain": [
              "HBox(children=(FloatProgress(value=0.0, max=3.0), HTML(value='')))"
            ]
          },
          "metadata": {
            "tags": []
          }
        },
        {
          "output_type": "stream",
          "text": [
            "\n"
          ],
          "name": "stdout"
        }
      ]
    },
    {
      "cell_type": "markdown",
      "metadata": {
        "id": "7HHsKPZuZfBC",
        "colab_type": "text"
      },
      "source": [
        "## Start Writing Essays\n",
        "\n",
        "At each step five options will be provided\n",
        "\n",
        "* A -> AI option\n",
        "* B -> AI option\n",
        "* C -> AI option\n",
        "* D -> User can choose to add sentences\n",
        "* E -> STOP the writing process"
      ]
    },
    {
      "cell_type": "code",
      "metadata": {
        "colab_type": "code",
        "id": "4gahZk7pIXME",
        "colab": {
          "base_uri": "https://localhost:8080/",
          "height": 34
        },
        "outputId": "9d9c60e7-44c4-4b24-dcb8-1b03b3a5ca2c"
      },
      "source": [
        "generate_sentence.start_writing()"
      ],
      "execution_count": 19,
      "outputs": [
        {
          "output_type": "display_data",
          "data": {
            "text/html": [
              "\n",
              "  <style>\n",
              "    pre {\n",
              "        white-space: pre-wrap;\n",
              "    }\n",
              "  </style>\n",
              "  "
            ],
            "text/plain": [
              "<IPython.core.display.HTML object>"
            ]
          },
          "metadata": {
            "tags": []
          }
        },
        {
          "output_type": "stream",
          "text": [
            "Write the first sentence >>> AI is an important aspect of modern life.\n"
          ],
          "name": "stdout"
        }
      ]
    },
    {
      "cell_type": "code",
      "metadata": {
        "id": "z-Qn7NRlggFx",
        "colab_type": "code",
        "colab": {
          "base_uri": "https://localhost:8080/",
          "height": 1000
        },
        "outputId": "a304c8c2-8380-4c85-bb40-dd28b976dba3"
      },
      "source": [
        "generate_sentence.generate_sentences()"
      ],
      "execution_count": 20,
      "outputs": [
        {
          "output_type": "display_data",
          "data": {
            "text/html": [
              "\n",
              "  <style>\n",
              "    pre {\n",
              "        white-space: pre-wrap;\n",
              "    }\n",
              "  </style>\n",
              "  "
            ],
            "text/plain": [
              "<IPython.core.display.HTML object>"
            ]
          },
          "metadata": {
            "tags": []
          }
        },
        {
          "output_type": "stream",
          "text": [
            "::::YOURS OPTIONS ARE :::\n",
            "A. --> \n",
            "\n",
            "B. --> \n",
            "\n",
            "C. --> \n",
            "\n",
            "D. --> Write your own sentences\n",
            "E. --> STOP ESSAY WRITING\n",
            "Choose your option >>> D\n",
            "Insert your own sentence >>> You can see applications of AI everywhere.\n",
            " \n",
            " \n",
            " \n",
            " ****** ESSAY TILL THIS POINT *******\n",
            "AI is an important aspect of modern life. You can see applications of AI everywhere. \n",
            "\n",
            "\n",
            "\n",
            "::::YOURS OPTIONS ARE :::\n",
            "A. --> \n",
            "The first time I saw this, it was in the news that a lot of people were using Google's DeepMind to do their own research on how they could create and use artificial intelligence (AIs).\n",
            "\n",
            "B. -->  It's a very interesting thing to do, and I think it would be good for the future.\n",
            "\n",
            "C. --> \n",
            "\n",
            "D. --> Write your own sentences\n",
            "E. --> STOP ESSAY WRITING\n",
            "Choose your option >>> A\n",
            " \n",
            " \n",
            " \n",
            " ****** ESSAY TILL THIS POINT *******\n",
            "AI is an important aspect of modern life. You can see applications of AI everywhere. The first time I saw this, it was in the news that a lot of people were using Google's DeepMind to do their own research on how they could create and use artificial intelligence (AIs). \n",
            "\n",
            "\n",
            "\n",
            "::::YOURS OPTIONS ARE :::\n",
            "A. --> \n",
            "\n",
            "B. --> \n",
            "\n",
            "C. -->  It wasn't until after all these years have we had some really interesting developments coming out about what would happen if you used AIS or other technologies for your work with deep learning techniques like machine vision etc...\n",
            "\n",
            "D. --> Write your own sentences\n",
            "E. --> STOP ESSAY WRITING\n",
            "Choose your option >>> C\n",
            " \n",
            " \n",
            " \n",
            " ****** ESSAY TILL THIS POINT *******\n",
            "AI is an important aspect of modern life. You can see applications of AI everywhere. The first time I saw this, it was in the news that a lot of people were using Google's DeepMind to do their own research on how they could create and use artificial intelligence (AIs). It wasn't until after all these years have we had some really interesting developments coming out about what would happen if you used AIS or other technologies for your work with deep learning techniques like machine vision etc... \n",
            "\n",
            "\n",
            "\n",
            "::::YOURS OPTIONS ARE :::\n",
            "A. --> \n",
            "\n",
            "B. --> \n",
            "\n",
            "C. --> \n",
            "\n",
            "D. --> Write your own sentences\n",
            "E. --> STOP ESSAY WRITING\n",
            "Choose your option >>> E\n",
            "\n",
            "\n",
            "================  COMPLETE ESSAY  ======================\n",
            "AI is an important aspect of modern life. You can see applications of AI everywhere. The first time I saw this, it was in the news that a lot of people were using Google's DeepMind to do their own research on how they could create and use artificial intelligence (AIs). It wasn't until after all these years have we had some really interesting developments coming out about what would happen if you used AIS or other technologies for your work with deep learning techniques like machine vision etc...\n"
          ],
          "name": "stdout"
        }
      ]
    },
    {
      "cell_type": "code",
      "metadata": {
        "id": "PmyPsZLKkPGP",
        "colab_type": "code",
        "colab": {
          "base_uri": "https://localhost:8080/",
          "height": 34
        },
        "outputId": "60498e81-365c-40f4-99de-afc35139cdd8"
      },
      "source": [
        "generate_sentence = GenerateSentence(dataset_path='dscamp_public/NLP 2/Essay_Writing/datasets')"
      ],
      "execution_count": null,
      "outputs": [
        {
          "output_type": "display_data",
          "data": {
            "text/html": [
              "\n",
              "  <style>\n",
              "    pre {\n",
              "        white-space: pre-wrap;\n",
              "    }\n",
              "  </style>\n",
              "  "
            ],
            "text/plain": [
              "<IPython.core.display.HTML object>"
            ]
          },
          "metadata": {
            "tags": []
          }
        },
        {
          "output_type": "display_data",
          "data": {
            "text/html": [
              "\n",
              "  <style>\n",
              "    pre {\n",
              "        white-space: pre-wrap;\n",
              "    }\n",
              "  </style>\n",
              "  "
            ],
            "text/plain": [
              "<IPython.core.display.HTML object>"
            ]
          },
          "metadata": {
            "tags": []
          }
        },
        {
          "output_type": "stream",
          "text": [
            "'Language Generator loaded successfully....'\n"
          ],
          "name": "stdout"
        }
      ]
    },
    {
      "cell_type": "code",
      "metadata": {
        "id": "bvHWhOH9j06i",
        "colab_type": "code",
        "colab": {
          "base_uri": "https://localhost:8080/",
          "height": 66,
          "referenced_widgets": [
            "d1a677c31a544378a24b1c51d44d6da1",
            "140bd9a32bdf4f6abd39c30f62e54e9c",
            "2614e958fd3a4ed598f7cefa01dabcec",
            "bc883fd3118e4b5084fc45acdcefdcf7",
            "91dcc55eae5e4c28ae261e840e70e06d",
            "5fc7d1d888344d49907bf84f45dbfc1d",
            "30e5ee31d23a4e5e9b6e2d696a6b3f52",
            "c85d7c7d6d8847bc875ee1b37a771a91"
          ]
        },
        "outputId": "3047bdf0-5cd6-4e14-aa1f-b31a7f51389d"
      },
      "source": [
        "generate_sentence.train_on_topics('history')"
      ],
      "execution_count": null,
      "outputs": [
        {
          "output_type": "display_data",
          "data": {
            "text/html": [
              "\n",
              "  <style>\n",
              "    pre {\n",
              "        white-space: pre-wrap;\n",
              "    }\n",
              "  </style>\n",
              "  "
            ],
            "text/plain": [
              "<IPython.core.display.HTML object>"
            ]
          },
          "metadata": {
            "tags": []
          }
        },
        {
          "output_type": "display_data",
          "data": {
            "text/html": [
              "\n",
              "  <style>\n",
              "    pre {\n",
              "        white-space: pre-wrap;\n",
              "    }\n",
              "  </style>\n",
              "  "
            ],
            "text/plain": [
              "<IPython.core.display.HTML object>"
            ]
          },
          "metadata": {
            "tags": []
          }
        },
        {
          "output_type": "display_data",
          "data": {
            "application/vnd.jupyter.widget-view+json": {
              "model_id": "d1a677c31a544378a24b1c51d44d6da1",
              "version_minor": 0,
              "version_major": 2
            },
            "text/plain": [
              "HBox(children=(FloatProgress(value=0.0, max=7.0), HTML(value='')))"
            ]
          },
          "metadata": {
            "tags": []
          }
        },
        {
          "output_type": "stream",
          "text": [
            "\n"
          ],
          "name": "stdout"
        }
      ]
    },
    {
      "cell_type": "code",
      "metadata": {
        "id": "ATDdNBA8kqmJ",
        "colab_type": "code",
        "colab": {
          "base_uri": "https://localhost:8080/",
          "height": 34
        },
        "outputId": "b26d27b2-3708-49e9-b718-386745885621"
      },
      "source": [
        "generate_sentence.start_writing()"
      ],
      "execution_count": null,
      "outputs": [
        {
          "output_type": "display_data",
          "data": {
            "text/html": [
              "\n",
              "  <style>\n",
              "    pre {\n",
              "        white-space: pre-wrap;\n",
              "    }\n",
              "  </style>\n",
              "  "
            ],
            "text/plain": [
              "<IPython.core.display.HTML object>"
            ]
          },
          "metadata": {
            "tags": []
          }
        },
        {
          "output_type": "display_data",
          "data": {
            "text/html": [
              "\n",
              "  <style>\n",
              "    pre {\n",
              "        white-space: pre-wrap;\n",
              "    }\n",
              "  </style>\n",
              "  "
            ],
            "text/plain": [
              "<IPython.core.display.HTML object>"
            ]
          },
          "metadata": {
            "tags": []
          }
        },
        {
          "output_type": "stream",
          "text": [
            "Write the first sentence >>> George Washington is an important figure in American history.\n"
          ],
          "name": "stdout"
        }
      ]
    },
    {
      "cell_type": "code",
      "metadata": {
        "id": "hTr8KzUMj9Q1",
        "colab_type": "code",
        "colab": {
          "base_uri": "https://localhost:8080/",
          "height": 1000
        },
        "outputId": "918d8777-b03b-413d-cd23-55980b965a26"
      },
      "source": [
        "generate_sentence.generate_sentences()"
      ],
      "execution_count": null,
      "outputs": [
        {
          "output_type": "display_data",
          "data": {
            "text/html": [
              "\n",
              "  <style>\n",
              "    pre {\n",
              "        white-space: pre-wrap;\n",
              "    }\n",
              "  </style>\n",
              "  "
            ],
            "text/plain": [
              "<IPython.core.display.HTML object>"
            ]
          },
          "metadata": {
            "tags": []
          }
        },
        {
          "output_type": "display_data",
          "data": {
            "text/html": [
              "\n",
              "  <style>\n",
              "    pre {\n",
              "        white-space: pre-wrap;\n",
              "    }\n",
              "  </style>\n",
              "  "
            ],
            "text/plain": [
              "<IPython.core.display.HTML object>"
            ]
          },
          "metadata": {
            "tags": []
          }
        },
        {
          "output_type": "stream",
          "text": [
            "::::YOURS OPTIONS ARE :::\n",
            "A. -->  He was a member of theocratic and anti-Catholic Church, he served as president for many times before being elected to Congress but never once ran against it again.\n",
            "\n",
            "B. --> \n",
            "The first president of the United States was born on March 6, 1776 and died at age 85 (18 years old).\n",
            "\n",
            "C. -->  He was born on April 1, 1876 at the home of his mother and father who died when he had a heart attack during World War II\n",
            "The first lady's name came from her husband George W.\n",
            "\n",
            "D. --> Write your own sentences\n",
            "E. --> STOP ESSAY WRITING\n",
            "{'A': 'George Washington is an important figure in American history. He was a member of theocratic and anti-Catholic Church, he served as president for many times before being elected to Congress but never once ran against it again.', 'B': 'George Washington is an important figure in American history.\\nThe first president of the United States was born on March 6, 1776 and died at age 85 (18 years old).', 'C': \"George Washington is an important figure in American history. He was born on April 1, 1876 at the home of his mother and father who died when he had a heart attack during World War II\\nThe first lady's name came from her husband George W.\"}\n",
            "Choose your option >>> A\n",
            " \n",
            " \n",
            " \n",
            " ****** ESSAY TILL THIS POINT *******\n",
            "George Washington is an important figure in American history. He was a member of theocratic and anti-Catholic Church, he served as president for many times before being elected to Congress but never once ran against it again. \n",
            "\n",
            "\n",
            "\n",
            "::::YOURS OPTIONS ARE :::\n",
            "A. --> \n",
            "\n",
            "B. --> \n",
            "\n",
            "C. --> \n",
            "\n",
            "D. --> Write your own sentences\n",
            "E. --> STOP ESSAY WRITING\n",
            "{'A': 'George Washington is an important figure in American history. He was a member of theocratic and anti-Catholic Church, he served as president for many times before being elected to Congress but never once ran against it again.', 'B': 'George Washington is an important figure in American history. He was a member of theocratic and anti-Catholic Church, he served as president for many times before being elected to Congress but never once ran against it again.', 'C': 'George Washington is an important figure in American history. He was a member of theocratic and anti-Catholic Church, he served as president for many times before being elected to Congress but never once ran against it again.'}\n",
            "Choose your option >>> A\n",
            " \n",
            " \n",
            " \n",
            " ****** ESSAY TILL THIS POINT *******\n",
            "George Washington is an important figure in American history. He was a member of theocratic and anti-Catholic Church, he served as president for many times before being elected to Congress but never once ran against it again. \n",
            "\n",
            "\n",
            "\n",
            "::::YOURS OPTIONS ARE :::\n",
            "A. --> \n",
            "\n",
            "B. --> \n",
            "\n",
            "C. --> \n",
            "\n",
            "D. --> Write your own sentences\n",
            "E. --> STOP ESSAY WRITING\n",
            "{'A': 'George Washington is an important figure in American history. He was a member of theocratic and anti-Catholic Church, he served as president for many times before being elected to Congress but never once ran against it again.', 'B': 'George Washington is an important figure in American history. He was a member of theocratic and anti-Catholic Church, he served as president for many times before being elected to Congress but never once ran against it again.', 'C': 'George Washington is an important figure in American history. He was a member of theocratic and anti-Catholic Church, he served as president for many times before being elected to Congress but never once ran against it again.'}\n",
            "Choose your option >>> D\n",
            "Insert your own sentence >>> There are other influential men in American history.\n",
            " \n",
            " \n",
            " \n",
            " ****** ESSAY TILL THIS POINT *******\n",
            "George Washington is an important figure in American history. He was a member of theocratic and anti-Catholic Church, he served as president for many times before being elected to Congress but never once ran against it again. There are other influential men in American history. \n",
            "\n",
            "\n",
            "\n",
            "::::YOURS OPTIONS ARE :::\n",
            "A. --> \n",
            "I am not saying that I have any connection with him or his family; just say what you will be heard by those who know me personally about my life here on this blog.\n",
            "\n",
            "B. --> \n",
            "I have no doubt that some people will say this about me: \"He did not run with them.\n",
            "\n",
            "C. --> \n",
            "I am not sure if there were any others who could have been more powerful than George W.\n",
            "\n",
            "D. --> Write your own sentences\n",
            "E. --> STOP ESSAY WRITING\n",
            "{'A': 'George Washington is an important figure in American history. He was a member of theocratic and anti-Catholic Church, he served as president for many times before being elected to Congress but never once ran against it again. There are other influential men in American history.\\nI am not saying that I have any connection with him or his family; just say what you will be heard by those who know me personally about my life here on this blog.', 'B': 'George Washington is an important figure in American history. He was a member of theocratic and anti-Catholic Church, he served as president for many times before being elected to Congress but never once ran against it again. There are other influential men in American history.\\nI have no doubt that some people will say this about me: \"He did not run with them.', 'C': 'George Washington is an important figure in American history. He was a member of theocratic and anti-Catholic Church, he served as president for many times before being elected to Congress but never once ran against it again. There are other influential men in American history.\\nI am not sure if there were any others who could have been more powerful than George W.'}\n",
            "Choose your option >>> C\n",
            " \n",
            " \n",
            " \n",
            " ****** ESSAY TILL THIS POINT *******\n",
            "George Washington is an important figure in American history. He was a member of theocratic and anti-Catholic Church, he served as president for many times before being elected to Congress but never once ran against it again. There are other influential men in American history. I am not sure if there were any others who could have been more powerful than George W. \n",
            "\n",
            "\n",
            "\n",
            "::::YOURS OPTIONS ARE :::\n",
            "A. -->  Bush or John Fincher's father (who had no influence on him).\n",
            "\n",
            "B. --> \n",
            "\n",
            "C. -->  Bush or John F. Kennedy (who would be President).\n",
            "\n",
            "D. --> Write your own sentences\n",
            "E. --> STOP ESSAY WRITING\n",
            "{'A': \"George Washington is an important figure in American history. He was a member of theocratic and anti-Catholic Church, he served as president for many times before being elected to Congress but never once ran against it again. There are other influential men in American history. I am not sure if there were any others who could have been more powerful than George W. Bush or John Fincher's father (who had no influence on him).\", 'B': 'George Washington is an important figure in American history. He was a member of theocratic and anti-Catholic Church, he served as president for many times before being elected to Congress but never once ran against it again. There are other influential men in American history. I am not sure if there were any others who could have been more powerful than George W.', 'C': 'George Washington is an important figure in American history. He was a member of theocratic and anti-Catholic Church, he served as president for many times before being elected to Congress but never once ran against it again. There are other influential men in American history. I am not sure if there were any others who could have been more powerful than George W. Bush or John F. Kennedy (who would be President).'}\n",
            "Choose your option >>> C\n",
            " \n",
            " \n",
            " \n",
            " ****** ESSAY TILL THIS POINT *******\n",
            "George Washington is an important figure in American history. He was a member of theocratic and anti-Catholic Church, he served as president for many times before being elected to Congress but never once ran against it again. There are other influential men in American history. I am not sure if there were any others who could have been more powerful than George W. Bush or John F. Kennedy (who would be President). \n",
            "\n",
            "\n",
            "\n",
            "::::YOURS OPTIONS ARE :::\n",
            "A. --> \n",
            "I don't know what they think about this because we can only see them through their eyes so far from our own minds that all these people do believe themselves \"the most intelligent man ever.\n",
            "\n",
            "B. --> \n",
            "\n",
            "C. --> \n",
            "\n",
            "D. --> Write your own sentences\n",
            "E. --> STOP ESSAY WRITING\n",
            "{'A': 'George Washington is an important figure in American history. He was a member of theocratic and anti-Catholic Church, he served as president for many times before being elected to Congress but never once ran against it again. There are other influential men in American history. I am not sure if there were any others who could have been more powerful than George W. Bush or John F. Kennedy (who would be President).\\nI don\\'t know what they think about this because we can only see them through their eyes so far from our own minds that all these people do believe themselves \"the most intelligent man ever.', 'B': 'George Washington is an important figure in American history. He was a member of theocratic and anti-Catholic Church, he served as president for many times before being elected to Congress but never once ran against it again. There are other influential men in American history. I am not sure if there were any others who could have been more powerful than George W. Bush or John F. Kennedy (who would be President).', 'C': 'George Washington is an important figure in American history. He was a member of theocratic and anti-Catholic Church, he served as president for many times before being elected to Congress but never once ran against it again. There are other influential men in American history. I am not sure if there were any others who could have been more powerful than George W. Bush or John F. Kennedy (who would be President).'}\n",
            "Choose your option >>> C\n",
            " \n",
            " \n",
            " \n",
            " ****** ESSAY TILL THIS POINT *******\n",
            "George Washington is an important figure in American history. He was a member of theocratic and anti-Catholic Church, he served as president for many times before being elected to Congress but never once ran against it again. There are other influential men in American history. I am not sure if there were any others who could have been more powerful than George W. Bush or John F. Kennedy (who would be President). \n",
            "\n",
            "\n",
            "\n",
            "::::YOURS OPTIONS ARE :::\n",
            "A. --> \n",
            "\n",
            "B. --> \n",
            "\n",
            "C. --> \n",
            "The first time that we saw this happened on September 11th 2001 when our nation's military began its second major combat mission after Pearl Harbor.\n",
            "\n",
            "D. --> Write your own sentences\n",
            "E. --> STOP ESSAY WRITING\n",
            "{'A': 'George Washington is an important figure in American history. He was a member of theocratic and anti-Catholic Church, he served as president for many times before being elected to Congress but never once ran against it again. There are other influential men in American history. I am not sure if there were any others who could have been more powerful than George W. Bush or John F. Kennedy (who would be President).', 'B': 'George Washington is an important figure in American history. He was a member of theocratic and anti-Catholic Church, he served as president for many times before being elected to Congress but never once ran against it again. There are other influential men in American history. I am not sure if there were any others who could have been more powerful than George W. Bush or John F. Kennedy (who would be President).', 'C': \"George Washington is an important figure in American history. He was a member of theocratic and anti-Catholic Church, he served as president for many times before being elected to Congress but never once ran against it again. There are other influential men in American history. I am not sure if there were any others who could have been more powerful than George W. Bush or John F. Kennedy (who would be President).\\nThe first time that we saw this happened on September 11th 2001 when our nation's military began its second major combat mission after Pearl Harbor.\"}\n",
            "Choose your option >>> C\n",
            " \n",
            " \n",
            " \n",
            " ****** ESSAY TILL THIS POINT *******\n",
            "George Washington is an important figure in American history. He was a member of theocratic and anti-Catholic Church, he served as president for many times before being elected to Congress but never once ran against it again. There are other influential men in American history. I am not sure if there were any others who could have been more powerful than George W. Bush or John F. Kennedy (who would be President). The first time that we saw this happened on September 11th 2001 when our nation's military began its second major combat mission after Pearl Harbor. \n",
            "\n",
            "\n",
            "\n",
            "::::YOURS OPTIONS ARE :::\n",
            "A. --> \n",
            "\n",
            "B. --> \n",
            "\n",
            "C. --> \n",
            "\n",
            "D. --> Write your own sentences\n",
            "E. --> STOP ESSAY WRITING\n",
            "{'A': \"George Washington is an important figure in American history. He was a member of theocratic and anti-Catholic Church, he served as president for many times before being elected to Congress but never once ran against it again. There are other influential men in American history. I am not sure if there were any others who could have been more powerful than George W. Bush or John F. Kennedy (who would be President). The first time that we saw this happened on September 11th 2001 when our nation's military began its second major combat mission after Pearl Harbor.\", 'B': \"George Washington is an important figure in American history. He was a member of theocratic and anti-Catholic Church, he served as president for many times before being elected to Congress but never once ran against it again. There are other influential men in American history. I am not sure if there were any others who could have been more powerful than George W. Bush or John F. Kennedy (who would be President). The first time that we saw this happened on September 11th 2001 when our nation's military began its second major combat mission after Pearl Harbor.\", 'C': \"George Washington is an important figure in American history. He was a member of theocratic and anti-Catholic Church, he served as president for many times before being elected to Congress but never once ran against it again. There are other influential men in American history. I am not sure if there were any others who could have been more powerful than George W. Bush or John F. Kennedy (who would be President). The first time that we saw this happened on September 11th 2001 when our nation's military began its second major combat mission after Pearl Harbor.\"}\n",
            "Choose your option >>> C\n",
            " \n",
            " \n",
            " \n",
            " ****** ESSAY TILL THIS POINT *******\n",
            "George Washington is an important figure in American history. He was a member of theocratic and anti-Catholic Church, he served as president for many times before being elected to Congress but never once ran against it again. There are other influential men in American history. I am not sure if there were any others who could have been more powerful than George W. Bush or John F. Kennedy (who would be President). The first time that we saw this happened on September 11th 2001 when our nation's military began its second major combat mission after Pearl Harbor. \n",
            "\n",
            "\n",
            "\n",
            "::::YOURS OPTIONS ARE :::\n",
            "A. --> \n",
            "The United States has always had some great leaders like Henry Ford, William McKinley.\n",
            "\n",
            "B. -->  It ended with two planes flying over Japan from New York City at 9:45 p..m., which resulted into one last U.S.-Japan war between November 7 - 8, 2002.\n",
            "\n",
            "C. --> \n",
            "\n",
            "D. --> Write your own sentences\n",
            "E. --> STOP ESSAY WRITING\n",
            "{'A': \"George Washington is an important figure in American history. He was a member of theocratic and anti-Catholic Church, he served as president for many times before being elected to Congress but never once ran against it again. There are other influential men in American history. I am not sure if there were any others who could have been more powerful than George W. Bush or John F. Kennedy (who would be President). The first time that we saw this happened on September 11th 2001 when our nation's military began its second major combat mission after Pearl Harbor.\\nThe United States has always had some great leaders like Henry Ford, William McKinley.\", 'B': \"George Washington is an important figure in American history. He was a member of theocratic and anti-Catholic Church, he served as president for many times before being elected to Congress but never once ran against it again. There are other influential men in American history. I am not sure if there were any others who could have been more powerful than George W. Bush or John F. Kennedy (who would be President). The first time that we saw this happened on September 11th 2001 when our nation's military began its second major combat mission after Pearl Harbor. It ended with two planes flying over Japan from New York City at 9:45 p..m., which resulted into one last U.S.-Japan war between November 7 - 8, 2002.\", 'C': \"George Washington is an important figure in American history. He was a member of theocratic and anti-Catholic Church, he served as president for many times before being elected to Congress but never once ran against it again. There are other influential men in American history. I am not sure if there were any others who could have been more powerful than George W. Bush or John F. Kennedy (who would be President). The first time that we saw this happened on September 11th 2001 when our nation's military began its second major combat mission after Pearl Harbor.\"}\n",
            "Choose your option >>> B\n",
            " \n",
            " \n",
            " \n",
            " ****** ESSAY TILL THIS POINT *******\n",
            "George Washington is an important figure in American history. He was a member of theocratic and anti-Catholic Church, he served as president for many times before being elected to Congress but never once ran against it again. There are other influential men in American history. I am not sure if there were any others who could have been more powerful than George W. Bush or John F. Kennedy (who would be President). The first time that we saw this happened on September 11th 2001 when our nation's military began its second major combat mission after Pearl Harbor. It ended with two planes flying over Japan from New York City at 9:45 p..m., which resulted into one last U.S.-Japan war between November 7 - 8, 2002. \n",
            "\n",
            "\n",
            "\n",
            "::::YOURS OPTIONS ARE :::\n",
            "A. -->  This lasted until October 10 – 12 years ago where they both went down by 2nd degree bombs dropped during World War II.\n",
            "\n",
            "B. --> \n",
            "The next day they flew out their third aircraft carrier USS Nimitz off Okinawa Island where shelled Tokyo by Japanese forces during Operation Enduring Freedom.\n",
            "\n",
            "C. --> \n",
            "\n",
            "D. --> Write your own sentences\n",
            "E. --> STOP ESSAY WRITING\n",
            "{'A': \"George Washington is an important figure in American history. He was a member of theocratic and anti-Catholic Church, he served as president for many times before being elected to Congress but never once ran against it again. There are other influential men in American history. I am not sure if there were any others who could have been more powerful than George W. Bush or John F. Kennedy (who would be President). The first time that we saw this happened on September 11th 2001 when our nation's military began its second major combat mission after Pearl Harbor. It ended with two planes flying over Japan from New York City at 9:45 p..m., which resulted into one last U.S.-Japan war between November 7 - 8, 2002. This lasted until October 10 – 12 years ago where they both went down by 2nd degree bombs dropped during World War II.\", 'B': \"George Washington is an important figure in American history. He was a member of theocratic and anti-Catholic Church, he served as president for many times before being elected to Congress but never once ran against it again. There are other influential men in American history. I am not sure if there were any others who could have been more powerful than George W. Bush or John F. Kennedy (who would be President). The first time that we saw this happened on September 11th 2001 when our nation's military began its second major combat mission after Pearl Harbor. It ended with two planes flying over Japan from New York City at 9:45 p..m., which resulted into one last U.S.-Japan war between November 7 - 8, 2002.\\nThe next day they flew out their third aircraft carrier USS Nimitz off Okinawa Island where shelled Tokyo by Japanese forces during Operation Enduring Freedom.\", 'C': \"George Washington is an important figure in American history. He was a member of theocratic and anti-Catholic Church, he served as president for many times before being elected to Congress but never once ran against it again. There are other influential men in American history. I am not sure if there were any others who could have been more powerful than George W. Bush or John F. Kennedy (who would be President). The first time that we saw this happened on September 11th 2001 when our nation's military began its second major combat mission after Pearl Harbor. It ended with two planes flying over Japan from New York City at 9:45 p..m., which resulted into one last U.S.-Japan war between November 7 - 8, 2002.\"}\n",
            "Choose your option >>> C\n",
            " \n",
            " \n",
            " \n",
            " ****** ESSAY TILL THIS POINT *******\n",
            "George Washington is an important figure in American history. He was a member of theocratic and anti-Catholic Church, he served as president for many times before being elected to Congress but never once ran against it again. There are other influential men in American history. I am not sure if there were any others who could have been more powerful than George W. Bush or John F. Kennedy (who would be President). The first time that we saw this happened on September 11th 2001 when our nation's military began its second major combat mission after Pearl Harbor. It ended with two planes flying over Japan from New York City at 9:45 p..m., which resulted into one last U.S.-Japan war between November 7 - 8, 2002. \n",
            "\n",
            "\n",
            "\n",
            "::::YOURS OPTIONS ARE :::\n",
            "A. --> \n",
            "\n",
            "B. --> \n",
            "The next day they flew their final missions under Reagan until October 14...\n",
            "\n",
            "C. -->  This has become known by name \"The War Between America & China\" since then because they both came out front fighting each day during their respective wars.\n",
            "\n",
            "D. --> Write your own sentences\n",
            "E. --> STOP ESSAY WRITING\n",
            "{'A': \"George Washington is an important figure in American history. He was a member of theocratic and anti-Catholic Church, he served as president for many times before being elected to Congress but never once ran against it again. There are other influential men in American history. I am not sure if there were any others who could have been more powerful than George W. Bush or John F. Kennedy (who would be President). The first time that we saw this happened on September 11th 2001 when our nation's military began its second major combat mission after Pearl Harbor. It ended with two planes flying over Japan from New York City at 9:45 p..m., which resulted into one last U.S.-Japan war between November 7 - 8, 2002.\", 'B': \"George Washington is an important figure in American history. He was a member of theocratic and anti-Catholic Church, he served as president for many times before being elected to Congress but never once ran against it again. There are other influential men in American history. I am not sure if there were any others who could have been more powerful than George W. Bush or John F. Kennedy (who would be President). The first time that we saw this happened on September 11th 2001 when our nation's military began its second major combat mission after Pearl Harbor. It ended with two planes flying over Japan from New York City at 9:45 p..m., which resulted into one last U.S.-Japan war between November 7 - 8, 2002.\\nThe next day they flew their final missions under Reagan until October 14...\", 'C': 'George Washington is an important figure in American history. He was a member of theocratic and anti-Catholic Church, he served as president for many times before being elected to Congress but never once ran against it again. There are other influential men in American history. I am not sure if there were any others who could have been more powerful than George W. Bush or John F. Kennedy (who would be President). The first time that we saw this happened on September 11th 2001 when our nation\\'s military began its second major combat mission after Pearl Harbor. It ended with two planes flying over Japan from New York City at 9:45 p..m., which resulted into one last U.S.-Japan war between November 7 - 8, 2002. This has become known by name \"The War Between America & China\" since then because they both came out front fighting each day during their respective wars.'}\n",
            "Choose your option >>> E\n",
            "\n",
            "\n",
            "================  COMPLETE ESSAY  ======================\n",
            "George Washington is an important figure in American history. He was a member of theocratic and anti-Catholic Church, he served as president for many times before being elected to Congress but never once ran against it again. There are other influential men in American history. I am not sure if there were any others who could have been more powerful than George W. Bush or John F. Kennedy (who would be President). The first time that we saw this happened on September 11th 2001 when our nation's military began its second major combat mission after Pearl Harbor. It ended with two planes flying over Japan from New York City at 9:45 p..m., which resulted into one last U.S.-Japan war between November 7 - 8, 2002.\n"
          ],
          "name": "stdout"
        }
      ]
    }
  ]
}